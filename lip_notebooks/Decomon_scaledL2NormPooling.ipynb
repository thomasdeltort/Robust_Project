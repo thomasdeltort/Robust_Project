{
 "cells": [
  {
   "cell_type": "code",
   "execution_count": 1,
   "metadata": {},
   "outputs": [],
   "source": [
    "import os\n",
    "os.environ[\"KERAS_BACKEND\"] = \"torch\""
   ]
  },
  {
   "cell_type": "code",
   "execution_count": 3,
   "metadata": {},
   "outputs": [],
   "source": [
    "import keras\n",
    "from deel.lip.layers import (\n",
    "    SpectralDense,\n",
    "    SpectralConv2D,\n",
    "    ScaledL2NormPooling2D,\n",
    "    FrobeniusDense,\n",
    ")\n",
    "from deel.lip.model import Sequential\n",
    "from deel.lip.activations import GroupSort\n",
    "from deel.lip.losses import MulticlassHKR, MulticlassKR\n",
    "from keras.layers import Input, Flatten\n",
    "from keras.optimizers import Adam\n",
    "from keras.datasets import fashion_mnist\n",
    "from keras.utils import to_categorical\n",
    "import numpy as np\n",
    "import keras.ops as K\n",
    "import matplotlib.pyplot as plt"
   ]
  },
  {
   "cell_type": "code",
   "execution_count": 4,
   "metadata": {},
   "outputs": [],
   "source": [
    "# load data\n",
    "(x_train, y_train_ord), (x_test, y_test_ord) = fashion_mnist.load_data()\n",
    "# standardize and reshape the data\n",
    "x_train = np.expand_dims(x_train, -1) / 255\n",
    "x_test = np.expand_dims(x_test, -1) / 255\n",
    "# one hot encode the labels\n",
    "y_train = to_categorical(y_train_ord)\n",
    "y_test = to_categorical(y_test_ord)"
   ]
  },
  {
   "cell_type": "code",
   "execution_count": 5,
   "metadata": {},
   "outputs": [],
   "source": [
    "x_train = np.transpose(x_train,(0,3,1,2))\n",
    "x_test = np.transpose(x_test,(0,3,1,2))"
   ]
  },
  {
   "cell_type": "code",
   "execution_count": 20,
   "metadata": {},
   "outputs": [],
   "source": [
    "model = Sequential([Input(shape=x_train.shape[1:]),\n",
    "                    ScaledL2NormPooling2D(pool_size=(2,2), data_format=\"channels_first\")])"
   ]
  },
  {
   "cell_type": "code",
   "execution_count": 21,
   "metadata": {},
   "outputs": [],
   "source": [
    "model.compile(\n",
    "    # decreasing alpha and increasing min_margin improve robustness (at the cost of accuracy)\n",
    "    # note also in the case of lipschitz networks, more robustness require more parameters.\n",
    "    loss=MulticlassHKR(alpha=100, min_margin=0.25),\n",
    "    optimizer=Adam(1e-4),\n",
    "    metrics=[\"accuracy\", MulticlassKR()],\n",
    ")"
   ]
  },
  {
   "cell_type": "code",
   "execution_count": 10,
   "metadata": {},
   "outputs": [
    {
     "data": {
      "text/html": [
       "<pre style=\"white-space:pre;overflow-x:auto;line-height:normal;font-family:Menlo,'DejaVu Sans Mono',consolas,'Courier New',monospace\"><span style=\"font-weight: bold\">Model: \"sequential_1\"</span>\n",
       "</pre>\n"
      ],
      "text/plain": [
       "\u001b[1mModel: \"sequential_1\"\u001b[0m\n"
      ]
     },
     "metadata": {},
     "output_type": "display_data"
    },
    {
     "data": {
      "text/html": [
       "<pre style=\"white-space:pre;overflow-x:auto;line-height:normal;font-family:Menlo,'DejaVu Sans Mono',consolas,'Courier New',monospace\">┏━━━━━━━━━━━━━━━━━━━━━━━━━━━━━━━━━┳━━━━━━━━━━━━━━━━━━━━━━━━┳━━━━━━━━━━━━━━━┓\n",
       "┃<span style=\"font-weight: bold\"> Layer (type)                    </span>┃<span style=\"font-weight: bold\"> Output Shape           </span>┃<span style=\"font-weight: bold\">       Param # </span>┃\n",
       "┡━━━━━━━━━━━━━━━━━━━━━━━━━━━━━━━━━╇━━━━━━━━━━━━━━━━━━━━━━━━╇━━━━━━━━━━━━━━━┩\n",
       "│ scaled_l2_norm_pooling2d_2      │ ?                      │   <span style=\"color: #00af00; text-decoration-color: #00af00\">0</span> (unbuilt) │\n",
       "│ (<span style=\"color: #0087ff; text-decoration-color: #0087ff\">ScaledL2NormPooling2D</span>)         │                        │               │\n",
       "└─────────────────────────────────┴────────────────────────┴───────────────┘\n",
       "</pre>\n"
      ],
      "text/plain": [
       "┏━━━━━━━━━━━━━━━━━━━━━━━━━━━━━━━━━┳━━━━━━━━━━━━━━━━━━━━━━━━┳━━━━━━━━━━━━━━━┓\n",
       "┃\u001b[1m \u001b[0m\u001b[1mLayer (type)                   \u001b[0m\u001b[1m \u001b[0m┃\u001b[1m \u001b[0m\u001b[1mOutput Shape          \u001b[0m\u001b[1m \u001b[0m┃\u001b[1m \u001b[0m\u001b[1m      Param #\u001b[0m\u001b[1m \u001b[0m┃\n",
       "┡━━━━━━━━━━━━━━━━━━━━━━━━━━━━━━━━━╇━━━━━━━━━━━━━━━━━━━━━━━━╇━━━━━━━━━━━━━━━┩\n",
       "│ scaled_l2_norm_pooling2d_2      │ ?                      │   \u001b[38;5;34m0\u001b[0m (unbuilt) │\n",
       "│ (\u001b[38;5;33mScaledL2NormPooling2D\u001b[0m)         │                        │               │\n",
       "└─────────────────────────────────┴────────────────────────┴───────────────┘\n"
      ]
     },
     "metadata": {},
     "output_type": "display_data"
    },
    {
     "data": {
      "text/html": [
       "<pre style=\"white-space:pre;overflow-x:auto;line-height:normal;font-family:Menlo,'DejaVu Sans Mono',consolas,'Courier New',monospace\"><span style=\"font-weight: bold\"> Total params: </span><span style=\"color: #00af00; text-decoration-color: #00af00\">0</span> (0.00 B)\n",
       "</pre>\n"
      ],
      "text/plain": [
       "\u001b[1m Total params: \u001b[0m\u001b[38;5;34m0\u001b[0m (0.00 B)\n"
      ]
     },
     "metadata": {},
     "output_type": "display_data"
    },
    {
     "data": {
      "text/html": [
       "<pre style=\"white-space:pre;overflow-x:auto;line-height:normal;font-family:Menlo,'DejaVu Sans Mono',consolas,'Courier New',monospace\"><span style=\"font-weight: bold\"> Trainable params: </span><span style=\"color: #00af00; text-decoration-color: #00af00\">0</span> (0.00 B)\n",
       "</pre>\n"
      ],
      "text/plain": [
       "\u001b[1m Trainable params: \u001b[0m\u001b[38;5;34m0\u001b[0m (0.00 B)\n"
      ]
     },
     "metadata": {},
     "output_type": "display_data"
    },
    {
     "data": {
      "text/html": [
       "<pre style=\"white-space:pre;overflow-x:auto;line-height:normal;font-family:Menlo,'DejaVu Sans Mono',consolas,'Courier New',monospace\"><span style=\"font-weight: bold\"> Non-trainable params: </span><span style=\"color: #00af00; text-decoration-color: #00af00\">0</span> (0.00 B)\n",
       "</pre>\n"
      ],
      "text/plain": [
       "\u001b[1m Non-trainable params: \u001b[0m\u001b[38;5;34m0\u001b[0m (0.00 B)\n"
      ]
     },
     "metadata": {},
     "output_type": "display_data"
    }
   ],
   "source": [
    "model.summary()"
   ]
  },
  {
   "cell_type": "code",
   "execution_count": 23,
   "metadata": {},
   "outputs": [
    {
     "name": "stdout",
     "output_type": "stream",
     "text": [
      "\u001b[1m1/1\u001b[0m \u001b[32m━━━━━━━━━━━━━━━━━━━━\u001b[0m\u001b[37m\u001b[0m \u001b[1m0s\u001b[0m 7ms/step\n"
     ]
    },
    {
     "data": {
      "text/plain": [
       "array([[[[0.002     , 0.002     , 0.002     , 0.002     , 0.002     ,\n",
       "          0.002     , 0.002     , 0.002     , 0.002     , 0.002     ,\n",
       "          0.002     , 0.002     , 0.002     , 0.002     ],\n",
       "         [0.002     , 0.002     , 0.002     , 0.002     , 0.002     ,\n",
       "          0.002     , 0.002     , 0.002     , 0.002     , 0.002     ,\n",
       "          0.002     , 0.002     , 0.002     , 0.002     ],\n",
       "         [0.002     , 0.002     , 0.002     , 0.002     , 0.002     ,\n",
       "          0.002     , 0.002     , 0.002     , 0.002     , 0.002     ,\n",
       "          0.002     , 0.002     , 0.002     , 0.002     ],\n",
       "         [0.002     , 0.002     , 0.002     , 0.002     , 0.002     ,\n",
       "          0.002     , 0.002     , 0.002     , 0.002     , 0.0119335 ,\n",
       "          0.00440212, 0.02752374, 0.14511183, 0.002     ],\n",
       "         [0.002     , 0.002     , 0.002     , 0.002     , 0.002     ,\n",
       "          0.002     , 0.00589554, 0.00809412, 0.7438407 , 0.43352866,\n",
       "          0.002     , 0.08629769, 0.7235933 , 0.002     ],\n",
       "         [0.002     , 0.002     , 0.002     , 0.002     , 0.002     ,\n",
       "          0.002     , 0.01765146, 0.5776733 , 0.99460495, 1.2935843 ,\n",
       "          1.2730023 , 1.2139536 , 1.1853344 , 0.002     ],\n",
       "         [0.002     , 0.002     , 0.00440212, 0.00440212, 0.00899408,\n",
       "          0.01675759, 0.34902534, 0.9082666 , 0.97843146, 1.1829578 ,\n",
       "          1.2581042 , 1.2299684 , 1.2613516 , 0.19312523],\n",
       "         [0.002     , 0.01127074, 0.00899408, 0.01765146, 0.00440212,\n",
       "          0.43563423, 0.8907251 , 0.87681276, 1.1173117 , 1.1135685 ,\n",
       "          1.2121027 , 1.2030096 , 1.23682   , 0.8396669 ],\n",
       "         [0.0119335 , 0.23018172, 0.39218158, 0.5762206 , 0.8111702 ,\n",
       "          0.886485  , 0.9103384 , 1.0341591 , 1.1116127 , 1.2482992 ,\n",
       "          1.2179818 , 1.1694317 , 1.2216758 , 1.0274156 ],\n",
       "         [0.7653116 , 0.82626307, 0.8311622 , 0.8184931 , 0.8712792 ,\n",
       "          0.9575477 , 0.9989326 , 1.0936345 , 1.217521  , 1.2990357 ,\n",
       "          1.4145304 , 1.3238026 , 1.3819469 , 1.0877124 ],\n",
       "         [0.49808955, 0.9977234 , 1.1428212 , 1.322745  , 1.3375152 ,\n",
       "          1.3620114 , 1.4403707 , 1.3061254 , 1.290865  , 1.0740393 ,\n",
       "          1.7470896 , 1.7182167 , 1.5716504 , 1.0208082 ],\n",
       "         [0.002     , 0.002     , 0.002     , 0.002     , 0.002     ,\n",
       "          0.002     , 0.002     , 0.002     , 0.002     , 0.002     ,\n",
       "          0.002     , 0.002     , 0.002     , 0.002     ],\n",
       "         [0.002     , 0.002     , 0.002     , 0.002     , 0.002     ,\n",
       "          0.002     , 0.002     , 0.002     , 0.002     , 0.002     ,\n",
       "          0.002     , 0.002     , 0.002     , 0.002     ],\n",
       "         [0.002     , 0.002     , 0.002     , 0.002     , 0.002     ,\n",
       "          0.002     , 0.002     , 0.002     , 0.002     , 0.002     ,\n",
       "          0.002     , 0.002     , 0.002     , 0.002     ]]]],\n",
       "      dtype=float32)"
      ]
     },
     "execution_count": 23,
     "metadata": {},
     "output_type": "execute_result"
    }
   ],
   "source": [
    "model.predict(x_test[:1])"
   ]
  },
  {
   "cell_type": "code",
   "execution_count": 24,
   "metadata": {},
   "outputs": [],
   "source": [
    "@keras.saving.register_keras_serializable()\n",
    "class My2LPPool2D(keras.layers.AveragePooling2D):\n",
    "    def __init__(\n",
    "        self,\n",
    "        pool_size=(2, 2),\n",
    "        strides=None,\n",
    "        padding=\"valid\",\n",
    "        data_format=None,\n",
    "        eps_grad_sqrt=1e-6,\n",
    "        **kwargs,\n",
    "    ):\n",
    "        if not ((strides == pool_size) or (strides is None)):\n",
    "            raise RuntimeError(\"stride must be equal to pool_size\")\n",
    "        if padding != \"valid\":\n",
    "            raise RuntimeError(\"ScaledL2NormPooling2D only supports padding='valid'\")\n",
    "        if eps_grad_sqrt < 0.0:\n",
    "            raise RuntimeError(\"eps_grad_sqrt must be positive\")\n",
    "        super(My2LPPool2D, self).__init__(\n",
    "            pool_size=pool_size,\n",
    "            strides=pool_size,\n",
    "            padding=padding,\n",
    "            data_format=data_format,\n",
    "            **kwargs,\n",
    "        )\n",
    "        self.eps_grad_sqrt = eps_grad_sqrt\n",
    "        self._kwargs = kwargs\n",
    "    def call(self, x):\n",
    "        return K.sqrt(super().call(K.square(x))+ self.eps_grad_sqrt) * 2"
   ]
  },
  {
   "cell_type": "code",
   "execution_count": 25,
   "metadata": {},
   "outputs": [
    {
     "name": "stderr",
     "output_type": "stream",
     "text": [
      "/home/aws_install/miniconda3/envs/k3torchenv/lib/python3.10/site-packages/deel/lip/model.py:89: UserWarning: Sequential model contains a layer which is not a 1-Lipschitz layer: my2lp_pool2d_2\n",
      "  warn(_msg_not_lip.format(layer.name))\n",
      "/home/aws_install/miniconda3/envs/k3torchenv/lib/python3.10/site-packages/deel/lip/model.py:75: UserWarning: Sequential model contains a layer which is not a 1-Lipschitz layer: my2lp_pool2d_2\n",
      "  warn(_msg_not_lip.format(layer.name))\n"
     ]
    }
   ],
   "source": [
    "model_custom = Sequential([Input(shape=x_train.shape[1:]),\n",
    "                    My2LPPool2D(pool_size=(2,2), data_format=\"channels_first\")])"
   ]
  },
  {
   "cell_type": "code",
   "execution_count": 26,
   "metadata": {},
   "outputs": [],
   "source": [
    "model_custom.compile(\n",
    "    # decreasing alpha and increasing min_margin improve robustness (at the cost of accuracy)\n",
    "    # note also in the case of lipschitz networks, more robustness require more parameters.\n",
    "    loss=MulticlassHKR(alpha=100, min_margin=0.25),\n",
    "    optimizer=Adam(1e-4),\n",
    "    metrics=[\"accuracy\", MulticlassKR()],\n",
    ")"
   ]
  },
  {
   "cell_type": "code",
   "execution_count": 27,
   "metadata": {},
   "outputs": [
    {
     "name": "stdout",
     "output_type": "stream",
     "text": [
      "\u001b[1m1/1\u001b[0m \u001b[32m━━━━━━━━━━━━━━━━━━━━\u001b[0m\u001b[37m\u001b[0m \u001b[1m0s\u001b[0m 4ms/step\n"
     ]
    },
    {
     "data": {
      "text/plain": [
       "array([[[[0.002     , 0.002     , 0.002     , 0.002     , 0.002     ,\n",
       "          0.002     , 0.002     , 0.002     , 0.002     , 0.002     ,\n",
       "          0.002     , 0.002     , 0.002     , 0.002     ],\n",
       "         [0.002     , 0.002     , 0.002     , 0.002     , 0.002     ,\n",
       "          0.002     , 0.002     , 0.002     , 0.002     , 0.002     ,\n",
       "          0.002     , 0.002     , 0.002     , 0.002     ],\n",
       "         [0.002     , 0.002     , 0.002     , 0.002     , 0.002     ,\n",
       "          0.002     , 0.002     , 0.002     , 0.002     , 0.002     ,\n",
       "          0.002     , 0.002     , 0.002     , 0.002     ],\n",
       "         [0.002     , 0.002     , 0.002     , 0.002     , 0.002     ,\n",
       "          0.002     , 0.002     , 0.002     , 0.002     , 0.0119335 ,\n",
       "          0.00440212, 0.02752374, 0.14511183, 0.002     ],\n",
       "         [0.002     , 0.002     , 0.002     , 0.002     , 0.002     ,\n",
       "          0.002     , 0.00589554, 0.00809412, 0.7438407 , 0.43352866,\n",
       "          0.002     , 0.08629769, 0.7235933 , 0.002     ],\n",
       "         [0.002     , 0.002     , 0.002     , 0.002     , 0.002     ,\n",
       "          0.002     , 0.01765146, 0.5776733 , 0.99460495, 1.2935843 ,\n",
       "          1.2730023 , 1.2139536 , 1.1853344 , 0.002     ],\n",
       "         [0.002     , 0.002     , 0.00440212, 0.00440212, 0.00899408,\n",
       "          0.01675759, 0.34902534, 0.9082666 , 0.97843146, 1.1829578 ,\n",
       "          1.2581042 , 1.2299684 , 1.2613516 , 0.19312523],\n",
       "         [0.002     , 0.01127074, 0.00899408, 0.01765146, 0.00440212,\n",
       "          0.43563423, 0.8907251 , 0.87681276, 1.1173117 , 1.1135685 ,\n",
       "          1.2121027 , 1.2030096 , 1.23682   , 0.8396669 ],\n",
       "         [0.0119335 , 0.23018172, 0.39218158, 0.5762206 , 0.8111702 ,\n",
       "          0.886485  , 0.9103384 , 1.0341591 , 1.1116127 , 1.2482992 ,\n",
       "          1.2179818 , 1.1694317 , 1.2216758 , 1.0274156 ],\n",
       "         [0.7653116 , 0.82626307, 0.8311622 , 0.8184931 , 0.8712792 ,\n",
       "          0.9575477 , 0.9989326 , 1.0936345 , 1.217521  , 1.2990357 ,\n",
       "          1.4145304 , 1.3238026 , 1.3819469 , 1.0877124 ],\n",
       "         [0.49808955, 0.9977234 , 1.1428212 , 1.322745  , 1.3375152 ,\n",
       "          1.3620114 , 1.4403707 , 1.3061254 , 1.290865  , 1.0740393 ,\n",
       "          1.7470896 , 1.7182167 , 1.5716504 , 1.0208082 ],\n",
       "         [0.002     , 0.002     , 0.002     , 0.002     , 0.002     ,\n",
       "          0.002     , 0.002     , 0.002     , 0.002     , 0.002     ,\n",
       "          0.002     , 0.002     , 0.002     , 0.002     ],\n",
       "         [0.002     , 0.002     , 0.002     , 0.002     , 0.002     ,\n",
       "          0.002     , 0.002     , 0.002     , 0.002     , 0.002     ,\n",
       "          0.002     , 0.002     , 0.002     , 0.002     ],\n",
       "         [0.002     , 0.002     , 0.002     , 0.002     , 0.002     ,\n",
       "          0.002     , 0.002     , 0.002     , 0.002     , 0.002     ,\n",
       "          0.002     , 0.002     , 0.002     , 0.002     ]]]],\n",
       "      dtype=float32)"
      ]
     },
     "execution_count": 27,
     "metadata": {},
     "output_type": "execute_result"
    }
   ],
   "source": [
    "model_custom.predict(x_test[:1])"
   ]
  }
 ],
 "metadata": {
  "kernelspec": {
   "display_name": "k3torchenv",
   "language": "python",
   "name": "python3"
  },
  "language_info": {
   "codemirror_mode": {
    "name": "ipython",
    "version": 3
   },
   "file_extension": ".py",
   "mimetype": "text/x-python",
   "name": "python",
   "nbconvert_exporter": "python",
   "pygments_lexer": "ipython3",
   "version": "3.10.16"
  }
 },
 "nbformat": 4,
 "nbformat_minor": 2
}
