{
 "cells": [
  {
   "attachments": {},
   "cell_type": "markdown",
   "metadata": {},
   "source": [
    "# Demo 0: Example and usage\n",
    "\n",
    "In order to make things simple the following rules have been followed\n",
    "during development:\n",
    "\n",
    "-   `deel-lip` follows the `keras` package structure.\n",
    "-   All elements (layers, activations, initializers, ...) are compatible\n",
    "    with standard the `keras` elements.\n",
    "-   When a k-Lipschitz layer overrides a standard keras layer, it uses\n",
    "    the same interface and the same parameters. The only difference is a\n",
    "    new parameter to control the Lipschitz constant of a layer.\n",
    "\n",
    "## Which layers are safe to use?\n",
    "\n",
    "The following table indicates which layers are safe to use in a Lipshitz\n",
    "network, and which are not.\n",
    "\n",
    "| layer                                                                                         | 1-lip? | deel-lip equivalent                                                                                         | comments                                                                          |\n",
    "|-----------------------------------------------------------------------------------------------|--------|-------------------------------------------------------------------------------------------------------------|-----------------------------------------------------------------------------------|\n",
    "| `Dense`                                                                                       | no     | `SpectralDense`<br>`FrobeniusDense`                       | `SpectralDense` and `FrobeniusDense` are similar when there is a single output. |\n",
    "| `Conv2D`                                                                                      | no     | `SpectralConv2D`<br>`FrobeniusConv2D`                     | `SpectralConv2D` also implements Björck normalization.                           |\n",
    "| `MaxPooling`<br>`GlobalMaxPooling`             | yes    | n/a                                                                                                         |                                                                                   |\n",
    "| `AveragePooling2D`<br>`GlobalAveragePooling2D` | no     | `ScaledAveragePooling2D`<br>`ScaledGlobalAveragePooling2D` | The lipschitz constant is bounded by `sqrt(pool_h * pool_h)`.                     |\n",
    "| `Flatten`                                                                                     | yes    | n/a                                                                                                         |                                                                                   |\n",
    "| `Dropout`                                                                                     | no     | None                                                                                                        | The lipschitz constant is bounded by the dropout factor.                          |\n",
    "| `BatchNormalization`                                                                          | no     | None                                                                                                        | We suspect that layer normalization already limits internal covariate shift.      |\n",
    "\n",
    "## Design tips\n",
    "\n",
    "Designing lipschitz networks requires a careful design in order to avoid\n",
    "vanishing/exploding gradient problems.\n",
    "\n",
    "Choosing pooling layers:\n",
    "\n",
    "| layer                                                                            | advantages                                                                   | disadvantages                                                                      |\n",
    "|----------------------------------------------------------------------------------|------------------------------------------------------------------------------|------------------------------------------------------------------------------------|\n",
    "| `ScaledAveragePooling2D` and `MaxPooling2D`                                      | very similar to original implementation (just add a scaling factor for avg). | not norm preserving nor gradient norm preserving.                                  |\n",
    "| `InvertibleDownSampling`                                                         | norm preserving and gradient norm preserving.                                | increases the number of channels (and the number of parameters of the next layer). |\n",
    "| `ScaledL2NormPooling2D` (_sqrt(avgpool(x\\*\\*2))_) | norm preserving.                                                             | lower numerical stability of the gradient when inputs are close to zero.           |\n",
    "\n",
    "Choosing activations:\n",
    "\n",
    "| layer                                                                  | advantages                                                                                   | disadvantages                                                                                  |\n",
    "|------------------------------------------------------------------------|----------------------------------------------------------------------------------------------|------------------------------------------------------------------------------------------------|\n",
    "| `ReLU`                                                                 |                                                                                              | create a strong vanishing gradient effect. If you manage to learn with it, please call 911.    |\n",
    "| `MaxMin` (_stack(\\[ReLU(x), ReLU(-x)\\])_) | have similar properties to ReLU, but is norm and gradient norm preserving                    | double the number of outputs                                                                   |\n",
    "| `GroupSort`                                                            | Input and GradientNorm preserving. Also limit the need of biases (as it is shift invariant). | more computationally expensive, (when its parameter _n_ is large) |\n",
    "\n",
    "Please note that when learning with the `HKR_loss` and `HKR_multiclass_loss`, no\n",
    "activation is required on the last layer.\n"
   ]
  },
  {
   "cell_type": "markdown",
   "metadata": {},
   "source": [
    "### How to use it ?\n",
    "[![Open In Colab](https://colab.research.google.com/assets/colab-badge.svg)](https://colab.research.google.com/github/deel-ai/deel-lip/blob/master/docs/notebooks/demo0.ipynb)\n",
    "\n",
    "Here is an example of 1-lipschitz network trained on MNIST:"
   ]
  },
  {
   "cell_type": "code",
   "execution_count": 1,
   "metadata": {},
   "outputs": [
    {
     "name": "stderr",
     "output_type": "stream",
     "text": [
      "2025-04-04 11:52:01.424870: E external/local_xla/xla/stream_executor/cuda/cuda_fft.cc:477] Unable to register cuFFT factory: Attempting to register factory for plugin cuFFT when one has already been registered\n",
      "WARNING: All log messages before absl::InitializeLog() is called are written to STDERR\n",
      "E0000 00:00:1743760321.444148   21651 cuda_dnn.cc:8310] Unable to register cuDNN factory: Attempting to register factory for plugin cuDNN when one has already been registered\n",
      "E0000 00:00:1743760321.450123   21651 cuda_blas.cc:1418] Unable to register cuBLAS factory: Attempting to register factory for plugin cuBLAS when one has already been registered\n",
      "2025-04-04 11:52:01.470735: I tensorflow/core/platform/cpu_feature_guard.cc:210] This TensorFlow binary is optimized to use available CPU instructions in performance-critical operations.\n",
      "To enable the following instructions: AVX2 FMA, in other operations, rebuild TensorFlow with the appropriate compiler flags.\n"
     ]
    }
   ],
   "source": [
    "from deel.lip.layers import (\n",
    "    SpectralDense,\n",
    "    SpectralConv2D,\n",
    "    ScaledL2NormPooling2D,\n",
    "    FrobeniusDense,\n",
    ")\n",
    "from deel.lip.model import Sequential\n",
    "from deel.lip.activations import GroupSort\n",
    "from deel.lip.losses import MulticlassHKR, MulticlassKR\n",
    "from keras.layers import Input, Flatten\n",
    "from keras.optimizers import Adam\n",
    "from keras.datasets import mnist\n",
    "from keras.utils import to_categorical\n",
    "import numpy as np"
   ]
  },
  {
   "cell_type": "code",
   "execution_count": null,
   "metadata": {},
   "outputs": [],
   "source": [
    "# # load data\n",
    "# (x_train, y_train), (x_test, y_test) = mnist.load_data()\n",
    "# # standardize and reshape the data\n",
    "# x_train = np.expand_dims(x_train, -1)\n",
    "# mean = x_train.mean()\n",
    "# std = x_train.std()\n",
    "# x_train = (x_train - mean) / std\n",
    "# x_test = np.expand_dims(x_test, -1)\n",
    "# x_test = (x_test - mean) / std\n",
    "# # one hot encode the labels\n",
    "# y_train = to_categorical(y_train)\n",
    "# y_test = to_categorical(y_test)\n",
    " "
   ]
  },
  {
   "cell_type": "code",
   "execution_count": 2,
   "metadata": {},
   "outputs": [],
   "source": [
    "# load data\n",
    "(x_train, y_train), (x_test, y_test) = mnist.load_data()\n",
    "# standardize and reshape the data\n",
    "x_train = np.expand_dims(x_train, -1) / 255\n",
    "x_test = np.expand_dims(x_test, -1) / 255\n",
    "# one hot encode the labels\n",
    "y_train = to_categorical(y_train)\n",
    "y_test = to_categorical(y_test)"
   ]
  },
  {
   "cell_type": "code",
   "execution_count": 3,
   "metadata": {},
   "outputs": [],
   "source": [
    "x_train = np.transpose(x_train,(0,3,1,2))\n",
    "x_test = np.transpose(x_test,(0,3,1,2))"
   ]
  },
  {
   "cell_type": "code",
   "execution_count": 4,
   "metadata": {},
   "outputs": [
    {
     "data": {
      "text/plain": [
       "(60000, 1, 28, 28)"
      ]
     },
     "execution_count": 4,
     "metadata": {},
     "output_type": "execute_result"
    }
   ],
   "source": [
    "x_train.shape"
   ]
  },
  {
   "cell_type": "code",
   "execution_count": 6,
   "metadata": {},
   "outputs": [
    {
     "data": {
      "text/plain": [
       "0.0"
      ]
     },
     "execution_count": 6,
     "metadata": {},
     "output_type": "execute_result"
    }
   ],
   "source": [
    "np.min(x_train)"
   ]
  },
  {
   "cell_type": "code",
   "execution_count": 7,
   "metadata": {},
   "outputs": [
    {
     "name": "stderr",
     "output_type": "stream",
     "text": [
      "I0000 00:00:1743760424.072079   21651 gpu_device.cc:2022] Created device /job:localhost/replica:0/task:0/device:GPU:0 with 20710 MB memory:  -> device: 0, name: NVIDIA A10G, pci bus id: 0000:00:1e.0, compute capability: 8.6\n"
     ]
    },
    {
     "data": {
      "text/html": [
       "<pre style=\"white-space:pre;overflow-x:auto;line-height:normal;font-family:Menlo,'DejaVu Sans Mono',consolas,'Courier New',monospace\"><span style=\"font-weight: bold\">Model: \"hkr_model\"</span>\n",
       "</pre>\n"
      ],
      "text/plain": [
       "\u001b[1mModel: \"hkr_model\"\u001b[0m\n"
      ]
     },
     "metadata": {},
     "output_type": "display_data"
    },
    {
     "data": {
      "text/html": [
       "<pre style=\"white-space:pre;overflow-x:auto;line-height:normal;font-family:Menlo,'DejaVu Sans Mono',consolas,'Courier New',monospace\">┏━━━━━━━━━━━━━━━━━━━━━━━━━━━━━━━━━┳━━━━━━━━━━━━━━━━━━━━━━━━┳━━━━━━━━━━━━━━━┓\n",
       "┃<span style=\"font-weight: bold\"> Layer (type)                    </span>┃<span style=\"font-weight: bold\"> Output Shape           </span>┃<span style=\"font-weight: bold\">       Param # </span>┃\n",
       "┡━━━━━━━━━━━━━━━━━━━━━━━━━━━━━━━━━╇━━━━━━━━━━━━━━━━━━━━━━━━╇━━━━━━━━━━━━━━━┩\n",
       "│ spectral_conv2d                 │ (<span style=\"color: #00d7ff; text-decoration-color: #00d7ff\">None</span>, <span style=\"color: #00af00; text-decoration-color: #00af00\">16</span>, <span style=\"color: #00af00; text-decoration-color: #00af00\">28</span>, <span style=\"color: #00af00; text-decoration-color: #00af00\">28</span>)     │           <span style=\"color: #00af00; text-decoration-color: #00af00\">321</span> │\n",
       "│ (<span style=\"color: #0087ff; text-decoration-color: #0087ff\">SpectralConv2D</span>)                │                        │               │\n",
       "├─────────────────────────────────┼────────────────────────┼───────────────┤\n",
       "│ scaled_l2_norm_pooling2d        │ (<span style=\"color: #00d7ff; text-decoration-color: #00d7ff\">None</span>, <span style=\"color: #00af00; text-decoration-color: #00af00\">16</span>, <span style=\"color: #00af00; text-decoration-color: #00af00\">14</span>, <span style=\"color: #00af00; text-decoration-color: #00af00\">14</span>)     │             <span style=\"color: #00af00; text-decoration-color: #00af00\">0</span> │\n",
       "│ (<span style=\"color: #0087ff; text-decoration-color: #0087ff\">ScaledL2NormPooling2D</span>)         │                        │               │\n",
       "├─────────────────────────────────┼────────────────────────┼───────────────┤\n",
       "│ spectral_conv2d_1               │ (<span style=\"color: #00d7ff; text-decoration-color: #00d7ff\">None</span>, <span style=\"color: #00af00; text-decoration-color: #00af00\">16</span>, <span style=\"color: #00af00; text-decoration-color: #00af00\">14</span>, <span style=\"color: #00af00; text-decoration-color: #00af00\">14</span>)     │         <span style=\"color: #00af00; text-decoration-color: #00af00\">4,641</span> │\n",
       "│ (<span style=\"color: #0087ff; text-decoration-color: #0087ff\">SpectralConv2D</span>)                │                        │               │\n",
       "├─────────────────────────────────┼────────────────────────┼───────────────┤\n",
       "│ scaled_l2_norm_pooling2d_1      │ (<span style=\"color: #00d7ff; text-decoration-color: #00d7ff\">None</span>, <span style=\"color: #00af00; text-decoration-color: #00af00\">16</span>, <span style=\"color: #00af00; text-decoration-color: #00af00\">7</span>, <span style=\"color: #00af00; text-decoration-color: #00af00\">7</span>)       │             <span style=\"color: #00af00; text-decoration-color: #00af00\">0</span> │\n",
       "│ (<span style=\"color: #0087ff; text-decoration-color: #0087ff\">ScaledL2NormPooling2D</span>)         │                        │               │\n",
       "├─────────────────────────────────┼────────────────────────┼───────────────┤\n",
       "│ flatten (<span style=\"color: #0087ff; text-decoration-color: #0087ff\">Flatten</span>)               │ (<span style=\"color: #00d7ff; text-decoration-color: #00d7ff\">None</span>, <span style=\"color: #00af00; text-decoration-color: #00af00\">784</span>)            │             <span style=\"color: #00af00; text-decoration-color: #00af00\">0</span> │\n",
       "├─────────────────────────────────┼────────────────────────┼───────────────┤\n",
       "│ spectral_dense (<span style=\"color: #0087ff; text-decoration-color: #0087ff\">SpectralDense</span>)  │ (<span style=\"color: #00d7ff; text-decoration-color: #00d7ff\">None</span>, <span style=\"color: #00af00; text-decoration-color: #00af00\">32</span>)             │        <span style=\"color: #00af00; text-decoration-color: #00af00\">50,241</span> │\n",
       "├─────────────────────────────────┼────────────────────────┼───────────────┤\n",
       "│ spectral_dense_1                │ (<span style=\"color: #00d7ff; text-decoration-color: #00d7ff\">None</span>, <span style=\"color: #00af00; text-decoration-color: #00af00\">10</span>)             │           <span style=\"color: #00af00; text-decoration-color: #00af00\">651</span> │\n",
       "│ (<span style=\"color: #0087ff; text-decoration-color: #0087ff\">SpectralDense</span>)                 │                        │               │\n",
       "└─────────────────────────────────┴────────────────────────┴───────────────┘\n",
       "</pre>\n"
      ],
      "text/plain": [
       "┏━━━━━━━━━━━━━━━━━━━━━━━━━━━━━━━━━┳━━━━━━━━━━━━━━━━━━━━━━━━┳━━━━━━━━━━━━━━━┓\n",
       "┃\u001b[1m \u001b[0m\u001b[1mLayer (type)                   \u001b[0m\u001b[1m \u001b[0m┃\u001b[1m \u001b[0m\u001b[1mOutput Shape          \u001b[0m\u001b[1m \u001b[0m┃\u001b[1m \u001b[0m\u001b[1m      Param #\u001b[0m\u001b[1m \u001b[0m┃\n",
       "┡━━━━━━━━━━━━━━━━━━━━━━━━━━━━━━━━━╇━━━━━━━━━━━━━━━━━━━━━━━━╇━━━━━━━━━━━━━━━┩\n",
       "│ spectral_conv2d                 │ (\u001b[38;5;45mNone\u001b[0m, \u001b[38;5;34m16\u001b[0m, \u001b[38;5;34m28\u001b[0m, \u001b[38;5;34m28\u001b[0m)     │           \u001b[38;5;34m321\u001b[0m │\n",
       "│ (\u001b[38;5;33mSpectralConv2D\u001b[0m)                │                        │               │\n",
       "├─────────────────────────────────┼────────────────────────┼───────────────┤\n",
       "│ scaled_l2_norm_pooling2d        │ (\u001b[38;5;45mNone\u001b[0m, \u001b[38;5;34m16\u001b[0m, \u001b[38;5;34m14\u001b[0m, \u001b[38;5;34m14\u001b[0m)     │             \u001b[38;5;34m0\u001b[0m │\n",
       "│ (\u001b[38;5;33mScaledL2NormPooling2D\u001b[0m)         │                        │               │\n",
       "├─────────────────────────────────┼────────────────────────┼───────────────┤\n",
       "│ spectral_conv2d_1               │ (\u001b[38;5;45mNone\u001b[0m, \u001b[38;5;34m16\u001b[0m, \u001b[38;5;34m14\u001b[0m, \u001b[38;5;34m14\u001b[0m)     │         \u001b[38;5;34m4,641\u001b[0m │\n",
       "│ (\u001b[38;5;33mSpectralConv2D\u001b[0m)                │                        │               │\n",
       "├─────────────────────────────────┼────────────────────────┼───────────────┤\n",
       "│ scaled_l2_norm_pooling2d_1      │ (\u001b[38;5;45mNone\u001b[0m, \u001b[38;5;34m16\u001b[0m, \u001b[38;5;34m7\u001b[0m, \u001b[38;5;34m7\u001b[0m)       │             \u001b[38;5;34m0\u001b[0m │\n",
       "│ (\u001b[38;5;33mScaledL2NormPooling2D\u001b[0m)         │                        │               │\n",
       "├─────────────────────────────────┼────────────────────────┼───────────────┤\n",
       "│ flatten (\u001b[38;5;33mFlatten\u001b[0m)               │ (\u001b[38;5;45mNone\u001b[0m, \u001b[38;5;34m784\u001b[0m)            │             \u001b[38;5;34m0\u001b[0m │\n",
       "├─────────────────────────────────┼────────────────────────┼───────────────┤\n",
       "│ spectral_dense (\u001b[38;5;33mSpectralDense\u001b[0m)  │ (\u001b[38;5;45mNone\u001b[0m, \u001b[38;5;34m32\u001b[0m)             │        \u001b[38;5;34m50,241\u001b[0m │\n",
       "├─────────────────────────────────┼────────────────────────┼───────────────┤\n",
       "│ spectral_dense_1                │ (\u001b[38;5;45mNone\u001b[0m, \u001b[38;5;34m10\u001b[0m)             │           \u001b[38;5;34m651\u001b[0m │\n",
       "│ (\u001b[38;5;33mSpectralDense\u001b[0m)                 │                        │               │\n",
       "└─────────────────────────────────┴────────────────────────┴───────────────┘\n"
      ]
     },
     "metadata": {},
     "output_type": "display_data"
    },
    {
     "data": {
      "text/html": [
       "<pre style=\"white-space:pre;overflow-x:auto;line-height:normal;font-family:Menlo,'DejaVu Sans Mono',consolas,'Courier New',monospace\"><span style=\"font-weight: bold\"> Total params: </span><span style=\"color: #00af00; text-decoration-color: #00af00\">55,854</span> (218.18 KB)\n",
       "</pre>\n"
      ],
      "text/plain": [
       "\u001b[1m Total params: \u001b[0m\u001b[38;5;34m55,854\u001b[0m (218.18 KB)\n"
      ]
     },
     "metadata": {},
     "output_type": "display_data"
    },
    {
     "data": {
      "text/html": [
       "<pre style=\"white-space:pre;overflow-x:auto;line-height:normal;font-family:Menlo,'DejaVu Sans Mono',consolas,'Courier New',monospace\"><span style=\"font-weight: bold\"> Trainable params: </span><span style=\"color: #00af00; text-decoration-color: #00af00\">27,920</span> (109.06 KB)\n",
       "</pre>\n"
      ],
      "text/plain": [
       "\u001b[1m Trainable params: \u001b[0m\u001b[38;5;34m27,920\u001b[0m (109.06 KB)\n"
      ]
     },
     "metadata": {},
     "output_type": "display_data"
    },
    {
     "data": {
      "text/html": [
       "<pre style=\"white-space:pre;overflow-x:auto;line-height:normal;font-family:Menlo,'DejaVu Sans Mono',consolas,'Courier New',monospace\"><span style=\"font-weight: bold\"> Non-trainable params: </span><span style=\"color: #00af00; text-decoration-color: #00af00\">27,934</span> (109.12 KB)\n",
       "</pre>\n"
      ],
      "text/plain": [
       "\u001b[1m Non-trainable params: \u001b[0m\u001b[38;5;34m27,934\u001b[0m (109.12 KB)\n"
      ]
     },
     "metadata": {},
     "output_type": "display_data"
    }
   ],
   "source": [
    "# Sequential (resp Model) from deel.model has the same properties as any lipschitz model.\n",
    "# It act only as a container, with features specific to lipschitz\n",
    "# functions (condensation, vanilla_exportation...) but The layers are fully compatible\n",
    "# with the tf.keras.model.Sequential/Model\n",
    "model = Sequential(\n",
    "    [\n",
    "        Input(shape=x_train.shape[1:]),\n",
    "        # Lipschitz layers preserve the API of their superclass ( here Conv2D )\n",
    "        # an optional param is available: k_coef_lip which control the lipschitz\n",
    "        # constant of the layer\n",
    "        SpectralConv2D(\n",
    "            filters=16,\n",
    "            kernel_size=(3, 3),\n",
    "            activation=GroupSort(2),\n",
    "            use_bias=True,\n",
    "            kernel_initializer=\"orthogonal\",\n",
    "        ),\n",
    "        # usual pooling layer are implemented (avg, max...), but new layers are also available\n",
    "        ScaledL2NormPooling2D(pool_size=(2, 2), data_format=\"channels_first\"),\n",
    "        SpectralConv2D(\n",
    "            filters=16,\n",
    "            kernel_size=(3, 3),\n",
    "            activation=GroupSort(2),\n",
    "            use_bias=True,\n",
    "            kernel_initializer=\"orthogonal\",\n",
    "        ),\n",
    "        ScaledL2NormPooling2D(pool_size=(2, 2), data_format=\"channels_first\"),\n",
    "        # our layers are fully interoperable with existing keras layers\n",
    "        Flatten(),\n",
    "        SpectralDense(\n",
    "            32,\n",
    "            activation=GroupSort(2),\n",
    "            use_bias=True,\n",
    "            kernel_initializer=\"orthogonal\",\n",
    "        ),\n",
    "        SpectralDense(\n",
    "            10, activation=None, use_bias=False, kernel_initializer=\"orthogonal\"\n",
    "        ),\n",
    "    ],\n",
    "    # similary model has a parameter to set the lipschitz constant\n",
    "    # to set automatically the constant of each layer\n",
    "    k_coef_lip=1.0,\n",
    "    name=\"hkr_model\",\n",
    ")\n",
    "model.summary()"
   ]
  },
  {
   "cell_type": "code",
   "execution_count": 8,
   "metadata": {},
   "outputs": [],
   "source": [
    "# HKR (Hinge-Krantorovich-Rubinstein) optimize robustness along with accuracy\n",
    "model.compile(\n",
    "    # decreasing alpha and increasing min_margin improve robustness (at the cost of accuracy)\n",
    "    # note also in the case of lipschitz networks, more robustness require more parameters.\n",
    "    loss=MulticlassHKR(alpha=50, min_margin=0.05),\n",
    "    optimizer=Adam(1e-3),\n",
    "    metrics=[\"accuracy\", MulticlassKR()],\n",
    ")"
   ]
  },
  {
   "cell_type": "code",
   "execution_count": 9,
   "metadata": {},
   "outputs": [
    {
     "name": "stdout",
     "output_type": "stream",
     "text": [
      "Epoch 1/100\n"
     ]
    },
    {
     "name": "stderr",
     "output_type": "stream",
     "text": [
      "WARNING: All log messages before absl::InitializeLog() is called are written to STDERR\n",
      "I0000 00:00:1743760434.730049   22345 service.cc:148] XLA service 0x55ebbcdf1870 initialized for platform CUDA (this does not guarantee that XLA will be used). Devices:\n",
      "I0000 00:00:1743760434.730106   22345 service.cc:156]   StreamExecutor device (0): NVIDIA A10G, Compute Capability 8.6\n",
      "2025-04-04 11:53:54.807238: I tensorflow/compiler/mlir/tensorflow/utils/dump_mlir_util.cc:268] disabling MLIR crash reproducer, set env var `MLIR_CRASH_REPRODUCER_DIRECTORY` to enable.\n",
      "I0000 00:00:1743760435.098507   22345 cuda_dnn.cc:529] Loaded cuDNN version 90300\n",
      "2025-04-04 11:53:55.290336: W external/local_xla/xla/service/gpu/nvptx_compiler.cc:930] The NVIDIA driver's CUDA version is 12.4 which is older than the PTX compiler version 12.5.82. Because the driver is older than the PTX compiler version, XLA is disabling parallel compilation, which may slow down compilation. You should update your NVIDIA driver or use the NVIDIA-provided CUDA forward compatibility packages.\n",
      "2025-04-04 11:53:57.377886: I external/local_xla/xla/stream_executor/cuda/cuda_asm_compiler.cc:397] ptxas warning : Registers are spilled to local memory in function 'gemm_fusion_dot_237', 108 bytes spill stores, 108 bytes spill loads\n",
      "\n",
      "2025-04-04 11:53:59.189138: I external/local_xla/xla/stream_executor/cuda/cuda_asm_compiler.cc:397] ptxas warning : Registers are spilled to local memory in function 'gemm_fusion_dot_237', 324 bytes spill stores, 324 bytes spill loads\n",
      "\n"
     ]
    },
    {
     "name": "stdout",
     "output_type": "stream",
     "text": [
      "\u001b[1m17/30\u001b[0m \u001b[32m━━━━━━━━━━━\u001b[0m\u001b[37m━━━━━━━━━\u001b[0m \u001b[1m0s\u001b[0m 10ms/step - MulticlassKR: 0.0505 - accuracy: 0.3450 - loss: 2.3751"
     ]
    },
    {
     "name": "stderr",
     "output_type": "stream",
     "text": [
      "I0000 00:00:1743760444.348308   22345 device_compiler.h:188] Compiled cluster using XLA!  This line is logged at most once for the lifetime of the process.\n"
     ]
    },
    {
     "name": "stdout",
     "output_type": "stream",
     "text": [
      "\u001b[1m30/30\u001b[0m \u001b[32m━━━━━━━━━━━━━━━━━━━━\u001b[0m\u001b[37m\u001b[0m \u001b[1m17s\u001b[0m 173ms/step - MulticlassKR: 0.0759 - accuracy: 0.4678 - loss: 1.7830 - val_MulticlassKR: 0.2074 - val_accuracy: 0.8879 - val_loss: 0.1568\n",
      "Epoch 2/100\n",
      "\u001b[1m30/30\u001b[0m \u001b[32m━━━━━━━━━━━━━━━━━━━━\u001b[0m\u001b[37m\u001b[0m \u001b[1m0s\u001b[0m 13ms/step - MulticlassKR: 0.2320 - accuracy: 0.8972 - loss: 0.1052 - val_MulticlassKR: 0.3192 - val_accuracy: 0.9296 - val_loss: -0.0712\n",
      "Epoch 3/100\n",
      "\u001b[1m30/30\u001b[0m \u001b[32m━━━━━━━━━━━━━━━━━━━━\u001b[0m\u001b[37m\u001b[0m \u001b[1m0s\u001b[0m 12ms/step - MulticlassKR: 0.3485 - accuracy: 0.9305 - loss: -0.0981 - val_MulticlassKR: 0.4753 - val_accuracy: 0.9446 - val_loss: -0.2501\n",
      "Epoch 4/100\n",
      "\u001b[1m30/30\u001b[0m \u001b[32m━━━━━━━━━━━━━━━━━━━━\u001b[0m\u001b[37m\u001b[0m \u001b[1m0s\u001b[0m 12ms/step - MulticlassKR: 0.5230 - accuracy: 0.9433 - loss: -0.2786 - val_MulticlassKR: 0.7108 - val_accuracy: 0.9473 - val_loss: -0.4603\n",
      "Epoch 5/100\n",
      "\u001b[1m30/30\u001b[0m \u001b[32m━━━━━━━━━━━━━━━━━━━━\u001b[0m\u001b[37m\u001b[0m \u001b[1m0s\u001b[0m 12ms/step - MulticlassKR: 0.7692 - accuracy: 0.9466 - loss: -0.5050 - val_MulticlassKR: 0.9901 - val_accuracy: 0.9532 - val_loss: -0.7068\n",
      "Epoch 6/100\n",
      "\u001b[1m30/30\u001b[0m \u001b[32m━━━━━━━━━━━━━━━━━━━━\u001b[0m\u001b[37m\u001b[0m \u001b[1m0s\u001b[0m 12ms/step - MulticlassKR: 1.0475 - accuracy: 0.9499 - loss: -0.7331 - val_MulticlassKR: 1.2644 - val_accuracy: 0.9531 - val_loss: -0.9311\n",
      "Epoch 7/100\n",
      "\u001b[1m30/30\u001b[0m \u001b[32m━━━━━━━━━━━━━━━━━━━━\u001b[0m\u001b[37m\u001b[0m \u001b[1m0s\u001b[0m 12ms/step - MulticlassKR: 1.3075 - accuracy: 0.9510 - loss: -0.9643 - val_MulticlassKR: 1.4985 - val_accuracy: 0.9558 - val_loss: -1.1415\n",
      "Epoch 8/100\n",
      "\u001b[1m30/30\u001b[0m \u001b[32m━━━━━━━━━━━━━━━━━━━━\u001b[0m\u001b[37m\u001b[0m \u001b[1m0s\u001b[0m 12ms/step - MulticlassKR: 1.5282 - accuracy: 0.9531 - loss: -1.1591 - val_MulticlassKR: 1.6813 - val_accuracy: 0.9550 - val_loss: -1.2968\n",
      "Epoch 9/100\n",
      "\u001b[1m30/30\u001b[0m \u001b[32m━━━━━━━━━━━━━━━━━━━━\u001b[0m\u001b[37m\u001b[0m \u001b[1m0s\u001b[0m 12ms/step - MulticlassKR: 1.6918 - accuracy: 0.9539 - loss: -1.2967 - val_MulticlassKR: 1.8247 - val_accuracy: 0.9590 - val_loss: -1.4354\n",
      "Epoch 10/100\n",
      "\u001b[1m30/30\u001b[0m \u001b[32m━━━━━━━━━━━━━━━━━━━━\u001b[0m\u001b[37m\u001b[0m \u001b[1m0s\u001b[0m 12ms/step - MulticlassKR: 1.8234 - accuracy: 0.9562 - loss: -1.4242 - val_MulticlassKR: 1.9271 - val_accuracy: 0.9613 - val_loss: -1.5335\n",
      "Epoch 11/100\n",
      "\u001b[1m30/30\u001b[0m \u001b[32m━━━━━━━━━━━━━━━━━━━━\u001b[0m\u001b[37m\u001b[0m \u001b[1m0s\u001b[0m 12ms/step - MulticlassKR: 1.9223 - accuracy: 0.9564 - loss: -1.5077 - val_MulticlassKR: 2.0004 - val_accuracy: 0.9625 - val_loss: -1.6006\n",
      "Epoch 12/100\n",
      "\u001b[1m30/30\u001b[0m \u001b[32m━━━━━━━━━━━━━━━━━━━━\u001b[0m\u001b[37m\u001b[0m \u001b[1m0s\u001b[0m 12ms/step - MulticlassKR: 1.9922 - accuracy: 0.9568 - loss: -1.5651 - val_MulticlassKR: 2.0790 - val_accuracy: 0.9597 - val_loss: -1.6462\n",
      "Epoch 13/100\n",
      "\u001b[1m30/30\u001b[0m \u001b[32m━━━━━━━━━━━━━━━━━━━━\u001b[0m\u001b[37m\u001b[0m \u001b[1m0s\u001b[0m 12ms/step - MulticlassKR: 2.0546 - accuracy: 0.9581 - loss: -1.6276 - val_MulticlassKR: 2.1277 - val_accuracy: 0.9614 - val_loss: -1.7120\n",
      "Epoch 14/100\n",
      "\u001b[1m30/30\u001b[0m \u001b[32m━━━━━━━━━━━━━━━━━━━━\u001b[0m\u001b[37m\u001b[0m \u001b[1m1s\u001b[0m 16ms/step - MulticlassKR: 2.0971 - accuracy: 0.9581 - loss: -1.6647 - val_MulticlassKR: 2.1607 - val_accuracy: 0.9600 - val_loss: -1.7188\n",
      "Epoch 15/100\n",
      "\u001b[1m30/30\u001b[0m \u001b[32m━━━━━━━━━━━━━━━━━━━━\u001b[0m\u001b[37m\u001b[0m \u001b[1m0s\u001b[0m 12ms/step - MulticlassKR: 2.1397 - accuracy: 0.9592 - loss: -1.7154 - val_MulticlassKR: 2.1881 - val_accuracy: 0.9628 - val_loss: -1.7617\n",
      "Epoch 16/100\n",
      "\u001b[1m30/30\u001b[0m \u001b[32m━━━━━━━━━━━━━━━━━━━━\u001b[0m\u001b[37m\u001b[0m \u001b[1m0s\u001b[0m 14ms/step - MulticlassKR: 2.1679 - accuracy: 0.9600 - loss: -1.7472 - val_MulticlassKR: 2.2200 - val_accuracy: 0.9621 - val_loss: -1.7927\n",
      "Epoch 17/100\n",
      "\u001b[1m30/30\u001b[0m \u001b[32m━━━━━━━━━━━━━━━━━━━━\u001b[0m\u001b[37m\u001b[0m \u001b[1m0s\u001b[0m 13ms/step - MulticlassKR: 2.1880 - accuracy: 0.9603 - loss: -1.7438 - val_MulticlassKR: 2.2408 - val_accuracy: 0.9627 - val_loss: -1.7859\n",
      "Epoch 18/100\n",
      "\u001b[1m30/30\u001b[0m \u001b[32m━━━━━━━━━━━━━━━━━━━━\u001b[0m\u001b[37m\u001b[0m \u001b[1m0s\u001b[0m 14ms/step - MulticlassKR: 2.2102 - accuracy: 0.9605 - loss: -1.7721 - val_MulticlassKR: 2.2565 - val_accuracy: 0.9636 - val_loss: -1.8199\n",
      "Epoch 19/100\n",
      "\u001b[1m30/30\u001b[0m \u001b[32m━━━━━━━━━━━━━━━━━━━━\u001b[0m\u001b[37m\u001b[0m \u001b[1m0s\u001b[0m 12ms/step - MulticlassKR: 2.2259 - accuracy: 0.9620 - loss: -1.8006 - val_MulticlassKR: 2.2739 - val_accuracy: 0.9634 - val_loss: -1.8416\n",
      "Epoch 20/100\n",
      "\u001b[1m30/30\u001b[0m \u001b[32m━━━━━━━━━━━━━━━━━━━━\u001b[0m\u001b[37m\u001b[0m \u001b[1m0s\u001b[0m 12ms/step - MulticlassKR: 2.2440 - accuracy: 0.9606 - loss: -1.8140 - val_MulticlassKR: 2.2920 - val_accuracy: 0.9626 - val_loss: -1.8494\n",
      "Epoch 21/100\n",
      "\u001b[1m30/30\u001b[0m \u001b[32m━━━━━━━━━━━━━━━━━━━━\u001b[0m\u001b[37m\u001b[0m \u001b[1m0s\u001b[0m 12ms/step - MulticlassKR: 2.2503 - accuracy: 0.9600 - loss: -1.8261 - val_MulticlassKR: 2.3061 - val_accuracy: 0.9628 - val_loss: -1.8587\n",
      "Epoch 22/100\n",
      "\u001b[1m30/30\u001b[0m \u001b[32m━━━━━━━━━━━━━━━━━━━━\u001b[0m\u001b[37m\u001b[0m \u001b[1m0s\u001b[0m 12ms/step - MulticlassKR: 2.2694 - accuracy: 0.9602 - loss: -1.8235 - val_MulticlassKR: 2.3125 - val_accuracy: 0.9608 - val_loss: -1.8701\n",
      "Epoch 23/100\n",
      "\u001b[1m30/30\u001b[0m \u001b[32m━━━━━━━━━━━━━━━━━━━━\u001b[0m\u001b[37m\u001b[0m \u001b[1m0s\u001b[0m 12ms/step - MulticlassKR: 2.2759 - accuracy: 0.9613 - loss: -1.8355 - val_MulticlassKR: 2.3320 - val_accuracy: 0.9615 - val_loss: -1.8666\n",
      "Epoch 24/100\n",
      "\u001b[1m30/30\u001b[0m \u001b[32m━━━━━━━━━━━━━━━━━━━━\u001b[0m\u001b[37m\u001b[0m \u001b[1m0s\u001b[0m 12ms/step - MulticlassKR: 2.2973 - accuracy: 0.9622 - loss: -1.8602 - val_MulticlassKR: 2.3354 - val_accuracy: 0.9628 - val_loss: -1.8990\n",
      "Epoch 25/100\n",
      "\u001b[1m30/30\u001b[0m \u001b[32m━━━━━━━━━━━━━━━━━━━━\u001b[0m\u001b[37m\u001b[0m \u001b[1m0s\u001b[0m 12ms/step - MulticlassKR: 2.2973 - accuracy: 0.9612 - loss: -1.8593 - val_MulticlassKR: 2.3403 - val_accuracy: 0.9647 - val_loss: -1.9173\n",
      "Epoch 26/100\n",
      "\u001b[1m30/30\u001b[0m \u001b[32m━━━━━━━━━━━━━━━━━━━━\u001b[0m\u001b[37m\u001b[0m \u001b[1m0s\u001b[0m 12ms/step - MulticlassKR: 2.3063 - accuracy: 0.9621 - loss: -1.8761 - val_MulticlassKR: 2.3568 - val_accuracy: 0.9644 - val_loss: -1.9294\n",
      "Epoch 27/100\n",
      "\u001b[1m30/30\u001b[0m \u001b[32m━━━━━━━━━━━━━━━━━━━━\u001b[0m\u001b[37m\u001b[0m \u001b[1m0s\u001b[0m 12ms/step - MulticlassKR: 2.3181 - accuracy: 0.9623 - loss: -1.8837 - val_MulticlassKR: 2.3605 - val_accuracy: 0.9638 - val_loss: -1.9055\n",
      "Epoch 28/100\n",
      "\u001b[1m30/30\u001b[0m \u001b[32m━━━━━━━━━━━━━━━━━━━━\u001b[0m\u001b[37m\u001b[0m \u001b[1m0s\u001b[0m 12ms/step - MulticlassKR: 2.3304 - accuracy: 0.9619 - loss: -1.8992 - val_MulticlassKR: 2.3648 - val_accuracy: 0.9644 - val_loss: -1.9522\n",
      "Epoch 29/100\n",
      "\u001b[1m30/30\u001b[0m \u001b[32m━━━━━━━━━━━━━━━━━━━━\u001b[0m\u001b[37m\u001b[0m \u001b[1m0s\u001b[0m 12ms/step - MulticlassKR: 2.3334 - accuracy: 0.9635 - loss: -1.9180 - val_MulticlassKR: 2.3700 - val_accuracy: 0.9637 - val_loss: -1.9471\n",
      "Epoch 30/100\n",
      "\u001b[1m30/30\u001b[0m \u001b[32m━━━━━━━━━━━━━━━━━━━━\u001b[0m\u001b[37m\u001b[0m \u001b[1m0s\u001b[0m 12ms/step - MulticlassKR: 2.3398 - accuracy: 0.9622 - loss: -1.9060 - val_MulticlassKR: 2.3779 - val_accuracy: 0.9624 - val_loss: -1.9535\n",
      "Epoch 31/100\n",
      "\u001b[1m30/30\u001b[0m \u001b[32m━━━━━━━━━━━━━━━━━━━━\u001b[0m\u001b[37m\u001b[0m \u001b[1m0s\u001b[0m 12ms/step - MulticlassKR: 2.3472 - accuracy: 0.9625 - loss: -1.9229 - val_MulticlassKR: 2.3824 - val_accuracy: 0.9657 - val_loss: -1.9370\n",
      "Epoch 32/100\n",
      "\u001b[1m30/30\u001b[0m \u001b[32m━━━━━━━━━━━━━━━━━━━━\u001b[0m\u001b[37m\u001b[0m \u001b[1m0s\u001b[0m 12ms/step - MulticlassKR: 2.3494 - accuracy: 0.9621 - loss: -1.9057 - val_MulticlassKR: 2.3951 - val_accuracy: 0.9648 - val_loss: -1.9668\n",
      "Epoch 33/100\n",
      "\u001b[1m30/30\u001b[0m \u001b[32m━━━━━━━━━━━━━━━━━━━━\u001b[0m\u001b[37m\u001b[0m \u001b[1m0s\u001b[0m 12ms/step - MulticlassKR: 2.3587 - accuracy: 0.9637 - loss: -1.9329 - val_MulticlassKR: 2.4012 - val_accuracy: 0.9659 - val_loss: -1.9741\n",
      "Epoch 34/100\n",
      "\u001b[1m30/30\u001b[0m \u001b[32m━━━━━━━━━━━━━━━━━━━━\u001b[0m\u001b[37m\u001b[0m \u001b[1m0s\u001b[0m 12ms/step - MulticlassKR: 2.3672 - accuracy: 0.9641 - loss: -1.9324 - val_MulticlassKR: 2.4049 - val_accuracy: 0.9652 - val_loss: -1.9607\n",
      "Epoch 35/100\n",
      "\u001b[1m30/30\u001b[0m \u001b[32m━━━━━━━━━━━━━━━━━━━━\u001b[0m\u001b[37m\u001b[0m \u001b[1m0s\u001b[0m 12ms/step - MulticlassKR: 2.3676 - accuracy: 0.9650 - loss: -1.9443 - val_MulticlassKR: 2.4056 - val_accuracy: 0.9665 - val_loss: -1.9868\n",
      "Epoch 36/100\n",
      "\u001b[1m30/30\u001b[0m \u001b[32m━━━━━━━━━━━━━━━━━━━━\u001b[0m\u001b[37m\u001b[0m \u001b[1m0s\u001b[0m 12ms/step - MulticlassKR: 2.3678 - accuracy: 0.9623 - loss: -1.9396 - val_MulticlassKR: 2.4176 - val_accuracy: 0.9651 - val_loss: -1.9885\n",
      "Epoch 37/100\n",
      "\u001b[1m30/30\u001b[0m \u001b[32m━━━━━━━━━━━━━━━━━━━━\u001b[0m\u001b[37m\u001b[0m \u001b[1m0s\u001b[0m 12ms/step - MulticlassKR: 2.3764 - accuracy: 0.9626 - loss: -1.9414 - val_MulticlassKR: 2.4248 - val_accuracy: 0.9650 - val_loss: -1.9983\n",
      "Epoch 38/100\n",
      "\u001b[1m30/30\u001b[0m \u001b[32m━━━━━━━━━━━━━━━━━━━━\u001b[0m\u001b[37m\u001b[0m \u001b[1m0s\u001b[0m 12ms/step - MulticlassKR: 2.3853 - accuracy: 0.9639 - loss: -1.9571 - val_MulticlassKR: 2.4278 - val_accuracy: 0.9658 - val_loss: -2.0072\n",
      "Epoch 39/100\n",
      "\u001b[1m30/30\u001b[0m \u001b[32m━━━━━━━━━━━━━━━━━━━━\u001b[0m\u001b[37m\u001b[0m \u001b[1m0s\u001b[0m 12ms/step - MulticlassKR: 2.3887 - accuracy: 0.9635 - loss: -1.9580 - val_MulticlassKR: 2.4293 - val_accuracy: 0.9667 - val_loss: -2.0185\n",
      "Epoch 40/100\n",
      "\u001b[1m30/30\u001b[0m \u001b[32m━━━━━━━━━━━━━━━━━━━━\u001b[0m\u001b[37m\u001b[0m \u001b[1m0s\u001b[0m 12ms/step - MulticlassKR: 2.3960 - accuracy: 0.9647 - loss: -1.9692 - val_MulticlassKR: 2.4335 - val_accuracy: 0.9668 - val_loss: -2.0177\n",
      "Epoch 41/100\n",
      "\u001b[1m30/30\u001b[0m \u001b[32m━━━━━━━━━━━━━━━━━━━━\u001b[0m\u001b[37m\u001b[0m \u001b[1m0s\u001b[0m 12ms/step - MulticlassKR: 2.3921 - accuracy: 0.9623 - loss: -1.9693 - val_MulticlassKR: 2.4416 - val_accuracy: 0.9629 - val_loss: -1.9846\n",
      "Epoch 42/100\n",
      "\u001b[1m30/30\u001b[0m \u001b[32m━━━━━━━━━━━━━━━━━━━━\u001b[0m\u001b[37m\u001b[0m \u001b[1m0s\u001b[0m 12ms/step - MulticlassKR: 2.3917 - accuracy: 0.9625 - loss: -1.9572 - val_MulticlassKR: 2.4459 - val_accuracy: 0.9664 - val_loss: -2.0156\n",
      "Epoch 43/100\n",
      "\u001b[1m30/30\u001b[0m \u001b[32m━━━━━━━━━━━━━━━━━━━━\u001b[0m\u001b[37m\u001b[0m \u001b[1m0s\u001b[0m 12ms/step - MulticlassKR: 2.4062 - accuracy: 0.9633 - loss: -1.9820 - val_MulticlassKR: 2.4441 - val_accuracy: 0.9669 - val_loss: -2.0396\n",
      "Epoch 44/100\n",
      "\u001b[1m30/30\u001b[0m \u001b[32m━━━━━━━━━━━━━━━━━━━━\u001b[0m\u001b[37m\u001b[0m \u001b[1m0s\u001b[0m 14ms/step - MulticlassKR: 2.4016 - accuracy: 0.9636 - loss: -1.9670 - val_MulticlassKR: 2.4520 - val_accuracy: 0.9670 - val_loss: -2.0297\n",
      "Epoch 45/100\n",
      "\u001b[1m30/30\u001b[0m \u001b[32m━━━━━━━━━━━━━━━━━━━━\u001b[0m\u001b[37m\u001b[0m \u001b[1m0s\u001b[0m 13ms/step - MulticlassKR: 2.4128 - accuracy: 0.9630 - loss: -1.9864 - val_MulticlassKR: 2.4565 - val_accuracy: 0.9664 - val_loss: -2.0427\n",
      "Epoch 46/100\n",
      "\u001b[1m30/30\u001b[0m \u001b[32m━━━━━━━━━━━━━━━━━━━━\u001b[0m\u001b[37m\u001b[0m \u001b[1m0s\u001b[0m 12ms/step - MulticlassKR: 2.4172 - accuracy: 0.9633 - loss: -1.9925 - val_MulticlassKR: 2.4608 - val_accuracy: 0.9664 - val_loss: -2.0303\n",
      "Epoch 47/100\n",
      "\u001b[1m30/30\u001b[0m \u001b[32m━━━━━━━━━━━━━━━━━━━━\u001b[0m\u001b[37m\u001b[0m \u001b[1m0s\u001b[0m 12ms/step - MulticlassKR: 2.4236 - accuracy: 0.9640 - loss: -1.9932 - val_MulticlassKR: 2.4630 - val_accuracy: 0.9644 - val_loss: -2.0173\n",
      "Epoch 48/100\n",
      "\u001b[1m30/30\u001b[0m \u001b[32m━━━━━━━━━━━━━━━━━━━━\u001b[0m\u001b[37m\u001b[0m \u001b[1m0s\u001b[0m 12ms/step - MulticlassKR: 2.4213 - accuracy: 0.9634 - loss: -1.9902 - val_MulticlassKR: 2.4674 - val_accuracy: 0.9646 - val_loss: -2.0304\n",
      "Epoch 49/100\n",
      "\u001b[1m30/30\u001b[0m \u001b[32m━━━━━━━━━━━━━━━━━━━━\u001b[0m\u001b[37m\u001b[0m \u001b[1m0s\u001b[0m 12ms/step - MulticlassKR: 2.4204 - accuracy: 0.9634 - loss: -1.9936 - val_MulticlassKR: 2.4758 - val_accuracy: 0.9673 - val_loss: -2.0638\n",
      "Epoch 50/100\n",
      "\u001b[1m30/30\u001b[0m \u001b[32m━━━━━━━━━━━━━━━━━━━━\u001b[0m\u001b[37m\u001b[0m \u001b[1m0s\u001b[0m 12ms/step - MulticlassKR: 2.4399 - accuracy: 0.9648 - loss: -2.0259 - val_MulticlassKR: 2.4713 - val_accuracy: 0.9661 - val_loss: -2.0478\n",
      "Epoch 51/100\n",
      "\u001b[1m30/30\u001b[0m \u001b[32m━━━━━━━━━━━━━━━━━━━━\u001b[0m\u001b[37m\u001b[0m \u001b[1m0s\u001b[0m 12ms/step - MulticlassKR: 2.4347 - accuracy: 0.9645 - loss: -2.0064 - val_MulticlassKR: 2.4730 - val_accuracy: 0.9658 - val_loss: -2.0557\n",
      "Epoch 52/100\n",
      "\u001b[1m30/30\u001b[0m \u001b[32m━━━━━━━━━━━━━━━━━━━━\u001b[0m\u001b[37m\u001b[0m \u001b[1m0s\u001b[0m 12ms/step - MulticlassKR: 2.4343 - accuracy: 0.9653 - loss: -2.0141 - val_MulticlassKR: 2.4683 - val_accuracy: 0.9676 - val_loss: -2.0610\n",
      "Epoch 53/100\n",
      "\u001b[1m30/30\u001b[0m \u001b[32m━━━━━━━━━━━━━━━━━━━━\u001b[0m\u001b[37m\u001b[0m \u001b[1m0s\u001b[0m 12ms/step - MulticlassKR: 2.4408 - accuracy: 0.9652 - loss: -2.0248 - val_MulticlassKR: 2.4771 - val_accuracy: 0.9655 - val_loss: -2.0650\n",
      "Epoch 54/100\n",
      "\u001b[1m30/30\u001b[0m \u001b[32m━━━━━━━━━━━━━━━━━━━━\u001b[0m\u001b[37m\u001b[0m \u001b[1m0s\u001b[0m 12ms/step - MulticlassKR: 2.4375 - accuracy: 0.9652 - loss: -2.0188 - val_MulticlassKR: 2.4873 - val_accuracy: 0.9665 - val_loss: -2.0670\n",
      "Epoch 55/100\n",
      "\u001b[1m30/30\u001b[0m \u001b[32m━━━━━━━━━━━━━━━━━━━━\u001b[0m\u001b[37m\u001b[0m \u001b[1m0s\u001b[0m 12ms/step - MulticlassKR: 2.4417 - accuracy: 0.9635 - loss: -2.0055 - val_MulticlassKR: 2.4820 - val_accuracy: 0.9665 - val_loss: -2.0564\n",
      "Epoch 56/100\n",
      "\u001b[1m30/30\u001b[0m \u001b[32m━━━━━━━━━━━━━━━━━━━━\u001b[0m\u001b[37m\u001b[0m \u001b[1m0s\u001b[0m 12ms/step - MulticlassKR: 2.4478 - accuracy: 0.9637 - loss: -2.0334 - val_MulticlassKR: 2.4852 - val_accuracy: 0.9670 - val_loss: -2.0684\n",
      "Epoch 57/100\n",
      "\u001b[1m30/30\u001b[0m \u001b[32m━━━━━━━━━━━━━━━━━━━━\u001b[0m\u001b[37m\u001b[0m \u001b[1m0s\u001b[0m 12ms/step - MulticlassKR: 2.4482 - accuracy: 0.9643 - loss: -2.0390 - val_MulticlassKR: 2.4813 - val_accuracy: 0.9683 - val_loss: -2.0821\n",
      "Epoch 58/100\n",
      "\u001b[1m30/30\u001b[0m \u001b[32m━━━━━━━━━━━━━━━━━━━━\u001b[0m\u001b[37m\u001b[0m \u001b[1m0s\u001b[0m 12ms/step - MulticlassKR: 2.4452 - accuracy: 0.9656 - loss: -2.0341 - val_MulticlassKR: 2.4983 - val_accuracy: 0.9667 - val_loss: -2.0552\n",
      "Epoch 59/100\n",
      "\u001b[1m30/30\u001b[0m \u001b[32m━━━━━━━━━━━━━━━━━━━━\u001b[0m\u001b[37m\u001b[0m \u001b[1m0s\u001b[0m 12ms/step - MulticlassKR: 2.4578 - accuracy: 0.9652 - loss: -2.0472 - val_MulticlassKR: 2.4913 - val_accuracy: 0.9639 - val_loss: -2.0702\n",
      "Epoch 60/100\n",
      "\u001b[1m30/30\u001b[0m \u001b[32m━━━━━━━━━━━━━━━━━━━━\u001b[0m\u001b[37m\u001b[0m \u001b[1m0s\u001b[0m 12ms/step - MulticlassKR: 2.4471 - accuracy: 0.9649 - loss: -2.0305 - val_MulticlassKR: 2.4897 - val_accuracy: 0.9660 - val_loss: -2.0653\n",
      "Epoch 61/100\n",
      "\u001b[1m30/30\u001b[0m \u001b[32m━━━━━━━━━━━━━━━━━━━━\u001b[0m\u001b[37m\u001b[0m \u001b[1m0s\u001b[0m 12ms/step - MulticlassKR: 2.4520 - accuracy: 0.9630 - loss: -2.0288 - val_MulticlassKR: 2.4922 - val_accuracy: 0.9644 - val_loss: -2.0581\n",
      "Epoch 62/100\n",
      "\u001b[1m30/30\u001b[0m \u001b[32m━━━━━━━━━━━━━━━━━━━━\u001b[0m\u001b[37m\u001b[0m \u001b[1m0s\u001b[0m 12ms/step - MulticlassKR: 2.4480 - accuracy: 0.9633 - loss: -2.0149 - val_MulticlassKR: 2.4938 - val_accuracy: 0.9672 - val_loss: -2.0884\n",
      "Epoch 63/100\n",
      "\u001b[1m30/30\u001b[0m \u001b[32m━━━━━━━━━━━━━━━━━━━━\u001b[0m\u001b[37m\u001b[0m \u001b[1m0s\u001b[0m 12ms/step - MulticlassKR: 2.4569 - accuracy: 0.9647 - loss: -2.0313 - val_MulticlassKR: 2.4951 - val_accuracy: 0.9677 - val_loss: -2.0616\n",
      "Epoch 64/100\n",
      "\u001b[1m30/30\u001b[0m \u001b[32m━━━━━━━━━━━━━━━━━━━━\u001b[0m\u001b[37m\u001b[0m \u001b[1m0s\u001b[0m 12ms/step - MulticlassKR: 2.4511 - accuracy: 0.9643 - loss: -2.0145 - val_MulticlassKR: 2.4990 - val_accuracy: 0.9665 - val_loss: -2.0800\n",
      "Epoch 65/100\n",
      "\u001b[1m30/30\u001b[0m \u001b[32m━━━━━━━━━━━━━━━━━━━━\u001b[0m\u001b[37m\u001b[0m \u001b[1m0s\u001b[0m 12ms/step - MulticlassKR: 2.4601 - accuracy: 0.9633 - loss: -2.0443 - val_MulticlassKR: 2.5004 - val_accuracy: 0.9679 - val_loss: -2.0927\n",
      "Epoch 66/100\n",
      "\u001b[1m30/30\u001b[0m \u001b[32m━━━━━━━━━━━━━━━━━━━━\u001b[0m\u001b[37m\u001b[0m \u001b[1m0s\u001b[0m 12ms/step - MulticlassKR: 2.4642 - accuracy: 0.9640 - loss: -2.0416 - val_MulticlassKR: 2.4976 - val_accuracy: 0.9679 - val_loss: -2.0803\n",
      "Epoch 67/100\n",
      "\u001b[1m30/30\u001b[0m \u001b[32m━━━━━━━━━━━━━━━━━━━━\u001b[0m\u001b[37m\u001b[0m \u001b[1m0s\u001b[0m 12ms/step - MulticlassKR: 2.4618 - accuracy: 0.9649 - loss: -2.0369 - val_MulticlassKR: 2.5031 - val_accuracy: 0.9679 - val_loss: -2.0982\n",
      "Epoch 68/100\n",
      "\u001b[1m30/30\u001b[0m \u001b[32m━━━━━━━━━━━━━━━━━━━━\u001b[0m\u001b[37m\u001b[0m \u001b[1m0s\u001b[0m 12ms/step - MulticlassKR: 2.4608 - accuracy: 0.9649 - loss: -2.0469 - val_MulticlassKR: 2.5027 - val_accuracy: 0.9665 - val_loss: -2.0961\n",
      "Epoch 69/100\n",
      "\u001b[1m30/30\u001b[0m \u001b[32m━━━━━━━━━━━━━━━━━━━━\u001b[0m\u001b[37m\u001b[0m \u001b[1m0s\u001b[0m 12ms/step - MulticlassKR: 2.4652 - accuracy: 0.9642 - loss: -2.0378 - val_MulticlassKR: 2.5009 - val_accuracy: 0.9680 - val_loss: -2.0875\n",
      "Epoch 70/100\n",
      "\u001b[1m30/30\u001b[0m \u001b[32m━━━━━━━━━━━━━━━━━━━━\u001b[0m\u001b[37m\u001b[0m \u001b[1m0s\u001b[0m 12ms/step - MulticlassKR: 2.4724 - accuracy: 0.9645 - loss: -2.0472 - val_MulticlassKR: 2.5055 - val_accuracy: 0.9657 - val_loss: -2.1005\n",
      "Epoch 71/100\n",
      "\u001b[1m30/30\u001b[0m \u001b[32m━━━━━━━━━━━━━━━━━━━━\u001b[0m\u001b[37m\u001b[0m \u001b[1m0s\u001b[0m 12ms/step - MulticlassKR: 2.4692 - accuracy: 0.9647 - loss: -2.0532 - val_MulticlassKR: 2.5090 - val_accuracy: 0.9649 - val_loss: -2.0757\n",
      "Epoch 72/100\n",
      "\u001b[1m30/30\u001b[0m \u001b[32m━━━━━━━━━━━━━━━━━━━━\u001b[0m\u001b[37m\u001b[0m \u001b[1m0s\u001b[0m 12ms/step - MulticlassKR: 2.4608 - accuracy: 0.9646 - loss: -2.0278 - val_MulticlassKR: 2.5085 - val_accuracy: 0.9674 - val_loss: -2.0931\n",
      "Epoch 73/100\n",
      "\u001b[1m30/30\u001b[0m \u001b[32m━━━━━━━━━━━━━━━━━━━━\u001b[0m\u001b[37m\u001b[0m \u001b[1m0s\u001b[0m 12ms/step - MulticlassKR: 2.4755 - accuracy: 0.9651 - loss: -2.0543 - val_MulticlassKR: 2.5105 - val_accuracy: 0.9665 - val_loss: -2.0890\n",
      "Epoch 74/100\n",
      "\u001b[1m30/30\u001b[0m \u001b[32m━━━━━━━━━━━━━━━━━━━━\u001b[0m\u001b[37m\u001b[0m \u001b[1m0s\u001b[0m 12ms/step - MulticlassKR: 2.4706 - accuracy: 0.9640 - loss: -2.0571 - val_MulticlassKR: 2.5191 - val_accuracy: 0.9648 - val_loss: -2.0506\n",
      "Epoch 75/100\n",
      "\u001b[1m30/30\u001b[0m \u001b[32m━━━━━━━━━━━━━━━━━━━━\u001b[0m\u001b[37m\u001b[0m \u001b[1m0s\u001b[0m 12ms/step - MulticlassKR: 2.4823 - accuracy: 0.9645 - loss: -2.0544 - val_MulticlassKR: 2.5090 - val_accuracy: 0.9673 - val_loss: -2.1054\n",
      "Epoch 76/100\n",
      "\u001b[1m30/30\u001b[0m \u001b[32m━━━━━━━━━━━━━━━━━━━━\u001b[0m\u001b[37m\u001b[0m \u001b[1m0s\u001b[0m 12ms/step - MulticlassKR: 2.4757 - accuracy: 0.9643 - loss: -2.0350 - val_MulticlassKR: 2.5218 - val_accuracy: 0.9630 - val_loss: -2.0770\n",
      "Epoch 77/100\n",
      "\u001b[1m30/30\u001b[0m \u001b[32m━━━━━━━━━━━━━━━━━━━━\u001b[0m\u001b[37m\u001b[0m \u001b[1m0s\u001b[0m 12ms/step - MulticlassKR: 2.4787 - accuracy: 0.9657 - loss: -2.0580 - val_MulticlassKR: 2.5172 - val_accuracy: 0.9638 - val_loss: -2.0593\n",
      "Epoch 78/100\n",
      "\u001b[1m30/30\u001b[0m \u001b[32m━━━━━━━━━━━━━━━━━━━━\u001b[0m\u001b[37m\u001b[0m \u001b[1m0s\u001b[0m 12ms/step - MulticlassKR: 2.4755 - accuracy: 0.9630 - loss: -2.0469 - val_MulticlassKR: 2.5241 - val_accuracy: 0.9671 - val_loss: -2.1052\n",
      "Epoch 79/100\n",
      "\u001b[1m30/30\u001b[0m \u001b[32m━━━━━━━━━━━━━━━━━━━━\u001b[0m\u001b[37m\u001b[0m \u001b[1m0s\u001b[0m 12ms/step - MulticlassKR: 2.4826 - accuracy: 0.9640 - loss: -2.0588 - val_MulticlassKR: 2.5123 - val_accuracy: 0.9667 - val_loss: -2.0912\n",
      "Epoch 80/100\n",
      "\u001b[1m30/30\u001b[0m \u001b[32m━━━━━━━━━━━━━━━━━━━━\u001b[0m\u001b[37m\u001b[0m \u001b[1m0s\u001b[0m 12ms/step - MulticlassKR: 2.4787 - accuracy: 0.9660 - loss: -2.0613 - val_MulticlassKR: 2.5232 - val_accuracy: 0.9634 - val_loss: -2.0657\n",
      "Epoch 81/100\n",
      "\u001b[1m30/30\u001b[0m \u001b[32m━━━━━━━━━━━━━━━━━━━━\u001b[0m\u001b[37m\u001b[0m \u001b[1m0s\u001b[0m 12ms/step - MulticlassKR: 2.4762 - accuracy: 0.9637 - loss: -2.0293 - val_MulticlassKR: 2.5251 - val_accuracy: 0.9654 - val_loss: -2.0812\n",
      "Epoch 82/100\n",
      "\u001b[1m30/30\u001b[0m \u001b[32m━━━━━━━━━━━━━━━━━━━━\u001b[0m\u001b[37m\u001b[0m \u001b[1m0s\u001b[0m 12ms/step - MulticlassKR: 2.4834 - accuracy: 0.9642 - loss: -2.0654 - val_MulticlassKR: 2.5276 - val_accuracy: 0.9659 - val_loss: -2.0898\n",
      "Epoch 83/100\n",
      "\u001b[1m30/30\u001b[0m \u001b[32m━━━━━━━━━━━━━━━━━━━━\u001b[0m\u001b[37m\u001b[0m \u001b[1m0s\u001b[0m 12ms/step - MulticlassKR: 2.4889 - accuracy: 0.9651 - loss: -2.0691 - val_MulticlassKR: 2.5242 - val_accuracy: 0.9662 - val_loss: -2.0921\n",
      "Epoch 84/100\n",
      "\u001b[1m30/30\u001b[0m \u001b[32m━━━━━━━━━━━━━━━━━━━━\u001b[0m\u001b[37m\u001b[0m \u001b[1m0s\u001b[0m 12ms/step - MulticlassKR: 2.4854 - accuracy: 0.9651 - loss: -2.0670 - val_MulticlassKR: 2.5319 - val_accuracy: 0.9650 - val_loss: -2.1029\n",
      "Epoch 85/100\n",
      "\u001b[1m30/30\u001b[0m \u001b[32m━━━━━━━━━━━━━━━━━━━━\u001b[0m\u001b[37m\u001b[0m \u001b[1m0s\u001b[0m 12ms/step - MulticlassKR: 2.4869 - accuracy: 0.9637 - loss: -2.0553 - val_MulticlassKR: 2.5168 - val_accuracy: 0.9651 - val_loss: -2.0804\n",
      "Epoch 86/100\n",
      "\u001b[1m30/30\u001b[0m \u001b[32m━━━━━━━━━━━━━━━━━━━━\u001b[0m\u001b[37m\u001b[0m \u001b[1m0s\u001b[0m 12ms/step - MulticlassKR: 2.4810 - accuracy: 0.9632 - loss: -2.0504 - val_MulticlassKR: 2.5285 - val_accuracy: 0.9659 - val_loss: -2.0882\n",
      "Epoch 87/100\n",
      "\u001b[1m30/30\u001b[0m \u001b[32m━━━━━━━━━━━━━━━━━━━━\u001b[0m\u001b[37m\u001b[0m \u001b[1m0s\u001b[0m 12ms/step - MulticlassKR: 2.4964 - accuracy: 0.9650 - loss: -2.0875 - val_MulticlassKR: 2.5259 - val_accuracy: 0.9663 - val_loss: -2.1183\n",
      "Epoch 88/100\n",
      "\u001b[1m30/30\u001b[0m \u001b[32m━━━━━━━━━━━━━━━━━━━━\u001b[0m\u001b[37m\u001b[0m \u001b[1m0s\u001b[0m 12ms/step - MulticlassKR: 2.4862 - accuracy: 0.9641 - loss: -2.0594 - val_MulticlassKR: 2.5339 - val_accuracy: 0.9673 - val_loss: -2.0821\n",
      "Epoch 89/100\n",
      "\u001b[1m30/30\u001b[0m \u001b[32m━━━━━━━━━━━━━━━━━━━━\u001b[0m\u001b[37m\u001b[0m \u001b[1m0s\u001b[0m 12ms/step - MulticlassKR: 2.4899 - accuracy: 0.9644 - loss: -2.0706 - val_MulticlassKR: 2.5294 - val_accuracy: 0.9672 - val_loss: -2.1173\n",
      "Epoch 90/100\n",
      "\u001b[1m30/30\u001b[0m \u001b[32m━━━━━━━━━━━━━━━━━━━━\u001b[0m\u001b[37m\u001b[0m \u001b[1m0s\u001b[0m 12ms/step - MulticlassKR: 2.4878 - accuracy: 0.9648 - loss: -2.0664 - val_MulticlassKR: 2.5329 - val_accuracy: 0.9652 - val_loss: -2.1055\n",
      "Epoch 91/100\n",
      "\u001b[1m30/30\u001b[0m \u001b[32m━━━━━━━━━━━━━━━━━━━━\u001b[0m\u001b[37m\u001b[0m \u001b[1m0s\u001b[0m 12ms/step - MulticlassKR: 2.4956 - accuracy: 0.9644 - loss: -2.0743 - val_MulticlassKR: 2.5255 - val_accuracy: 0.9679 - val_loss: -2.1147\n",
      "Epoch 92/100\n",
      "\u001b[1m30/30\u001b[0m \u001b[32m━━━━━━━━━━━━━━━━━━━━\u001b[0m\u001b[37m\u001b[0m \u001b[1m0s\u001b[0m 12ms/step - MulticlassKR: 2.4914 - accuracy: 0.9633 - loss: -2.0593 - val_MulticlassKR: 2.5289 - val_accuracy: 0.9676 - val_loss: -2.0995\n",
      "Epoch 93/100\n",
      "\u001b[1m30/30\u001b[0m \u001b[32m━━━━━━━━━━━━━━━━━━━━\u001b[0m\u001b[37m\u001b[0m \u001b[1m0s\u001b[0m 12ms/step - MulticlassKR: 2.4806 - accuracy: 0.9632 - loss: -2.0486 - val_MulticlassKR: 2.5369 - val_accuracy: 0.9640 - val_loss: -2.0961\n",
      "Epoch 94/100\n",
      "\u001b[1m30/30\u001b[0m \u001b[32m━━━━━━━━━━━━━━━━━━━━\u001b[0m\u001b[37m\u001b[0m \u001b[1m0s\u001b[0m 12ms/step - MulticlassKR: 2.5022 - accuracy: 0.9646 - loss: -2.0792 - val_MulticlassKR: 2.5317 - val_accuracy: 0.9675 - val_loss: -2.1199\n",
      "Epoch 95/100\n",
      "\u001b[1m30/30\u001b[0m \u001b[32m━━━━━━━━━━━━━━━━━━━━\u001b[0m\u001b[37m\u001b[0m \u001b[1m0s\u001b[0m 12ms/step - MulticlassKR: 2.4956 - accuracy: 0.9661 - loss: -2.0852 - val_MulticlassKR: 2.5343 - val_accuracy: 0.9657 - val_loss: -2.1048\n",
      "Epoch 96/100\n",
      "\u001b[1m30/30\u001b[0m \u001b[32m━━━━━━━━━━━━━━━━━━━━\u001b[0m\u001b[37m\u001b[0m \u001b[1m0s\u001b[0m 12ms/step - MulticlassKR: 2.5003 - accuracy: 0.9664 - loss: -2.0906 - val_MulticlassKR: 2.5302 - val_accuracy: 0.9658 - val_loss: -2.1140\n",
      "Epoch 97/100\n",
      "\u001b[1m30/30\u001b[0m \u001b[32m━━━━━━━━━━━━━━━━━━━━\u001b[0m\u001b[37m\u001b[0m \u001b[1m0s\u001b[0m 12ms/step - MulticlassKR: 2.4915 - accuracy: 0.9633 - loss: -2.0604 - val_MulticlassKR: 2.5367 - val_accuracy: 0.9660 - val_loss: -2.1179\n",
      "Epoch 98/100\n",
      "\u001b[1m30/30\u001b[0m \u001b[32m━━━━━━━━━━━━━━━━━━━━\u001b[0m\u001b[37m\u001b[0m \u001b[1m0s\u001b[0m 12ms/step - MulticlassKR: 2.5022 - accuracy: 0.9632 - loss: -2.0621 - val_MulticlassKR: 2.5393 - val_accuracy: 0.9677 - val_loss: -2.1171\n",
      "Epoch 99/100\n",
      "\u001b[1m30/30\u001b[0m \u001b[32m━━━━━━━━━━━━━━━━━━━━\u001b[0m\u001b[37m\u001b[0m \u001b[1m0s\u001b[0m 12ms/step - MulticlassKR: 2.4967 - accuracy: 0.9633 - loss: -2.0641 - val_MulticlassKR: 2.5415 - val_accuracy: 0.9669 - val_loss: -2.1140\n",
      "Epoch 100/100\n",
      "\u001b[1m30/30\u001b[0m \u001b[32m━━━━━━━━━━━━━━━━━━━━\u001b[0m\u001b[37m\u001b[0m \u001b[1m0s\u001b[0m 12ms/step - MulticlassKR: 2.5054 - accuracy: 0.9649 - loss: -2.0752 - val_MulticlassKR: 2.5358 - val_accuracy: 0.9673 - val_loss: -2.1001\n"
     ]
    },
    {
     "data": {
      "text/plain": [
       "<keras.src.callbacks.history.History at 0x7f9028cb2440>"
      ]
     },
     "execution_count": 9,
     "metadata": {},
     "output_type": "execute_result"
    }
   ],
   "source": [
    "# fit the model\n",
    "model.fit(\n",
    "    x_train,\n",
    "    y_train,\n",
    "    batch_size=2048,\n",
    "    epochs=100,\n",
    "    validation_data=(x_test, y_test),\n",
    "    shuffle=True,\n",
    ")"
   ]
  },
  {
   "cell_type": "code",
   "execution_count": 13,
   "metadata": {},
   "outputs": [
    {
     "name": "stdout",
     "output_type": "stream",
     "text": [
      "\u001b[1m313/313\u001b[0m \u001b[32m━━━━━━━━━━━━━━━━━━━━\u001b[0m\u001b[37m\u001b[0m \u001b[1m1s\u001b[0m 2ms/step - MulticlassKR: 2.4034 - accuracy: 0.9600 - loss: -1.9218\n"
     ]
    },
    {
     "data": {
      "text/plain": [
       "[-2.073857307434082, 0.9672999978065491, 2.5064444541931152]"
      ]
     },
     "execution_count": 13,
     "metadata": {},
     "output_type": "execute_result"
    }
   ],
   "source": [
    "vanilla_model.evaluate(x_test, y_test)"
   ]
  },
  {
   "cell_type": "code",
   "execution_count": 10,
   "metadata": {},
   "outputs": [],
   "source": [
    "\n",
    "# once training is finished you can convert\n",
    "# SpectralDense layers into Dense layers and SpectralConv2D into Conv2D\n",
    "# which optimize performance for inference\n",
    "vanilla_model = model.vanilla_export()"
   ]
  },
  {
   "cell_type": "code",
   "execution_count": 11,
   "metadata": {},
   "outputs": [],
   "source": [
    "model.save('/home/aws_install/robustess_project/lip_models/demo0_MNIST_channelfirst_False_disj_Neurons.keras')\n",
    "vanilla_model.save(\"/home/aws_install/robustess_project/lip_models/demo0_vanilla_MNIST_channelfirst_False_disj_Neurons.keras\")"
   ]
  }
 ],
 "metadata": {
  "kernelspec": {
   "display_name": "k3tfenv",
   "language": "python",
   "name": "python3"
  },
  "language_info": {
   "codemirror_mode": {
    "name": "ipython",
    "version": 3
   },
   "file_extension": ".py",
   "mimetype": "text/x-python",
   "name": "python",
   "nbconvert_exporter": "python",
   "pygments_lexer": "ipython3",
   "version": "3.10.16"
  }
 },
 "nbformat": 4,
 "nbformat_minor": 4
}
