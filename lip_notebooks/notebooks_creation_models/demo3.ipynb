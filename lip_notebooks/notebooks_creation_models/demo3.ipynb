{
 "cells": [
  {
   "cell_type": "markdown",
   "metadata": {},
   "source": [
    "## Demo 3: HKR classifier on MNIST dataset\n",
    "\n",
    "[![Open In Colab](https://colab.research.google.com/assets/colab-badge.svg)](https://colab.research.google.com/github/deel-ai/deel-lip/blob/master/docs/notebooks/demo3.ipynb)\n",
    "\n",
    "This notebook will demonstrate learning a binary task on the MNIST0-8 dataset.\n"
   ]
  },
  {
   "cell_type": "code",
   "execution_count": 1,
   "metadata": {},
   "outputs": [],
   "source": [
    "import os\n",
    "os.environ[\"KERAS_BACKEND\"] = \"tensorflow\""
   ]
  },
  {
   "cell_type": "code",
   "execution_count": 2,
   "metadata": {},
   "outputs": [],
   "source": [
    "# pip install git+https://github.com/deel-ai/deel-lip.git@keras3 -qqq"
   ]
  },
  {
   "cell_type": "code",
   "execution_count": 2,
   "metadata": {},
   "outputs": [
    {
     "name": "stderr",
     "output_type": "stream",
     "text": [
      "2025-04-16 10:28:38.382025: E external/local_xla/xla/stream_executor/cuda/cuda_fft.cc:477] Unable to register cuFFT factory: Attempting to register factory for plugin cuFFT when one has already been registered\n",
      "WARNING: All log messages before absl::InitializeLog() is called are written to STDERR\n",
      "E0000 00:00:1744792118.628553    7511 cuda_dnn.cc:8310] Unable to register cuDNN factory: Attempting to register factory for plugin cuDNN when one has already been registered\n",
      "E0000 00:00:1744792118.699599    7511 cuda_blas.cc:1418] Unable to register cuBLAS factory: Attempting to register factory for plugin cuBLAS when one has already been registered\n",
      "2025-04-16 10:28:39.374463: I tensorflow/core/platform/cpu_feature_guard.cc:210] This TensorFlow binary is optimized to use available CPU instructions in performance-critical operations.\n",
      "To enable the following instructions: AVX2 FMA, in other operations, rebuild TensorFlow with the appropriate compiler flags.\n"
     ]
    }
   ],
   "source": [
    "import keras\n",
    "import keras.ops as K\n",
    "from keras.layers import Input, Flatten, Dense\n",
    "from keras.optimizers import Adam\n",
    "from keras.metrics import BinaryAccuracy\n",
    "\n",
    "# from keras.models import Sequential\n",
    "from deel.lip.model import Sequential\n",
    "\n",
    "from deel.lip.layers import (\n",
    "    SpectralDense,\n",
    "    SpectralConv2D,\n",
    "    ScaledL2NormPooling2D,\n",
    "    FrobeniusDense,\n",
    ")\n",
    "from deel.lip.activations import GroupSort, GroupSort2\n",
    "from deel.lip.losses import HKR, KR, HingeMargin, MulticlassHKR, MulticlassKR\n",
    "\n",
    "import numpy as np"
   ]
  },
  {
   "cell_type": "markdown",
   "metadata": {},
   "source": [
    "### Data preparation\n",
    "\n",
    "For this task we will select two classes: 0 and 8."
   ]
  },
  {
   "cell_type": "code",
   "execution_count": 3,
   "metadata": {},
   "outputs": [
    {
     "name": "stdout",
     "output_type": "stream",
     "text": [
      "(11774, 28, 28, 1) (11774,)\n",
      "(1954, 28, 28, 1) (1954,)\n"
     ]
    }
   ],
   "source": [
    "from keras.datasets import mnist\n",
    "from keras.utils import to_categorical\n",
    "\n",
    "# first we select the two classes\n",
    "selected_classes = [0, 8]  # must be two classes as we perform binary classification\n",
    "\n",
    "\n",
    "def prepare_data(x, y, class_a=0, class_b=8):\n",
    "    \"\"\"\n",
    "    This function convert the MNIST data to make it suitable for our binary classification\n",
    "    setup.\n",
    "    \"\"\"\n",
    "    # select items from the two selected classes\n",
    "    mask = (y == class_a) + (\n",
    "        y == class_b\n",
    "    )  # mask to select only items from class_a or class_b\n",
    "    x = x[mask]\n",
    "    y = y[mask]\n",
    "    x = x.astype(\"float32\")\n",
    "    y = y.astype(\"float32\")\n",
    "    # convert from range int[0,255] to float32[-1,1]\n",
    "    x /= 255\n",
    "    x = x.reshape((-1, 28, 28, 1))\n",
    "    # change label to binary classification {-1,1}\n",
    "    y[y == class_a] = 1.0\n",
    "    y[y == class_b] = 0.0\n",
    "    print(x.shape, y.shape)\n",
    "    return x, y.reshape((-1, 1))\n",
    "\n",
    "\n",
    "# now we load the dataset\n",
    "(x_train, y_train_ord), (x_test, y_test_ord) = mnist.load_data()\n",
    "\n",
    "# prepare the data\n",
    "x_train, y_train = prepare_data(\n",
    "    x_train, y_train_ord, selected_classes[0], selected_classes[1]\n",
    ")\n",
    "x_test, y_test = prepare_data(\n",
    "    x_test, y_test_ord, selected_classes[0], selected_classes[1]\n",
    ")\n",
    "y_test = to_categorical(y_test)\n",
    "y_train = to_categorical(y_train)"
   ]
  },
  {
   "cell_type": "code",
   "execution_count": 4,
   "metadata": {},
   "outputs": [],
   "source": [
    "x_train = np.transpose(x_train,(0,3,1,2))\n",
    "x_test = np.transpose(x_test,(0,3,1,2))"
   ]
  },
  {
   "cell_type": "code",
   "execution_count": null,
   "metadata": {},
   "outputs": [],
   "source": [
    "import os\n",
    "# Optionnel : Spécifier le backend Keras (si nécessaire)\n",
    "# os.environ[\"KERAS_BACKEND\"] = \"tensorflow\" # ou \"jax\" ou \"torch\"\n",
    "\n",
    "import keras\n",
    "from keras import layers\n",
    "import keras.ops # API Keras 3 pour opérations backend-agnostiques\n",
    "import numpy as np\n",
    "import tensorflow as tf # Nécessaire pour tf.GradientTape\n",
    "\n",
    "# --- Étape 1 : Définir ou Charger votre Modèle Original (avec 1 logit) ---\n",
    "# REMPLACEZ CECI par la définition ou le chargement de VOTRE modèle original.\n",
    "def create_original_single_logit_model(input_shape):\n",
    "    inputs = keras.Input(shape=input_shape)\n",
    "    x = layers.Flatten()(inputs)\n",
    "    x = layers.Dense(64, activation=\"relu\")(x)\n",
    "    x = layers.Dense(32, activation=\"relu\")(x)\n",
    "    single_logit_output = layers.Dense(1, name=\"single_logit\")(x)\n",
    "    model = keras.Model(inputs=inputs, outputs=single_logit_output, name=\"original_model\")\n",
    "    return model\n",
    "\n",
    "# --- Étape 2 : Fonction pour convertir le modèle à 2 logits [-z, z] ---\n",
    "def convert_to_reflected_two_logits_model(original_model):\n",
    "    \"\"\"\n",
    "    Prend un modèle Keras qui sort un seul logit (z) et retourne un nouveau\n",
    "    modèle qui sort deux logits [-z, z].\n",
    "    \"\"\"\n",
    "    inputs = original_model.input\n",
    "    single_logit_output = original_model.output # Sortie z, forme (batch, 1)\n",
    "\n",
    "    # Calculer -z en utilisant Keras Ops\n",
    "    neg_logit = keras.ops.negative(single_logit_output) # Forme (batch, 1)\n",
    "\n",
    "    # Concaténer [-z, z] en utilisant une couche Keras ou Keras Ops\n",
    "    # Utilisons keras.layers.Concatenate pour rester dans le style API Fonctionnelle\n",
    "    two_logits_output = layers.Concatenate(axis=-1, name=\"reflected_two_logits\")([neg_logit, single_logit_output]) # Forme (batch, 2)\n",
    "\n",
    "    # Créer le nouveau modèle\n",
    "    new_model = keras.Model(inputs=inputs, outputs=two_logits_output, name=\"reflected_two_logits_model\")\n",
    "    return new_model\n",
    "\n",
    "# --- Étape 3 : Implémentation de l'attaque FGSM (en utilisant Keras Ops autant que possible) ---\n",
    "\n",
    "# Perte pour le modèle à 2 logits. La classe prédite sera argmax(logits).\n",
    "# SparseCategoricalCrossentropy convient car les labels sont 0 ou 1.\n",
    "# Important: from_logits=True\n",
    "loss_object = keras.losses.SparseCategoricalCrossentropy(from_logits=True)\n",
    "\n",
    "def fgsm_attack_keras_ops(model_two_logits, image, label, epsilon):\n",
    "    \"\"\"\n",
    "    Génère une image adverse via FGSM, en utilisant Keras Ops lorsque possible.\n",
    "    Nécessite tf.GradientTape pour le calcul du gradient sur l'entrée.\n",
    "\n",
    "    Args:\n",
    "        model_two_logits: Le modèle Keras modifié avec 2 sorties logits [-z, z].\n",
    "        image: L'image d'entrée (tenseur, ex: (1, H, W, C)).\n",
    "        label: Le vrai label (entier, 0 ou 1).\n",
    "        epsilon: Le pas de l'attaque FGSM.\n",
    "\n",
    "    Returns:\n",
    "        Un tenseur (via Keras Ops) représentant l'image adverse.\n",
    "    \"\"\"\n",
    "    # Convertir l'image en tenseur (Keras Ops peut gérer np.array, tf.Tensor, etc.)\n",
    "    image_tensor = keras.ops.convert_to_tensor(image, dtype=\"float32\")\n",
    "    label_tensor = keras.ops.convert_to_tensor([label]) # Format Batch pour la perte\n",
    "\n",
    "    # === Début de la section dépendante du backend (TensorFlow ici) ===\n",
    "    with tf.GradientTape() as tape:\n",
    "        tape.watch(image_tensor) # Surveiller l'image pour le gradient\n",
    "        prediction = model_two_logits(image_tensor, training=False) # Obtenir les logits [-z, z]\n",
    "        loss = loss_object(label_tensor, prediction) # Calculer la perte\n",
    "    # Obtenir le gradient (via le backend)\n",
    "    gradient = tape.gradient(loss, image_tensor)\n",
    "    # === Fin de la section dépendante du backend ===\n",
    "\n",
    "    # Utiliser Keras Ops pour la suite\n",
    "    signed_grad = keras.ops.sign(gradient)\n",
    "    adversarial_image = image_tensor + epsilon * signed_grad\n",
    "    # Clipper l'image (adaptez les bornes si nécessaire)\n",
    "    adversarial_image = keras.ops.clip(adversarial_image, 0, 1)\n",
    "\n",
    "    return adversarial_image # Ceci est un tenseur du backend (ex: tf.Tensor)\n",
    "\n",
    "# --- Exemple d'utilisation ---\n",
    "\n",
    "# Définir la forme d'entrée\n",
    "input_shape = (28, 28, 1)\n",
    "\n",
    "# 1. Créer/Charger le modèle original\n",
    "original_model = create_original_single_logit_model(input_shape)\n",
    "print(\"Résumé du modèle original (1 logit) :\")\n",
    "original_model.summary()\n",
    "print(\"-\" * 30)\n",
    "\n",
    "# 2. Convertir en modèle à 2 logits [-z, z]\n",
    "reflected_two_logits_model = convert_to_reflected_two_logits_model(original_model)\n",
    "print(\"Résumé du modèle modifié (2 logits [-z, z]) :\")\n",
    "reflected_two_logits_model.summary()\n",
    "print(\"-\" * 30)\n",
    "\n",
    "# 3. Générer une image et un label factices\n",
    "dummy_image = np.random.rand(1, *input_shape).astype(np.float32)\n",
    "dummy_label = np.random.randint(0, 2)\n",
    "\n",
    "# Afficher la prédiction du modèle original (pour comparaison)\n",
    "original_logit = original_model.predict(dummy_image)\n",
    "original_prob = tf.nn.sigmoid(original_logit).numpy() # Probabilité via Sigmoid\n",
    "print(f\"Logit original z: {original_logit[0, 0]:.4f}\")\n",
    "print(f\"Probabilité originale P(classe=1): {original_prob[0, 0]:.4f}\")\n",
    "print(\"-\" * 30)\n",
    "\n",
    "# Afficher la prédiction du nouveau modèle\n",
    "reflected_logits = reflected_two_logits_model.predict(dummy_image)\n",
    "predicted_class = keras.ops.argmax(reflected_logits, axis=-1) # argmax([-z, z])\n",
    "print(f\"Logits réfléchis [-z, z]: [{reflected_logits[0, 0]:.4f}, {reflected_logits[0, 1]:.4f}]\")\n",
    "# Utilisation de keras.ops.convert_to_numpy pour obtenir la valeur\n",
    "print(f\"Classe prédite par argmax([-z, z]): {keras.ops.convert_to_numpy(predicted_class)[0]}\")\n",
    "print(\"-\" * 30)\n",
    "\n",
    "# 4. Paramètres de l'attaque\n",
    "epsilon = 0.05\n",
    "\n",
    "# 5. Générer l'image adverse\n",
    "adversarial_example = fgsm_attack_keras_ops(reflected_two_logits_model, dummy_image, dummy_label, epsilon)\n",
    "# Keras ops renvoie un tenseur, convertissons-le en numpy pour l'affichage si nécessaire\n",
    "adversarial_example_np = keras.ops.convert_to_numpy(adversarial_example)\n",
    "\n",
    "print(f\"Image originale (forme) : {dummy_image.shape}\")\n",
    "print(f\"Label original : {dummy_label}\")\n",
    "print(f\"Image adverse générée (forme) : {adversarial_example_np.shape}\")\n",
    "\n",
    "# 6. Vérifier la prédiction sur l'image adverse\n",
    "adversarial_logits = reflected_two_logits_model.predict(adversarial_example)\n",
    "adversarial_predicted_class = keras.ops.argmax(adversarial_logits, axis=-1)\n",
    "print(f\"Logits sur image adverse [-z, z]: [{adversarial_logits[0, 0]:.4f}, {adversarial_logits[0, 1]:.4f}]\")\n",
    "print(f\"Classe prédite sur image adverse: {keras.ops.convert_to_numpy(adversarial_predicted_class)[0]}\")"
   ]
  },
  {
   "cell_type": "markdown",
   "metadata": {},
   "source": [
    "### Build 1-Lipschitz Model\n",
    "\n",
    "Let's first explicit the paremeters of this experiment\n"
   ]
  },
  {
   "cell_type": "markdown",
   "metadata": {},
   "source": [
    "Now we can build the network. Here the experiment is done with a MLP. But `deel-lip`\n",
    "also provide state of the art 1-Lipschitz convolutions.\n"
   ]
  },
  {
   "cell_type": "code",
   "execution_count": 5,
   "metadata": {},
   "outputs": [
    {
     "name": "stderr",
     "output_type": "stream",
     "text": [
      "I0000 00:00:1744792213.110150    7511 gpu_device.cc:2022] Created device /job:localhost/replica:0/task:0/device:GPU:0 with 20710 MB memory:  -> device: 0, name: NVIDIA A10G, pci bus id: 0000:00:1e.0, compute capability: 8.6\n"
     ]
    },
    {
     "data": {
      "text/html": [
       "<pre style=\"white-space:pre;overflow-x:auto;line-height:normal;font-family:Menlo,'DejaVu Sans Mono',consolas,'Courier New',monospace\"><span style=\"font-weight: bold\">Model: \"lipModel\"</span>\n",
       "</pre>\n"
      ],
      "text/plain": [
       "\u001b[1mModel: \"lipModel\"\u001b[0m\n"
      ]
     },
     "metadata": {},
     "output_type": "display_data"
    },
    {
     "data": {
      "text/html": [
       "<pre style=\"white-space:pre;overflow-x:auto;line-height:normal;font-family:Menlo,'DejaVu Sans Mono',consolas,'Courier New',monospace\">┏━━━━━━━━━━━━━━━━━━━━━━━━━━━━━━━━━┳━━━━━━━━━━━━━━━━━━━━━━━━┳━━━━━━━━━━━━━━━┓\n",
       "┃<span style=\"font-weight: bold\"> Layer (type)                    </span>┃<span style=\"font-weight: bold\"> Output Shape           </span>┃<span style=\"font-weight: bold\">       Param # </span>┃\n",
       "┡━━━━━━━━━━━━━━━━━━━━━━━━━━━━━━━━━╇━━━━━━━━━━━━━━━━━━━━━━━━╇━━━━━━━━━━━━━━━┩\n",
       "│ flatten (<span style=\"color: #0087ff; text-decoration-color: #0087ff\">Flatten</span>)               │ (<span style=\"color: #00d7ff; text-decoration-color: #00d7ff\">None</span>, <span style=\"color: #00af00; text-decoration-color: #00af00\">784</span>)            │             <span style=\"color: #00af00; text-decoration-color: #00af00\">0</span> │\n",
       "├─────────────────────────────────┼────────────────────────┼───────────────┤\n",
       "│ spectral_dense (<span style=\"color: #0087ff; text-decoration-color: #0087ff\">SpectralDense</span>)  │ (<span style=\"color: #00d7ff; text-decoration-color: #00d7ff\">None</span>, <span style=\"color: #00af00; text-decoration-color: #00af00\">32</span>)             │        <span style=\"color: #00af00; text-decoration-color: #00af00\">50,241</span> │\n",
       "├─────────────────────────────────┼────────────────────────┼───────────────┤\n",
       "│ spectral_dense_1                │ (<span style=\"color: #00d7ff; text-decoration-color: #00d7ff\">None</span>, <span style=\"color: #00af00; text-decoration-color: #00af00\">16</span>)             │         <span style=\"color: #00af00; text-decoration-color: #00af00\">1,057</span> │\n",
       "│ (<span style=\"color: #0087ff; text-decoration-color: #0087ff\">SpectralDense</span>)                 │                        │               │\n",
       "├─────────────────────────────────┼────────────────────────┼───────────────┤\n",
       "│ spectral_dense_2                │ (<span style=\"color: #00d7ff; text-decoration-color: #00d7ff\">None</span>, <span style=\"color: #00af00; text-decoration-color: #00af00\">2</span>)              │            <span style=\"color: #00af00; text-decoration-color: #00af00\">67</span> │\n",
       "│ (<span style=\"color: #0087ff; text-decoration-color: #0087ff\">SpectralDense</span>)                 │                        │               │\n",
       "└─────────────────────────────────┴────────────────────────┴───────────────┘\n",
       "</pre>\n"
      ],
      "text/plain": [
       "┏━━━━━━━━━━━━━━━━━━━━━━━━━━━━━━━━━┳━━━━━━━━━━━━━━━━━━━━━━━━┳━━━━━━━━━━━━━━━┓\n",
       "┃\u001b[1m \u001b[0m\u001b[1mLayer (type)                   \u001b[0m\u001b[1m \u001b[0m┃\u001b[1m \u001b[0m\u001b[1mOutput Shape          \u001b[0m\u001b[1m \u001b[0m┃\u001b[1m \u001b[0m\u001b[1m      Param #\u001b[0m\u001b[1m \u001b[0m┃\n",
       "┡━━━━━━━━━━━━━━━━━━━━━━━━━━━━━━━━━╇━━━━━━━━━━━━━━━━━━━━━━━━╇━━━━━━━━━━━━━━━┩\n",
       "│ flatten (\u001b[38;5;33mFlatten\u001b[0m)               │ (\u001b[38;5;45mNone\u001b[0m, \u001b[38;5;34m784\u001b[0m)            │             \u001b[38;5;34m0\u001b[0m │\n",
       "├─────────────────────────────────┼────────────────────────┼───────────────┤\n",
       "│ spectral_dense (\u001b[38;5;33mSpectralDense\u001b[0m)  │ (\u001b[38;5;45mNone\u001b[0m, \u001b[38;5;34m32\u001b[0m)             │        \u001b[38;5;34m50,241\u001b[0m │\n",
       "├─────────────────────────────────┼────────────────────────┼───────────────┤\n",
       "│ spectral_dense_1                │ (\u001b[38;5;45mNone\u001b[0m, \u001b[38;5;34m16\u001b[0m)             │         \u001b[38;5;34m1,057\u001b[0m │\n",
       "│ (\u001b[38;5;33mSpectralDense\u001b[0m)                 │                        │               │\n",
       "├─────────────────────────────────┼────────────────────────┼───────────────┤\n",
       "│ spectral_dense_2                │ (\u001b[38;5;45mNone\u001b[0m, \u001b[38;5;34m2\u001b[0m)              │            \u001b[38;5;34m67\u001b[0m │\n",
       "│ (\u001b[38;5;33mSpectralDense\u001b[0m)                 │                        │               │\n",
       "└─────────────────────────────────┴────────────────────────┴───────────────┘\n"
      ]
     },
     "metadata": {},
     "output_type": "display_data"
    },
    {
     "data": {
      "text/html": [
       "<pre style=\"white-space:pre;overflow-x:auto;line-height:normal;font-family:Menlo,'DejaVu Sans Mono',consolas,'Courier New',monospace\"><span style=\"font-weight: bold\"> Total params: </span><span style=\"color: #00af00; text-decoration-color: #00af00\">51,365</span> (200.64 KB)\n",
       "</pre>\n"
      ],
      "text/plain": [
       "\u001b[1m Total params: \u001b[0m\u001b[38;5;34m51,365\u001b[0m (200.64 KB)\n"
      ]
     },
     "metadata": {},
     "output_type": "display_data"
    },
    {
     "data": {
      "text/html": [
       "<pre style=\"white-space:pre;overflow-x:auto;line-height:normal;font-family:Menlo,'DejaVu Sans Mono',consolas,'Courier New',monospace\"><span style=\"font-weight: bold\"> Trainable params: </span><span style=\"color: #00af00; text-decoration-color: #00af00\">25,680</span> (100.31 KB)\n",
       "</pre>\n"
      ],
      "text/plain": [
       "\u001b[1m Trainable params: \u001b[0m\u001b[38;5;34m25,680\u001b[0m (100.31 KB)\n"
      ]
     },
     "metadata": {},
     "output_type": "display_data"
    },
    {
     "data": {
      "text/html": [
       "<pre style=\"white-space:pre;overflow-x:auto;line-height:normal;font-family:Menlo,'DejaVu Sans Mono',consolas,'Courier New',monospace\"><span style=\"font-weight: bold\"> Non-trainable params: </span><span style=\"color: #00af00; text-decoration-color: #00af00\">25,685</span> (100.33 KB)\n",
       "</pre>\n"
      ],
      "text/plain": [
       "\u001b[1m Non-trainable params: \u001b[0m\u001b[38;5;34m25,685\u001b[0m (100.33 KB)\n"
      ]
     },
     "metadata": {},
     "output_type": "display_data"
    }
   ],
   "source": [
    "keras.utils.clear_session()\n",
    "# helper function to build the 1-lipschitz MLP\n",
    "model = Sequential(\n",
    "    layers=[\n",
    "        Input((1, 28, 28)),\n",
    "        Flatten(),\n",
    "        SpectralDense(32, GroupSort2(), use_bias=True),\n",
    "        SpectralDense(16, GroupSort2(), use_bias=True),\n",
    "        SpectralDense(2, activation=None, use_bias=False),\n",
    "    ],\n",
    "    name=\"lipModel\",\n",
    ")\n",
    "model.summary()"
   ]
  },
  {
   "cell_type": "code",
   "execution_count": 9,
   "metadata": {},
   "outputs": [],
   "source": [
    "# training parameters\n",
    "epochs = 100\n",
    "batch_size = 128\n",
    "\n",
    "# network parameters\n",
    "activation = GroupSort2  # ReLU, MaxMin, GroupSort2"
   ]
  },
  {
   "cell_type": "code",
   "execution_count": 10,
   "metadata": {},
   "outputs": [],
   "source": [
    "model.compile(\n",
    "#     loss=MulticlassHKR(\n",
    "#         alpha=10.0, min_margin=1.0\n",
    "#     ),  # HKR stands for the hinge regularized KR loss\n",
    "#     metrics=[\n",
    "#         # KR,  # shows the KR term of the loss\n",
    "#         HingeMargin(min_margin=1.0),  # shows the hinge term of the loss\n",
    "#         # BinaryAccuracy(threshold=0),  # shows the classification accuracy\n",
    "#         \"accuracy\"\n",
    "#     ],\n",
    "#     optimizer=Adam(learning_rate=0.001),\n",
    "# )\n",
    "# decreasing alpha and increasing min_margin improve robustness (at the cost of accuracy)\n",
    "# note also in the case of lipschitz networks, more robustness require more parameters.\n",
    "loss=MulticlassHKR(alpha=100, min_margin=0.25),\n",
    "optimizer=Adam(1e-4),\n",
    "metrics=[\"accuracy\", MulticlassKR()],)"
   ]
  },
  {
   "cell_type": "markdown",
   "metadata": {},
   "source": [
    "### Learn classification on MNIST\n",
    "\n",
    "Now the model is build, we can learn the task.\n"
   ]
  },
  {
   "cell_type": "code",
   "execution_count": 11,
   "metadata": {},
   "outputs": [
    {
     "name": "stdout",
     "output_type": "stream",
     "text": [
      "Epoch 1/100\n"
     ]
    },
    {
     "name": "stderr",
     "output_type": "stream",
     "text": [
      "WARNING: All log messages before absl::InitializeLog() is called are written to STDERR\n",
      "I0000 00:00:1744205313.523012    5203 service.cc:148] XLA service 0x55a29cea5840 initialized for platform CUDA (this does not guarantee that XLA will be used). Devices:\n",
      "I0000 00:00:1744205313.523059    5203 service.cc:156]   StreamExecutor device (0): NVIDIA A10G, Compute Capability 8.6\n",
      "2025-04-09 15:28:33.608933: I tensorflow/compiler/mlir/tensorflow/utils/dump_mlir_util.cc:268] disabling MLIR crash reproducer, set env var `MLIR_CRASH_REPRODUCER_DIRECTORY` to enable.\n",
      "I0000 00:00:1744205313.897130    5203 cuda_dnn.cc:529] Loaded cuDNN version 90300\n",
      "2025-04-09 15:28:34.054393: W external/local_xla/xla/service/gpu/nvptx_compiler.cc:930] The NVIDIA driver's CUDA version is 12.4 which is older than the PTX compiler version 12.5.82. Because the driver is older than the PTX compiler version, XLA is disabling parallel compilation, which may slow down compilation. You should update your NVIDIA driver or use the NVIDIA-provided CUDA forward compatibility packages.\n",
      "2025-04-09 15:28:36.027120: I external/local_xla/xla/stream_executor/cuda/cuda_asm_compiler.cc:397] ptxas warning : Registers are spilled to local memory in function 'gemm_fusion_dot_180', 108 bytes spill stores, 108 bytes spill loads\n",
      "\n",
      "2025-04-09 15:28:37.370130: I external/local_xla/xla/stream_executor/cuda/cuda_asm_compiler.cc:397] ptxas warning : Registers are spilled to local memory in function 'gemm_fusion_dot_180', 324 bytes spill stores, 324 bytes spill loads\n",
      "\n",
      "2025-04-09 15:28:37.711029: I external/local_xla/xla/stream_executor/cuda/cuda_asm_compiler.cc:397] ptxas warning : Registers are spilled to local memory in function 'gemm_fusion_dot_1598', 8 bytes spill stores, 8 bytes spill loads\n",
      "\n"
     ]
    },
    {
     "name": "stdout",
     "output_type": "stream",
     "text": [
      "\u001b[1m44/92\u001b[0m \u001b[32m━━━━━━━━━\u001b[0m\u001b[37m━━━━━━━━━━━\u001b[0m \u001b[1m0s\u001b[0m 4ms/step - MulticlassKR: 0.1574 - accuracy: 0.7114 - loss: 14.8275"
     ]
    },
    {
     "name": "stderr",
     "output_type": "stream",
     "text": [
      "I0000 00:00:1744205319.603158    5203 device_compiler.h:188] Compiled cluster using XLA!  This line is logged at most once for the lifetime of the process.\n"
     ]
    },
    {
     "name": "stdout",
     "output_type": "stream",
     "text": [
      "\u001b[1m92/92\u001b[0m \u001b[32m━━━━━━━━━━━━━━━━━━━━\u001b[0m\u001b[37m\u001b[0m \u001b[1m12s\u001b[0m 42ms/step - MulticlassKR: 0.3092 - accuracy: 0.7963 - loss: 10.1911 - val_MulticlassKR: 0.8441 - val_accuracy: 0.9775 - val_loss: 0.3606\n",
      "Epoch 2/100\n",
      "\u001b[1m92/92\u001b[0m \u001b[32m━━━━━━━━━━━━━━━━━━━━\u001b[0m\u001b[37m\u001b[0m \u001b[1m0s\u001b[0m 4ms/step - MulticlassKR: 0.9056 - accuracy: 0.9730 - loss: 0.2494 - val_MulticlassKR: 1.0879 - val_accuracy: 0.9872 - val_loss: -0.4126\n",
      "Epoch 3/100\n",
      "\u001b[1m92/92\u001b[0m \u001b[32m━━━━━━━━━━━━━━━━━━━━\u001b[0m\u001b[37m\u001b[0m \u001b[1m0s\u001b[0m 4ms/step - MulticlassKR: 1.1289 - accuracy: 0.9838 - loss: -0.4260 - val_MulticlassKR: 1.2878 - val_accuracy: 0.9887 - val_loss: -0.7447\n",
      "Epoch 4/100\n",
      "\u001b[1m92/92\u001b[0m \u001b[32m━━━━━━━━━━━━━━━━━━━━\u001b[0m\u001b[37m\u001b[0m \u001b[1m0s\u001b[0m 4ms/step - MulticlassKR: 1.3308 - accuracy: 0.9863 - loss: -0.7142 - val_MulticlassKR: 1.4732 - val_accuracy: 0.9903 - val_loss: -1.0057\n",
      "Epoch 5/100\n",
      "\u001b[1m92/92\u001b[0m \u001b[32m━━━━━━━━━━━━━━━━━━━━\u001b[0m\u001b[37m\u001b[0m \u001b[1m0s\u001b[0m 4ms/step - MulticlassKR: 1.5083 - accuracy: 0.9878 - loss: -1.0211 - val_MulticlassKR: 1.6695 - val_accuracy: 0.9898 - val_loss: -1.1894\n",
      "Epoch 6/100\n",
      "\u001b[1m92/92\u001b[0m \u001b[32m━━━━━━━━━━━━━━━━━━━━\u001b[0m\u001b[37m\u001b[0m \u001b[1m0s\u001b[0m 4ms/step - MulticlassKR: 1.6936 - accuracy: 0.9892 - loss: -1.2473 - val_MulticlassKR: 1.8691 - val_accuracy: 0.9908 - val_loss: -1.4294\n",
      "Epoch 7/100\n",
      "\u001b[1m92/92\u001b[0m \u001b[32m━━━━━━━━━━━━━━━━━━━━\u001b[0m\u001b[37m\u001b[0m \u001b[1m0s\u001b[0m 4ms/step - MulticlassKR: 1.9006 - accuracy: 0.9902 - loss: -1.4852 - val_MulticlassKR: 2.0665 - val_accuracy: 0.9903 - val_loss: -1.6152\n",
      "Epoch 8/100\n",
      "\u001b[1m92/92\u001b[0m \u001b[32m━━━━━━━━━━━━━━━━━━━━\u001b[0m\u001b[37m\u001b[0m \u001b[1m0s\u001b[0m 4ms/step - MulticlassKR: 2.0902 - accuracy: 0.9904 - loss: -1.6428 - val_MulticlassKR: 2.2425 - val_accuracy: 0.9903 - val_loss: -1.7946\n",
      "Epoch 9/100\n",
      "\u001b[1m92/92\u001b[0m \u001b[32m━━━━━━━━━━━━━━━━━━━━\u001b[0m\u001b[37m\u001b[0m \u001b[1m0s\u001b[0m 4ms/step - MulticlassKR: 2.2450 - accuracy: 0.9908 - loss: -1.8354 - val_MulticlassKR: 2.4262 - val_accuracy: 0.9903 - val_loss: -1.9546\n",
      "Epoch 10/100\n",
      "\u001b[1m92/92\u001b[0m \u001b[32m━━━━━━━━━━━━━━━━━━━━\u001b[0m\u001b[37m\u001b[0m \u001b[1m0s\u001b[0m 4ms/step - MulticlassKR: 2.4319 - accuracy: 0.9881 - loss: -1.9876 - val_MulticlassKR: 2.5893 - val_accuracy: 0.9903 - val_loss: -2.1052\n",
      "Epoch 11/100\n",
      "\u001b[1m92/92\u001b[0m \u001b[32m━━━━━━━━━━━━━━━━━━━━\u001b[0m\u001b[37m\u001b[0m \u001b[1m0s\u001b[0m 4ms/step - MulticlassKR: 2.5846 - accuracy: 0.9898 - loss: -2.0768 - val_MulticlassKR: 2.7298 - val_accuracy: 0.9898 - val_loss: -2.2273\n",
      "Epoch 12/100\n",
      "\u001b[1m92/92\u001b[0m \u001b[32m━━━━━━━━━━━━━━━━━━━━\u001b[0m\u001b[37m\u001b[0m \u001b[1m0s\u001b[0m 4ms/step - MulticlassKR: 2.7118 - accuracy: 0.9921 - loss: -2.2913 - val_MulticlassKR: 2.8622 - val_accuracy: 0.9887 - val_loss: -2.3132\n",
      "Epoch 13/100\n",
      "\u001b[1m92/92\u001b[0m \u001b[32m━━━━━━━━━━━━━━━━━━━━\u001b[0m\u001b[37m\u001b[0m \u001b[1m0s\u001b[0m 4ms/step - MulticlassKR: 2.8505 - accuracy: 0.9890 - loss: -2.3099 - val_MulticlassKR: 2.9813 - val_accuracy: 0.9908 - val_loss: -2.4545\n",
      "Epoch 14/100\n",
      "\u001b[1m92/92\u001b[0m \u001b[32m━━━━━━━━━━━━━━━━━━━━\u001b[0m\u001b[37m\u001b[0m \u001b[1m0s\u001b[0m 4ms/step - MulticlassKR: 2.9473 - accuracy: 0.9885 - loss: -2.3208 - val_MulticlassKR: 3.0849 - val_accuracy: 0.9913 - val_loss: -2.5503\n",
      "Epoch 15/100\n",
      "\u001b[1m92/92\u001b[0m \u001b[32m━━━━━━━━━━━━━━━━━━━━\u001b[0m\u001b[37m\u001b[0m \u001b[1m0s\u001b[0m 4ms/step - MulticlassKR: 3.0550 - accuracy: 0.9903 - loss: -2.5651 - val_MulticlassKR: 3.1702 - val_accuracy: 0.9893 - val_loss: -2.6102\n",
      "Epoch 16/100\n",
      "\u001b[1m92/92\u001b[0m \u001b[32m━━━━━━━━━━━━━━━━━━━━\u001b[0m\u001b[37m\u001b[0m \u001b[1m0s\u001b[0m 4ms/step - MulticlassKR: 3.1330 - accuracy: 0.9890 - loss: -2.6267 - val_MulticlassKR: 3.2296 - val_accuracy: 0.9918 - val_loss: -2.7262\n",
      "Epoch 17/100\n",
      "\u001b[1m92/92\u001b[0m \u001b[32m━━━━━━━━━━━━━━━━━━━━\u001b[0m\u001b[37m\u001b[0m \u001b[1m0s\u001b[0m 4ms/step - MulticlassKR: 3.1687 - accuracy: 0.9881 - loss: -2.5888 - val_MulticlassKR: 3.2975 - val_accuracy: 0.9898 - val_loss: -2.7320\n",
      "Epoch 18/100\n",
      "\u001b[1m92/92\u001b[0m \u001b[32m━━━━━━━━━━━━━━━━━━━━\u001b[0m\u001b[37m\u001b[0m \u001b[1m0s\u001b[0m 4ms/step - MulticlassKR: 3.2491 - accuracy: 0.9904 - loss: -2.7670 - val_MulticlassKR: 3.3450 - val_accuracy: 0.9893 - val_loss: -2.7445\n",
      "Epoch 19/100\n",
      "\u001b[1m92/92\u001b[0m \u001b[32m━━━━━━━━━━━━━━━━━━━━\u001b[0m\u001b[37m\u001b[0m \u001b[1m0s\u001b[0m 4ms/step - MulticlassKR: 3.2865 - accuracy: 0.9901 - loss: -2.7991 - val_MulticlassKR: 3.3767 - val_accuracy: 0.9918 - val_loss: -2.8509\n",
      "Epoch 20/100\n",
      "\u001b[1m92/92\u001b[0m \u001b[32m━━━━━━━━━━━━━━━━━━━━\u001b[0m\u001b[37m\u001b[0m \u001b[1m0s\u001b[0m 4ms/step - MulticlassKR: 3.3142 - accuracy: 0.9890 - loss: -2.7494 - val_MulticlassKR: 3.4147 - val_accuracy: 0.9903 - val_loss: -2.8339\n",
      "Epoch 21/100\n",
      "\u001b[1m92/92\u001b[0m \u001b[32m━━━━━━━━━━━━━━━━━━━━\u001b[0m\u001b[37m\u001b[0m \u001b[1m0s\u001b[0m 4ms/step - MulticlassKR: 3.3528 - accuracy: 0.9887 - loss: -2.7877 - val_MulticlassKR: 3.4463 - val_accuracy: 0.9908 - val_loss: -2.8756\n",
      "Epoch 22/100\n",
      "\u001b[1m92/92\u001b[0m \u001b[32m━━━━━━━━━━━━━━━━━━━━\u001b[0m\u001b[37m\u001b[0m \u001b[1m0s\u001b[0m 4ms/step - MulticlassKR: 3.3850 - accuracy: 0.9878 - loss: -2.7725 - val_MulticlassKR: 3.4581 - val_accuracy: 0.9913 - val_loss: -2.9116\n",
      "Epoch 23/100\n",
      "\u001b[1m92/92\u001b[0m \u001b[32m━━━━━━━━━━━━━━━━━━━━\u001b[0m\u001b[37m\u001b[0m \u001b[1m0s\u001b[0m 4ms/step - MulticlassKR: 3.3919 - accuracy: 0.9894 - loss: -2.7827 - val_MulticlassKR: 3.4700 - val_accuracy: 0.9913 - val_loss: -2.9369\n",
      "Epoch 24/100\n",
      "\u001b[1m92/92\u001b[0m \u001b[32m━━━━━━━━━━━━━━━━━━━━\u001b[0m\u001b[37m\u001b[0m \u001b[1m0s\u001b[0m 4ms/step - MulticlassKR: 3.4416 - accuracy: 0.9909 - loss: -3.0260 - val_MulticlassKR: 3.4930 - val_accuracy: 0.9882 - val_loss: -2.8694\n",
      "Epoch 25/100\n",
      "\u001b[1m92/92\u001b[0m \u001b[32m━━━━━━━━━━━━━━━━━━━━\u001b[0m\u001b[37m\u001b[0m \u001b[1m0s\u001b[0m 4ms/step - MulticlassKR: 3.4255 - accuracy: 0.9887 - loss: -2.8013 - val_MulticlassKR: 3.5146 - val_accuracy: 0.9913 - val_loss: -2.9717\n",
      "Epoch 26/100\n",
      "\u001b[1m92/92\u001b[0m \u001b[32m━━━━━━━━━━━━━━━━━━━━\u001b[0m\u001b[37m\u001b[0m \u001b[1m0s\u001b[0m 4ms/step - MulticlassKR: 3.4632 - accuracy: 0.9895 - loss: -2.8634 - val_MulticlassKR: 3.5096 - val_accuracy: 0.9908 - val_loss: -2.9430\n",
      "Epoch 27/100\n",
      "\u001b[1m92/92\u001b[0m \u001b[32m━━━━━━━━━━━━━━━━━━━━\u001b[0m\u001b[37m\u001b[0m \u001b[1m0s\u001b[0m 4ms/step - MulticlassKR: 3.4360 - accuracy: 0.9882 - loss: -2.7451 - val_MulticlassKR: 3.5309 - val_accuracy: 0.9918 - val_loss: -2.9968\n",
      "Epoch 28/100\n",
      "\u001b[1m92/92\u001b[0m \u001b[32m━━━━━━━━━━━━━━━━━━━━\u001b[0m\u001b[37m\u001b[0m \u001b[1m0s\u001b[0m 4ms/step - MulticlassKR: 3.4411 - accuracy: 0.9894 - loss: -2.8399 - val_MulticlassKR: 3.5425 - val_accuracy: 0.9913 - val_loss: -2.9837\n",
      "Epoch 29/100\n",
      "\u001b[1m92/92\u001b[0m \u001b[32m━━━━━━━━━━━━━━━━━━━━\u001b[0m\u001b[37m\u001b[0m \u001b[1m0s\u001b[0m 4ms/step - MulticlassKR: 3.4742 - accuracy: 0.9894 - loss: -2.9709 - val_MulticlassKR: 3.5429 - val_accuracy: 0.9908 - val_loss: -2.9727\n",
      "Epoch 30/100\n",
      "\u001b[1m92/92\u001b[0m \u001b[32m━━━━━━━━━━━━━━━━━━━━\u001b[0m\u001b[37m\u001b[0m \u001b[1m0s\u001b[0m 4ms/step - MulticlassKR: 3.4741 - accuracy: 0.9897 - loss: -2.9114 - val_MulticlassKR: 3.5479 - val_accuracy: 0.9913 - val_loss: -3.0327\n",
      "Epoch 31/100\n",
      "\u001b[1m92/92\u001b[0m \u001b[32m━━━━━━━━━━━━━━━━━━━━\u001b[0m\u001b[37m\u001b[0m \u001b[1m0s\u001b[0m 4ms/step - MulticlassKR: 3.4881 - accuracy: 0.9905 - loss: -3.0487 - val_MulticlassKR: 3.5624 - val_accuracy: 0.9913 - val_loss: -3.0191\n",
      "Epoch 32/100\n",
      "\u001b[1m92/92\u001b[0m \u001b[32m━━━━━━━━━━━━━━━━━━━━\u001b[0m\u001b[37m\u001b[0m \u001b[1m0s\u001b[0m 5ms/step - MulticlassKR: 3.5176 - accuracy: 0.9905 - loss: -3.0300 - val_MulticlassKR: 3.5698 - val_accuracy: 0.9913 - val_loss: -3.0289\n",
      "Epoch 33/100\n",
      "\u001b[1m92/92\u001b[0m \u001b[32m━━━━━━━━━━━━━━━━━━━━\u001b[0m\u001b[37m\u001b[0m \u001b[1m0s\u001b[0m 4ms/step - MulticlassKR: 3.4983 - accuracy: 0.9908 - loss: -2.9872 - val_MulticlassKR: 3.5888 - val_accuracy: 0.9887 - val_loss: -2.9822\n",
      "Epoch 34/100\n",
      "\u001b[1m92/92\u001b[0m \u001b[32m━━━━━━━━━━━━━━━━━━━━\u001b[0m\u001b[37m\u001b[0m \u001b[1m0s\u001b[0m 4ms/step - MulticlassKR: 3.5177 - accuracy: 0.9888 - loss: -2.9239 - val_MulticlassKR: 3.5963 - val_accuracy: 0.9923 - val_loss: -3.1090\n",
      "Epoch 35/100\n",
      "\u001b[1m92/92\u001b[0m \u001b[32m━━━━━━━━━━━━━━━━━━━━\u001b[0m\u001b[37m\u001b[0m \u001b[1m0s\u001b[0m 4ms/step - MulticlassKR: 3.5498 - accuracy: 0.9913 - loss: -3.1341 - val_MulticlassKR: 3.6149 - val_accuracy: 0.9903 - val_loss: -3.0609\n",
      "Epoch 36/100\n",
      "\u001b[1m92/92\u001b[0m \u001b[32m━━━━━━━━━━━━━━━━━━━━\u001b[0m\u001b[37m\u001b[0m \u001b[1m0s\u001b[0m 4ms/step - MulticlassKR: 3.5532 - accuracy: 0.9904 - loss: -3.0541 - val_MulticlassKR: 3.6144 - val_accuracy: 0.9918 - val_loss: -3.1336\n",
      "Epoch 37/100\n",
      "\u001b[1m92/92\u001b[0m \u001b[32m━━━━━━━━━━━━━━━━━━━━\u001b[0m\u001b[37m\u001b[0m \u001b[1m0s\u001b[0m 4ms/step - MulticlassKR: 3.5456 - accuracy: 0.9901 - loss: -3.0612 - val_MulticlassKR: 3.6379 - val_accuracy: 0.9887 - val_loss: -3.0635\n",
      "Epoch 38/100\n",
      "\u001b[1m92/92\u001b[0m \u001b[32m━━━━━━━━━━━━━━━━━━━━\u001b[0m\u001b[37m\u001b[0m \u001b[1m0s\u001b[0m 4ms/step - MulticlassKR: 3.5746 - accuracy: 0.9899 - loss: -3.0365 - val_MulticlassKR: 3.6447 - val_accuracy: 0.9918 - val_loss: -3.1723\n",
      "Epoch 39/100\n",
      "\u001b[1m92/92\u001b[0m \u001b[32m━━━━━━━━━━━━━━━━━━━━\u001b[0m\u001b[37m\u001b[0m \u001b[1m0s\u001b[0m 4ms/step - MulticlassKR: 3.5815 - accuracy: 0.9911 - loss: -3.1509 - val_MulticlassKR: 3.6519 - val_accuracy: 0.9918 - val_loss: -3.1802\n",
      "Epoch 40/100\n",
      "\u001b[1m92/92\u001b[0m \u001b[32m━━━━━━━━━━━━━━━━━━━━\u001b[0m\u001b[37m\u001b[0m \u001b[1m0s\u001b[0m 4ms/step - MulticlassKR: 3.6087 - accuracy: 0.9897 - loss: -3.1186 - val_MulticlassKR: 3.6839 - val_accuracy: 0.9898 - val_loss: -3.1579\n",
      "Epoch 41/100\n",
      "\u001b[1m92/92\u001b[0m \u001b[32m━━━━━━━━━━━━━━━━━━━━\u001b[0m\u001b[37m\u001b[0m \u001b[1m0s\u001b[0m 4ms/step - MulticlassKR: 3.6141 - accuracy: 0.9915 - loss: -3.2443 - val_MulticlassKR: 3.6878 - val_accuracy: 0.9918 - val_loss: -3.2331\n",
      "Epoch 42/100\n",
      "\u001b[1m92/92\u001b[0m \u001b[32m━━━━━━━━━━━━━━━━━━━━\u001b[0m\u001b[37m\u001b[0m \u001b[1m0s\u001b[0m 4ms/step - MulticlassKR: 3.6635 - accuracy: 0.9912 - loss: -3.1871 - val_MulticlassKR: 3.6810 - val_accuracy: 0.9918 - val_loss: -3.2471\n",
      "Epoch 43/100\n",
      "\u001b[1m92/92\u001b[0m \u001b[32m━━━━━━━━━━━━━━━━━━━━\u001b[0m\u001b[37m\u001b[0m \u001b[1m0s\u001b[0m 4ms/step - MulticlassKR: 3.6585 - accuracy: 0.9931 - loss: -3.3437 - val_MulticlassKR: 3.6915 - val_accuracy: 0.9918 - val_loss: -3.2349\n",
      "Epoch 44/100\n",
      "\u001b[1m92/92\u001b[0m \u001b[32m━━━━━━━━━━━━━━━━━━━━\u001b[0m\u001b[37m\u001b[0m \u001b[1m0s\u001b[0m 4ms/step - MulticlassKR: 3.6553 - accuracy: 0.9924 - loss: -3.2732 - val_MulticlassKR: 3.7070 - val_accuracy: 0.9928 - val_loss: -3.2872\n",
      "Epoch 45/100\n",
      "\u001b[1m92/92\u001b[0m \u001b[32m━━━━━━━━━━━━━━━━━━━━\u001b[0m\u001b[37m\u001b[0m \u001b[1m0s\u001b[0m 4ms/step - MulticlassKR: 3.6812 - accuracy: 0.9930 - loss: -3.3234 - val_MulticlassKR: 3.7223 - val_accuracy: 0.9923 - val_loss: -3.2740\n",
      "Epoch 46/100\n",
      "\u001b[1m92/92\u001b[0m \u001b[32m━━━━━━━━━━━━━━━━━━━━\u001b[0m\u001b[37m\u001b[0m \u001b[1m0s\u001b[0m 4ms/step - MulticlassKR: 3.6813 - accuracy: 0.9932 - loss: -3.3130 - val_MulticlassKR: 3.7448 - val_accuracy: 0.9908 - val_loss: -3.2272\n",
      "Epoch 47/100\n",
      "\u001b[1m92/92\u001b[0m \u001b[32m━━━━━━━━━━━━━━━━━━━━\u001b[0m\u001b[37m\u001b[0m \u001b[1m0s\u001b[0m 4ms/step - MulticlassKR: 3.6989 - accuracy: 0.9919 - loss: -3.3284 - val_MulticlassKR: 3.7665 - val_accuracy: 0.9913 - val_loss: -3.2820\n",
      "Epoch 48/100\n",
      "\u001b[1m92/92\u001b[0m \u001b[32m━━━━━━━━━━━━━━━━━━━━\u001b[0m\u001b[37m\u001b[0m \u001b[1m0s\u001b[0m 4ms/step - MulticlassKR: 3.7293 - accuracy: 0.9930 - loss: -3.4064 - val_MulticlassKR: 3.7552 - val_accuracy: 0.9918 - val_loss: -3.3158\n",
      "Epoch 49/100\n",
      "\u001b[1m92/92\u001b[0m \u001b[32m━━━━━━━━━━━━━━━━━━━━\u001b[0m\u001b[37m\u001b[0m \u001b[1m0s\u001b[0m 4ms/step - MulticlassKR: 3.6922 - accuracy: 0.9916 - loss: -3.3020 - val_MulticlassKR: 3.7846 - val_accuracy: 0.9913 - val_loss: -3.2959\n",
      "Epoch 50/100\n",
      "\u001b[1m92/92\u001b[0m \u001b[32m━━━━━━━━━━━━━━━━━━━━\u001b[0m\u001b[37m\u001b[0m \u001b[1m0s\u001b[0m 4ms/step - MulticlassKR: 3.7642 - accuracy: 0.9934 - loss: -3.4562 - val_MulticlassKR: 3.7635 - val_accuracy: 0.9928 - val_loss: -3.3493\n",
      "Epoch 51/100\n",
      "\u001b[1m92/92\u001b[0m \u001b[32m━━━━━━━━━━━━━━━━━━━━\u001b[0m\u001b[37m\u001b[0m \u001b[1m0s\u001b[0m 4ms/step - MulticlassKR: 3.7157 - accuracy: 0.9925 - loss: -3.3690 - val_MulticlassKR: 3.7657 - val_accuracy: 0.9933 - val_loss: -3.3713\n",
      "Epoch 52/100\n",
      "\u001b[1m92/92\u001b[0m \u001b[32m━━━━━━━━━━━━━━━━━━━━\u001b[0m\u001b[37m\u001b[0m \u001b[1m0s\u001b[0m 4ms/step - MulticlassKR: 3.7487 - accuracy: 0.9928 - loss: -3.4610 - val_MulticlassKR: 3.7611 - val_accuracy: 0.9933 - val_loss: -3.3583\n",
      "Epoch 53/100\n",
      "\u001b[1m92/92\u001b[0m \u001b[32m━━━━━━━━━━━━━━━━━━━━\u001b[0m\u001b[37m\u001b[0m \u001b[1m0s\u001b[0m 4ms/step - MulticlassKR: 3.7437 - accuracy: 0.9942 - loss: -3.4617 - val_MulticlassKR: 3.7671 - val_accuracy: 0.9933 - val_loss: -3.3872\n",
      "Epoch 54/100\n",
      "\u001b[1m92/92\u001b[0m \u001b[32m━━━━━━━━━━━━━━━━━━━━\u001b[0m\u001b[37m\u001b[0m \u001b[1m0s\u001b[0m 4ms/step - MulticlassKR: 3.7400 - accuracy: 0.9933 - loss: -3.4360 - val_MulticlassKR: 3.7943 - val_accuracy: 0.9923 - val_loss: -3.3570\n",
      "Epoch 55/100\n",
      "\u001b[1m92/92\u001b[0m \u001b[32m━━━━━━━━━━━━━━━━━━━━\u001b[0m\u001b[37m\u001b[0m \u001b[1m0s\u001b[0m 4ms/step - MulticlassKR: 3.7507 - accuracy: 0.9924 - loss: -3.3533 - val_MulticlassKR: 3.7797 - val_accuracy: 0.9933 - val_loss: -3.3829\n",
      "Epoch 56/100\n",
      "\u001b[1m92/92\u001b[0m \u001b[32m━━━━━━━━━━━━━━━━━━━━\u001b[0m\u001b[37m\u001b[0m \u001b[1m0s\u001b[0m 4ms/step - MulticlassKR: 3.7789 - accuracy: 0.9935 - loss: -3.4750 - val_MulticlassKR: 3.7850 - val_accuracy: 0.9928 - val_loss: -3.4084\n",
      "Epoch 57/100\n",
      "\u001b[1m92/92\u001b[0m \u001b[32m━━━━━━━━━━━━━━━━━━━━\u001b[0m\u001b[37m\u001b[0m \u001b[1m0s\u001b[0m 4ms/step - MulticlassKR: 3.7315 - accuracy: 0.9944 - loss: -3.4667 - val_MulticlassKR: 3.8109 - val_accuracy: 0.9918 - val_loss: -3.3572\n",
      "Epoch 58/100\n",
      "\u001b[1m92/92\u001b[0m \u001b[32m━━━━━━━━━━━━━━━━━━━━\u001b[0m\u001b[37m\u001b[0m \u001b[1m0s\u001b[0m 4ms/step - MulticlassKR: 3.7771 - accuracy: 0.9930 - loss: -3.4529 - val_MulticlassKR: 3.8048 - val_accuracy: 0.9928 - val_loss: -3.3924\n",
      "Epoch 59/100\n",
      "\u001b[1m92/92\u001b[0m \u001b[32m━━━━━━━━━━━━━━━━━━━━\u001b[0m\u001b[37m\u001b[0m \u001b[1m0s\u001b[0m 4ms/step - MulticlassKR: 3.7794 - accuracy: 0.9945 - loss: -3.5357 - val_MulticlassKR: 3.7740 - val_accuracy: 0.9928 - val_loss: -3.4295\n",
      "Epoch 60/100\n",
      "\u001b[1m92/92\u001b[0m \u001b[32m━━━━━━━━━━━━━━━━━━━━\u001b[0m\u001b[37m\u001b[0m \u001b[1m0s\u001b[0m 4ms/step - MulticlassKR: 3.7501 - accuracy: 0.9931 - loss: -3.4421 - val_MulticlassKR: 3.7977 - val_accuracy: 0.9933 - val_loss: -3.4456\n",
      "Epoch 61/100\n",
      "\u001b[1m92/92\u001b[0m \u001b[32m━━━━━━━━━━━━━━━━━━━━\u001b[0m\u001b[37m\u001b[0m \u001b[1m0s\u001b[0m 4ms/step - MulticlassKR: 3.8165 - accuracy: 0.9948 - loss: -3.5807 - val_MulticlassKR: 3.7969 - val_accuracy: 0.9928 - val_loss: -3.4340\n",
      "Epoch 62/100\n",
      "\u001b[1m92/92\u001b[0m \u001b[32m━━━━━━━━━━━━━━━━━━━━\u001b[0m\u001b[37m\u001b[0m \u001b[1m0s\u001b[0m 4ms/step - MulticlassKR: 3.7808 - accuracy: 0.9952 - loss: -3.5520 - val_MulticlassKR: 3.8131 - val_accuracy: 0.9933 - val_loss: -3.4027\n",
      "Epoch 63/100\n",
      "\u001b[1m92/92\u001b[0m \u001b[32m━━━━━━━━━━━━━━━━━━━━\u001b[0m\u001b[37m\u001b[0m \u001b[1m0s\u001b[0m 4ms/step - MulticlassKR: 3.7846 - accuracy: 0.9934 - loss: -3.4793 - val_MulticlassKR: 3.8096 - val_accuracy: 0.9928 - val_loss: -3.4272\n",
      "Epoch 64/100\n",
      "\u001b[1m92/92\u001b[0m \u001b[32m━━━━━━━━━━━━━━━━━━━━\u001b[0m\u001b[37m\u001b[0m \u001b[1m0s\u001b[0m 4ms/step - MulticlassKR: 3.7655 - accuracy: 0.9939 - loss: -3.4368 - val_MulticlassKR: 3.8119 - val_accuracy: 0.9928 - val_loss: -3.4555\n",
      "Epoch 65/100\n",
      "\u001b[1m92/92\u001b[0m \u001b[32m━━━━━━━━━━━━━━━━━━━━\u001b[0m\u001b[37m\u001b[0m \u001b[1m0s\u001b[0m 4ms/step - MulticlassKR: 3.8017 - accuracy: 0.9942 - loss: -3.5324 - val_MulticlassKR: 3.8028 - val_accuracy: 0.9944 - val_loss: -3.4145\n",
      "Epoch 66/100\n",
      "\u001b[1m92/92\u001b[0m \u001b[32m━━━━━━━━━━━━━━━━━━━━\u001b[0m\u001b[37m\u001b[0m \u001b[1m0s\u001b[0m 4ms/step - MulticlassKR: 3.7701 - accuracy: 0.9929 - loss: -3.4292 - val_MulticlassKR: 3.8219 - val_accuracy: 0.9939 - val_loss: -3.4506\n",
      "Epoch 67/100\n",
      "\u001b[1m92/92\u001b[0m \u001b[32m━━━━━━━━━━━━━━━━━━━━\u001b[0m\u001b[37m\u001b[0m \u001b[1m0s\u001b[0m 4ms/step - MulticlassKR: 3.7991 - accuracy: 0.9942 - loss: -3.5420 - val_MulticlassKR: 3.8243 - val_accuracy: 0.9944 - val_loss: -3.4506\n",
      "Epoch 68/100\n",
      "\u001b[1m92/92\u001b[0m \u001b[32m━━━━━━━━━━━━━━━━━━━━\u001b[0m\u001b[37m\u001b[0m \u001b[1m0s\u001b[0m 4ms/step - MulticlassKR: 3.7981 - accuracy: 0.9938 - loss: -3.5032 - val_MulticlassKR: 3.8289 - val_accuracy: 0.9933 - val_loss: -3.4314\n",
      "Epoch 69/100\n",
      "\u001b[1m92/92\u001b[0m \u001b[32m━━━━━━━━━━━━━━━━━━━━\u001b[0m\u001b[37m\u001b[0m \u001b[1m0s\u001b[0m 4ms/step - MulticlassKR: 3.8320 - accuracy: 0.9939 - loss: -3.5551 - val_MulticlassKR: 3.8327 - val_accuracy: 0.9923 - val_loss: -3.3983\n",
      "Epoch 70/100\n",
      "\u001b[1m92/92\u001b[0m \u001b[32m━━━━━━━━━━━━━━━━━━━━\u001b[0m\u001b[37m\u001b[0m \u001b[1m0s\u001b[0m 4ms/step - MulticlassKR: 3.8015 - accuracy: 0.9943 - loss: -3.5352 - val_MulticlassKR: 3.8192 - val_accuracy: 0.9933 - val_loss: -3.4685\n",
      "Epoch 71/100\n",
      "\u001b[1m92/92\u001b[0m \u001b[32m━━━━━━━━━━━━━━━━━━━━\u001b[0m\u001b[37m\u001b[0m \u001b[1m0s\u001b[0m 4ms/step - MulticlassKR: 3.7897 - accuracy: 0.9939 - loss: -3.4979 - val_MulticlassKR: 3.8252 - val_accuracy: 0.9944 - val_loss: -3.4499\n",
      "Epoch 72/100\n",
      "\u001b[1m92/92\u001b[0m \u001b[32m━━━━━━━━━━━━━━━━━━━━\u001b[0m\u001b[37m\u001b[0m \u001b[1m0s\u001b[0m 4ms/step - MulticlassKR: 3.7939 - accuracy: 0.9915 - loss: -3.4108 - val_MulticlassKR: 3.8497 - val_accuracy: 0.9928 - val_loss: -3.4563\n",
      "Epoch 73/100\n",
      "\u001b[1m92/92\u001b[0m \u001b[32m━━━━━━━━━━━━━━━━━━━━\u001b[0m\u001b[37m\u001b[0m \u001b[1m0s\u001b[0m 4ms/step - MulticlassKR: 3.8500 - accuracy: 0.9943 - loss: -3.6065 - val_MulticlassKR: 3.8236 - val_accuracy: 0.9944 - val_loss: -3.4514\n",
      "Epoch 74/100\n",
      "\u001b[1m92/92\u001b[0m \u001b[32m━━━━━━━━━━━━━━━━━━━━\u001b[0m\u001b[37m\u001b[0m \u001b[1m0s\u001b[0m 4ms/step - MulticlassKR: 3.8035 - accuracy: 0.9934 - loss: -3.4949 - val_MulticlassKR: 3.8290 - val_accuracy: 0.9939 - val_loss: -3.4718\n",
      "Epoch 75/100\n",
      "\u001b[1m92/92\u001b[0m \u001b[32m━━━━━━━━━━━━━━━━━━━━\u001b[0m\u001b[37m\u001b[0m \u001b[1m0s\u001b[0m 4ms/step - MulticlassKR: 3.8391 - accuracy: 0.9940 - loss: -3.5556 - val_MulticlassKR: 3.8402 - val_accuracy: 0.9933 - val_loss: -3.4805\n",
      "Epoch 76/100\n",
      "\u001b[1m92/92\u001b[0m \u001b[32m━━━━━━━━━━━━━━━━━━━━\u001b[0m\u001b[37m\u001b[0m \u001b[1m0s\u001b[0m 4ms/step - MulticlassKR: 3.8108 - accuracy: 0.9943 - loss: -3.5255 - val_MulticlassKR: 3.8320 - val_accuracy: 0.9933 - val_loss: -3.4817\n",
      "Epoch 77/100\n",
      "\u001b[1m92/92\u001b[0m \u001b[32m━━━━━━━━━━━━━━━━━━━━\u001b[0m\u001b[37m\u001b[0m \u001b[1m0s\u001b[0m 4ms/step - MulticlassKR: 3.8178 - accuracy: 0.9951 - loss: -3.5932 - val_MulticlassKR: 3.8289 - val_accuracy: 0.9933 - val_loss: -3.4773\n",
      "Epoch 78/100\n",
      "\u001b[1m92/92\u001b[0m \u001b[32m━━━━━━━━━━━━━━━━━━━━\u001b[0m\u001b[37m\u001b[0m \u001b[1m0s\u001b[0m 4ms/step - MulticlassKR: 3.7973 - accuracy: 0.9933 - loss: -3.4675 - val_MulticlassKR: 3.8509 - val_accuracy: 0.9923 - val_loss: -3.4692\n",
      "Epoch 79/100\n",
      "\u001b[1m92/92\u001b[0m \u001b[32m━━━━━━━━━━━━━━━━━━━━\u001b[0m\u001b[37m\u001b[0m \u001b[1m0s\u001b[0m 4ms/step - MulticlassKR: 3.8143 - accuracy: 0.9941 - loss: -3.5294 - val_MulticlassKR: 3.8285 - val_accuracy: 0.9939 - val_loss: -3.4600\n",
      "Epoch 80/100\n",
      "\u001b[1m92/92\u001b[0m \u001b[32m━━━━━━━━━━━━━━━━━━━━\u001b[0m\u001b[37m\u001b[0m \u001b[1m0s\u001b[0m 4ms/step - MulticlassKR: 3.8125 - accuracy: 0.9935 - loss: -3.4899 - val_MulticlassKR: 3.8581 - val_accuracy: 0.9933 - val_loss: -3.4611\n",
      "Epoch 81/100\n",
      "\u001b[1m92/92\u001b[0m \u001b[32m━━━━━━━━━━━━━━━━━━━━\u001b[0m\u001b[37m\u001b[0m \u001b[1m0s\u001b[0m 4ms/step - MulticlassKR: 3.8549 - accuracy: 0.9951 - loss: -3.6183 - val_MulticlassKR: 3.8257 - val_accuracy: 0.9928 - val_loss: -3.4854\n",
      "Epoch 82/100\n",
      "\u001b[1m92/92\u001b[0m \u001b[32m━━━━━━━━━━━━━━━━━━━━\u001b[0m\u001b[37m\u001b[0m \u001b[1m0s\u001b[0m 5ms/step - MulticlassKR: 3.8132 - accuracy: 0.9955 - loss: -3.5689 - val_MulticlassKR: 3.8212 - val_accuracy: 0.9944 - val_loss: -3.4754\n",
      "Epoch 83/100\n",
      "\u001b[1m92/92\u001b[0m \u001b[32m━━━━━━━━━━━━━━━━━━━━\u001b[0m\u001b[37m\u001b[0m \u001b[1m0s\u001b[0m 4ms/step - MulticlassKR: 3.8030 - accuracy: 0.9940 - loss: -3.5303 - val_MulticlassKR: 3.8400 - val_accuracy: 0.9933 - val_loss: -3.4986\n",
      "Epoch 84/100\n",
      "\u001b[1m92/92\u001b[0m \u001b[32m━━━━━━━━━━━━━━━━━━━━\u001b[0m\u001b[37m\u001b[0m \u001b[1m0s\u001b[0m 4ms/step - MulticlassKR: 3.8338 - accuracy: 0.9942 - loss: -3.5567 - val_MulticlassKR: 3.8255 - val_accuracy: 0.9944 - val_loss: -3.4727\n",
      "Epoch 85/100\n",
      "\u001b[1m92/92\u001b[0m \u001b[32m━━━━━━━━━━━━━━━━━━━━\u001b[0m\u001b[37m\u001b[0m \u001b[1m0s\u001b[0m 4ms/step - MulticlassKR: 3.8390 - accuracy: 0.9948 - loss: -3.5643 - val_MulticlassKR: 3.8211 - val_accuracy: 0.9933 - val_loss: -3.5094\n",
      "Epoch 86/100\n",
      "\u001b[1m92/92\u001b[0m \u001b[32m━━━━━━━━━━━━━━━━━━━━\u001b[0m\u001b[37m\u001b[0m \u001b[1m0s\u001b[0m 4ms/step - MulticlassKR: 3.8613 - accuracy: 0.9953 - loss: -3.6451 - val_MulticlassKR: 3.8375 - val_accuracy: 0.9933 - val_loss: -3.4982\n",
      "Epoch 87/100\n",
      "\u001b[1m92/92\u001b[0m \u001b[32m━━━━━━━━━━━━━━━━━━━━\u001b[0m\u001b[37m\u001b[0m \u001b[1m0s\u001b[0m 4ms/step - MulticlassKR: 3.8202 - accuracy: 0.9944 - loss: -3.5594 - val_MulticlassKR: 3.8471 - val_accuracy: 0.9933 - val_loss: -3.4839\n",
      "Epoch 88/100\n",
      "\u001b[1m92/92\u001b[0m \u001b[32m━━━━━━━━━━━━━━━━━━━━\u001b[0m\u001b[37m\u001b[0m \u001b[1m0s\u001b[0m 4ms/step - MulticlassKR: 3.8157 - accuracy: 0.9936 - loss: -3.5231 - val_MulticlassKR: 3.8422 - val_accuracy: 0.9933 - val_loss: -3.5060\n",
      "Epoch 89/100\n",
      "\u001b[1m92/92\u001b[0m \u001b[32m━━━━━━━━━━━━━━━━━━━━\u001b[0m\u001b[37m\u001b[0m \u001b[1m0s\u001b[0m 4ms/step - MulticlassKR: 3.8367 - accuracy: 0.9949 - loss: -3.5604 - val_MulticlassKR: 3.8373 - val_accuracy: 0.9928 - val_loss: -3.5187\n",
      "Epoch 90/100\n",
      "\u001b[1m92/92\u001b[0m \u001b[32m━━━━━━━━━━━━━━━━━━━━\u001b[0m\u001b[37m\u001b[0m \u001b[1m0s\u001b[0m 4ms/step - MulticlassKR: 3.7995 - accuracy: 0.9939 - loss: -3.5117 - val_MulticlassKR: 3.8537 - val_accuracy: 0.9928 - val_loss: -3.4575\n",
      "Epoch 91/100\n",
      "\u001b[1m92/92\u001b[0m \u001b[32m━━━━━━━━━━━━━━━━━━━━\u001b[0m\u001b[37m\u001b[0m \u001b[1m0s\u001b[0m 4ms/step - MulticlassKR: 3.8157 - accuracy: 0.9940 - loss: -3.5240 - val_MulticlassKR: 3.8550 - val_accuracy: 0.9923 - val_loss: -3.4406\n",
      "Epoch 92/100\n",
      "\u001b[1m92/92\u001b[0m \u001b[32m━━━━━━━━━━━━━━━━━━━━\u001b[0m\u001b[37m\u001b[0m \u001b[1m0s\u001b[0m 4ms/step - MulticlassKR: 3.8130 - accuracy: 0.9937 - loss: -3.5189 - val_MulticlassKR: 3.8586 - val_accuracy: 0.9928 - val_loss: -3.4691\n",
      "Epoch 93/100\n",
      "\u001b[1m92/92\u001b[0m \u001b[32m━━━━━━━━━━━━━━━━━━━━\u001b[0m\u001b[37m\u001b[0m \u001b[1m0s\u001b[0m 4ms/step - MulticlassKR: 3.8321 - accuracy: 0.9929 - loss: -3.5090 - val_MulticlassKR: 3.8431 - val_accuracy: 0.9933 - val_loss: -3.5167\n",
      "Epoch 94/100\n",
      "\u001b[1m92/92\u001b[0m \u001b[32m━━━━━━━━━━━━━━━━━━━━\u001b[0m\u001b[37m\u001b[0m \u001b[1m0s\u001b[0m 5ms/step - MulticlassKR: 3.8359 - accuracy: 0.9952 - loss: -3.6114 - val_MulticlassKR: 3.8500 - val_accuracy: 0.9933 - val_loss: -3.5074\n",
      "Epoch 95/100\n",
      "\u001b[1m92/92\u001b[0m \u001b[32m━━━━━━━━━━━━━━━━━━━━\u001b[0m\u001b[37m\u001b[0m \u001b[1m1s\u001b[0m 7ms/step - MulticlassKR: 3.8564 - accuracy: 0.9946 - loss: -3.6033 - val_MulticlassKR: 3.8405 - val_accuracy: 0.9939 - val_loss: -3.4945\n",
      "Epoch 96/100\n",
      "\u001b[1m92/92\u001b[0m \u001b[32m━━━━━━━━━━━━━━━━━━━━\u001b[0m\u001b[37m\u001b[0m \u001b[1m1s\u001b[0m 10ms/step - MulticlassKR: 3.8048 - accuracy: 0.9936 - loss: -3.5021 - val_MulticlassKR: 3.8519 - val_accuracy: 0.9933 - val_loss: -3.5028\n",
      "Epoch 97/100\n",
      "\u001b[1m92/92\u001b[0m \u001b[32m━━━━━━━━━━━━━━━━━━━━\u001b[0m\u001b[37m\u001b[0m \u001b[1m1s\u001b[0m 6ms/step - MulticlassKR: 3.8680 - accuracy: 0.9935 - loss: -3.5646 - val_MulticlassKR: 3.8566 - val_accuracy: 0.9933 - val_loss: -3.4778\n",
      "Epoch 98/100\n",
      "\u001b[1m92/92\u001b[0m \u001b[32m━━━━━━━━━━━━━━━━━━━━\u001b[0m\u001b[37m\u001b[0m \u001b[1m0s\u001b[0m 4ms/step - MulticlassKR: 3.8465 - accuracy: 0.9954 - loss: -3.6159 - val_MulticlassKR: 3.8527 - val_accuracy: 0.9933 - val_loss: -3.4523\n",
      "Epoch 99/100\n",
      "\u001b[1m92/92\u001b[0m \u001b[32m━━━━━━━━━━━━━━━━━━━━\u001b[0m\u001b[37m\u001b[0m \u001b[1m0s\u001b[0m 4ms/step - MulticlassKR: 3.8153 - accuracy: 0.9942 - loss: -3.5491 - val_MulticlassKR: 3.8446 - val_accuracy: 0.9933 - val_loss: -3.4464\n",
      "Epoch 100/100\n",
      "\u001b[1m92/92\u001b[0m \u001b[32m━━━━━━━━━━━━━━━━━━━━\u001b[0m\u001b[37m\u001b[0m \u001b[1m0s\u001b[0m 4ms/step - MulticlassKR: 3.8567 - accuracy: 0.9939 - loss: -3.6131 - val_MulticlassKR: 3.8334 - val_accuracy: 0.9928 - val_loss: -3.4998\n"
     ]
    },
    {
     "data": {
      "text/plain": [
       "<keras.src.callbacks.history.History at 0x7f71b34b1d50>"
      ]
     },
     "execution_count": 11,
     "metadata": {},
     "output_type": "execute_result"
    }
   ],
   "source": [
    "model.fit(\n",
    "    x=x_train,\n",
    "    y=y_train,\n",
    "    validation_data=(x_test, y_test),\n",
    "    batch_size=batch_size,\n",
    "    shuffle=True,\n",
    "    epochs=epochs,\n",
    "    verbose=1,\n",
    ")"
   ]
  },
  {
   "cell_type": "markdown",
   "metadata": {},
   "source": [
    "As we can see, the model reaches a very decent accuracy on this task.\n"
   ]
  },
  {
   "cell_type": "code",
   "execution_count": 12,
   "metadata": {},
   "outputs": [],
   "source": [
    "vanilla_model = model.vanilla_export()"
   ]
  },
  {
   "cell_type": "code",
   "execution_count": 13,
   "metadata": {},
   "outputs": [
    {
     "data": {
      "text/html": [
       "<pre style=\"white-space:pre;overflow-x:auto;line-height:normal;font-family:Menlo,'DejaVu Sans Mono',consolas,'Courier New',monospace\"><span style=\"font-weight: bold\">Model: \"lipModel\"</span>\n",
       "</pre>\n"
      ],
      "text/plain": [
       "\u001b[1mModel: \"lipModel\"\u001b[0m\n"
      ]
     },
     "metadata": {},
     "output_type": "display_data"
    },
    {
     "data": {
      "text/html": [
       "<pre style=\"white-space:pre;overflow-x:auto;line-height:normal;font-family:Menlo,'DejaVu Sans Mono',consolas,'Courier New',monospace\">┏━━━━━━━━━━━━━━━━━━━━━━━━━━━━━━━━━┳━━━━━━━━━━━━━━━━━━━━━━━━┳━━━━━━━━━━━━━━━┓\n",
       "┃<span style=\"font-weight: bold\"> Layer (type)                    </span>┃<span style=\"font-weight: bold\"> Output Shape           </span>┃<span style=\"font-weight: bold\">       Param # </span>┃\n",
       "┡━━━━━━━━━━━━━━━━━━━━━━━━━━━━━━━━━╇━━━━━━━━━━━━━━━━━━━━━━━━╇━━━━━━━━━━━━━━━┩\n",
       "│ flatten (<span style=\"color: #0087ff; text-decoration-color: #0087ff\">Flatten</span>)               │ (<span style=\"color: #00d7ff; text-decoration-color: #00d7ff\">None</span>, <span style=\"color: #00af00; text-decoration-color: #00af00\">784</span>)            │             <span style=\"color: #00af00; text-decoration-color: #00af00\">0</span> │\n",
       "├─────────────────────────────────┼────────────────────────┼───────────────┤\n",
       "│ spectral_dense (<span style=\"color: #0087ff; text-decoration-color: #0087ff\">Dense</span>)          │ (<span style=\"color: #00d7ff; text-decoration-color: #00d7ff\">None</span>, <span style=\"color: #00af00; text-decoration-color: #00af00\">32</span>)             │        <span style=\"color: #00af00; text-decoration-color: #00af00\">25,120</span> │\n",
       "├─────────────────────────────────┼────────────────────────┼───────────────┤\n",
       "│ spectral_dense_1 (<span style=\"color: #0087ff; text-decoration-color: #0087ff\">Dense</span>)        │ (<span style=\"color: #00d7ff; text-decoration-color: #00d7ff\">None</span>, <span style=\"color: #00af00; text-decoration-color: #00af00\">16</span>)             │           <span style=\"color: #00af00; text-decoration-color: #00af00\">528</span> │\n",
       "├─────────────────────────────────┼────────────────────────┼───────────────┤\n",
       "│ spectral_dense_2 (<span style=\"color: #0087ff; text-decoration-color: #0087ff\">Dense</span>)        │ (<span style=\"color: #00d7ff; text-decoration-color: #00d7ff\">None</span>, <span style=\"color: #00af00; text-decoration-color: #00af00\">2</span>)              │            <span style=\"color: #00af00; text-decoration-color: #00af00\">32</span> │\n",
       "└─────────────────────────────────┴────────────────────────┴───────────────┘\n",
       "</pre>\n"
      ],
      "text/plain": [
       "┏━━━━━━━━━━━━━━━━━━━━━━━━━━━━━━━━━┳━━━━━━━━━━━━━━━━━━━━━━━━┳━━━━━━━━━━━━━━━┓\n",
       "┃\u001b[1m \u001b[0m\u001b[1mLayer (type)                   \u001b[0m\u001b[1m \u001b[0m┃\u001b[1m \u001b[0m\u001b[1mOutput Shape          \u001b[0m\u001b[1m \u001b[0m┃\u001b[1m \u001b[0m\u001b[1m      Param #\u001b[0m\u001b[1m \u001b[0m┃\n",
       "┡━━━━━━━━━━━━━━━━━━━━━━━━━━━━━━━━━╇━━━━━━━━━━━━━━━━━━━━━━━━╇━━━━━━━━━━━━━━━┩\n",
       "│ flatten (\u001b[38;5;33mFlatten\u001b[0m)               │ (\u001b[38;5;45mNone\u001b[0m, \u001b[38;5;34m784\u001b[0m)            │             \u001b[38;5;34m0\u001b[0m │\n",
       "├─────────────────────────────────┼────────────────────────┼───────────────┤\n",
       "│ spectral_dense (\u001b[38;5;33mDense\u001b[0m)          │ (\u001b[38;5;45mNone\u001b[0m, \u001b[38;5;34m32\u001b[0m)             │        \u001b[38;5;34m25,120\u001b[0m │\n",
       "├─────────────────────────────────┼────────────────────────┼───────────────┤\n",
       "│ spectral_dense_1 (\u001b[38;5;33mDense\u001b[0m)        │ (\u001b[38;5;45mNone\u001b[0m, \u001b[38;5;34m16\u001b[0m)             │           \u001b[38;5;34m528\u001b[0m │\n",
       "├─────────────────────────────────┼────────────────────────┼───────────────┤\n",
       "│ spectral_dense_2 (\u001b[38;5;33mDense\u001b[0m)        │ (\u001b[38;5;45mNone\u001b[0m, \u001b[38;5;34m2\u001b[0m)              │            \u001b[38;5;34m32\u001b[0m │\n",
       "└─────────────────────────────────┴────────────────────────┴───────────────┘\n"
      ]
     },
     "metadata": {},
     "output_type": "display_data"
    },
    {
     "data": {
      "text/html": [
       "<pre style=\"white-space:pre;overflow-x:auto;line-height:normal;font-family:Menlo,'DejaVu Sans Mono',consolas,'Courier New',monospace\"><span style=\"font-weight: bold\"> Total params: </span><span style=\"color: #00af00; text-decoration-color: #00af00\">77,042</span> (300.95 KB)\n",
       "</pre>\n"
      ],
      "text/plain": [
       "\u001b[1m Total params: \u001b[0m\u001b[38;5;34m77,042\u001b[0m (300.95 KB)\n"
      ]
     },
     "metadata": {},
     "output_type": "display_data"
    },
    {
     "data": {
      "text/html": [
       "<pre style=\"white-space:pre;overflow-x:auto;line-height:normal;font-family:Menlo,'DejaVu Sans Mono',consolas,'Courier New',monospace\"><span style=\"font-weight: bold\"> Trainable params: </span><span style=\"color: #00af00; text-decoration-color: #00af00\">25,680</span> (100.31 KB)\n",
       "</pre>\n"
      ],
      "text/plain": [
       "\u001b[1m Trainable params: \u001b[0m\u001b[38;5;34m25,680\u001b[0m (100.31 KB)\n"
      ]
     },
     "metadata": {},
     "output_type": "display_data"
    },
    {
     "data": {
      "text/html": [
       "<pre style=\"white-space:pre;overflow-x:auto;line-height:normal;font-family:Menlo,'DejaVu Sans Mono',consolas,'Courier New',monospace\"><span style=\"font-weight: bold\"> Non-trainable params: </span><span style=\"color: #00af00; text-decoration-color: #00af00\">0</span> (0.00 B)\n",
       "</pre>\n"
      ],
      "text/plain": [
       "\u001b[1m Non-trainable params: \u001b[0m\u001b[38;5;34m0\u001b[0m (0.00 B)\n"
      ]
     },
     "metadata": {},
     "output_type": "display_data"
    },
    {
     "data": {
      "text/html": [
       "<pre style=\"white-space:pre;overflow-x:auto;line-height:normal;font-family:Menlo,'DejaVu Sans Mono',consolas,'Courier New',monospace\"><span style=\"font-weight: bold\"> Optimizer params: </span><span style=\"color: #00af00; text-decoration-color: #00af00\">51,362</span> (200.64 KB)\n",
       "</pre>\n"
      ],
      "text/plain": [
       "\u001b[1m Optimizer params: \u001b[0m\u001b[38;5;34m51,362\u001b[0m (200.64 KB)\n"
      ]
     },
     "metadata": {},
     "output_type": "display_data"
    }
   ],
   "source": [
    "vanilla_model.summary()"
   ]
  },
  {
   "cell_type": "code",
   "execution_count": 14,
   "metadata": {},
   "outputs": [],
   "source": [
    "model.save('/home/aws_install/robustess_project/lip_models/demo3_FC_MNIST08_channelfirst_False_disj_Neurons.keras')"
   ]
  },
  {
   "cell_type": "code",
   "execution_count": 15,
   "metadata": {},
   "outputs": [],
   "source": [
    "vanilla_model.save(\"/home/aws_install/robustess_project/lip_models/demo3_FC_vanilla_MNIST08_channelfirst_False_disj_Neurons.keras\")"
   ]
  },
  {
   "cell_type": "code",
   "execution_count": 16,
   "metadata": {},
   "outputs": [],
   "source": [
    "layer = vanilla_model.layers[-1]\n",
    "new_dense = Dense(units=4, activation=None, use_bias=True)\n",
    "vanilla_model_bis = keras.models.Sequential(vanilla_model.layers[:-1] + [new_dense])"
   ]
  },
  {
   "cell_type": "code",
   "execution_count": 17,
   "metadata": {},
   "outputs": [
    {
     "data": {
      "text/plain": [
       "<KerasTensor shape=(None, 4), dtype=float32, sparse=False, ragged=False, name=keras_tensor_9>"
      ]
     },
     "execution_count": 17,
     "metadata": {},
     "output_type": "execute_result"
    }
   ],
   "source": [
    "new_dense(layer.input) # compile and erase weights"
   ]
  },
  {
   "cell_type": "code",
   "execution_count": 18,
   "metadata": {},
   "outputs": [],
   "source": [
    "w_temp = np.zeros((16,4), dtype = 'float32')\n",
    "b_temp = np.zeros((4,))\n",
    "b_temp[2:] = -10000\n",
    "\n",
    "w = layer.get_weights()[0] #(16,2)\n",
    "w_temp[:,:2] = w"
   ]
  },
  {
   "cell_type": "code",
   "execution_count": 19,
   "metadata": {},
   "outputs": [],
   "source": [
    "new_dense.set_weights([w_temp, b_temp])"
   ]
  },
  {
   "cell_type": "code",
   "execution_count": 20,
   "metadata": {},
   "outputs": [
    {
     "data": {
      "text/html": [
       "<pre style=\"white-space:pre;overflow-x:auto;line-height:normal;font-family:Menlo,'DejaVu Sans Mono',consolas,'Courier New',monospace\"><span style=\"font-weight: bold\">Model: \"sequential\"</span>\n",
       "</pre>\n"
      ],
      "text/plain": [
       "\u001b[1mModel: \"sequential\"\u001b[0m\n"
      ]
     },
     "metadata": {},
     "output_type": "display_data"
    },
    {
     "data": {
      "text/html": [
       "<pre style=\"white-space:pre;overflow-x:auto;line-height:normal;font-family:Menlo,'DejaVu Sans Mono',consolas,'Courier New',monospace\">┏━━━━━━━━━━━━━━━━━━━━━━━━━━━━━━━━━┳━━━━━━━━━━━━━━━━━━━━━━━━┳━━━━━━━━━━━━━━━┓\n",
       "┃<span style=\"font-weight: bold\"> Layer (type)                    </span>┃<span style=\"font-weight: bold\"> Output Shape           </span>┃<span style=\"font-weight: bold\">       Param # </span>┃\n",
       "┡━━━━━━━━━━━━━━━━━━━━━━━━━━━━━━━━━╇━━━━━━━━━━━━━━━━━━━━━━━━╇━━━━━━━━━━━━━━━┩\n",
       "│ flatten (<span style=\"color: #0087ff; text-decoration-color: #0087ff\">Flatten</span>)               │ (<span style=\"color: #00d7ff; text-decoration-color: #00d7ff\">None</span>, <span style=\"color: #00af00; text-decoration-color: #00af00\">784</span>)            │             <span style=\"color: #00af00; text-decoration-color: #00af00\">0</span> │\n",
       "├─────────────────────────────────┼────────────────────────┼───────────────┤\n",
       "│ spectral_dense (<span style=\"color: #0087ff; text-decoration-color: #0087ff\">Dense</span>)          │ (<span style=\"color: #00d7ff; text-decoration-color: #00d7ff\">None</span>, <span style=\"color: #00af00; text-decoration-color: #00af00\">32</span>)             │        <span style=\"color: #00af00; text-decoration-color: #00af00\">25,120</span> │\n",
       "├─────────────────────────────────┼────────────────────────┼───────────────┤\n",
       "│ spectral_dense_1 (<span style=\"color: #0087ff; text-decoration-color: #0087ff\">Dense</span>)        │ (<span style=\"color: #00d7ff; text-decoration-color: #00d7ff\">None</span>, <span style=\"color: #00af00; text-decoration-color: #00af00\">16</span>)             │           <span style=\"color: #00af00; text-decoration-color: #00af00\">528</span> │\n",
       "├─────────────────────────────────┼────────────────────────┼───────────────┤\n",
       "│ dense (<span style=\"color: #0087ff; text-decoration-color: #0087ff\">Dense</span>)                   │ (<span style=\"color: #00d7ff; text-decoration-color: #00d7ff\">None</span>, <span style=\"color: #00af00; text-decoration-color: #00af00\">4</span>)              │            <span style=\"color: #00af00; text-decoration-color: #00af00\">68</span> │\n",
       "└─────────────────────────────────┴────────────────────────┴───────────────┘\n",
       "</pre>\n"
      ],
      "text/plain": [
       "┏━━━━━━━━━━━━━━━━━━━━━━━━━━━━━━━━━┳━━━━━━━━━━━━━━━━━━━━━━━━┳━━━━━━━━━━━━━━━┓\n",
       "┃\u001b[1m \u001b[0m\u001b[1mLayer (type)                   \u001b[0m\u001b[1m \u001b[0m┃\u001b[1m \u001b[0m\u001b[1mOutput Shape          \u001b[0m\u001b[1m \u001b[0m┃\u001b[1m \u001b[0m\u001b[1m      Param #\u001b[0m\u001b[1m \u001b[0m┃\n",
       "┡━━━━━━━━━━━━━━━━━━━━━━━━━━━━━━━━━╇━━━━━━━━━━━━━━━━━━━━━━━━╇━━━━━━━━━━━━━━━┩\n",
       "│ flatten (\u001b[38;5;33mFlatten\u001b[0m)               │ (\u001b[38;5;45mNone\u001b[0m, \u001b[38;5;34m784\u001b[0m)            │             \u001b[38;5;34m0\u001b[0m │\n",
       "├─────────────────────────────────┼────────────────────────┼───────────────┤\n",
       "│ spectral_dense (\u001b[38;5;33mDense\u001b[0m)          │ (\u001b[38;5;45mNone\u001b[0m, \u001b[38;5;34m32\u001b[0m)             │        \u001b[38;5;34m25,120\u001b[0m │\n",
       "├─────────────────────────────────┼────────────────────────┼───────────────┤\n",
       "│ spectral_dense_1 (\u001b[38;5;33mDense\u001b[0m)        │ (\u001b[38;5;45mNone\u001b[0m, \u001b[38;5;34m16\u001b[0m)             │           \u001b[38;5;34m528\u001b[0m │\n",
       "├─────────────────────────────────┼────────────────────────┼───────────────┤\n",
       "│ dense (\u001b[38;5;33mDense\u001b[0m)                   │ (\u001b[38;5;45mNone\u001b[0m, \u001b[38;5;34m4\u001b[0m)              │            \u001b[38;5;34m68\u001b[0m │\n",
       "└─────────────────────────────────┴────────────────────────┴───────────────┘\n"
      ]
     },
     "metadata": {},
     "output_type": "display_data"
    },
    {
     "data": {
      "text/html": [
       "<pre style=\"white-space:pre;overflow-x:auto;line-height:normal;font-family:Menlo,'DejaVu Sans Mono',consolas,'Courier New',monospace\"><span style=\"font-weight: bold\"> Total params: </span><span style=\"color: #00af00; text-decoration-color: #00af00\">25,716</span> (100.45 KB)\n",
       "</pre>\n"
      ],
      "text/plain": [
       "\u001b[1m Total params: \u001b[0m\u001b[38;5;34m25,716\u001b[0m (100.45 KB)\n"
      ]
     },
     "metadata": {},
     "output_type": "display_data"
    },
    {
     "data": {
      "text/html": [
       "<pre style=\"white-space:pre;overflow-x:auto;line-height:normal;font-family:Menlo,'DejaVu Sans Mono',consolas,'Courier New',monospace\"><span style=\"font-weight: bold\"> Trainable params: </span><span style=\"color: #00af00; text-decoration-color: #00af00\">25,716</span> (100.45 KB)\n",
       "</pre>\n"
      ],
      "text/plain": [
       "\u001b[1m Trainable params: \u001b[0m\u001b[38;5;34m25,716\u001b[0m (100.45 KB)\n"
      ]
     },
     "metadata": {},
     "output_type": "display_data"
    },
    {
     "data": {
      "text/html": [
       "<pre style=\"white-space:pre;overflow-x:auto;line-height:normal;font-family:Menlo,'DejaVu Sans Mono',consolas,'Courier New',monospace\"><span style=\"font-weight: bold\"> Non-trainable params: </span><span style=\"color: #00af00; text-decoration-color: #00af00\">0</span> (0.00 B)\n",
       "</pre>\n"
      ],
      "text/plain": [
       "\u001b[1m Non-trainable params: \u001b[0m\u001b[38;5;34m0\u001b[0m (0.00 B)\n"
      ]
     },
     "metadata": {},
     "output_type": "display_data"
    }
   ],
   "source": [
    "vanilla_model_bis.summary()"
   ]
  },
  {
   "cell_type": "code",
   "execution_count": 21,
   "metadata": {},
   "outputs": [
    {
     "name": "stdout",
     "output_type": "stream",
     "text": [
      "\u001b[1m1/1\u001b[0m \u001b[32m━━━━━━━━━━━━━━━━━━━━\u001b[0m\u001b[37m\u001b[0m \u001b[1m0s\u001b[0m 273ms/step\n"
     ]
    },
    {
     "data": {
      "text/plain": [
       "array([[-2.5456893e+00,  2.5312362e+00, -1.0000000e+04, -1.0000000e+04]],\n",
       "      dtype=float32)"
      ]
     },
     "execution_count": 21,
     "metadata": {},
     "output_type": "execute_result"
    }
   ],
   "source": [
    "vanilla_model_bis.predict(x_test[0:1])"
   ]
  },
  {
   "cell_type": "code",
   "execution_count": 22,
   "metadata": {},
   "outputs": [
    {
     "name": "stdout",
     "output_type": "stream",
     "text": [
      "\u001b[1m1/1\u001b[0m \u001b[32m━━━━━━━━━━━━━━━━━━━━\u001b[0m\u001b[37m\u001b[0m \u001b[1m0s\u001b[0m 262ms/step\n"
     ]
    },
    {
     "data": {
      "text/plain": [
       "array([[-2.5456893,  2.5312362]], dtype=float32)"
      ]
     },
     "execution_count": 22,
     "metadata": {},
     "output_type": "execute_result"
    }
   ],
   "source": [
    "vanilla_model.predict(x_test[0:1])"
   ]
  },
  {
   "cell_type": "code",
   "execution_count": 23,
   "metadata": {},
   "outputs": [],
   "source": [
    "vanilla_model_bis.save(\"/home/aws_install/robustess_project/lip_models/demo3_FC_vanilla_MNIST08_channelfirst_False_disj_Neurons_4logits.keras\")"
   ]
  }
 ],
 "metadata": {
  "kernelspec": {
   "display_name": "k3tfenv",
   "language": "python",
   "name": "python3"
  },
  "language_info": {
   "codemirror_mode": {
    "name": "ipython",
    "version": 3
   },
   "file_extension": ".py",
   "mimetype": "text/x-python",
   "name": "python",
   "nbconvert_exporter": "python",
   "pygments_lexer": "ipython3",
   "version": "3.10.16"
  }
 },
 "nbformat": 4,
 "nbformat_minor": 4
}
