{
 "cells": [
  {
   "cell_type": "code",
   "execution_count": 1,
   "metadata": {},
   "outputs": [],
   "source": [
    "import os\n",
    "os.environ[\"KERAS_BACKEND\"] = \"torch\""
   ]
  },
  {
   "cell_type": "code",
   "execution_count": 2,
   "metadata": {},
   "outputs": [],
   "source": [
    "import keras\n",
    "import keras.ops as K\n",
    "from keras.layers import Input, Flatten, Dense\n",
    "from keras.optimizers import Adam\n",
    "from keras.metrics import BinaryAccuracy\n",
    "\n",
    "# from keras.models import Sequential\n",
    "from deel.lip.model import Sequential\n",
    "\n",
    "from deel.lip.layers import (\n",
    "    SpectralDense,\n",
    "    SpectralConv2D,\n",
    "    ScaledL2NormPooling2D,\n",
    "    FrobeniusDense,\n",
    ")\n",
    "from deel.lip.activations import GroupSort, GroupSort2\n",
    "from deel.lip.losses import HKR, KR, HingeMargin, MulticlassHKR, MulticlassKR\n",
    "\n",
    "import numpy as np\n",
    "import decomon\n",
    "\n",
    "from data_processing import load_data, select_data_for_radius_evaluation_MNIST08\n",
    "from radius_evaluation_tools import compute_binary_certificate, starting_point_dichotomy"
   ]
  },
  {
   "cell_type": "code",
   "execution_count": 3,
   "metadata": {},
   "outputs": [],
   "source": [
    "x_train, x_test, y_train, y_test, y_test_ord = load_data(\"MNIST08\")"
   ]
  },
  {
   "cell_type": "code",
   "execution_count": 4,
   "metadata": {},
   "outputs": [
    {
     "name": "stderr",
     "output_type": "stream",
     "text": [
      "/home/aws_install/miniconda3/envs/k3torchenv/lib/python3.10/site-packages/keras/src/saving/saving_lib.py:802: UserWarning: Skipping variable loading for optimizer 'adam', because it has 12 variables whereas the saved optimizer has 2 variables. \n",
      "  saveable.load_own_variables(weights_store.get(inner_path))\n"
     ]
    }
   ],
   "source": [
    "model_path = \"/home/aws_install/robustess_project/lip_models/demo3_FC_vanilla_MNIST08_channelfirst_False_disj_Neurons_single_output.keras\"\n",
    "model = keras.models.load_model(model_path)\n",
    "model.compile(\n",
    "   \n",
    "    loss=HKR(\n",
    "        alpha=10.0, min_margin=1.0\n",
    "    ),  # HKR stands for the hinge regularized KR loss\n",
    "    metrics=[\n",
    "        # KR,  # shows the KR term of the loss\n",
    "        HingeMargin(min_margin=1.0),  # shows the hinge term of the loss\n",
    "    ],\n",
    "    optimizer=Adam(learning_rate=0.001),)"
   ]
  },
  {
   "cell_type": "code",
   "execution_count": 5,
   "metadata": {},
   "outputs": [
    {
     "name": "stderr",
     "output_type": "stream",
     "text": [
      "/home/aws_install/miniconda3/envs/k3torchenv/lib/python3.10/site-packages/keras/src/saving/saving_lib.py:802: UserWarning: Skipping variable loading for optimizer 'adam', because it has 14 variables whereas the saved optimizer has 2 variables. \n",
      "  saveable.load_own_variables(weights_store.get(inner_path))\n"
     ]
    }
   ],
   "source": [
    "model_bis_path = \"/home/aws_install/robustess_project/lip_models/demo3_FC_vanilla_MNIST08_channelfirst_False_disj_Neurons_single_output_converted_4logits.keras\"\n",
    "model_bis = keras.models.load_model(model_bis_path)\n",
    "model_bis.compile(\n",
    "        # decreasing alpha and increasing min_margin improve robustness (at the cost of accuracy)\n",
    "        # note also in the case of lipschitz networks, more robustness require more parameters.\n",
    "        loss=MulticlassHKR(alpha=100, min_margin=0.25),\n",
    "        optimizer=Adam(1e-4),\n",
    "        metrics=[\"accuracy\", MulticlassKR()],)"
   ]
  },
  {
   "cell_type": "code",
   "execution_count": 6,
   "metadata": {},
   "outputs": [],
   "source": [
    "from decomon.layers import DecomonLayer\n",
    "from decomon.models import clone\n",
    "from lipschitz_custom_tools import *\n",
    "from decomon.perturbation_domain import BallDomain\n",
    "from decomon import get_lower_noise, get_range_noise, get_upper_noise"
   ]
  },
  {
   "cell_type": "code",
   "execution_count": 7,
   "metadata": {},
   "outputs": [
    {
     "name": "stdout",
     "output_type": "stream",
     "text": [
      "torch.Size([100, 1, 28, 28])\n",
      "torch.Size([100, 1, 28, 28])\n"
     ]
    }
   ],
   "source": [
    "images, labels, idx_list = select_data_for_radius_evaluation_MNIST08(x_test, y_test_ord, model_bis)"
   ]
  },
  {
   "cell_type": "code",
   "execution_count": 8,
   "metadata": {},
   "outputs": [],
   "source": [
    "from keras.models import Model"
   ]
  },
  {
   "cell_type": "code",
   "execution_count": 9,
   "metadata": {},
   "outputs": [],
   "source": [
    "import pdb"
   ]
  },
  {
   "cell_type": "code",
   "execution_count": 10,
   "metadata": {},
   "outputs": [],
   "source": [
    "class DecomonGroupSort2(DecomonLayer):\n",
    "    layer : GroupSort2\n",
    "    increasing = True\n",
    "    def get_affine_bounds(self, lower, upper):\n",
    "        (W_low, b_low), (W_up, b_up) = affine_bound_groupsort_output_keras(lower, upper)\n",
    "        W_low = K.transpose(W_low,(0,2,1))\n",
    "        W_up = K.transpose(W_up,(0,2,1))\n",
    "        return W_low, b_low, W_up, b_up"
   ]
  },
  {
   "cell_type": "code",
   "execution_count": null,
   "metadata": {},
   "outputs": [],
   "source": [
    "# class DecomonGroupSort2(DecomonLayer):\n",
    "#     layer : GroupSort2\n",
    "#     increasing = True\n",
    "#     def __init__(self,**kwargs):\n",
    "#         super().__init__(**kwargs)\n",
    "#         self.model = Model(model.inputs, self.layer.input)\n",
    "#         self.lip = 1\n",
    "        \n",
    "#     def get_affine_bounds(self, lower, upper):\n",
    "#         (W_low, b_low), (W_up, b_up) = affine_bound_groupsort_output_keras(lower, upper)\n",
    "#         W_low = K.transpose(W_low,(0,2,1))\n",
    "#         W_up = K.transpose(W_up,(0,2,1))\n",
    "#         return W_low, b_low, W_up, b_up\n",
    "    \n",
    "#     def call(self, inputs, training=False):\n",
    "        \n",
    "#         (\n",
    "#             affine_bounds_to_propagate,\n",
    "#             constant_oracle_bounds,\n",
    "#             perturbation_domain_inputs,\n",
    "#         ) = self.inputs_outputs_spec.split_inputs(inputs=inputs)\n",
    "\n",
    "#         x = perturbation_domain_inputs\n",
    "#         eps = self.perturbation_domain.eps\n",
    "#         pdb.set_trace()\n",
    "#         lower_lip = self.model(x) - self.lip*eps\n",
    "#         upper_lip = self.model(x) + self.lip*eps\n",
    "\n",
    "#         lipschitz_bounds = [lower_lip, upper_lip]\n",
    "#         affine_bounds_propagated = self.call_backward(\n",
    "#             affine_bounds_to_propagate=affine_bounds_to_propagate, constant_oracle_bounds=lipschitz_bounds\n",
    "#         )\n",
    "#         return self.inputs_outputs_spec.flatten_outputs(affine_bounds_propagated)\n",
    "        \n",
    "\n",
    "#         #since model is 1-Lipschitz we compute tighter upper and lower bounds"
   ]
  },
  {
   "cell_type": "code",
   "execution_count": 11,
   "metadata": {},
   "outputs": [],
   "source": [
    "lip_certificate = compute_binary_certificate(images, model)"
   ]
  },
  {
   "cell_type": "code",
   "execution_count": 12,
   "metadata": {},
   "outputs": [
    {
     "data": {
      "text/plain": [
       "tensor([1.6613, 3.0277, 3.0674, 4.6951, 4.3250, 3.6832, 3.1318, 3.9830, 4.2999,\n",
       "        2.5395], device='cuda:0', grad_fn=<SliceBackward0>)"
      ]
     },
     "execution_count": 12,
     "metadata": {},
     "output_type": "execute_result"
    }
   ],
   "source": [
    "lip_certificate[:10]"
   ]
  },
  {
   "cell_type": "code",
   "execution_count": 13,
   "metadata": {},
   "outputs": [],
   "source": [
    "def compute_Decomon_certificates(i, epsilon, inputs, model):\n",
    "    perturbation_domain = BallDomain(eps=epsilon, p=2)\n",
    "    decomon_model = clone(model, mapping_keras2decomon_classes={GroupSort2:DecomonGroupSort2}, final_ibp=True, final_affine=False, perturbation_domain=perturbation_domain, method='crown')\n",
    "    # upper_test_ = get_upper_noise(decomon_model,  inputs[i:i+1], eps=epsilon, p=2)[:, 0]\n",
    "    # lower_test_ = get_lower_noise(decomon_model, inputs[i:i+1], eps=epsilon, p=2)[:, 0]\n",
    "    # return lower_test_, upper_test_\n",
    "    return decomon_model.predict(inputs[i:i+1])"
   ]
  },
  {
   "cell_type": "code",
   "execution_count": 14,
   "metadata": {},
   "outputs": [
    {
     "name": "stderr",
     "output_type": "stream",
     "text": [
      "2025-05-06 15:29:17.153251: E external/local_xla/xla/stream_executor/cuda/cuda_fft.cc:477] Unable to register cuFFT factory: Attempting to register factory for plugin cuFFT when one has already been registered\n",
      "WARNING: All log messages before absl::InitializeLog() is called are written to STDERR\n",
      "E0000 00:00:1746538157.173543   18673 cuda_dnn.cc:8310] Unable to register cuDNN factory: Attempting to register factory for plugin cuDNN when one has already been registered\n",
      "E0000 00:00:1746538157.179893   18673 cuda_blas.cc:1418] Unable to register cuBLAS factory: Attempting to register factory for plugin cuBLAS when one has already been registered\n",
      "2025-05-06 15:29:17.199728: I tensorflow/core/platform/cpu_feature_guard.cc:210] This TensorFlow binary is optimized to use available CPU instructions in performance-critical operations.\n",
      "To enable the following instructions: AVX2 FMA, in other operations, rebuild TensorFlow with the appropriate compiler flags.\n"
     ]
    },
    {
     "name": "stdout",
     "output_type": "stream",
     "text": [
      "\u001b[1m1/1\u001b[0m \u001b[32m━━━━━━━━━━━━━━━━━━━━\u001b[0m\u001b[37m\u001b[0m \u001b[1m0s\u001b[0m 109ms/step\n"
     ]
    },
    {
     "name": "stderr",
     "output_type": "stream",
     "text": [
      "/home/aws_install/miniconda3/envs/k3torchenv/lib/python3.10/site-packages/keras/src/models/functional.py:238: UserWarning: The structure of `inputs` doesn't match the expected structure.\n",
      "Expected: ['perturbation_domain_input_lipModel']\n",
      "Received: inputs=Tensor(shape=torch.Size([1, 1, 28, 28]))\n",
      "  warnings.warn(msg)\n"
     ]
    }
   ],
   "source": [
    "perturbation_domain = BallDomain(eps=1, p=2)\n",
    "decomon_model = clone(model, mapping_keras2decomon_classes={GroupSort2:DecomonGroupSort2}, final_ibp=True, final_affine=False, perturbation_domain=perturbation_domain, method=\"crown\")\n",
    "lower, upper = decomon_model.predict(images[0:1])"
   ]
  },
  {
   "cell_type": "code",
   "execution_count": 15,
   "metadata": {},
   "outputs": [
    {
     "name": "stdout",
     "output_type": "stream",
     "text": [
      "\u001b[1m1/1\u001b[0m \u001b[32m━━━━━━━━━━━━━━━━━━━━\u001b[0m\u001b[37m\u001b[0m \u001b[1m0s\u001b[0m 6ms/step\n"
     ]
    },
    {
     "data": {
      "text/plain": [
       "array([[-1.6612895]], dtype=float32)"
      ]
     },
     "execution_count": 15,
     "metadata": {},
     "output_type": "execute_result"
    }
   ],
   "source": [
    "model.predict(images[0:1])"
   ]
  },
  {
   "cell_type": "code",
   "execution_count": 16,
   "metadata": {},
   "outputs": [
    {
     "name": "stdout",
     "output_type": "stream",
     "text": [
      "\u001b[1m1/1\u001b[0m \u001b[32m━━━━━━━━━━━━━━━━━━━━\u001b[0m\u001b[37m\u001b[0m \u001b[1m0s\u001b[0m 57ms/step\n",
      "[array([[-3.5799596]], dtype=float32), array([[1.1188315]], dtype=float32)]\n"
     ]
    }
   ],
   "source": [
    "print(compute_Decomon_certificates(0, 1, images, model))"
   ]
  },
  {
   "cell_type": "code",
   "execution_count": 17,
   "metadata": {},
   "outputs": [
    {
     "name": "stdout",
     "output_type": "stream",
     "text": [
      "\u001b[1m1/1\u001b[0m \u001b[32m━━━━━━━━━━━━━━━━━━━━\u001b[0m\u001b[37m\u001b[0m \u001b[1m0s\u001b[0m 5ms/step\n"
     ]
    },
    {
     "data": {
      "text/plain": [
       "array([[-4.299889]], dtype=float32)"
      ]
     },
     "execution_count": 17,
     "metadata": {},
     "output_type": "execute_result"
    }
   ],
   "source": [
    "model.predict(images[8:9])"
   ]
  },
  {
   "cell_type": "code",
   "execution_count": 33,
   "metadata": {},
   "outputs": [],
   "source": [
    "def single_compute_decomon_radius(idx, images, targets, model, n_iter = 10):\n",
    "    image = images[idx:idx+1]\n",
    "    target = targets[idx:idx+1]\n",
    "    print(\"class of the input : \", target[0])\n",
    "    # certificate = certificates[idx:idx+1]\n",
    "    # We use dichotomy algorithm to fine the smallest optimistic radius\n",
    "    # We start from the closest point with different class\n",
    "    d_up = starting_point_dichotomy(idx, images, targets)\n",
    "    eps_working = d_low = 0\n",
    "    for _ in range(n_iter):\n",
    "        eps_current = (d_up+d_low)/2\n",
    "        print(eps_current)\n",
    "        perturbation_domain = BallDomain(eps=eps_current, p=2)\n",
    "        decomon_model = clone(model, mapping_keras2decomon_classes={GroupSort2:DecomonGroupSort2}, final_ibp=True, final_affine=False, perturbation_domain=perturbation_domain, method=\"crown\")\n",
    "        lower, upper = decomon_model.predict(image)\n",
    "\n",
    "        # lower, upper = compute_Decomon_certificates(idx, eps_current, images, model)\n",
    "        if (target==0 and upper<=0) or (target==1 and lower>=0):\n",
    "            print(\"working\", upper, lower)\n",
    "            eps_working = d_low = eps_current\n",
    "        else:\n",
    "            print(\"not working\", upper, lower)\n",
    "            d_up = eps_current\n",
    "    return eps_working"
   ]
  },
  {
   "cell_type": "code",
   "execution_count": 34,
   "metadata": {},
   "outputs": [
    {
     "name": "stdout",
     "output_type": "stream",
     "text": [
      "class of the input :  tensor(1, device='cuda:0')\n",
      "tensor(5.0054, device='cuda:0')\n",
      "\u001b[1m1/1\u001b[0m \u001b[32m━━━━━━━━━━━━━━━━━━━━\u001b[0m\u001b[37m\u001b[0m \u001b[1m0s\u001b[0m 59ms/step\n",
      "not working [[42.61066]] [[-23.46467]]\n",
      "tensor(2.5027, device='cuda:0')\n",
      "\u001b[1m1/1\u001b[0m \u001b[32m━━━━━━━━━━━━━━━━━━━━\u001b[0m\u001b[37m\u001b[0m \u001b[1m0s\u001b[0m 59ms/step\n"
     ]
    },
    {
     "name": "stderr",
     "output_type": "stream",
     "text": [
      "/home/aws_install/miniconda3/envs/k3torchenv/lib/python3.10/site-packages/keras/src/models/functional.py:238: UserWarning: The structure of `inputs` doesn't match the expected structure.\n",
      "Expected: ['perturbation_domain_input_lipModel']\n",
      "Received: inputs=Tensor(shape=torch.Size([1, 1, 28, 28]))\n",
      "  warnings.warn(msg)\n"
     ]
    },
    {
     "name": "stdout",
     "output_type": "stream",
     "text": [
      "not working [[17.259666]] [[-7.0412064]]\n",
      "tensor(1.2513, device='cuda:0')\n",
      "\u001b[1m1/1\u001b[0m \u001b[32m━━━━━━━━━━━━━━━━━━━━\u001b[0m\u001b[37m\u001b[0m \u001b[1m0s\u001b[0m 56ms/step\n",
      "working [[7.6462293]] [[1.4089662]]\n",
      "tensor(1.8770, device='cuda:0')\n",
      "\u001b[1m1/1\u001b[0m \u001b[32m━━━━━━━━━━━━━━━━━━━━\u001b[0m\u001b[37m\u001b[0m \u001b[1m0s\u001b[0m 58ms/step\n",
      "not working [[11.850521]] [[-2.9264975]]\n",
      "tensor(1.5642, device='cuda:0')\n",
      "\u001b[1m1/1\u001b[0m \u001b[32m━━━━━━━━━━━━━━━━━━━━\u001b[0m\u001b[37m\u001b[0m \u001b[1m0s\u001b[0m 54ms/step\n",
      "not working [[9.273465]] [[-0.45567703]]\n",
      "tensor(1.4078, device='cuda:0')\n",
      "\u001b[1m1/1\u001b[0m \u001b[32m━━━━━━━━━━━━━━━━━━━━\u001b[0m\u001b[37m\u001b[0m \u001b[1m0s\u001b[0m 55ms/step\n",
      "working [[8.378182]] [[0.58449364]]\n",
      "tensor(1.4860, device='cuda:0')\n",
      "\u001b[1m1/1\u001b[0m \u001b[32m━━━━━━━━━━━━━━━━━━━━\u001b[0m\u001b[37m\u001b[0m \u001b[1m0s\u001b[0m 54ms/step\n",
      "working [[8.82137]] [[0.0692476]]\n",
      "tensor(1.5251, device='cuda:0')\n",
      "\u001b[1m1/1\u001b[0m \u001b[32m━━━━━━━━━━━━━━━━━━━━\u001b[0m\u001b[37m\u001b[0m \u001b[1m0s\u001b[0m 55ms/step\n",
      "not working [[9.048304]] [[-0.19288075]]\n",
      "tensor(1.5055, device='cuda:0')\n",
      "\u001b[1m1/1\u001b[0m \u001b[32m━━━━━━━━━━━━━━━━━━━━\u001b[0m\u001b[37m\u001b[0m \u001b[1m0s\u001b[0m 53ms/step\n",
      "not working [[8.934013]] [[-0.06105053]]\n",
      "tensor(1.4957, device='cuda:0')\n",
      "\u001b[1m1/1\u001b[0m \u001b[32m━━━━━━━━━━━━━━━━━━━━\u001b[0m\u001b[37m\u001b[0m \u001b[1m0s\u001b[0m 54ms/step\n",
      "working [[8.8764]] [[0.00535846]]\n",
      "tensor(4.4950, device='cuda:0', grad_fn=<SelectBackward0>) tensor(1.4957, device='cuda:0')\n"
     ]
    }
   ],
   "source": [
    "idx = 199\n",
    "eps = single_compute_decomon_radius(idx, images, labels, model)\n",
    "print(lip_certificate[idx], eps)"
   ]
  },
  {
   "cell_type": "code",
   "execution_count": 31,
   "metadata": {},
   "outputs": [
    {
     "name": "stdout",
     "output_type": "stream",
     "text": [
      "\u001b[1m1/1\u001b[0m \u001b[32m━━━━━━━━━━━━━━━━━━━━\u001b[0m\u001b[37m\u001b[0m \u001b[1m0s\u001b[0m 53ms/step\n"
     ]
    },
    {
     "data": {
      "text/plain": [
       "[array([[-0.0236156]], dtype=float32), array([[8.901539]], dtype=float32)]"
      ]
     },
     "execution_count": 31,
     "metadata": {},
     "output_type": "execute_result"
    }
   ],
   "source": [
    "compute_Decomon_certificates(199, 1.5, images, model)"
   ]
  },
  {
   "cell_type": "code",
   "execution_count": 32,
   "metadata": {},
   "outputs": [
    {
     "name": "stdout",
     "output_type": "stream",
     "text": [
      "class of the input :  tensor(0, device='cuda:0')\n",
      "tensor(4.6030, device='cuda:0')\n"
     ]
    },
    {
     "ename": "TypeError",
     "evalue": "TorchTrainer.predict() got an unexpected keyword argument 'eps'",
     "output_type": "error",
     "traceback": [
      "\u001b[0;31m---------------------------------------------------------------------------\u001b[0m",
      "\u001b[0;31mTypeError\u001b[0m                                 Traceback (most recent call last)",
      "Cell \u001b[0;32mIn[32], line 2\u001b[0m\n\u001b[1;32m      1\u001b[0m idx \u001b[38;5;241m=\u001b[39m \u001b[38;5;241m0\u001b[39m\n\u001b[0;32m----> 2\u001b[0m eps \u001b[38;5;241m=\u001b[39m \u001b[43msingle_compute_decomon_radius\u001b[49m\u001b[43m(\u001b[49m\u001b[43midx\u001b[49m\u001b[43m,\u001b[49m\u001b[43m \u001b[49m\u001b[43mimages\u001b[49m\u001b[43m,\u001b[49m\u001b[43m \u001b[49m\u001b[43mlabels\u001b[49m\u001b[43m,\u001b[49m\u001b[43m \u001b[49m\u001b[43mmodel\u001b[49m\u001b[43m)\u001b[49m\n\u001b[1;32m      3\u001b[0m \u001b[38;5;28mprint\u001b[39m(lip_certificate[idx], eps)\n",
      "Cell \u001b[0;32mIn[28], line 15\u001b[0m, in \u001b[0;36msingle_compute_decomon_radius\u001b[0;34m(idx, images, targets, model, n_iter)\u001b[0m\n\u001b[1;32m     13\u001b[0m perturbation_domain \u001b[38;5;241m=\u001b[39m BallDomain(eps\u001b[38;5;241m=\u001b[39meps_current, p\u001b[38;5;241m=\u001b[39m\u001b[38;5;241m2\u001b[39m)\n\u001b[1;32m     14\u001b[0m decomon_model \u001b[38;5;241m=\u001b[39m clone(model, mapping_keras2decomon_classes\u001b[38;5;241m=\u001b[39m{GroupSort2:DecomonGroupSort2}, final_ibp\u001b[38;5;241m=\u001b[39m\u001b[38;5;28;01mTrue\u001b[39;00m, final_affine\u001b[38;5;241m=\u001b[39m\u001b[38;5;28;01mFalse\u001b[39;00m, perturbation_domain\u001b[38;5;241m=\u001b[39mperturbation_domain, method\u001b[38;5;241m=\u001b[39m\u001b[38;5;124m\"\u001b[39m\u001b[38;5;124mcrown\u001b[39m\u001b[38;5;124m\"\u001b[39m)\n\u001b[0;32m---> 15\u001b[0m lower, upper \u001b[38;5;241m=\u001b[39m \u001b[43mdecomon_model\u001b[49m\u001b[38;5;241;43m.\u001b[39;49m\u001b[43mpredict\u001b[49m\u001b[43m(\u001b[49m\u001b[43mimage\u001b[49m\u001b[43m,\u001b[49m\u001b[43m \u001b[49m\u001b[43meps\u001b[49m\u001b[38;5;241;43m=\u001b[39;49m\u001b[43meps_current\u001b[49m\u001b[43m,\u001b[49m\u001b[43mp\u001b[49m\u001b[38;5;241;43m=\u001b[39;49m\u001b[38;5;241;43m2\u001b[39;49m\u001b[43m)\u001b[49m\n\u001b[1;32m     17\u001b[0m \u001b[38;5;66;03m# lower, upper = compute_Decomon_certificates(idx, eps_current, images, model)\u001b[39;00m\n\u001b[1;32m     18\u001b[0m \u001b[38;5;28;01mif\u001b[39;00m (target\u001b[38;5;241m==\u001b[39m\u001b[38;5;241m0\u001b[39m \u001b[38;5;129;01mand\u001b[39;00m upper\u001b[38;5;241m<\u001b[39m\u001b[38;5;241m=\u001b[39m\u001b[38;5;241m0\u001b[39m) \u001b[38;5;129;01mor\u001b[39;00m (target\u001b[38;5;241m==\u001b[39m\u001b[38;5;241m1\u001b[39m \u001b[38;5;129;01mand\u001b[39;00m lower\u001b[38;5;241m>\u001b[39m\u001b[38;5;241m=\u001b[39m\u001b[38;5;241m0\u001b[39m):\n",
      "File \u001b[0;32m~/miniconda3/envs/k3torchenv/lib/python3.10/site-packages/keras/src/utils/traceback_utils.py:122\u001b[0m, in \u001b[0;36mfilter_traceback.<locals>.error_handler\u001b[0;34m(*args, **kwargs)\u001b[0m\n\u001b[1;32m    119\u001b[0m     filtered_tb \u001b[38;5;241m=\u001b[39m _process_traceback_frames(e\u001b[38;5;241m.\u001b[39m__traceback__)\n\u001b[1;32m    120\u001b[0m     \u001b[38;5;66;03m# To get the full stack trace, call:\u001b[39;00m\n\u001b[1;32m    121\u001b[0m     \u001b[38;5;66;03m# `keras.config.disable_traceback_filtering()`\u001b[39;00m\n\u001b[0;32m--> 122\u001b[0m     \u001b[38;5;28;01mraise\u001b[39;00m e\u001b[38;5;241m.\u001b[39mwith_traceback(filtered_tb) \u001b[38;5;28;01mfrom\u001b[39;00m\u001b[38;5;250m \u001b[39m\u001b[38;5;28;01mNone\u001b[39;00m\n\u001b[1;32m    123\u001b[0m \u001b[38;5;28;01mfinally\u001b[39;00m:\n\u001b[1;32m    124\u001b[0m     \u001b[38;5;28;01mdel\u001b[39;00m filtered_tb\n",
      "File \u001b[0;32m~/miniconda3/envs/k3torchenv/lib/python3.10/site-packages/keras/src/utils/traceback_utils.py:117\u001b[0m, in \u001b[0;36mfilter_traceback.<locals>.error_handler\u001b[0;34m(*args, **kwargs)\u001b[0m\n\u001b[1;32m    115\u001b[0m filtered_tb \u001b[38;5;241m=\u001b[39m \u001b[38;5;28;01mNone\u001b[39;00m\n\u001b[1;32m    116\u001b[0m \u001b[38;5;28;01mtry\u001b[39;00m:\n\u001b[0;32m--> 117\u001b[0m     \u001b[38;5;28;01mreturn\u001b[39;00m fn(\u001b[38;5;241m*\u001b[39margs, \u001b[38;5;241m*\u001b[39m\u001b[38;5;241m*\u001b[39mkwargs)\n\u001b[1;32m    118\u001b[0m \u001b[38;5;28;01mexcept\u001b[39;00m \u001b[38;5;167;01mException\u001b[39;00m \u001b[38;5;28;01mas\u001b[39;00m e:\n\u001b[1;32m    119\u001b[0m     filtered_tb \u001b[38;5;241m=\u001b[39m _process_traceback_frames(e\u001b[38;5;241m.\u001b[39m__traceback__)\n",
      "\u001b[0;31mTypeError\u001b[0m: TorchTrainer.predict() got an unexpected keyword argument 'eps'"
     ]
    }
   ],
   "source": [
    "idx = 0\n",
    "eps = single_compute_decomon_radius(idx, images, labels, model)\n",
    "print(lip_certificate[idx], eps)"
   ]
  },
  {
   "cell_type": "code",
   "execution_count": 25,
   "metadata": {},
   "outputs": [
    {
     "name": "stdout",
     "output_type": "stream",
     "text": [
      "class of the input :  tensor(1, device='cuda:0')\n",
      "tensor(4.2620, device='cuda:0')\n",
      "\u001b[1m1/1\u001b[0m \u001b[32m━━━━━━━━━━━━━━━━━━━━\u001b[0m\u001b[37m\u001b[0m \u001b[1m0s\u001b[0m 55ms/step\n"
     ]
    },
    {
     "name": "stdout",
     "output_type": "stream",
     "text": [
      "not working [[35.14774]] [[-19.776806]]\n",
      "tensor(2.1310, device='cuda:0')\n",
      "\u001b[1m1/1\u001b[0m \u001b[32m━━━━━━━━━━━━━━━━━━━━\u001b[0m\u001b[37m\u001b[0m \u001b[1m0s\u001b[0m 54ms/step\n",
      "not working [[13.840949]] [[-5.616832]]\n",
      "tensor(1.0655, device='cuda:0')\n",
      "\u001b[1m1/1\u001b[0m \u001b[32m━━━━━━━━━━━━━━━━━━━━\u001b[0m\u001b[37m\u001b[0m \u001b[1m0s\u001b[0m 56ms/step\n",
      "working [[5.861185]] [[1.2494501]]\n",
      "tensor(1.5982, device='cuda:0')\n",
      "\u001b[1m1/1\u001b[0m \u001b[32m━━━━━━━━━━━━━━━━━━━━\u001b[0m\u001b[37m\u001b[0m \u001b[1m0s\u001b[0m 53ms/step\n",
      "not working [[9.149612]] [[-1.9857818]]\n",
      "tensor(1.3319, device='cuda:0')\n",
      "\u001b[1m1/1\u001b[0m \u001b[32m━━━━━━━━━━━━━━━━━━━━\u001b[0m\u001b[37m\u001b[0m \u001b[1m0s\u001b[0m 54ms/step\n",
      "not working [[7.3681545]] [[-0.09885299]]\n",
      "tensor(1.1987, device='cuda:0')\n",
      "\u001b[1m1/1\u001b[0m \u001b[32m━━━━━━━━━━━━━━━━━━━━\u001b[0m\u001b[37m\u001b[0m \u001b[1m0s\u001b[0m 55ms/step\n",
      "working [[6.5584226]] [[0.6675036]]\n",
      "tensor(1.2653, device='cuda:0')\n",
      "\u001b[1m1/1\u001b[0m \u001b[32m━━━━━━━━━━━━━━━━━━━━\u001b[0m\u001b[37m\u001b[0m \u001b[1m0s\u001b[0m 55ms/step\n",
      "working [[6.940564]] [[0.32510614]]\n",
      "tensor(1.2986, device='cuda:0')\n",
      "\u001b[1m1/1\u001b[0m \u001b[32m━━━━━━━━━━━━━━━━━━━━\u001b[0m\u001b[37m\u001b[0m \u001b[1m0s\u001b[0m 54ms/step\n",
      "working [[7.1377616]] [[0.14247811]]\n",
      "tensor(1.3152, device='cuda:0')\n",
      "\u001b[1m1/1\u001b[0m \u001b[32m━━━━━━━━━━━━━━━━━━━━\u001b[0m\u001b[37m\u001b[0m \u001b[1m0s\u001b[0m 55ms/step\n",
      "working [[7.250029]] [[0.02541304]]\n",
      "tensor(1.3235, device='cuda:0')\n",
      "\u001b[1m1/1\u001b[0m \u001b[32m━━━━━━━━━━━━━━━━━━━━\u001b[0m\u001b[37m\u001b[0m \u001b[1m0s\u001b[0m 53ms/step\n",
      "not working [[7.307299]] [[-0.03442824]]\n",
      "class of the input :  tensor(1, device='cuda:0')\n",
      "tensor(4.3078, device='cuda:0')\n",
      "\u001b[1m1/1\u001b[0m \u001b[32m━━━━━━━━━━━━━━━━━━━━\u001b[0m\u001b[37m\u001b[0m \u001b[1m0s\u001b[0m 53ms/step\n",
      "not working [[36.63852]] [[-21.289862]]\n",
      "tensor(2.1539, device='cuda:0')\n",
      "\u001b[1m1/1\u001b[0m \u001b[32m━━━━━━━━━━━━━━━━━━━━\u001b[0m\u001b[37m\u001b[0m \u001b[1m0s\u001b[0m 55ms/step\n",
      "not working [[14.601586]] [[-7.3554144]]\n",
      "tensor(1.0769, device='cuda:0')\n",
      "\u001b[1m1/1\u001b[0m \u001b[32m━━━━━━━━━━━━━━━━━━━━\u001b[0m\u001b[37m\u001b[0m \u001b[1m0s\u001b[0m 54ms/step\n",
      "not working [[6.343128]] [[-0.28590465]]\n",
      "tensor(0.5385, device='cuda:0')\n",
      "\u001b[1m1/1\u001b[0m \u001b[32m━━━━━━━━━━━━━━━━━━━━\u001b[0m\u001b[37m\u001b[0m \u001b[1m0s\u001b[0m 54ms/step\n",
      "working [[4.0248313]] [[2.3084357]]\n",
      "tensor(0.8077, device='cuda:0')\n",
      "\u001b[1m1/1\u001b[0m \u001b[32m━━━━━━━━━━━━━━━━━━━━\u001b[0m\u001b[37m\u001b[0m \u001b[1m0s\u001b[0m 57ms/step\n",
      "working [[4.9545846]] [[1.321943]]\n",
      "tensor(0.9423, device='cuda:0')\n",
      "\u001b[1m1/1\u001b[0m \u001b[32m━━━━━━━━━━━━━━━━━━━━\u001b[0m\u001b[37m\u001b[0m \u001b[1m0s\u001b[0m 55ms/step\n",
      "working [[5.638924]] [[0.5524722]]\n",
      "tensor(1.0096, device='cuda:0')\n",
      "\u001b[1m1/1\u001b[0m \u001b[32m━━━━━━━━━━━━━━━━━━━━\u001b[0m\u001b[37m\u001b[0m \u001b[1m0s\u001b[0m 54ms/step\n",
      "working [[6.0004377]] [[0.1251306]]\n",
      "tensor(1.0433, device='cuda:0')\n",
      "\u001b[1m1/1\u001b[0m \u001b[32m━━━━━━━━━━━━━━━━━━━━\u001b[0m\u001b[37m\u001b[0m \u001b[1m0s\u001b[0m 53ms/step\n",
      "not working [[6.1738253]] [[-0.081617]]\n",
      "tensor(1.0265, device='cuda:0')\n",
      "\u001b[1m1/1\u001b[0m \u001b[32m━━━━━━━━━━━━━━━━━━━━\u001b[0m\u001b[37m\u001b[0m \u001b[1m0s\u001b[0m 54ms/step\n",
      "working [[6.087676]] [[0.02121747]]\n",
      "tensor(1.0349, device='cuda:0')\n",
      "\u001b[1m1/1\u001b[0m \u001b[32m━━━━━━━━━━━━━━━━━━━━\u001b[0m\u001b[37m\u001b[0m \u001b[1m0s\u001b[0m 54ms/step\n",
      "not working [[6.130883]] [[-0.03032982]]\n",
      "class of the input :  tensor(1, device='cuda:0')\n",
      "tensor(3.8401, device='cuda:0')\n",
      "\u001b[1m1/1\u001b[0m \u001b[32m━━━━━━━━━━━━━━━━━━━━\u001b[0m\u001b[37m\u001b[0m \u001b[1m0s\u001b[0m 53ms/step\n",
      "not working [[31.63983]] [[-18.724825]]\n",
      "tensor(1.9200, device='cuda:0')\n",
      "\u001b[1m1/1\u001b[0m \u001b[32m━━━━━━━━━━━━━━━━━━━━\u001b[0m\u001b[37m\u001b[0m \u001b[1m0s\u001b[0m 53ms/step\n",
      "not working [[12.614873]] [[-6.2286334]]\n",
      "tensor(0.9600, device='cuda:0')\n",
      "\u001b[1m1/1\u001b[0m \u001b[32m━━━━━━━━━━━━━━━━━━━━\u001b[0m\u001b[37m\u001b[0m \u001b[1m0s\u001b[0m 55ms/step\n",
      "working [[4.940712]] [[0.3952859]]\n",
      "tensor(1.4400, device='cuda:0')\n",
      "\u001b[1m1/1\u001b[0m \u001b[32m━━━━━━━━━━━━━━━━━━━━\u001b[0m\u001b[37m\u001b[0m \u001b[1m0s\u001b[0m 53ms/step\n",
      "not working [[8.095625]] [[-2.8479462]]\n",
      "tensor(1.2000, device='cuda:0')\n",
      "\u001b[1m1/1\u001b[0m \u001b[32m━━━━━━━━━━━━━━━━━━━━\u001b[0m\u001b[37m\u001b[0m \u001b[1m0s\u001b[0m 52ms/step\n",
      "not working [[6.359943]] [[-1.1751146]]\n",
      "tensor(1.0800, device='cuda:0')\n",
      "\u001b[1m1/1\u001b[0m \u001b[32m━━━━━━━━━━━━━━━━━━━━\u001b[0m\u001b[37m\u001b[0m \u001b[1m0s\u001b[0m 53ms/step\n",
      "not working [[5.610634]] [[-0.36253077]]\n",
      "tensor(1.0200, device='cuda:0')\n",
      "\u001b[1m1/1\u001b[0m \u001b[32m━━━━━━━━━━━━━━━━━━━━\u001b[0m\u001b[37m\u001b[0m \u001b[1m0s\u001b[0m 53ms/step\n",
      "working [[5.2079735]] [[0.07261145]]\n",
      "tensor(1.0500, device='cuda:0')\n",
      "\u001b[1m1/1\u001b[0m \u001b[32m━━━━━━━━━━━━━━━━━━━━\u001b[0m\u001b[37m\u001b[0m \u001b[1m0s\u001b[0m 54ms/step\n",
      "not working [[5.4124603]] [[-0.14800107]]\n",
      "tensor(1.0350, device='cuda:0')\n",
      "\u001b[1m1/1\u001b[0m \u001b[32m━━━━━━━━━━━━━━━━━━━━\u001b[0m\u001b[37m\u001b[0m \u001b[1m0s\u001b[0m 53ms/step\n",
      "not working [[5.3110557]] [[-0.03864199]]\n",
      "tensor(1.0275, device='cuda:0')\n",
      "\u001b[1m1/1\u001b[0m \u001b[32m━━━━━━━━━━━━━━━━━━━━\u001b[0m\u001b[37m\u001b[0m \u001b[1m0s\u001b[0m 57ms/step\n",
      "working [[5.259731]] [[0.01674014]]\n",
      "class of the input :  tensor(1, device='cuda:0')\n",
      "tensor(5.4392, device='cuda:0')\n",
      "\u001b[1m1/1\u001b[0m \u001b[32m━━━━━━━━━━━━━━━━━━━━\u001b[0m\u001b[37m\u001b[0m \u001b[1m0s\u001b[0m 56ms/step\n",
      "not working [[46.109097]] [[-26.96605]]\n",
      "tensor(2.7196, device='cuda:0')\n",
      "\u001b[1m1/1\u001b[0m \u001b[32m━━━━━━━━━━━━━━━━━━━━\u001b[0m\u001b[37m\u001b[0m \u001b[1m0s\u001b[0m 56ms/step\n",
      "not working [[18.13247]] [[-8.101559]]\n",
      "tensor(1.3598, device='cuda:0')\n",
      "\u001b[1m1/1\u001b[0m \u001b[32m━━━━━━━━━━━━━━━━━━━━\u001b[0m\u001b[37m\u001b[0m \u001b[1m0s\u001b[0m 54ms/step\n",
      "working [[8.521135]] [[1.022472]]\n",
      "tensor(2.0397, device='cuda:0')\n",
      "\u001b[1m1/1\u001b[0m \u001b[32m━━━━━━━━━━━━━━━━━━━━\u001b[0m\u001b[37m\u001b[0m \u001b[1m0s\u001b[0m 54ms/step\n",
      "not working [[12.090316]] [[-3.2974691]]\n",
      "tensor(1.6997, device='cuda:0')\n",
      "\u001b[1m1/1\u001b[0m \u001b[32m━━━━━━━━━━━━━━━━━━━━\u001b[0m\u001b[37m\u001b[0m \u001b[1m0s\u001b[0m 54ms/step\n",
      "not working [[10.218878]] [[-1.0841107]]\n",
      "tensor(1.5298, device='cuda:0')\n",
      "\u001b[1m1/1\u001b[0m \u001b[32m━━━━━━━━━━━━━━━━━━━━\u001b[0m\u001b[37m\u001b[0m \u001b[1m0s\u001b[0m 53ms/step\n",
      "not working [[9.377124]] [[-0.0074265]]\n",
      "tensor(1.4448, device='cuda:0')\n",
      "\u001b[1m1/1\u001b[0m \u001b[32m━━━━━━━━━━━━━━━━━━━━\u001b[0m\u001b[37m\u001b[0m \u001b[1m0s\u001b[0m 55ms/step\n",
      "working [[8.926198]] [[0.5597297]]\n",
      "tensor(1.4873, device='cuda:0')\n",
      "\u001b[1m1/1\u001b[0m \u001b[32m━━━━━━━━━━━━━━━━━━━━\u001b[0m\u001b[37m\u001b[0m \u001b[1m0s\u001b[0m 55ms/step\n",
      "working [[9.153915]] [[0.27470398]]\n",
      "tensor(1.5085, device='cuda:0')\n",
      "\u001b[1m1/1\u001b[0m \u001b[32m━━━━━━━━━━━━━━━━━━━━\u001b[0m\u001b[37m\u001b[0m \u001b[1m0s\u001b[0m 53ms/step\n",
      "working [[9.266287]] [[0.13285136]]\n",
      "tensor(1.5191, device='cuda:0')\n",
      "\u001b[1m1/1\u001b[0m \u001b[32m━━━━━━━━━━━━━━━━━━━━\u001b[0m\u001b[37m\u001b[0m \u001b[1m0s\u001b[0m 54ms/step\n",
      "working [[9.321891]] [[0.06252193]]\n",
      "class of the input :  tensor(1, device='cuda:0')\n",
      "tensor(4.0260, device='cuda:0')\n",
      "\u001b[1m1/1\u001b[0m \u001b[32m━━━━━━━━━━━━━━━━━━━━\u001b[0m\u001b[37m\u001b[0m \u001b[1m0s\u001b[0m 55ms/step\n",
      "not working [[32.24772]] [[-19.03569]]\n",
      "tensor(2.0130, device='cuda:0')\n",
      "\u001b[1m1/1\u001b[0m \u001b[32m━━━━━━━━━━━━━━━━━━━━\u001b[0m\u001b[37m\u001b[0m \u001b[1m0s\u001b[0m 53ms/step\n",
      "not working [[11.556391]] [[-5.4441004]]\n",
      "tensor(1.0065, device='cuda:0')\n",
      "\u001b[1m1/1\u001b[0m \u001b[32m━━━━━━━━━━━━━━━━━━━━\u001b[0m\u001b[37m\u001b[0m \u001b[1m0s\u001b[0m 53ms/step\n",
      "working [[4.754634]] [[0.59148204]]\n",
      "tensor(1.5097, device='cuda:0')\n",
      "\u001b[1m1/1\u001b[0m \u001b[32m━━━━━━━━━━━━━━━━━━━━\u001b[0m\u001b[37m\u001b[0m \u001b[1m0s\u001b[0m 52ms/step\n",
      "not working [[7.4206805]] [[-1.9554771]]\n",
      "tensor(1.2581, device='cuda:0')\n",
      "\u001b[1m1/1\u001b[0m \u001b[32m━━━━━━━━━━━━━━━━━━━━\u001b[0m\u001b[37m\u001b[0m \u001b[1m0s\u001b[0m 53ms/step\n",
      "not working [[6.0244017]] [[-0.5367948]]\n",
      "tensor(1.1323, device='cuda:0')\n",
      "\u001b[1m1/1\u001b[0m \u001b[32m━━━━━━━━━━━━━━━━━━━━\u001b[0m\u001b[37m\u001b[0m \u001b[1m0s\u001b[0m 52ms/step\n",
      "working [[5.3908076]] [[0.06476331]]\n",
      "tensor(1.1952, device='cuda:0')\n",
      "\u001b[1m1/1\u001b[0m \u001b[32m━━━━━━━━━━━━━━━━━━━━\u001b[0m\u001b[37m\u001b[0m \u001b[1m0s\u001b[0m 53ms/step\n",
      "not working [[5.7113857]] [[-0.2381475]]\n",
      "tensor(1.1638, device='cuda:0')\n",
      "\u001b[1m1/1\u001b[0m \u001b[32m━━━━━━━━━━━━━━━━━━━━\u001b[0m\u001b[37m\u001b[0m \u001b[1m0s\u001b[0m 55ms/step\n",
      "not working [[5.552405]] [[-0.0881604]]\n",
      "tensor(1.1480, device='cuda:0')\n",
      "\u001b[1m1/1\u001b[0m \u001b[32m━━━━━━━━━━━━━━━━━━━━\u001b[0m\u001b[37m\u001b[0m \u001b[1m0s\u001b[0m 53ms/step\n",
      "not working [[5.4717693]] [[-0.01210058]]\n",
      "tensor(1.1402, device='cuda:0')\n",
      "\u001b[1m1/1\u001b[0m \u001b[32m━━━━━━━━━━━━━━━━━━━━\u001b[0m\u001b[37m\u001b[0m \u001b[1m0s\u001b[0m 52ms/step\n",
      "working [[5.431404]] [[0.02622771]]\n",
      "class of the input :  tensor(1, device='cuda:0')\n",
      "tensor(3.6248, device='cuda:0')\n",
      "\u001b[1m1/1\u001b[0m \u001b[32m━━━━━━━━━━━━━━━━━━━━\u001b[0m\u001b[37m\u001b[0m \u001b[1m0s\u001b[0m 53ms/step\n",
      "not working [[28.984615]] [[-19.399366]]\n",
      "tensor(1.8124, device='cuda:0')\n",
      "\u001b[1m1/1\u001b[0m \u001b[32m━━━━━━━━━━━━━━━━━━━━\u001b[0m\u001b[37m\u001b[0m \u001b[1m0s\u001b[0m 53ms/step\n",
      "not working [[10.5138445]] [[-7.1910734]]\n",
      "tensor(0.9062, device='cuda:0')\n",
      "\u001b[1m1/1\u001b[0m \u001b[32m━━━━━━━━━━━━━━━━━━━━\u001b[0m\u001b[37m\u001b[0m \u001b[1m0s\u001b[0m 54ms/step\n",
      "not working [[3.0205224]] [[-1.1270037]]\n",
      "tensor(0.4531, device='cuda:0')\n",
      "\u001b[1m1/1\u001b[0m \u001b[32m━━━━━━━━━━━━━━━━━━━━\u001b[0m\u001b[37m\u001b[0m \u001b[1m0s\u001b[0m 53ms/step\n",
      "working [[1.8311334]] [[0.17605683]]\n",
      "tensor(0.6796, device='cuda:0')\n",
      "\u001b[1m1/1\u001b[0m \u001b[32m━━━━━━━━━━━━━━━━━━━━\u001b[0m\u001b[37m\u001b[0m \u001b[1m0s\u001b[0m 53ms/step\n",
      "not working [[2.3358874]] [[-0.40910786]]\n",
      "tensor(0.5664, device='cuda:0')\n",
      "\u001b[1m1/1\u001b[0m \u001b[32m━━━━━━━━━━━━━━━━━━━━\u001b[0m\u001b[37m\u001b[0m \u001b[1m0s\u001b[0m 55ms/step\n",
      "not working [[2.0362933]] [[-0.09212667]]\n",
      "tensor(0.5097, device='cuda:0')\n",
      "\u001b[1m1/1\u001b[0m \u001b[32m━━━━━━━━━━━━━━━━━━━━\u001b[0m\u001b[37m\u001b[0m \u001b[1m0s\u001b[0m 55ms/step\n",
      "working [[1.9356563]] [[0.03974134]]\n",
      "tensor(0.5381, device='cuda:0')\n",
      "\u001b[1m1/1\u001b[0m \u001b[32m━━━━━━━━━━━━━━━━━━━━\u001b[0m\u001b[37m\u001b[0m \u001b[1m0s\u001b[0m 57ms/step\n",
      "not working [[1.9863827]] [[-0.02666032]]\n",
      "tensor(0.5239, device='cuda:0')\n",
      "\u001b[1m1/1\u001b[0m \u001b[32m━━━━━━━━━━━━━━━━━━━━\u001b[0m\u001b[37m\u001b[0m \u001b[1m0s\u001b[0m 56ms/step\n",
      "working [[1.96113]] [[0.006414]]\n",
      "tensor(0.5310, device='cuda:0')\n",
      "\u001b[1m1/1\u001b[0m \u001b[32m━━━━━━━━━━━━━━━━━━━━\u001b[0m\u001b[37m\u001b[0m \u001b[1m0s\u001b[0m 55ms/step\n",
      "not working [[1.9737827]] [[-0.01015341]]\n",
      "class of the input :  tensor(1, device='cuda:0')\n",
      "tensor(4.9326, device='cuda:0')\n",
      "\u001b[1m1/1\u001b[0m \u001b[32m━━━━━━━━━━━━━━━━━━━━\u001b[0m\u001b[37m\u001b[0m \u001b[1m0s\u001b[0m 54ms/step\n",
      "not working [[42.367584]] [[-25.61298]]\n",
      "tensor(2.4663, device='cuda:0')\n",
      "\u001b[1m1/1\u001b[0m \u001b[32m━━━━━━━━━━━━━━━━━━━━\u001b[0m\u001b[37m\u001b[0m \u001b[1m0s\u001b[0m 53ms/step\n",
      "not working [[19.380493]] [[-9.892263]]\n",
      "tensor(1.2331, device='cuda:0')\n",
      "\u001b[1m1/1\u001b[0m \u001b[32m━━━━━━━━━━━━━━━━━━━━\u001b[0m\u001b[37m\u001b[0m \u001b[1m0s\u001b[0m 55ms/step\n",
      "not working [[7.3659763]] [[-0.9643874]]\n",
      "tensor(0.6166, device='cuda:0')\n",
      "\u001b[1m1/1\u001b[0m \u001b[32m━━━━━━━━━━━━━━━━━━━━\u001b[0m\u001b[37m\u001b[0m \u001b[1m0s\u001b[0m 54ms/step\n",
      "working [[5.0526853]] [[2.3523674]]\n",
      "tensor(0.9249, device='cuda:0')\n",
      "\u001b[1m1/1\u001b[0m \u001b[32m━━━━━━━━━━━━━━━━━━━━\u001b[0m\u001b[37m\u001b[0m \u001b[1m0s\u001b[0m 54ms/step\n",
      "working [[5.9481125]] [[0.8879386]]\n",
      "tensor(1.0790, device='cuda:0')\n",
      "\u001b[1m1/1\u001b[0m \u001b[32m━━━━━━━━━━━━━━━━━━━━\u001b[0m\u001b[37m\u001b[0m \u001b[1m0s\u001b[0m 54ms/step\n",
      "working [[6.497166]] [[0.03566742]]\n",
      "tensor(1.1561, device='cuda:0')\n",
      "\u001b[1m1/1\u001b[0m \u001b[32m━━━━━━━━━━━━━━━━━━━━\u001b[0m\u001b[37m\u001b[0m \u001b[1m0s\u001b[0m 55ms/step\n",
      "not working [[6.8057995]] [[-0.4078734]]\n",
      "tensor(1.1175, device='cuda:0')\n",
      "\u001b[1m1/1\u001b[0m \u001b[32m━━━━━━━━━━━━━━━━━━━━\u001b[0m\u001b[37m\u001b[0m \u001b[1m0s\u001b[0m 54ms/step\n",
      "not working [[6.635833]] [[-0.18066859]]\n",
      "tensor(1.0983, device='cuda:0')\n",
      "\u001b[1m1/1\u001b[0m \u001b[32m━━━━━━━━━━━━━━━━━━━━\u001b[0m\u001b[37m\u001b[0m \u001b[1m0s\u001b[0m 53ms/step\n",
      "not working [[6.5667896]] [[-0.07283866]]\n",
      "tensor(1.0886, device='cuda:0')\n",
      "\u001b[1m1/1\u001b[0m \u001b[32m━━━━━━━━━━━━━━━━━━━━\u001b[0m\u001b[37m\u001b[0m \u001b[1m0s\u001b[0m 54ms/step\n",
      "not working [[6.532053]] [[-0.01867247]]\n",
      "class of the input :  tensor(1, device='cuda:0')\n",
      "tensor(4.5842, device='cuda:0')\n",
      "\u001b[1m1/1\u001b[0m \u001b[32m━━━━━━━━━━━━━━━━━━━━\u001b[0m\u001b[37m\u001b[0m \u001b[1m0s\u001b[0m 53ms/step\n",
      "not working [[37.99488]] [[-22.355951]]\n",
      "tensor(2.2921, device='cuda:0')\n",
      "\u001b[1m1/1\u001b[0m \u001b[32m━━━━━━━━━━━━━━━━━━━━\u001b[0m\u001b[37m\u001b[0m \u001b[1m0s\u001b[0m 54ms/step\n",
      "not working [[15.545369]] [[-6.7449837]]\n",
      "tensor(1.1460, device='cuda:0')\n",
      "\u001b[1m1/1\u001b[0m \u001b[32m━━━━━━━━━━━━━━━━━━━━\u001b[0m\u001b[37m\u001b[0m \u001b[1m0s\u001b[0m 53ms/step\n",
      "working [[8.236334]] [[0.6721865]]\n",
      "tensor(1.7191, device='cuda:0')\n",
      "\u001b[1m1/1\u001b[0m \u001b[32m━━━━━━━━━━━━━━━━━━━━\u001b[0m\u001b[37m\u001b[0m \u001b[1m0s\u001b[0m 52ms/step\n",
      "not working [[11.005179]] [[-2.8869338]]\n",
      "tensor(1.4326, device='cuda:0')\n",
      "\u001b[1m1/1\u001b[0m \u001b[32m━━━━━━━━━━━━━━━━━━━━\u001b[0m\u001b[37m\u001b[0m \u001b[1m0s\u001b[0m 53ms/step\n",
      "not working [[9.619605]] [[-1.1205684]]\n",
      "tensor(1.2893, device='cuda:0')\n",
      "\u001b[1m1/1\u001b[0m \u001b[32m━━━━━━━━━━━━━━━━━━━━\u001b[0m\u001b[37m\u001b[0m \u001b[1m0s\u001b[0m 53ms/step\n",
      "not working [[8.9303]] [[-0.22865117]]\n",
      "tensor(1.2177, device='cuda:0')\n",
      "\u001b[1m1/1\u001b[0m \u001b[32m━━━━━━━━━━━━━━━━━━━━\u001b[0m\u001b[37m\u001b[0m \u001b[1m0s\u001b[0m 57ms/step\n",
      "working [[8.57847]] [[0.22665024]]\n",
      "tensor(1.2535, device='cuda:0')\n",
      "\u001b[1m1/1\u001b[0m \u001b[32m━━━━━━━━━━━━━━━━━━━━\u001b[0m\u001b[37m\u001b[0m \u001b[1m0s\u001b[0m 53ms/step\n",
      "working [[8.751413]] [[0.00199759]]\n",
      "tensor(1.2714, device='cuda:0')\n",
      "\u001b[1m1/1\u001b[0m \u001b[32m━━━━━━━━━━━━━━━━━━━━\u001b[0m\u001b[37m\u001b[0m \u001b[1m0s\u001b[0m 54ms/step\n",
      "not working [[8.841239]] [[-0.11377287]]\n",
      "tensor(1.2624, device='cuda:0')\n",
      "\u001b[1m1/1\u001b[0m \u001b[32m━━━━━━━━━━━━━━━━━━━━\u001b[0m\u001b[37m\u001b[0m \u001b[1m0s\u001b[0m 54ms/step\n",
      "not working [[8.796424]] [[-0.05600142]]\n",
      "class of the input :  tensor(1, device='cuda:0')\n",
      "tensor(4.1069, device='cuda:0')\n",
      "\u001b[1m1/1\u001b[0m \u001b[32m━━━━━━━━━━━━━━━━━━━━\u001b[0m\u001b[37m\u001b[0m \u001b[1m0s\u001b[0m 53ms/step\n",
      "not working [[35.19086]] [[-20.841934]]\n",
      "tensor(2.0534, device='cuda:0')\n",
      "\u001b[1m1/1\u001b[0m \u001b[32m━━━━━━━━━━━━━━━━━━━━\u001b[0m\u001b[37m\u001b[0m \u001b[1m0s\u001b[0m 53ms/step\n",
      "not working [[13.979335]] [[-7.3875384]]\n",
      "tensor(1.0267, device='cuda:0')\n",
      "\u001b[1m1/1\u001b[0m \u001b[32m━━━━━━━━━━━━━━━━━━━━\u001b[0m\u001b[37m\u001b[0m \u001b[1m0s\u001b[0m 53ms/step\n",
      "not working [[5.927019]] [[-0.536442]]\n",
      "tensor(0.5134, device='cuda:0')\n",
      "\u001b[1m1/1\u001b[0m \u001b[32m━━━━━━━━━━━━━━━━━━━━\u001b[0m\u001b[37m\u001b[0m \u001b[1m0s\u001b[0m 53ms/step\n",
      "working [[3.6811628]] [[2.065476]]\n",
      "tensor(0.7700, device='cuda:0')\n",
      "\u001b[1m1/1\u001b[0m \u001b[32m━━━━━━━━━━━━━━━━━━━━\u001b[0m\u001b[37m\u001b[0m \u001b[1m0s\u001b[0m 364ms/step\n",
      "working [[4.502864]] [[1.0858846]]\n",
      "tensor(0.8984, device='cuda:0')\n",
      "\u001b[1m1/1\u001b[0m \u001b[32m━━━━━━━━━━━━━━━━━━━━\u001b[0m\u001b[37m\u001b[0m \u001b[1m0s\u001b[0m 65ms/step\n",
      "working [[5.2394695]] [[0.27094948]]\n",
      "tensor(0.9625, device='cuda:0')\n",
      "\u001b[1m1/1\u001b[0m \u001b[32m━━━━━━━━━━━━━━━━━━━━\u001b[0m\u001b[37m\u001b[0m \u001b[1m0s\u001b[0m 66ms/step\n",
      "not working [[5.591907]] [[-0.14186257]]\n",
      "tensor(0.9305, device='cuda:0')\n",
      "\u001b[1m1/1\u001b[0m \u001b[32m━━━━━━━━━━━━━━━━━━━━\u001b[0m\u001b[37m\u001b[0m \u001b[1m0s\u001b[0m 68ms/step\n",
      "working [[5.4181466]] [[0.06195724]]\n",
      "tensor(0.9465, device='cuda:0')\n",
      "\u001b[1m1/1\u001b[0m \u001b[32m━━━━━━━━━━━━━━━━━━━━\u001b[0m\u001b[37m\u001b[0m \u001b[1m0s\u001b[0m 71ms/step\n",
      "not working [[5.5056005]] [[-0.04055583]]\n",
      "tensor(0.9385, device='cuda:0')\n",
      "\u001b[1m1/1\u001b[0m \u001b[32m━━━━━━━━━━━━━━━━━━━━\u001b[0m\u001b[37m\u001b[0m \u001b[1m0s\u001b[0m 69ms/step\n",
      "working [[5.4620214]] [[0.01054496]]\n",
      "class of the input :  tensor(1, device='cuda:0')\n",
      "tensor(4.9837, device='cuda:0')\n",
      "\u001b[1m1/1\u001b[0m \u001b[32m━━━━━━━━━━━━━━━━━━━━\u001b[0m\u001b[37m\u001b[0m \u001b[1m0s\u001b[0m 68ms/step\n",
      "not working [[43.41631]] [[-27.025951]]\n",
      "tensor(2.4919, device='cuda:0')\n",
      "\u001b[1m1/1\u001b[0m \u001b[32m━━━━━━━━━━━━━━━━━━━━\u001b[0m\u001b[37m\u001b[0m \u001b[1m0s\u001b[0m 57ms/step\n",
      "not working [[20.191832]] [[-11.782281]]\n",
      "tensor(1.2459, device='cuda:0')\n",
      "\u001b[1m1/1\u001b[0m \u001b[32m━━━━━━━━━━━━━━━━━━━━\u001b[0m\u001b[37m\u001b[0m \u001b[1m0s\u001b[0m 68ms/step\n",
      "not working [[7.507538]] [[-2.8839285]]\n",
      "tensor(0.6230, device='cuda:0')\n",
      "\u001b[1m1/1\u001b[0m \u001b[32m━━━━━━━━━━━━━━━━━━━━\u001b[0m\u001b[37m\u001b[0m \u001b[1m0s\u001b[0m 67ms/step\n",
      "working [[3.432387]] [[0.7619604]]\n",
      "tensor(0.9345, device='cuda:0')\n",
      "\u001b[1m1/1\u001b[0m \u001b[32m━━━━━━━━━━━━━━━━━━━━\u001b[0m\u001b[37m\u001b[0m \u001b[1m0s\u001b[0m 58ms/step\n",
      "not working [[4.7793922]] [[-0.7536623]]\n",
      "tensor(0.7787, device='cuda:0')\n",
      "\u001b[1m1/1\u001b[0m \u001b[32m━━━━━━━━━━━━━━━━━━━━\u001b[0m\u001b[37m\u001b[0m \u001b[1m0s\u001b[0m 65ms/step\n",
      "working [[4.0128136]] [[0.04116726]]\n",
      "tensor(0.8566, device='cuda:0')\n",
      "\u001b[1m1/1\u001b[0m \u001b[32m━━━━━━━━━━━━━━━━━━━━\u001b[0m\u001b[37m\u001b[0m \u001b[1m0s\u001b[0m 64ms/step\n",
      "not working [[4.3291407]] [[-0.31614524]]\n",
      "tensor(0.8176, device='cuda:0')\n",
      "\u001b[1m1/1\u001b[0m \u001b[32m━━━━━━━━━━━━━━━━━━━━\u001b[0m\u001b[37m\u001b[0m \u001b[1m0s\u001b[0m 57ms/step\n",
      "not working [[4.1668253]] [[-0.13669503]]\n",
      "tensor(0.7982, device='cuda:0')\n",
      "\u001b[1m1/1\u001b[0m \u001b[32m━━━━━━━━━━━━━━━━━━━━\u001b[0m\u001b[37m\u001b[0m \u001b[1m0s\u001b[0m 63ms/step\n",
      "not working [[4.085523]] [[-0.04626691]]\n",
      "tensor(0.7884, device='cuda:0')\n",
      "\u001b[1m1/1\u001b[0m \u001b[32m━━━━━━━━━━━━━━━━━━━━\u001b[0m\u001b[37m\u001b[0m \u001b[1m0s\u001b[0m 57ms/step\n",
      "not working [[4.0468197]] [[-0.00161332]]\n"
     ]
    }
   ],
   "source": [
    "list_eps = []\n",
    "list_certif = []\n",
    "for idx in range(100,110):\n",
    "    list_eps.append(single_compute_decomon_radius(idx, images, labels, model))\n",
    "    list_certif.append(lip_certificate[idx])"
   ]
  },
  {
   "cell_type": "code",
   "execution_count": 26,
   "metadata": {},
   "outputs": [
    {
     "data": {
      "text/plain": [
       "[tensor(1.3152, device='cuda:0'),\n",
       " tensor(1.0265, device='cuda:0'),\n",
       " tensor(1.0275, device='cuda:0'),\n",
       " tensor(1.5191, device='cuda:0'),\n",
       " tensor(1.1402, device='cuda:0'),\n",
       " tensor(0.5239, device='cuda:0'),\n",
       " tensor(1.0790, device='cuda:0'),\n",
       " tensor(1.2535, device='cuda:0'),\n",
       " tensor(0.9385, device='cuda:0'),\n",
       " tensor(0.7787, device='cuda:0')]"
      ]
     },
     "execution_count": 26,
     "metadata": {},
     "output_type": "execute_result"
    }
   ],
   "source": [
    "list_eps"
   ]
  },
  {
   "cell_type": "code",
   "execution_count": 27,
   "metadata": {},
   "outputs": [
    {
     "data": {
      "text/plain": [
       "[tensor(3.5752, device='cuda:0', grad_fn=<SelectBackward0>),\n",
       " tensor(3.2317, device='cuda:0', grad_fn=<SelectBackward0>),\n",
       " tensor(2.7815, device='cuda:0', grad_fn=<SelectBackward0>),\n",
       " tensor(4.9184, device='cuda:0', grad_fn=<SelectBackward0>),\n",
       " tensor(2.7873, device='cuda:0', grad_fn=<SelectBackward0>),\n",
       " tensor(1.1270, device='cuda:0', grad_fn=<SelectBackward0>),\n",
       " tensor(3.9001, device='cuda:0', grad_fn=<SelectBackward0>),\n",
       " tensor(4.5482, device='cuda:0', grad_fn=<SelectBackward0>),\n",
       " tensor(2.9653, device='cuda:0', grad_fn=<SelectBackward0>),\n",
       " tensor(2.2265, device='cuda:0', grad_fn=<SelectBackward0>)]"
      ]
     },
     "execution_count": 27,
     "metadata": {},
     "output_type": "execute_result"
    }
   ],
   "source": [
    "list_certif"
   ]
  },
  {
   "cell_type": "markdown",
   "metadata": {},
   "source": [
    "# CE qui suit est inutile"
   ]
  },
  {
   "cell_type": "code",
   "execution_count": null,
   "metadata": {},
   "outputs": [],
   "source": [
    "box = np.zeros((1,2,1,28,28))"
   ]
  },
  {
   "cell_type": "code",
   "execution_count": null,
   "metadata": {},
   "outputs": [],
   "source": [
    "box[:,1] += 0.1"
   ]
  },
  {
   "cell_type": "code",
   "execution_count": null,
   "metadata": {},
   "outputs": [
    {
     "ename": "NameError",
     "evalue": "name 'decomon_model' is not defined",
     "output_type": "error",
     "traceback": [
      "\u001b[0;31m---------------------------------------------------------------------------\u001b[0m",
      "\u001b[0;31mNameError\u001b[0m                                 Traceback (most recent call last)",
      "Cell \u001b[0;32mIn[23], line 1\u001b[0m\n\u001b[0;32m----> 1\u001b[0m \u001b[43mdecomon_model\u001b[49m\u001b[38;5;241m.\u001b[39mpredict(box)\n",
      "\u001b[0;31mNameError\u001b[0m: name 'decomon_model' is not defined"
     ]
    }
   ],
   "source": [
    "decomon_model.predict(box)"
   ]
  },
  {
   "cell_type": "code",
   "execution_count": null,
   "metadata": {},
   "outputs": [],
   "source": [
    "class Sqrt(keras.layers.Layer):\n",
    "    def call(self, inputs):\n",
    "        return K.sqrt(inputs)\n",
    "\n",
    "class Square(keras.layers.Layer):\n",
    "    def call(self, inputs):\n",
    "        return K.square(inputs)"
   ]
  },
  {
   "cell_type": "code",
   "execution_count": null,
   "metadata": {},
   "outputs": [],
   "source": [
    "class DecomonSqrt(DecomonLayer):\n",
    "    layer : Sqrt\n",
    "    increasing = True\n",
    "    def get_affine_bounds(self, lower, upper):\n",
    "        (W_low, b_low), (W_up, b_up) = affine_bound_sqrt_output_keras(lower, upper)\n",
    "        return W_low, b_low, W_up, b_up\n",
    "class DecomonSquare(DecomonLayer):\n",
    "    layer : Square\n",
    "    def get_affine_bounds(self, lower, upper):\n",
    "        (W_low, b_low), (W_up, b_up) = affine_bound_square_output_keras(lower, upper)\n",
    "        return W_low, b_low, W_up, b_up\n",
    "    def forward_ibp_propagate(self, lower, upper):\n",
    "        return self.layer(lower), self.layer(upper)"
   ]
  },
  {
   "cell_type": "code",
   "execution_count": null,
   "metadata": {},
   "outputs": [],
   "source": [
    "sqrt = Sqrt()"
   ]
  },
  {
   "cell_type": "code",
   "execution_count": null,
   "metadata": {},
   "outputs": [],
   "source": [
    "sqrt.predict(4)"
   ]
  },
  {
   "cell_type": "markdown",
   "metadata": {},
   "source": [
    "# Test GS2 decomon"
   ]
  },
  {
   "cell_type": "markdown",
   "metadata": {},
   "source": [
    "## Cas 1 : z0 > 0"
   ]
  },
  {
   "cell_type": "code",
   "execution_count": null,
   "metadata": {},
   "outputs": [],
   "source": [
    "from deel.lip.model import Sequential"
   ]
  },
  {
   "cell_type": "code",
   "execution_count": null,
   "metadata": {},
   "outputs": [],
   "source": [
    "modelgs = Sequential([GroupSort2()])"
   ]
  },
  {
   "cell_type": "code",
   "execution_count": null,
   "metadata": {},
   "outputs": [],
   "source": [
    "input = K.expand_dims(K.array([2, -2], dtype='float32'), axis=0)"
   ]
  },
  {
   "cell_type": "code",
   "execution_count": null,
   "metadata": {},
   "outputs": [
    {
     "data": {
      "text/plain": [
       "torch.Size([1, 2])"
      ]
     },
     "execution_count": 22,
     "metadata": {},
     "output_type": "execute_result"
    }
   ],
   "source": [
    "input.shape"
   ]
  },
  {
   "cell_type": "code",
   "execution_count": null,
   "metadata": {},
   "outputs": [],
   "source": [
    "low = K.expand_dims(K.array([1, -3], dtype='float32'), axis=0)\n",
    "up = K.expand_dims(K.array([3, -1], dtype='float32'), axis=0)\n",
    "bounds =  K.expand_dims(K.concatenate((low,up), axis=0), axis=0)"
   ]
  },
  {
   "cell_type": "code",
   "execution_count": null,
   "metadata": {},
   "outputs": [
    {
     "data": {
      "text/plain": [
       "tensor([[1., 1.]], device='cuda:0')"
      ]
     },
     "execution_count": 16,
     "metadata": {},
     "output_type": "execute_result"
    }
   ],
   "source": [
    "modelgs(K.ones_like(input))"
   ]
  },
  {
   "cell_type": "code",
   "execution_count": null,
   "metadata": {},
   "outputs": [
    {
     "data": {
      "text/plain": [
       "torch.Size([1, 2, 2])"
      ]
     },
     "execution_count": 17,
     "metadata": {},
     "output_type": "execute_result"
    }
   ],
   "source": [
    "bounds.shape"
   ]
  },
  {
   "cell_type": "code",
   "execution_count": null,
   "metadata": {},
   "outputs": [
    {
     "name": "stderr",
     "output_type": "stream",
     "text": [
      "2025-04-30 10:06:08.898731: E external/local_xla/xla/stream_executor/cuda/cuda_fft.cc:477] Unable to register cuFFT factory: Attempting to register factory for plugin cuFFT when one has already been registered\n",
      "WARNING: All log messages before absl::InitializeLog() is called are written to STDERR\n",
      "E0000 00:00:1746000368.918191   27029 cuda_dnn.cc:8310] Unable to register cuDNN factory: Attempting to register factory for plugin cuDNN when one has already been registered\n",
      "E0000 00:00:1746000368.924250   27029 cuda_blas.cc:1418] Unable to register cuBLAS factory: Attempting to register factory for plugin cuBLAS when one has already been registered\n",
      "2025-04-30 10:06:08.944125: I tensorflow/core/platform/cpu_feature_guard.cc:210] This TensorFlow binary is optimized to use available CPU instructions in performance-critical operations.\n",
      "To enable the following instructions: AVX2 FMA, in other operations, rebuild TensorFlow with the appropriate compiler flags.\n"
     ]
    }
   ],
   "source": [
    "decomon_model = clone(modelgs, mapping_keras2decomon_classes={GroupSort2:DecomonGroupSort2}, final_ibp=False, final_affine=True, method='crown')"
   ]
  },
  {
   "cell_type": "code",
   "execution_count": null,
   "metadata": {},
   "outputs": [
    {
     "name": "stdout",
     "output_type": "stream",
     "text": [
      "tensor([[[[0.8182],\n",
      "          [0.1818]]]], device='cuda:0')\n",
      "\u001b[1m1/1\u001b[0m \u001b[32m━━━━━━━━━━━━━━━━━━━━\u001b[0m\u001b[37m\u001b[0m \u001b[1m0s\u001b[0m 53ms/step\n"
     ]
    },
    {
     "name": "stderr",
     "output_type": "stream",
     "text": [
      "/home/aws_install/miniconda3/envs/k3torchenv/lib/python3.10/site-packages/keras/src/models/functional.py:238: UserWarning: The structure of `inputs` doesn't match the expected structure.\n",
      "Expected: ['perturbation_domain_input_sequential']\n",
      "Received: inputs=Tensor(shape=torch.Size([1, 2, 2]))\n",
      "  warnings.warn(msg)\n"
     ]
    }
   ],
   "source": [
    "W_low, b_low, W_up, b_up = decomon_model.predict(bounds)"
   ]
  },
  {
   "cell_type": "code",
   "execution_count": null,
   "metadata": {},
   "outputs": [
    {
     "name": "stdout",
     "output_type": "stream",
     "text": [
      "[[[0. 1.]\n",
      "  [1. 0.]]] \n",
      " [[[0. 1.]\n",
      "  [1. 0.]]] \n",
      " [[0. 0.]] \n",
      " [[ 0. -0.]]\n"
     ]
    }
   ],
   "source": [
    "print(W_low, '\\n',W_up, '\\n',b_low, '\\n',b_up)"
   ]
  },
  {
   "cell_type": "code",
   "execution_count": null,
   "metadata": {},
   "outputs": [
    {
     "data": {
      "text/plain": [
       "tensor([[-2.,  2.]], device='cuda:0')"
      ]
     },
     "execution_count": 35,
     "metadata": {},
     "output_type": "execute_result"
    }
   ],
   "source": [
    "modelgs(input)"
   ]
  },
  {
   "cell_type": "code",
   "execution_count": null,
   "metadata": {},
   "outputs": [
    {
     "data": {
      "text/plain": [
       "array([[-2.,  2.]], dtype=float32)"
      ]
     },
     "execution_count": 36,
     "metadata": {},
     "output_type": "execute_result"
    }
   ],
   "source": [
    "W_low[0,:] @ K.convert_to_numpy(input)[0,:] + b_low"
   ]
  },
  {
   "cell_type": "code",
   "execution_count": null,
   "metadata": {},
   "outputs": [
    {
     "data": {
      "text/plain": [
       "array([[-2.,  2.]], dtype=float32)"
      ]
     },
     "execution_count": 37,
     "metadata": {},
     "output_type": "execute_result"
    }
   ],
   "source": [
    "W_up[0,:] @ K.convert_to_numpy(input)[0,:] + b_up"
   ]
  },
  {
   "cell_type": "markdown",
   "metadata": {},
   "source": [
    "## Cas 2 z0 <= 0 <= z1"
   ]
  },
  {
   "cell_type": "code",
   "execution_count": null,
   "metadata": {},
   "outputs": [],
   "source": [
    "input = K.expand_dims(K.array([-3, 5], dtype='float32'), axis=0)"
   ]
  },
  {
   "cell_type": "code",
   "execution_count": null,
   "metadata": {},
   "outputs": [],
   "source": [
    "low = K.expand_dims(K.array([-4, 1], dtype='float32'), axis=0)\n",
    "up = K.expand_dims(K.array([3, 5], dtype='float32'), axis=0)\n",
    "bounds =  K.expand_dims(K.concatenate((low,up), axis=0), axis=0)"
   ]
  },
  {
   "cell_type": "code",
   "execution_count": null,
   "metadata": {},
   "outputs": [
    {
     "ename": "NameError",
     "evalue": "name 'decomon_model' is not defined",
     "output_type": "error",
     "traceback": [
      "\u001b[0;31m---------------------------------------------------------------------------\u001b[0m",
      "\u001b[0;31mNameError\u001b[0m                                 Traceback (most recent call last)",
      "Cell \u001b[0;32mIn[20], line 1\u001b[0m\n\u001b[0;32m----> 1\u001b[0m W_low, b_low, W_up, b_up \u001b[38;5;241m=\u001b[39m \u001b[43mdecomon_model\u001b[49m\u001b[38;5;241m.\u001b[39mpredict(bounds)\n",
      "\u001b[0;31mNameError\u001b[0m: name 'decomon_model' is not defined"
     ]
    }
   ],
   "source": [
    "W_low, b_low, W_up, b_up = decomon_model.predict(bounds)"
   ]
  },
  {
   "cell_type": "code",
   "execution_count": null,
   "metadata": {},
   "outputs": [
    {
     "name": "stdout",
     "output_type": "stream",
     "text": [
      "[[[0.8181818  0.        ]\n",
      "  [0.18181819 1.        ]]] \n",
      " [[[1.         0.18181819]\n",
      "  [0.         0.8181818 ]]] \n",
      " [[-1.6363636  0.       ]] \n",
      " [[0.        1.6363636]]\n"
     ]
    }
   ],
   "source": [
    "print(W_low, '\\n',W_up, '\\n',b_low, '\\n',b_up)"
   ]
  },
  {
   "cell_type": "markdown",
   "metadata": {},
   "source": [
    "On voit dans le code suivant qu'il y a un souci :"
   ]
  },
  {
   "cell_type": "code",
   "execution_count": null,
   "metadata": {},
   "outputs": [
    {
     "data": {
      "text/plain": [
       "tensor([[-3.,  5.]], device='cuda:0')"
      ]
     },
     "execution_count": 177,
     "metadata": {},
     "output_type": "execute_result"
    }
   ],
   "source": [
    "modelgs(input)"
   ]
  },
  {
   "cell_type": "code",
   "execution_count": null,
   "metadata": {},
   "outputs": [
    {
     "data": {
      "text/plain": [
       "array([[-4.090909 ,  4.4545455]], dtype=float32)"
      ]
     },
     "execution_count": 178,
     "metadata": {},
     "output_type": "execute_result"
    }
   ],
   "source": [
    "W_low[0,:] @ K.convert_to_numpy(input)[0,:] + b_low"
   ]
  },
  {
   "cell_type": "code",
   "execution_count": null,
   "metadata": {},
   "outputs": [
    {
     "data": {
      "text/plain": [
       "array([[-2.090909 ,  5.7272725]], dtype=float32)"
      ]
     },
     "execution_count": 179,
     "metadata": {},
     "output_type": "execute_result"
    }
   ],
   "source": [
    "W_up[0,:] @ K.convert_to_numpy(input)[0,:] + b_up"
   ]
  }
 ],
 "metadata": {
  "kernelspec": {
   "display_name": "k3torchenv",
   "language": "python",
   "name": "python3"
  },
  "language_info": {
   "codemirror_mode": {
    "name": "ipython",
    "version": 3
   },
   "file_extension": ".py",
   "mimetype": "text/x-python",
   "name": "python",
   "nbconvert_exporter": "python",
   "pygments_lexer": "ipython3",
   "version": "3.10.16"
  }
 },
 "nbformat": 4,
 "nbformat_minor": 2
}
