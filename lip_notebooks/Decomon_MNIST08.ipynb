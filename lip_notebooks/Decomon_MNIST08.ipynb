{
 "cells": [
  {
   "cell_type": "code",
   "execution_count": 1,
   "metadata": {},
   "outputs": [],
   "source": [
    "import os\n",
    "os.environ[\"KERAS_BACKEND\"] = \"torch\""
   ]
  },
  {
   "cell_type": "code",
   "execution_count": 2,
   "metadata": {},
   "outputs": [],
   "source": [
    "import keras\n",
    "import keras.ops as K\n",
    "from keras.layers import Input, Flatten, Dense\n",
    "from keras.optimizers import Adam\n",
    "from keras.metrics import BinaryAccuracy\n",
    "\n",
    "# from keras.models import Sequential\n",
    "from deel.lip.model import Sequential\n",
    "\n",
    "from deel.lip.layers import (\n",
    "    SpectralDense,\n",
    "    SpectralConv2D,\n",
    "    ScaledL2NormPooling2D,\n",
    "    FrobeniusDense,\n",
    ")\n",
    "from deel.lip.activations import GroupSort, GroupSort2\n",
    "from deel.lip.losses import HKR, KR, HingeMargin, MulticlassHKR, MulticlassKR\n",
    "\n",
    "import numpy as np\n",
    "import decomon\n",
    "\n",
    "from data_processing import load_data, select_data_for_radius_evaluation_MNIST08\n",
    "from radius_evaluation_tools import compute_binary_certificate, starting_point_dichotomy"
   ]
  },
  {
   "cell_type": "code",
   "execution_count": 3,
   "metadata": {},
   "outputs": [],
   "source": [
    "x_train, x_test, y_train, y_test, y_test_ord = load_data(\"MNIST08\")"
   ]
  },
  {
   "cell_type": "code",
   "execution_count": 13,
   "metadata": {},
   "outputs": [],
   "source": [
    "model_path = \"/home/aws_install/robustess_project/lip_models/demo3_FC_vanilla_MNIST08_channelfirst_False_disj_Neurons_single_output.keras\"\n",
    "model = keras.models.load_model(model_path)\n",
    "model.compile(\n",
    "   \n",
    "    loss=HKR(\n",
    "        alpha=10.0, min_margin=1.0\n",
    "    ),  # HKR stands for the hinge regularized KR loss\n",
    "    metrics=[\n",
    "        # KR,  # shows the KR term of the loss\n",
    "        HingeMargin(min_margin=1.0),  # shows the hinge term of the loss\n",
    "    ],\n",
    "    optimizer=Adam(learning_rate=0.001),)"
   ]
  },
  {
   "cell_type": "code",
   "execution_count": 12,
   "metadata": {},
   "outputs": [],
   "source": [
    "model_bis_path = \"/home/aws_install/robustess_project/lip_models/demo3_FC_vanilla_MNIST08_channelfirst_False_disj_Neurons_single_output_converted_4logits.keras\"\n",
    "model_bis = keras.models.load_model(model_bis_path)\n",
    "model_bis.compile(\n",
    "        # decreasing alpha and increasing min_margin improve robustness (at the cost of accuracy)\n",
    "        # note also in the case of lipschitz networks, more robustness require more parameters.\n",
    "        loss=MulticlassHKR(alpha=100, min_margin=0.25),\n",
    "        optimizer=Adam(1e-4),\n",
    "        metrics=[\"accuracy\", MulticlassKR()],)"
   ]
  },
  {
   "cell_type": "code",
   "execution_count": null,
   "metadata": {},
   "outputs": [],
   "source": [
    "from decomon.layers import DecomonLayer\n",
    "from decomon.models import clone\n",
    "from lipschitz_custom_tools import affine_bound_groupsort_output_keras, affine_bound_sqrt_output_keras, affine_bound_square_output_keras\n",
    "from decomon.perturbation_domain import BallDomain\n",
    "from decomon import get_lower_noise, get_range_noise, get_upper_noise"
   ]
  },
  {
   "cell_type": "code",
   "execution_count": 15,
   "metadata": {},
   "outputs": [],
   "source": [
    "import pdb"
   ]
  },
  {
   "cell_type": "code",
   "execution_count": 16,
   "metadata": {},
   "outputs": [
    {
     "name": "stdout",
     "output_type": "stream",
     "text": [
      "torch.Size([100, 1, 28, 28])\n",
      "torch.Size([100, 1, 28, 28])\n"
     ]
    }
   ],
   "source": [
    "images, labels, idx_list = select_data_for_radius_evaluation_MNIST08(x_test, y_test_ord, model_bis)"
   ]
  },
  {
   "cell_type": "code",
   "execution_count": 17,
   "metadata": {},
   "outputs": [],
   "source": [
    "class DecomonGroupSort2(DecomonLayer):\n",
    "    layer : GroupSort2\n",
    "    increasing = True\n",
    "    def get_affine_bounds(self, lower, upper):\n",
    "        (W_low, b_low), (W_up, b_up) = affine_bound_groupsort_output_keras(lower, upper)\n",
    "        return W_low, b_low, W_up, b_up"
   ]
  },
  {
   "cell_type": "code",
   "execution_count": 53,
   "metadata": {},
   "outputs": [],
   "source": [
    "lip_certificate = compute_binary_certificate(images, model)"
   ]
  },
  {
   "cell_type": "code",
   "execution_count": 19,
   "metadata": {},
   "outputs": [],
   "source": [
    "def compute_Decomon_certificates(i, epsilon, inputs, model):\n",
    "    perturbation_domain = BallDomain(eps=epsilon, p=2)\n",
    "    decomon_model = clone(model, mapping_keras2decomon_classes={GroupSort2:DecomonGroupSort2}, final_ibp=True, final_affine=False, perturbation_domain=perturbation_domain)\n",
    "    upper_test_ = get_upper_noise(decomon_model,  inputs[i:i+1], eps=epsilon, p=2)[:, 0]\n",
    "    lower_test_ = get_lower_noise(decomon_model, inputs[i:i+1], eps=epsilon, p=2)[:, 0]\n",
    "    return lower_test_, upper_test_"
   ]
  },
  {
   "cell_type": "code",
   "execution_count": 56,
   "metadata": {},
   "outputs": [
    {
     "name": "stdout",
     "output_type": "stream",
     "text": [
      "(array([-5.574271], dtype=float32), array([-0.04252386], dtype=float32))\n"
     ]
    }
   ],
   "source": [
    "print(compute_Decomon_certificates(5, 1.0502, images.cpu().detach().numpy(), model))"
   ]
  },
  {
   "cell_type": "code",
   "execution_count": null,
   "metadata": {},
   "outputs": [],
   "source": [
    "def single_compute_decomon_radius(idx, images, targets, model, n_iter = 10):\n",
    "    image = images[idx:idx+1]\n",
    "    target = targets[idx:idx+1]\n",
    "    # certificate = certificates[idx:idx+1]\n",
    "    # We use dichotomy algorithm to fine the smallest optimistic radius\n",
    "    # We start from the closest point with different class\n",
    "    d_up = starting_point_dichotomy(idx, images, targets)\n",
    "    eps_working = d_low = 0\n",
    "    for _ in range(n_iter):\n",
    "        eps_current = (d_up+d_low)/2\n",
    "        # print(eps_current)\n",
    "        perturbation_domain = BallDomain(eps=eps_current, p=2)\n",
    "        decomon_model = clone(model, mapping_keras2decomon_classes={GroupSort2:DecomonGroupSort2}, final_ibp=True, final_affine=False, perturbation_domain=perturbation_domain)\n",
    "        upper = get_upper_noise(decomon_model,  image.cpu().detach().numpy(), eps=eps_current, p=2)[:, 0]\n",
    "        lower = get_lower_noise(decomon_model, image.cpu().detach().numpy(), eps=eps_current, p=2)[:, 0]\n",
    "\n",
    "        if (target==0 and upper<=0) or (target==1 and lower<=0):\n",
    "            # print(\"working\", target, upper, lower)\n",
    "            eps_working = d_low = eps_current\n",
    "        else:\n",
    "            # print(\"not working\", target, upper, lower)\n",
    "            d_up = eps_current\n",
    "    return eps_working"
   ]
  },
  {
   "cell_type": "code",
   "execution_count": 63,
   "metadata": {},
   "outputs": [
    {
     "name": "stdout",
     "output_type": "stream",
     "text": [
      "tensor(4.2339, device='cuda:0')\n",
      "not working tensor([0], device='cuda:0') [24.33216] [-21.806156]\n",
      "tensor(2.1169, device='cuda:0')\n",
      "not working tensor([0], device='cuda:0') [7.315631] [-9.606468]\n",
      "tensor(1.0585, device='cuda:0')\n",
      "not working tensor([0], device='cuda:0') [0.00775731] [-5.5941496]\n",
      "tensor(0.5292, device='cuda:0')\n",
      "working tensor([0], device='cuda:0') [-2.4918537] [-4.4621453]\n",
      "tensor(0.7939, device='cuda:0')\n",
      "working tensor([0], device='cuda:0') [-1.465566] [-5.006468]\n",
      "tensor(0.9262, device='cuda:0')\n",
      "working tensor([0], device='cuda:0') [-0.7788049] [-5.290392]\n",
      "tensor(0.9923, device='cuda:0')\n",
      "working tensor([0], device='cuda:0') [-0.38893855] [-5.439641]\n",
      "tensor(1.0254, device='cuda:0')\n",
      "working tensor([0], device='cuda:0') [-0.1932382] [-5.514635]\n",
      "tensor(1.0419, device='cuda:0')\n",
      "working tensor([0], device='cuda:0') [-0.09280509] [-5.554384]\n",
      "tensor(1.0502, device='cuda:0')\n",
      "working tensor([0], device='cuda:0') [-0.04254037] [-5.5742655]\n",
      "tensor(3.6832, device='cuda:0', grad_fn=<SelectBackward0>) tensor(1.0502, device='cuda:0')\n"
     ]
    }
   ],
   "source": [
    "idx = 5\n",
    "eps = single_compute_decomon_radius(idx, images, labels, model)\n",
    "print(lip_certificate[idx], eps)"
   ]
  },
  {
   "cell_type": "code",
   "execution_count": 65,
   "metadata": {},
   "outputs": [
    {
     "name": "stdout",
     "output_type": "stream",
     "text": [
      "tensor(4.6030, device='cuda:0')\n",
      "tensor(2.3015, device='cuda:0')\n",
      "tensor(1.1508, device='cuda:0')\n",
      "tensor(0.5754, device='cuda:0')\n",
      "tensor(0.8631, device='cuda:0')\n",
      "tensor(1.0069, device='cuda:0')\n",
      "tensor(0.9350, device='cuda:0')\n",
      "tensor(0.8990, device='cuda:0')\n",
      "tensor(0.9170, device='cuda:0')\n",
      "tensor(0.9080, device='cuda:0')\n",
      "tensor(4.6401, device='cuda:0')\n",
      "tensor(2.3200, device='cuda:0')\n",
      "tensor(1.1600, device='cuda:0')\n",
      "tensor(0.5800, device='cuda:0')\n",
      "tensor(0.8700, device='cuda:0')\n",
      "tensor(1.0150, device='cuda:0')\n",
      "tensor(0.9425, device='cuda:0')\n",
      "tensor(0.9063, device='cuda:0')\n",
      "tensor(0.9244, device='cuda:0')\n",
      "tensor(0.9334, device='cuda:0')\n",
      "tensor(4.2893, device='cuda:0')\n",
      "tensor(2.1447, device='cuda:0')\n",
      "tensor(1.0723, device='cuda:0')\n",
      "tensor(0.5362, device='cuda:0')\n",
      "tensor(0.8042, device='cuda:0')\n",
      "tensor(0.9383, device='cuda:0')\n",
      "tensor(0.8713, device='cuda:0')\n",
      "tensor(0.8378, device='cuda:0')\n",
      "tensor(0.8545, device='cuda:0')\n",
      "tensor(0.8629, device='cuda:0')\n",
      "tensor(4.9610, device='cuda:0')\n",
      "tensor(2.4805, device='cuda:0')\n",
      "tensor(1.2403, device='cuda:0')\n",
      "tensor(0.6201, device='cuda:0')\n",
      "tensor(0.9302, device='cuda:0')\n",
      "tensor(1.0852, device='cuda:0')\n",
      "tensor(1.1627, device='cuda:0')\n",
      "tensor(1.2015, device='cuda:0')\n",
      "tensor(1.1821, device='cuda:0')\n",
      "tensor(1.1918, device='cuda:0')\n",
      "tensor(4.1966, device='cuda:0')\n",
      "tensor(2.0983, device='cuda:0')\n",
      "tensor(1.0492, device='cuda:0')\n",
      "tensor(1.5737, device='cuda:0')\n",
      "tensor(1.3114, device='cuda:0')\n",
      "tensor(1.1803, device='cuda:0')\n",
      "tensor(1.1147, device='cuda:0')\n",
      "tensor(1.0819, device='cuda:0')\n",
      "tensor(1.0655, device='cuda:0')\n",
      "tensor(1.0573, device='cuda:0')\n",
      "tensor(4.2339, device='cuda:0')\n",
      "tensor(2.1169, device='cuda:0')\n",
      "tensor(1.0585, device='cuda:0')\n",
      "tensor(0.5292, device='cuda:0')\n",
      "tensor(0.7939, device='cuda:0')\n",
      "tensor(0.9262, device='cuda:0')\n",
      "tensor(0.9923, device='cuda:0')\n",
      "tensor(1.0254, device='cuda:0')\n",
      "tensor(1.0419, device='cuda:0')\n",
      "tensor(1.0502, device='cuda:0')\n",
      "tensor(3.8533, device='cuda:0')\n",
      "tensor(1.9267, device='cuda:0')\n",
      "tensor(0.9633, device='cuda:0')\n",
      "tensor(0.4817, device='cuda:0')\n",
      "tensor(0.7225, device='cuda:0')\n",
      "tensor(0.8429, device='cuda:0')\n",
      "tensor(0.9031, device='cuda:0')\n",
      "tensor(0.9332, device='cuda:0')\n",
      "tensor(0.9182, device='cuda:0')\n",
      "tensor(0.9106, device='cuda:0')\n",
      "tensor(4.3991, device='cuda:0')\n",
      "tensor(2.1996, device='cuda:0')\n",
      "tensor(1.0998, device='cuda:0')\n",
      "tensor(1.6497, device='cuda:0')\n",
      "tensor(1.3747, device='cuda:0')\n",
      "tensor(1.2372, device='cuda:0')\n",
      "tensor(1.1685, device='cuda:0')\n",
      "tensor(1.2029, device='cuda:0')\n",
      "tensor(1.1857, device='cuda:0')\n",
      "tensor(1.1771, device='cuda:0')\n",
      "tensor(4.4407, device='cuda:0')\n",
      "tensor(2.2203, device='cuda:0')\n",
      "tensor(1.1102, device='cuda:0')\n",
      "tensor(0.5551, device='cuda:0')\n",
      "tensor(0.8326, device='cuda:0')\n",
      "tensor(0.9714, device='cuda:0')\n",
      "tensor(1.0408, device='cuda:0')\n",
      "tensor(1.0755, device='cuda:0')\n",
      "tensor(1.0928, device='cuda:0')\n",
      "tensor(1.1015, device='cuda:0')\n",
      "tensor(3.6648, device='cuda:0')\n",
      "tensor(1.8324, device='cuda:0')\n",
      "tensor(0.9162, device='cuda:0')\n",
      "tensor(0.4581, device='cuda:0')\n",
      "tensor(0.6871, device='cuda:0')\n",
      "tensor(0.8017, device='cuda:0')\n",
      "tensor(0.8589, device='cuda:0')\n",
      "tensor(0.8303, device='cuda:0')\n",
      "tensor(0.8160, device='cuda:0')\n",
      "tensor(0.8088, device='cuda:0')\n"
     ]
    }
   ],
   "source": [
    "list_eps = []\n",
    "list_certif = []\n",
    "for idx in range(10):\n",
    "    list_eps.append(single_compute_decomon_radius(idx, images, labels, model))\n",
    "    list_certif.append(lip_certificate[idx])"
   ]
  },
  {
   "cell_type": "code",
   "execution_count": 66,
   "metadata": {},
   "outputs": [
    {
     "data": {
      "text/plain": [
       "[tensor(0.9080, device='cuda:0'),\n",
       " tensor(0.9334, device='cuda:0'),\n",
       " tensor(0.8629, device='cuda:0'),\n",
       " tensor(1.1918, device='cuda:0'),\n",
       " tensor(1.0573, device='cuda:0'),\n",
       " tensor(1.0502, device='cuda:0'),\n",
       " tensor(0.9106, device='cuda:0'),\n",
       " tensor(1.1685, device='cuda:0'),\n",
       " tensor(1.0928, device='cuda:0'),\n",
       " tensor(0.8017, device='cuda:0')]"
      ]
     },
     "execution_count": 66,
     "metadata": {},
     "output_type": "execute_result"
    }
   ],
   "source": [
    "list_eps"
   ]
  },
  {
   "cell_type": "code",
   "execution_count": 67,
   "metadata": {},
   "outputs": [
    {
     "data": {
      "text/plain": [
       "[tensor(1.6613, device='cuda:0', grad_fn=<SelectBackward0>),\n",
       " tensor(3.0277, device='cuda:0', grad_fn=<SelectBackward0>),\n",
       " tensor(3.0674, device='cuda:0', grad_fn=<SelectBackward0>),\n",
       " tensor(4.6951, device='cuda:0', grad_fn=<SelectBackward0>),\n",
       " tensor(4.3250, device='cuda:0', grad_fn=<SelectBackward0>),\n",
       " tensor(3.6832, device='cuda:0', grad_fn=<SelectBackward0>),\n",
       " tensor(3.1318, device='cuda:0', grad_fn=<SelectBackward0>),\n",
       " tensor(3.9830, device='cuda:0', grad_fn=<SelectBackward0>),\n",
       " tensor(4.2999, device='cuda:0', grad_fn=<SelectBackward0>),\n",
       " tensor(2.5395, device='cuda:0', grad_fn=<SelectBackward0>)]"
      ]
     },
     "execution_count": 67,
     "metadata": {},
     "output_type": "execute_result"
    }
   ],
   "source": [
    "list_certif"
   ]
  },
  {
   "cell_type": "markdown",
   "metadata": {},
   "source": [
    "# CE qui suit est inutile"
   ]
  },
  {
   "cell_type": "code",
   "execution_count": null,
   "metadata": {},
   "outputs": [],
   "source": [
    "box = np.zeros((1,2,1,28,28))"
   ]
  },
  {
   "cell_type": "code",
   "execution_count": null,
   "metadata": {},
   "outputs": [],
   "source": [
    "box[:,1] += 0.1"
   ]
  },
  {
   "cell_type": "code",
   "execution_count": null,
   "metadata": {},
   "outputs": [],
   "source": [
    "decomon_model.predict(box)"
   ]
  },
  {
   "cell_type": "code",
   "execution_count": null,
   "metadata": {},
   "outputs": [],
   "source": [
    "class Sqrt(keras.layers.Layer):\n",
    "    def call(self, inputs):\n",
    "        return K.sqrt(inputs)\n",
    "\n",
    "class Square(keras.layers.Layer):\n",
    "    def call(self, inputs):\n",
    "        return K.square(inputs)"
   ]
  },
  {
   "cell_type": "code",
   "execution_count": null,
   "metadata": {},
   "outputs": [],
   "source": [
    "class DecomonSqrt(DecomonLayer):\n",
    "    layer : Sqrt\n",
    "    increasing = True\n",
    "    def get_affine_bounds(self, lower, upper):\n",
    "        (W_low, b_low), (W_up, b_up) = affine_bound_sqrt_output_keras(lower, upper)\n",
    "        return W_low, b_low, W_up, b_up\n",
    "class DecomonSquare(DecomonLayer):\n",
    "    layer : Square\n",
    "    def get_affine_bounds(self, lower, upper):\n",
    "        (W_low, b_low), (W_up, b_up) = affine_bound_square_output_keras(lower, upper)\n",
    "        return W_low, b_low, W_up, b_up\n",
    "    def forward_ibp_propagate(self, lower, upper):\n",
    "        return self.layer(lower), self.layer(upper)"
   ]
  },
  {
   "cell_type": "code",
   "execution_count": null,
   "metadata": {},
   "outputs": [],
   "source": [
    "sqrt = Sqrt()"
   ]
  },
  {
   "cell_type": "code",
   "execution_count": null,
   "metadata": {},
   "outputs": [],
   "source": [
    "sqrt.predict(4)"
   ]
  }
 ],
 "metadata": {
  "kernelspec": {
   "display_name": "k3torchenv",
   "language": "python",
   "name": "python3"
  },
  "language_info": {
   "codemirror_mode": {
    "name": "ipython",
    "version": 3
   },
   "file_extension": ".py",
   "mimetype": "text/x-python",
   "name": "python",
   "nbconvert_exporter": "python",
   "pygments_lexer": "ipython3",
   "version": "3.10.16"
  }
 },
 "nbformat": 4,
 "nbformat_minor": 2
}
