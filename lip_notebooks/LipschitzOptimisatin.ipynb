{
 "cells": [
  {
   "cell_type": "code",
   "execution_count": 74,
   "metadata": {},
   "outputs": [],
   "source": [
    "import numpy as np\n",
    "from scipy.optimize import minimize\n",
    "import matplotlib.pyplot as plt"
   ]
  },
  {
   "cell_type": "markdown",
   "metadata": {},
   "source": [
    "# Create Toy Dataset"
   ]
  },
  {
   "cell_type": "code",
   "execution_count": 75,
   "metadata": {},
   "outputs": [],
   "source": [
    "# Define parameters\n",
    "nb_points = 100"
   ]
  },
  {
   "cell_type": "markdown",
   "metadata": {},
   "source": [
    "il faut échantilloner des y dans la boule pour un x donné"
   ]
  },
  {
   "cell_type": "code",
   "execution_count": 76,
   "metadata": {},
   "outputs": [],
   "source": [
    "eps = 1\n",
    "L = 1"
   ]
  },
  {
   "cell_type": "markdown",
   "metadata": {},
   "source": [
    "# Create bounding functions"
   ]
  },
  {
   "cell_type": "code",
   "execution_count": 77,
   "metadata": {},
   "outputs": [],
   "source": [
    "def get_bounds_from_ball(epsilon,x,W,b):\n",
    "    #### Starting from an input domain B(x, epsilon), we want to minimize and maximize a linear function Wx + b\n",
    "    # epsilon scalar value\n",
    "    # x (4,)\n",
    "    # W (4,)\n",
    "    # b scalar\n",
    "    output = W@x - epsilon*np.linalg.norm(W) + b, W@x + epsilon*np.linalg.norm(W) + b # scalar\n",
    "    return np.array(output) #(1,)"
   ]
  },
  {
   "cell_type": "code",
   "execution_count": 78,
   "metadata": {},
   "outputs": [],
   "source": [
    "def square_backward_bounds(l, u, y):\n",
    "    # l (4,)\n",
    "    # u (4,)\n",
    "    # y (4,)\n",
    "\n",
    "    u = u - y\n",
    "    l = l - y\n",
    "\n",
    "    W = u + l #(4,)\n",
    "    b = np.sum(-u*l) - W@y #scalar\n",
    "    return W, np.array(b)[None]#(4,) & (1,)"
   ]
  },
  {
   "cell_type": "code",
   "execution_count": 79,
   "metadata": {},
   "outputs": [],
   "source": [
    "def sqrt_backward_bounds(l,u, W_previous, b_previous):\n",
    "    #stocker h'\n",
    "    c = (l+u)/2\n",
    "    W = W_previous*(1/(2*np.sqrt(c)))\n",
    "    b = 0.5* np.sqrt(c) + (1/(2*np.sqrt(c)))*b_previous\n",
    "    return W, b"
   ]
  },
  {
   "cell_type": "code",
   "execution_count": 80,
   "metadata": {},
   "outputs": [],
   "source": [
    "def get_max(W,b,y):\n",
    "    return minimize(lambda x: W @ x + b, y)"
   ]
  },
  {
   "cell_type": "markdown",
   "metadata": {},
   "source": [
    "# Test 1D"
   ]
  },
  {
   "cell_type": "code",
   "execution_count": 81,
   "metadata": {},
   "outputs": [],
   "source": [
    "def f(x):\n",
    "    return np.sin(x)"
   ]
  },
  {
   "cell_type": "code",
   "execution_count": 191,
   "metadata": {},
   "outputs": [],
   "source": [
    "i = 1\n",
    "pt_choosen = 1\n",
    "num_coordinates = 1\n",
    "\n",
    "x = np.random.rand(nb_points, num_coordinates)*10-5"
   ]
  },
  {
   "cell_type": "code",
   "execution_count": 83,
   "metadata": {},
   "outputs": [],
   "source": [
    "\n",
    "# selected_indices = np.random.choice(x.shape[0], size=num_points_to_select, replace=False)\n",
    "# y = x[selected_indices]"
   ]
  },
  {
   "cell_type": "code",
   "execution_count": 84,
   "metadata": {},
   "outputs": [],
   "source": [
    "def echantillonner_boule_l2_simple(x, epsilon):\n",
    "  d = x.shape[0] # Dimension\n",
    "\n",
    "  # 1. Vecteur gaussien aléatoire (direction)\n",
    "  u = np.random.randn(d)\n",
    "  norm_u = np.linalg.norm(u)\n",
    "\n",
    "  \n",
    "  # 2. Distance radiale (avec échelle pour uniformité en volume)\n",
    "  s = np.random.rand() # Échantillon uniforme dans [0, 1)\n",
    "  r = epsilon * s \n",
    "\n",
    "  # 3. Point final = centre + direction_normalisée * distance\n",
    "  y = x + r * (u / norm_u)\n",
    "\n",
    "  return y"
   ]
  },
  {
   "cell_type": "code",
   "execution_count": 85,
   "metadata": {},
   "outputs": [],
   "source": [
    "lower_toy = x-eps\n",
    "upper_toy = x+eps"
   ]
  },
  {
   "cell_type": "code",
   "execution_count": 86,
   "metadata": {},
   "outputs": [
    {
     "data": {
      "text/plain": [
       "array([-0.7314576])"
      ]
     },
     "execution_count": 86,
     "metadata": {},
     "output_type": "execute_result"
    }
   ],
   "source": [
    "x[pt_choosen]"
   ]
  },
  {
   "cell_type": "code",
   "execution_count": 87,
   "metadata": {},
   "outputs": [],
   "source": [
    "y = echantillonner_boule_l2_simple(x[pt_choosen], eps)"
   ]
  },
  {
   "cell_type": "code",
   "execution_count": 88,
   "metadata": {},
   "outputs": [
    {
     "data": {
      "text/plain": [
       "array([-1.36947223])"
      ]
     },
     "execution_count": 88,
     "metadata": {},
     "output_type": "execute_result"
    }
   ],
   "source": [
    "y"
   ]
  },
  {
   "cell_type": "code",
   "execution_count": 89,
   "metadata": {},
   "outputs": [
    {
     "data": {
      "text/plain": [
       "array([-1.7314576])"
      ]
     },
     "execution_count": 89,
     "metadata": {},
     "output_type": "execute_result"
    }
   ],
   "source": [
    "lower_toy[pt_choosen]"
   ]
  },
  {
   "cell_type": "code",
   "execution_count": 90,
   "metadata": {},
   "outputs": [
    {
     "data": {
      "text/plain": [
       "array([0.2685424])"
      ]
     },
     "execution_count": 90,
     "metadata": {},
     "output_type": "execute_result"
    }
   ],
   "source": [
    "upper_toy[pt_choosen]"
   ]
  },
  {
   "cell_type": "code",
   "execution_count": 91,
   "metadata": {},
   "outputs": [],
   "source": [
    "W_1, b_1 = square_backward_bounds(lower_toy[pt_choosen], upper_toy[pt_choosen],y)"
   ]
  },
  {
   "cell_type": "code",
   "execution_count": 92,
   "metadata": {},
   "outputs": [
    {
     "data": {
      "text/plain": [
       "array([1.27602926])"
      ]
     },
     "execution_count": 92,
     "metadata": {},
     "output_type": "execute_result"
    }
   ],
   "source": [
    "W_1"
   ]
  },
  {
   "cell_type": "code",
   "execution_count": 93,
   "metadata": {},
   "outputs": [
    {
     "data": {
      "text/plain": [
       "array([2.34042398])"
      ]
     },
     "execution_count": 93,
     "metadata": {},
     "output_type": "execute_result"
    }
   ],
   "source": [
    "b_1"
   ]
  },
  {
   "cell_type": "code",
   "execution_count": 94,
   "metadata": {},
   "outputs": [
    {
     "data": {
      "text/plain": [
       "array([-0.7314576])"
      ]
     },
     "execution_count": 94,
     "metadata": {},
     "output_type": "execute_result"
    }
   ],
   "source": [
    "x[pt_choosen]"
   ]
  },
  {
   "cell_type": "code",
   "execution_count": 95,
   "metadata": {},
   "outputs": [],
   "source": [
    "z = np.linspace(x[pt_choosen]-eps, x[pt_choosen]+eps)"
   ]
  },
  {
   "cell_type": "code",
   "execution_count": 96,
   "metadata": {},
   "outputs": [
    {
     "data": {
      "image/png": "[encoded data removed]",
      "text/plain": [
       "<Figure size 640x480 with 1 Axes>"
      ]
     },
     "metadata": {},
     "output_type": "display_data"
    }
   ],
   "source": [
    "plt.plot(z, W_1*z+b_1)\n",
    "plt.plot(z, np.square(z-y))\n",
    "plt.show()"
   ]
  },
  {
   "cell_type": "code",
   "execution_count": 217,
   "metadata": {},
   "outputs": [],
   "source": [
    "nb_points = 200\n",
    "eps = 2\n",
    "pt_choosen=8"
   ]
  },
  {
   "cell_type": "code",
   "execution_count": 218,
   "metadata": {},
   "outputs": [],
   "source": [
    "y_list = []\n",
    "for i in range(nb_points):\n",
    "    y_list.append(echantillonner_boule_l2_simple(x[pt_choosen], eps))"
   ]
  },
  {
   "cell_type": "code",
   "execution_count": 219,
   "metadata": {},
   "outputs": [],
   "source": [
    "l = x[pt_choosen]-eps\n",
    "u = x[pt_choosen]+eps"
   ]
  },
  {
   "cell_type": "code",
   "execution_count": 220,
   "metadata": {},
   "outputs": [],
   "source": [
    "W_list = []\n",
    "b_list = []\n",
    "for y_i in y_list:\n",
    "    W_1, b_1 = square_backward_bounds(l,u,y_i)\n",
    "    W_list.append(W_1)\n",
    "    b_list.append(b_1)"
   ]
  },
  {
   "cell_type": "code",
   "execution_count": 230,
   "metadata": {},
   "outputs": [
    {
     "data": {
      "text/plain": [
       "200"
      ]
     },
     "execution_count": 230,
     "metadata": {},
     "output_type": "execute_result"
    }
   ],
   "source": [
    "len(W_list)"
   ]
  },
  {
   "cell_type": "code",
   "execution_count": 231,
   "metadata": {},
   "outputs": [],
   "source": [
    "z = np.linspace(x[pt_choosen]-eps, x[pt_choosen]+eps)"
   ]
  },
  {
   "cell_type": "code",
   "execution_count": 236,
   "metadata": {},
   "outputs": [
    {
     "data": {
      "image/png": "[encoded data removed]",
      "text/plain": [
       "<Figure size 640x480 with 1 Axes>"
      ]
     },
     "metadata": {},
     "output_type": "display_data"
    }
   ],
   "source": [
    "plt.plot(z, W_list[0]*z+b_list[0])\n",
    "plt.plot(z, np.square(z-y_list[0]))\n",
    "plt.show()"
   ]
  },
  {
   "cell_type": "code",
   "execution_count": 235,
   "metadata": {},
   "outputs": [
    {
     "data": {
      "image/png": "[encoded data removed]",
      "text/plain": [
       "<Figure size 640x480 with 1 Axes>"
      ]
     },
     "metadata": {},
     "output_type": "display_data"
    }
   ],
   "source": [
    "plt.plot(z, np.sqrt(W_list[0]*z+b_list[0]))\n",
    "plt.plot(z, np.sqrt(np.square(z-y_list[0])))\n",
    "plt.show()"
   ]
  },
  {
   "cell_type": "code",
   "execution_count": 239,
   "metadata": {},
   "outputs": [
    {
     "data": {
      "image/png": "[encoded data removed]",
      "text/plain": [
       "<Figure size 640x480 with 1 Axes>"
      ]
     },
     "metadata": {},
     "output_type": "display_data"
    }
   ],
   "source": [
    "plt.plot(z, f(z) + L*np.sqrt(W_list[0]*z+b_list[0]))\n",
    "plt.plot(z, f(z) + L*np.sqrt(np.square(z-y_list[0])))\n",
    "plt.plot(z, f(z))\n",
    "plt.show()"
   ]
  },
  {
   "cell_type": "code",
   "execution_count": 223,
   "metadata": {},
   "outputs": [],
   "source": [
    "def function_to_optimize_all(x, W_list, b_list, y_list, f, L=1):\n",
    "    # x (4,)\n",
    "    outputs = []\n",
    "    for i in range(len(y_list)):\n",
    "        output = f(y_list[i]) +\\\n",
    "          L*np.sqrt(W_list[i]*x+b_list[i]) #scalar\n",
    "        outputs.append(output)\n",
    "        \n",
    "    # print(output.shape)\n",
    "    return np.min(outputs)"
   ]
  },
  {
   "cell_type": "code",
   "execution_count": 224,
   "metadata": {},
   "outputs": [
    {
     "data": {
      "text/plain": [
       "1.0025988266593115"
      ]
     },
     "execution_count": 224,
     "metadata": {},
     "output_type": "execute_result"
    }
   ],
   "source": [
    "function_to_optimize_all(x[pt_choosen], W_list, b_list, y_list, f)"
   ]
  },
  {
   "cell_type": "code",
   "execution_count": 225,
   "metadata": {},
   "outputs": [],
   "source": [
    "z = np.linspace(x[pt_choosen]-eps, x[pt_choosen]+eps)"
   ]
  },
  {
   "cell_type": "code",
   "execution_count": 226,
   "metadata": {},
   "outputs": [],
   "source": [
    "function_z = []\n",
    "for z_i in z:\n",
    "    function_z.append(function_to_optimize_all(z_i, W_list, b_list, y_list, f))"
   ]
  },
  {
   "cell_type": "code",
   "execution_count": 227,
   "metadata": {},
   "outputs": [
    {
     "data": {
      "image/png": "[encoded data removed]",
      "text/plain": [
       "<Figure size 640x480 with 1 Axes>"
      ]
     },
     "metadata": {},
     "output_type": "display_data"
    }
   ],
   "source": [
    "plt.plot(z, f(z))\n",
    "plt.plot(z, function_z)\n",
    "plt.show()"
   ]
  },
  {
   "cell_type": "code",
   "execution_count": 99,
   "metadata": {},
   "outputs": [],
   "source": [
    "low, up = get_bounds_from_ball(eps, x[pt_choosen], W_1, b_1)"
   ]
  },
  {
   "cell_type": "code",
   "execution_count": 100,
   "metadata": {},
   "outputs": [
    {
     "data": {
      "text/plain": [
       "array([0.13103341])"
      ]
     },
     "execution_count": 100,
     "metadata": {},
     "output_type": "execute_result"
    }
   ],
   "source": [
    "low"
   ]
  },
  {
   "cell_type": "code",
   "execution_count": 101,
   "metadata": {},
   "outputs": [
    {
     "data": {
      "text/plain": [
       "array([2.68309193])"
      ]
     },
     "execution_count": 101,
     "metadata": {},
     "output_type": "execute_result"
    }
   ],
   "source": [
    "up"
   ]
  },
  {
   "cell_type": "code",
   "execution_count": 102,
   "metadata": {},
   "outputs": [],
   "source": [
    "W_2, b_2 = sqrt_backward_bounds(low,up, W_1, b_1)"
   ]
  },
  {
   "cell_type": "code",
   "execution_count": 103,
   "metadata": {},
   "outputs": [
    {
     "data": {
      "image/png": "[encoded data removed]",
      "text/plain": [
       "<Figure size 640x480 with 1 Axes>"
      ]
     },
     "metadata": {},
     "output_type": "display_data"
    }
   ],
   "source": [
    "plt.plot(z, W_2*z+b_2)\n",
    "plt.plot(z, np.sqrt(np.square(z-y)))\n",
    "plt.show()"
   ]
  },
  {
   "cell_type": "code",
   "execution_count": 104,
   "metadata": {},
   "outputs": [],
   "source": [
    "W_3 = L*W_2\n",
    "b_3 = L*b_2 + f(y)\n"
   ]
  },
  {
   "cell_type": "code",
   "execution_count": 32,
   "metadata": {},
   "outputs": [
    {
     "data": {
      "image/png": "[encoded data removed]",
      "text/plain": [
       "<Figure size 640x480 with 1 Axes>"
      ]
     },
     "metadata": {},
     "output_type": "display_data"
    }
   ],
   "source": [
    "plt.plot(z, W_3*z+b_3)\n",
    "plt.plot(z, f(y) + L*np.sqrt(np.square(z-y)))\n",
    "plt.show()"
   ]
  },
  {
   "cell_type": "markdown",
   "metadata": {},
   "source": [
    "# Test 4D"
   ]
  },
  {
   "cell_type": "code",
   "execution_count": 33,
   "metadata": {},
   "outputs": [],
   "source": [
    "pt_choosen = 1\n",
    "num_coordinates = 4\n",
    "\n",
    "x = np.random.rand(nb_points, num_coordinates)*10-5"
   ]
  },
  {
   "cell_type": "code",
   "execution_count": 34,
   "metadata": {},
   "outputs": [],
   "source": [
    "def f(x):\n",
    "    # x shape(4,)\n",
    "    output = x[0]*x[1]**2+x[2]-x[3] #f(scalar\n",
    "    return np.array(output)[None]#(batch,1)"
   ]
  },
  {
   "cell_type": "code",
   "execution_count": 35,
   "metadata": {},
   "outputs": [],
   "source": [
    "lower_toy = x-eps\n",
    "upper_toy = x+eps"
   ]
  },
  {
   "cell_type": "code",
   "execution_count": 36,
   "metadata": {},
   "outputs": [],
   "source": [
    "y = echantillonner_boule_l2_simple(x[pt_choosen], eps)"
   ]
  },
  {
   "cell_type": "code",
   "execution_count": 37,
   "metadata": {},
   "outputs": [
    {
     "data": {
      "text/plain": [
       "(4,)"
      ]
     },
     "execution_count": 37,
     "metadata": {},
     "output_type": "execute_result"
    }
   ],
   "source": [
    "y.shape"
   ]
  },
  {
   "cell_type": "code",
   "execution_count": 38,
   "metadata": {},
   "outputs": [],
   "source": [
    "W_1, b_1 = square_backward_bounds(lower_toy[pt_choosen], upper_toy[pt_choosen],y)"
   ]
  },
  {
   "cell_type": "code",
   "execution_count": 39,
   "metadata": {},
   "outputs": [],
   "source": [
    "import numpy as np\n",
    "from scipy.optimize import minimize"
   ]
  },
  {
   "cell_type": "code",
   "execution_count": 40,
   "metadata": {},
   "outputs": [],
   "source": [
    "def function_to_optimize(x, W, b, y):\n",
    "    # x (4,)\n",
    "    output = f(y) + L*np.sqrt(W@x+b) #scalar\n",
    "    # print(output.shape)\n",
    "    return output"
   ]
  },
  {
   "cell_type": "code",
   "execution_count": 41,
   "metadata": {},
   "outputs": [],
   "source": [
    "def jac_function_to_optimize(x, W, b, y):\n",
    "    output = L/(2*np.sqrt(W@x+b))*W\n",
    "    # print(output.shape)\n",
    "    return output"
   ]
  },
  {
   "cell_type": "code",
   "execution_count": 42,
   "metadata": {},
   "outputs": [
    {
     "data": {
      "text/plain": [
       "(array([-3.17932579,  1.55816745, -3.83566788, -1.91767015]),\n",
       " array([-0.02009536,  3.74848984, -0.13295529, -2.04837169]))"
      ]
     },
     "execution_count": 42,
     "metadata": {},
     "output_type": "execute_result"
    }
   ],
   "source": [
    "x[pt_choosen-1], x[pt_choosen]"
   ]
  },
  {
   "cell_type": "code",
   "execution_count": 43,
   "metadata": {},
   "outputs": [
    {
     "name": "stdout",
     "output_type": "stream",
     "text": [
      "max found at: [ 0.1970997   3.52848139  0.7592038  -1.71901664]\n",
      "max value: 1.530733068149741\n"
     ]
    }
   ],
   "source": [
    "# # Define your convex function\n",
    "# def f(x):\n",
    "#     # Example: quadratic function\n",
    "#     return np.dot(x, x) + 3 * x[0] - x[1]  # Replace with your actual function\n",
    "x_ball_center = x[pt_choosen]\n",
    "# Define the constraint: ||x - x_centre||_2**2 <= eps**2\n",
    "def unit_ball_constraint(x, x_ball_center, eps):\n",
    "    return eps**2 - np.linalg.norm(x - x_ball_center)**2\n",
    "\n",
    "def jacobian_unit_ball_constraint(x, x_ball_center, eps):\n",
    "    \"\"\"\n",
    "    Jacobien (gradient) de la fonction unit_ball_constraint.\n",
    "    Retourne -x / ||x||_2.\n",
    "    Non défini à x = 0.\n",
    "    \"\"\"\n",
    "    # norm_x = np.linalg.norm(x)\n",
    "    # return -x / norm_x\n",
    "    return -2*(x - x_ball_center)\n",
    "\n",
    "args_constraint = (x_ball_center, eps)\n",
    "# Set up the constraint dictionary\n",
    "constraints = ({\n",
    "    'type': 'ineq',  # Inequality constraint: constraint(x) >= 0\n",
    "    'fun': unit_ball_constraint,\n",
    "    'jac': jacobian_unit_ball_constraint,\n",
    "    'args': args_constraint\n",
    "})\n",
    "\n",
    "# Run the optimizer\n",
    "result = minimize(fun=lambda x :-function_to_optimize(x, W_1, b_1, y), jac= lambda x :-jac_function_to_optimize(x, W_1, b_1, y), x0 = x_ball_center, method='SLSQP', constraints=constraints)\n",
    "# result = minimize(fun=lambda x :-function_to_optimize(x, W_1, b_1, y), x0 = x_ball_center, method='SLSQP', constraints=constraints)\n",
    "# attention, le maximum est - result\n",
    "# Display results\n",
    "if result.success:\n",
    "    print(\"max found at:\", result.x)\n",
    "    print(\"max value:\", -result.fun)\n",
    "else:\n",
    "    print(\"Optimization failed:\", result.message)"
   ]
  },
  {
   "cell_type": "code",
   "execution_count": 44,
   "metadata": {},
   "outputs": [
    {
     "data": {
      "text/plain": [
       "array([1.53073307])"
      ]
     },
     "execution_count": 44,
     "metadata": {},
     "output_type": "execute_result"
    }
   ],
   "source": [
    "function_to_optimize(result.x, W_1, b_1, y)"
   ]
  },
  {
   "cell_type": "code",
   "execution_count": 45,
   "metadata": {},
   "outputs": [
    {
     "data": {
      "text/plain": [
       "array([-0.02009536,  3.74848984, -0.13295529, -2.04837169])"
      ]
     },
     "execution_count": 45,
     "metadata": {},
     "output_type": "execute_result"
    }
   ],
   "source": [
    "x_ball_center"
   ]
  },
  {
   "cell_type": "code",
   "execution_count": 46,
   "metadata": {},
   "outputs": [
    {
     "data": {
      "text/plain": [
       "-5.022657845188405e-10"
      ]
     },
     "execution_count": 46,
     "metadata": {},
     "output_type": "execute_result"
    }
   ],
   "source": [
    "unit_ball_constraint(result.x, x_ball_center, eps)"
   ]
  },
  {
   "cell_type": "code",
   "execution_count": 47,
   "metadata": {},
   "outputs": [
    {
     "data": {
      "text/plain": [
       "1.000000000251133"
      ]
     },
     "execution_count": 47,
     "metadata": {},
     "output_type": "execute_result"
    }
   ],
   "source": [
    "np.linalg.norm(result.x-x_ball_center)"
   ]
  },
  {
   "cell_type": "code",
   "execution_count": 48,
   "metadata": {},
   "outputs": [
    {
     "data": {
      "text/plain": [
       "'Optimization terminated successfully'"
      ]
     },
     "execution_count": 48,
     "metadata": {},
     "output_type": "execute_result"
    }
   ],
   "source": [
    "result.message"
   ]
  },
  {
   "cell_type": "markdown",
   "metadata": {},
   "source": [
    "# Application to our NN"
   ]
  },
  {
   "cell_type": "code",
   "execution_count": 49,
   "metadata": {},
   "outputs": [],
   "source": [
    "import os\n",
    "os.environ[\"KERAS_BACKEND\"] = \"torch\"\n",
    "import keras\n",
    "import keras.ops as K\n",
    "from keras.layers import Input, Flatten, Dense\n",
    "from keras.optimizers import Adam\n",
    "from keras.metrics import BinaryAccuracy\n",
    "\n",
    "# from keras.models import Sequential\n",
    "from deel.lip.model import Sequential\n",
    "\n",
    "from deel.lip.layers import (\n",
    "    SpectralDense,\n",
    "    SpectralConv2D,\n",
    "    ScaledL2NormPooling2D,\n",
    "    FrobeniusDense,\n",
    ")\n",
    "from deel.lip.activations import GroupSort, GroupSort2\n",
    "from deel.lip.losses import HKR, KR, HingeMargin, MulticlassHKR, MulticlassKR\n",
    "\n",
    "import numpy as np\n",
    "import decomon\n",
    "\n",
    "from data_processing import load_data, select_data_for_radius_evaluation_MNIST08\n",
    "from radius_evaluation_tools import compute_binary_certificate, starting_point_dichotomy"
   ]
  },
  {
   "cell_type": "code",
   "execution_count": 50,
   "metadata": {},
   "outputs": [],
   "source": [
    "x_train, x_test, y_train, y_test, y_test_ord = load_data(\"MNIST08\")"
   ]
  },
  {
   "cell_type": "code",
   "execution_count": 51,
   "metadata": {},
   "outputs": [
    {
     "name": "stderr",
     "output_type": "stream",
     "text": [
      "/home/aws_install/miniconda3/envs/k3torchenv/lib/python3.10/site-packages/keras/src/saving/saving_lib.py:802: UserWarning: Skipping variable loading for optimizer 'adam', because it has 12 variables whereas the saved optimizer has 2 variables. \n",
      "  saveable.load_own_variables(weights_store.get(inner_path))\n"
     ]
    }
   ],
   "source": [
    "model_path = \"/home/aws_install/robustess_project/lip_models/demo3_FC_vanilla_MNIST08_channelfirst_False_disj_Neurons_single_output.keras\"\n",
    "model = keras.models.load_model(model_path)\n",
    "model.compile(\n",
    "   \n",
    "    loss=HKR(\n",
    "        alpha=10.0, min_margin=1.0\n",
    "    ),  # HKR stands for the hinge regularized KR loss\n",
    "    metrics=[\n",
    "        # KR,  # shows the KR term of the loss\n",
    "        HingeMargin(min_margin=1.0),  # shows the hinge term of the loss\n",
    "    ],\n",
    "    optimizer=Adam(learning_rate=0.001),)"
   ]
  },
  {
   "cell_type": "code",
   "execution_count": 52,
   "metadata": {},
   "outputs": [],
   "source": [
    "pt_choosen = 1"
   ]
  },
  {
   "cell_type": "code",
   "execution_count": 53,
   "metadata": {},
   "outputs": [],
   "source": [
    "x = x_train[pt_choosen:pt_choosen+1].flatten()"
   ]
  },
  {
   "cell_type": "code",
   "execution_count": 65,
   "metadata": {},
   "outputs": [],
   "source": [
    "eps=0.2"
   ]
  },
  {
   "cell_type": "code",
   "execution_count": 66,
   "metadata": {},
   "outputs": [],
   "source": [
    "lower_toy = x-eps\n",
    "upper_toy = x+eps"
   ]
  },
  {
   "cell_type": "code",
   "execution_count": 67,
   "metadata": {},
   "outputs": [],
   "source": [
    "y = echantillonner_boule_l2_simple(x, eps)"
   ]
  },
  {
   "cell_type": "code",
   "execution_count": 68,
   "metadata": {},
   "outputs": [],
   "source": [
    "W_1, b_1 = square_backward_bounds(lower_toy, upper_toy,y)"
   ]
  },
  {
   "cell_type": "code",
   "execution_count": 69,
   "metadata": {},
   "outputs": [],
   "source": [
    "def function_to_optimize(x, W, b, y):\n",
    "    # x (4,)\n",
    "    output = model(y.reshape((1,28,28))[None]).cpu().detach().numpy()[0,0] + L*np.sqrt(W@x+b) #scalar\n",
    "    # print(output.shape)\n",
    "    return output"
   ]
  },
  {
   "cell_type": "code",
   "execution_count": 70,
   "metadata": {},
   "outputs": [],
   "source": [
    "def jac_function_to_optimize(x, W, b, y):\n",
    "    output = L/(2*np.sqrt(W@x+b))*W\n",
    "    # print(output.shape)\n",
    "    return output"
   ]
  },
  {
   "cell_type": "code",
   "execution_count": 71,
   "metadata": {},
   "outputs": [
    {
     "name": "stdout",
     "output_type": "stream",
     "text": [
      "max found at: [ 4.49405271e-04 -6.74707278e-03 -6.41113102e-04 -4.22443902e-03\n",
      "  2.10101422e-03  9.36394122e-03 -1.49614683e-02 -9.10198283e-04\n",
      "  1.43161780e-02  1.22756702e-02  7.14877295e-03  3.79159619e-03\n",
      "  6.27722089e-03 -1.60284003e-03 -1.33270526e-04  4.37965479e-03\n",
      " -7.38273372e-03  3.47692580e-03  9.01535259e-04 -1.00964877e-03\n",
      "  6.17050399e-03  5.75765054e-03 -9.46650278e-03 -1.98824083e-03\n",
      "  3.93329486e-03 -1.23674043e-02  6.61013878e-03 -7.38823398e-04\n",
      "  4.00070543e-03  2.76445958e-03  8.86520019e-03 -5.92559541e-03\n",
      " -1.46891213e-03  1.73360653e-02 -4.78049886e-03 -4.74273783e-03\n",
      " -3.25735274e-03 -1.08918599e-02  8.15357081e-03  5.72057561e-03\n",
      " -7.86085814e-03  5.88270471e-03  4.38075318e-03 -6.69211760e-03\n",
      " -1.90147756e-03 -8.58067526e-03  6.93911884e-03 -4.27520208e-03\n",
      "  9.13976594e-03 -1.61124120e-02 -4.13985126e-03 -6.45937496e-03\n",
      "  5.79257910e-03 -1.08116821e-03  8.20820801e-03  1.10014411e-02\n",
      " -4.46038521e-03 -1.00535503e-02 -7.48085986e-04  1.06576594e-02\n",
      "  9.70036771e-03  7.77084430e-03  7.42104480e-03 -2.58765255e-03\n",
      "  5.00278753e-04 -5.33678621e-03 -1.76222166e-03  7.77853586e-07\n",
      "  3.91926368e-03  3.39736169e-03 -5.46745570e-04  2.98260935e-05\n",
      " -9.82043823e-03  7.42554522e-03  1.05397671e-02  5.50089323e-03\n",
      "  2.38862240e-03 -2.51429623e-03  6.20250150e-03  3.72437562e-03\n",
      "  1.80019691e-03 -1.87546609e-02  2.60097294e-03 -5.76661443e-03\n",
      "  3.19597981e-03  5.26593468e-03  2.50111982e-02  5.87764708e-03\n",
      " -5.85991475e-03  7.55204003e-03  4.01954029e-03 -2.08797110e-03\n",
      " -1.54001787e-03 -4.57993355e-03 -1.19681701e-03 -1.77718179e-03\n",
      " -7.12892109e-03 -3.80820059e-04 -1.00173442e-02 -6.19650626e-03\n",
      "  1.15305428e-02 -4.35753223e-03  6.12174609e-03 -1.11679083e-03\n",
      "  7.23590118e-03 -9.73377772e-03  5.29309342e-03 -3.34880164e-03\n",
      " -4.18216427e-03 -8.26571372e-03  1.50464034e-03  3.58369629e-03\n",
      " -6.92322568e-03 -8.70149211e-03 -4.75880619e-03  1.31094744e-02\n",
      "  1.90509490e-03  5.58601366e-04  1.38304786e-04  2.94495964e-03\n",
      "  6.22704342e-03 -1.64248547e-03  5.67331775e-03 -4.96176075e-03\n",
      "  1.27548557e-02 -4.65760267e-03 -2.63674004e-03 -1.03880891e-02\n",
      "  1.20217435e-03 -5.00047349e-03 -2.06003508e-03 -2.70671612e-03\n",
      " -1.18012781e-02  1.39170576e-02  4.86887652e-03  4.32033824e-03\n",
      " -8.49513635e-03  2.80441972e-03 -3.81084577e-03  1.06813738e-02\n",
      "  1.08686953e-03 -1.04698146e-02 -3.51879113e-03  3.56429246e-03\n",
      "  4.17842050e-03 -1.01791419e-02 -1.14508744e-03 -3.77603761e-03\n",
      " -7.54033981e-04 -6.69771094e-03  1.34270003e-02  7.34293044e-03\n",
      " -7.96282978e-03 -7.09432173e-03 -4.47760460e-03  7.10921305e-03\n",
      "  1.81001968e-02 -1.29156492e-02 -1.05733600e-02  3.99430767e-02\n",
      "  8.09819591e-01  9.04517763e-01  1.27434392e-01 -6.03467046e-03\n",
      " -1.16461780e-04 -1.00301499e-03 -8.76212519e-04  1.65577101e-02\n",
      " -1.31136096e-02 -4.93087410e-03 -5.46255125e-03 -1.14436885e-04\n",
      " -3.75054145e-03 -5.40632939e-03  7.82871375e-03 -1.21967670e-02\n",
      " -1.06076283e-02 -3.23173629e-03 -8.35640074e-03 -1.11096158e-02\n",
      "  6.99055597e-03 -8.09258251e-04 -1.48173823e-03  1.00045310e-01\n",
      "  1.81892811e-01  1.76867812e-01  1.17771050e-01  3.81866815e-01\n",
      "  9.97559064e-01  8.39160854e-01  4.51119689e-02 -2.59456336e-03\n",
      " -2.42447686e-04  1.49132469e-03  2.09432686e-03  4.58279484e-03\n",
      "  2.12891065e-03 -6.09810626e-03 -6.26400947e-03 -3.90994387e-03\n",
      " -8.36268999e-03  2.10010638e-03  5.06059707e-03  8.75705209e-04\n",
      " -8.10977920e-03  1.99624042e-03 -5.91043929e-03  1.69444916e-01\n",
      "  6.19588179e-01  7.29583974e-01  7.31048131e-01  8.75626064e-01\n",
      "  1.00521382e+00  9.86815814e-01  5.22325762e-01  6.84102112e-01\n",
      "  1.00449424e+00  7.34667865e-01  7.02135906e-02  7.11357698e-03\n",
      " -1.02923746e-03 -5.87882194e-04  9.91207020e-03  3.01108946e-03\n",
      " -4.08994827e-03  8.14284441e-04 -8.29181642e-03  1.99233273e-03\n",
      " -1.08344959e-03 -2.56117330e-03 -7.21015336e-03  2.19141811e-03\n",
      " -1.10016117e-02  3.55961311e-03  5.60317232e-03  4.37423094e-01\n",
      "  9.98028873e-01  9.88107143e-01  9.84664781e-01  9.54210277e-01\n",
      "  6.32078407e-01  8.89683092e-01  9.93869432e-01  9.90844690e-01\n",
      "  9.98786975e-01  3.72504419e-01 -5.20527167e-03  6.80035702e-03\n",
      " -9.27953814e-03  3.49130948e-03 -5.01506036e-03  5.50542326e-03\n",
      " -1.22070494e-02  2.33571927e-03  1.41216806e-03 -3.85161757e-03\n",
      "  4.47103390e-03  3.10963606e-03  7.12017093e-03 -4.16400940e-03\n",
      " -2.26762033e-02 -1.05695404e-02  4.99079749e-01  9.53400593e-01\n",
      "  9.87932056e-01  6.19059933e-01  5.29782996e-01  8.49549362e-02\n",
      "  7.67828790e-03  1.94033136e-01  9.08673697e-01  9.96143039e-01\n",
      "  9.15077387e-01  1.61485497e-02 -2.46177333e-03 -1.82696448e-04\n",
      " -2.60700077e-03 -2.75248893e-03  2.37746836e-02  3.70233744e-04\n",
      " -3.17114472e-03  1.04300111e-02  2.63612599e-03  2.61205505e-03\n",
      " -4.79371637e-03 -1.18535786e-02  2.11841630e-04 -3.83496654e-03\n",
      " -5.43305950e-03  1.23143927e-03  5.47804793e-01  1.00563379e+00\n",
      "  8.78654467e-01  9.23977430e-02  2.02320166e-03 -1.28991977e-02\n",
      "  1.43465248e-01  6.59590632e-01  1.00889815e+00  9.56078163e-01\n",
      "  4.10873712e-01 -1.11497232e-03  1.28829299e-02 -4.76770896e-03\n",
      " -1.95905261e-04 -2.19848452e-03 -1.12600387e-04  7.24583401e-05\n",
      "  4.89595076e-03  1.31191084e-02 -8.49890147e-04 -3.25424534e-04\n",
      " -8.46460728e-03 -1.07763318e-02 -1.52285918e-03  1.68562724e-04\n",
      " -6.89374805e-03  2.42314473e-03  2.14636254e-01  8.29769796e-01\n",
      "  9.98326737e-01  6.40147762e-01  3.81507486e-02  8.89783100e-02\n",
      "  6.99824013e-01  1.00807291e+00  9.16354088e-01  4.34592100e-01\n",
      "  2.51572474e-03 -1.52970944e-02  5.48341813e-03 -4.91021873e-03\n",
      " -1.26674587e-03 -2.04469581e-03 -1.76148602e-03 -5.40623913e-03\n",
      " -2.01745128e-02  1.20243437e-02  1.46461578e-02  1.47352832e-02\n",
      "  3.18094681e-03  4.82124388e-03  6.10417051e-04  3.27048025e-03\n",
      " -2.14230855e-03  3.24769759e-03  3.48002927e-02  6.18560107e-01\n",
      "  9.93647154e-01  8.99960442e-01  3.14114779e-01  8.75591543e-01\n",
      "  1.00958509e+00  9.93172256e-01  4.33354577e-01  1.10903586e-02\n",
      "  1.02853543e-02  2.06745958e-03  1.28946428e-02  8.65584085e-03\n",
      " -1.79125498e-02 -4.21933618e-04 -4.58981629e-03  1.18911251e-03\n",
      "  6.88995913e-03  1.48714274e-03  3.34195785e-04  5.39562798e-03\n",
      " -1.75850286e-02  9.70006508e-03  5.62265156e-03 -2.31672610e-03\n",
      " -6.33157744e-03 -1.38625019e-03  6.35782030e-03  5.56507707e-01\n",
      "  9.85763260e-01  9.93746086e-01  9.87821403e-01  9.92570249e-01\n",
      "  9.82913303e-01  5.98523378e-01  1.17177307e-01  1.28082348e-03\n",
      "  4.34192985e-03  5.90117009e-03  5.41375472e-03  5.67333585e-03\n",
      " -3.75998321e-04  5.12490996e-03 -4.88912570e-03  6.52989530e-03\n",
      " -4.26607797e-03 -8.29851263e-03 -2.81664923e-03  8.64309851e-03\n",
      " -2.58131137e-03  4.67137627e-04  4.73379680e-03  4.14570895e-03\n",
      " -1.01771608e-02  5.60606327e-03 -3.35939515e-03  4.27787551e-01\n",
      "  9.83552875e-01  9.97185965e-01  9.83256303e-01  9.91470583e-01\n",
      "  7.01990215e-01  1.37356232e-01  6.82848189e-03 -8.84416142e-03\n",
      " -3.50477034e-03  1.45947102e-02  8.41850056e-04 -1.06000993e-02\n",
      "  8.20050967e-03 -1.93187997e-03 -3.56658538e-03  3.48332516e-03\n",
      "  1.20314682e-02 -1.87927852e-03 -2.76384903e-03  1.01054417e-02\n",
      " -1.65961470e-03 -1.31416671e-02 -1.57220584e-03 -1.15570616e-02\n",
      "  1.42254306e-02 -4.69463382e-03  3.23517569e-02  6.67113277e-01\n",
      "  9.91317536e-01  9.91425211e-01  1.00186941e+00  6.99233964e-01\n",
      " -2.20850198e-03 -5.33627620e-03 -2.14152097e-03 -4.67520548e-03\n",
      "  1.20873116e-02  9.10686907e-03 -2.26573811e-02 -2.71165937e-03\n",
      "  2.03632733e-03 -3.21609094e-03 -6.44849738e-03  5.92129973e-03\n",
      "  2.01756053e-03 -5.90298582e-03 -1.57806313e-03  7.05944218e-03\n",
      " -3.27909283e-03  3.57789467e-05 -9.91923910e-03  7.87450619e-03\n",
      " -5.06031326e-03 -8.27372124e-04  6.66558744e-01  9.90784702e-01\n",
      "  9.85591989e-01  9.88852465e-01  9.99559000e-01  6.98196663e-01\n",
      "  4.05414452e-03  9.10846992e-03 -8.34786724e-03 -1.01744106e-02\n",
      "  1.49889940e-03 -3.54012887e-03 -5.57274512e-03  2.37584273e-03\n",
      " -3.46354464e-03 -1.09493337e-03  4.86138446e-04  2.62506128e-04\n",
      "  1.44749828e-02  3.52314263e-03 -8.52459041e-03  3.03095919e-03\n",
      " -4.49976663e-03  2.65292131e-04 -6.56573842e-03 -8.26962490e-03\n",
      "  1.10906313e-01  4.82513642e-01  1.00358539e+00  9.88795650e-01\n",
      "  7.88136754e-01  6.08644987e-01  9.81653726e-01  7.96764887e-01\n",
      " -1.54587996e-02 -7.55812259e-03  2.96505140e-03  3.13489846e-04\n",
      " -1.31116191e-02 -1.51769717e-02 -6.06177912e-05  1.40562908e-03\n",
      "  5.05473355e-03  3.56871649e-03  5.62636822e-03  1.05271241e-03\n",
      " -3.51264392e-03  3.52433851e-03 -2.14061406e-03 -8.86249119e-03\n",
      " -5.49231166e-04 -1.59366171e-02 -7.03451129e-03  6.97480470e-03\n",
      "  3.75869531e-01  9.94552735e-01  9.94139255e-01  4.80567493e-01\n",
      "  5.29755520e-02  3.64579001e-01  9.92567450e-01  6.27394217e-01\n",
      "  2.08641819e-03 -9.51018790e-03 -1.22117545e-03 -5.99914974e-03\n",
      " -6.17256052e-03  5.37127595e-03  2.27168567e-03  2.67227393e-03\n",
      " -3.31764069e-03  1.22357364e-02 -6.33449106e-03 -1.74935024e-03\n",
      "  2.02235883e-03  1.95314158e-03  1.72177655e-02  3.18439004e-03\n",
      " -5.84731671e-03 -7.81615403e-03 -1.21627879e-02  2.51625383e-01\n",
      "  9.24657407e-01  1.00515363e+00  2.86289948e-01  2.20793041e-02\n",
      "  1.24058573e-01  8.61112707e-01  9.83610604e-01  4.92968059e-01\n",
      "  3.48676375e-03 -1.01743161e-03  1.41791594e-04 -3.78908627e-03\n",
      " -4.86225519e-03  1.42851211e-02  7.13431537e-03  4.94208636e-03\n",
      "  9.17476839e-03 -7.44807192e-03 -1.55483766e-02  4.54195134e-03\n",
      " -8.78623287e-03 -3.27865716e-03  7.54273509e-03 -6.02958183e-03\n",
      " -6.80567680e-03 -3.51327076e-03  9.89331173e-04  5.16579758e-01\n",
      "  9.84520956e-01  7.55240329e-01 -2.18539814e-02  1.64807568e-02\n",
      "  4.18069073e-01  9.23245806e-01  1.00614528e+00  4.17167806e-01\n",
      " -4.94599141e-03  1.07989247e-02 -9.72938210e-03 -8.45104666e-03\n",
      " -2.46941917e-03  7.36737551e-03 -5.22142322e-03 -8.30119937e-03\n",
      " -5.31256259e-05  3.25719490e-03 -5.96320407e-03 -2.62184878e-03\n",
      "  7.26790340e-03  1.45860471e-02 -2.49604721e-03 -7.83442744e-03\n",
      " -3.78231676e-03  5.86784715e-03 -4.10954123e-05  5.10016567e-01\n",
      "  9.88523267e-01  7.48201037e-01  1.16378460e-02  3.32035638e-01\n",
      "  9.83227434e-01  9.25270569e-01  6.06203071e-01  6.64095494e-03\n",
      " -9.61035388e-04 -8.10484713e-03 -7.67824914e-03  4.59863413e-03\n",
      "  5.58636679e-03 -5.11194803e-03  7.16307124e-05  5.70683322e-03\n",
      "  4.90099171e-03 -3.60839097e-03 -1.05050970e-02  2.22809078e-02\n",
      "  6.73214790e-03  4.43227540e-03  1.31581125e-03  6.77869922e-03\n",
      " -5.99669249e-03 -1.06926576e-03 -9.18029592e-04  6.03748481e-01\n",
      "  9.92487259e-01  6.67799929e-01  7.44574712e-01  9.83624724e-01\n",
      "  9.93032135e-01  3.03917475e-01  9.42564023e-03 -1.11771313e-02\n",
      " -1.10529793e-02 -5.82064754e-03 -3.42083883e-03 -2.83039857e-03\n",
      "  5.47512760e-03 -5.61598872e-04  2.42026262e-04 -1.89457472e-03\n",
      " -1.72321384e-03 -1.90799791e-02  5.22815205e-03  8.77898937e-04\n",
      "  2.43744616e-03 -5.50678978e-03 -9.09473266e-03 -3.19819949e-03\n",
      "  1.20500810e-03  1.56405640e-02  2.99691397e-04  4.43609573e-01\n",
      "  1.00346494e+00  9.89026142e-01  9.93832005e-01  9.20223798e-01\n",
      "  5.02428230e-01  3.99018902e-02  8.01424326e-03  1.02125069e-02\n",
      " -6.38953912e-03 -1.12243354e-02  7.39685349e-03  1.68175896e-03\n",
      " -9.45442643e-03 -1.00673879e-04 -1.03371303e-03  3.28692055e-03\n",
      " -1.74096254e-03 -2.73331528e-03  7.59299929e-04 -5.22362025e-03\n",
      " -3.22824115e-03 -2.44588230e-03 -1.13872553e-02 -3.99526140e-03\n",
      "  2.19715306e-02 -1.27030235e-03 -1.90230915e-03  6.96971563e-02\n",
      "  4.54234087e-01  9.48162198e-01  7.42334381e-01  4.50117983e-01\n",
      " -1.43750469e-03  1.00544273e-02  2.64885923e-03  6.54112987e-03\n",
      " -3.59101302e-03 -8.64194297e-03  3.69645305e-03 -1.28735667e-02\n",
      " -1.46631221e-02 -3.46102328e-03 -2.66703709e-03  3.81861698e-03\n",
      " -1.53048498e-03  1.01581766e-02 -9.05043813e-03  1.31090202e-02\n",
      " -3.54943417e-04 -1.38479007e-02  3.71742679e-03 -4.55799364e-03\n",
      "  9.88770230e-04 -1.08967526e-03  8.19430050e-04 -6.46197793e-03\n",
      "  1.30224257e-03 -2.46348988e-03 -9.48980062e-03  5.13964675e-03\n",
      "  1.56666783e-03  5.14580135e-03 -5.30058349e-03  1.57487772e-03\n",
      "  5.52925704e-03 -4.90331800e-03  5.17367946e-03 -3.49732906e-04\n",
      "  7.83409031e-03 -9.31454026e-03 -7.69822234e-03  6.16585456e-03\n",
      "  1.92366825e-03  1.31232723e-02  3.36150508e-04 -1.08931105e-02\n",
      " -8.18114387e-03 -3.56360857e-03 -9.62743573e-03  4.21413480e-04\n",
      " -5.79826241e-03 -4.49606922e-03 -5.65723772e-03 -9.61658229e-03\n",
      " -8.70656445e-03  8.06992471e-03 -3.40754454e-03 -3.74969610e-03\n",
      " -3.26529732e-03 -1.78483796e-02  1.43560779e-03 -1.82021413e-03\n",
      "  1.56343240e-02  9.16288694e-04  9.31350184e-03  6.53572631e-03\n",
      "  5.40678200e-03 -3.62474397e-03  5.66774498e-03 -9.26236140e-03\n",
      "  2.69090394e-03  5.29901421e-03 -1.17819075e-03  6.41415140e-03\n",
      " -2.48235044e-03 -6.84235363e-03  1.26381714e-03  7.62799427e-03\n",
      " -6.87991935e-03  4.85167844e-03 -5.55825563e-03 -4.27934874e-03\n",
      " -1.45554443e-02  7.70507923e-03 -1.94989252e-04  7.55730069e-03\n",
      "  3.50518756e-03  5.23598155e-03 -3.15538804e-03  7.77080391e-03\n",
      "  6.12772522e-03  2.55492434e-03  1.12227865e-03 -1.61060165e-03\n",
      "  2.72467083e-03 -5.93367434e-03  1.56220454e-03  1.63798005e-03\n",
      " -1.22230868e-02 -7.34952298e-03  1.01358961e-02  5.38574793e-04]\n",
      "max value: 1.7789986703224825\n"
     ]
    }
   ],
   "source": [
    "# # Define your convex function\n",
    "# def f(x):\n",
    "#     # Example: quadratic function\n",
    "#     return np.dot(x, x) + 3 * x[0] - x[1]  # Replace with your actual function\n",
    "x_ball_center = x\n",
    "x_ball_center = np.asarray(x_ball_center, dtype=np.float64)\n",
    "\n",
    "# Define the constraint: ||x - x_centre||_2**2 <= eps**2\n",
    "def unit_ball_constraint(x, x_ball_center, eps):\n",
    "    return eps**2 - np.linalg.norm(x - x_ball_center)**2\n",
    "\n",
    "def jacobian_unit_ball_constraint(x, x_ball_center, eps):\n",
    "    \"\"\"\n",
    "    Jacobien (gradient) de la fonction unit_ball_constraint.\n",
    "    Retourne -x / ||x||_2.\n",
    "    Non défini à x = 0.\n",
    "    \"\"\"\n",
    "    # norm_x = np.linalg.norm(x)\n",
    "    # return -x / norm_x\n",
    "    return -2*(x - x_ball_center)\n",
    "\n",
    "args_contrainte = (x_ball_center, eps)\n",
    "# Set up the constraint dictionary\n",
    "constraints = ({\n",
    "    'type': 'ineq',  # Inequality constraint: constraint(x) >= 0\n",
    "    'fun': unit_ball_constraint,\n",
    "    'jac': jacobian_unit_ball_constraint,\n",
    "    'args': args_contrainte\n",
    "})\n",
    "\n",
    "# Run the optimizer\n",
    "result = minimize(fun=lambda x :-function_to_optimize(x, W_1, b_1, y), jac= lambda x :-jac_function_to_optimize(x, W_1, b_1, y), x0 = x_ball_center, method='SLSQP', constraints=constraints)\n",
    "# result = minimize(fun=lambda x :-function_to_optimize(x, W_1, b_1, y), x0 = x_ball_center, method='SLSQP', constraints=constraints)\n",
    "# attention, le maximum est - result\n",
    "# Display results\n",
    "if result.success:\n",
    "    print(\"max found at:\", result.x)\n",
    "    print(\"max value:\", -result.fun)\n",
    "else:\n",
    "    print(\"Optimization failed:\", result.message)"
   ]
  },
  {
   "cell_type": "code",
   "execution_count": 72,
   "metadata": {},
   "outputs": [
    {
     "data": {
      "text/plain": [
       "tensor([[-3.8370]], device='cuda:0', grad_fn=<MmBackward0>)"
      ]
     },
     "execution_count": 72,
     "metadata": {},
     "output_type": "execute_result"
    }
   ],
   "source": [
    "model(x.reshape((1,28,28))[None,:])"
   ]
  },
  {
   "cell_type": "code",
   "execution_count": 73,
   "metadata": {},
   "outputs": [
    {
     "data": {
      "text/plain": [
       "tensor([[-3.8370]], device='cuda:0', grad_fn=<MmBackward0>)"
      ]
     },
     "execution_count": 73,
     "metadata": {},
     "output_type": "execute_result"
    }
   ],
   "source": [
    "model(x_train[pt_choosen:pt_choosen+1])"
   ]
  }
 ],
 "metadata": {
  "kernelspec": {
   "display_name": "k3torchenv",
   "language": "python",
   "name": "python3"
  },
  "language_info": {
   "codemirror_mode": {
    "name": "ipython",
    "version": 3
   },
   "file_extension": ".py",
   "mimetype": "text/x-python",
   "name": "python",
   "nbconvert_exporter": "python",
   "pygments_lexer": "ipython3",
   "version": "3.10.16"
  }
 },
 "nbformat": 4,
 "nbformat_minor": 2
}
