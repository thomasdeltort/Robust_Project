{
 "cells": [
  {
   "cell_type": "code",
   "execution_count": 1,
   "metadata": {},
   "outputs": [],
   "source": [
    "import numpy as np\n",
    "from scipy.optimize import minimize\n",
    "import matplotlib.pyplot as plt"
   ]
  },
  {
   "cell_type": "markdown",
   "metadata": {},
   "source": [
    "# Create Toy Dataset"
   ]
  },
  {
   "cell_type": "code",
   "execution_count": 2,
   "metadata": {},
   "outputs": [],
   "source": [
    "# Define parameters\n",
    "nb_points = 100"
   ]
  },
  {
   "cell_type": "markdown",
   "metadata": {},
   "source": [
    "il faut échantilloner des y dans la boule pour un x donné"
   ]
  },
  {
   "cell_type": "code",
   "execution_count": 3,
   "metadata": {},
   "outputs": [],
   "source": [
    "eps = 1\n",
    "L = 1"
   ]
  },
  {
   "cell_type": "markdown",
   "metadata": {},
   "source": [
    "# Create bounding functions"
   ]
  },
  {
   "cell_type": "code",
   "execution_count": 4,
   "metadata": {},
   "outputs": [],
   "source": [
    "def get_bounds_from_ball(epsilon,x,W,b):\n",
    "    #### Starting from an input domain B(x, epsilon), we want to minimize and maximize a linear function Wx + b\n",
    "    # epsilon scalar value\n",
    "    # x (4,)\n",
    "    # W (4,)\n",
    "    # b scalar\n",
    "    output = W@x - epsilon*np.linalg.norm(W) + b, W@x + epsilon*np.linalg.norm(W) + b # scalar\n",
    "    return np.array(output) #(1,)"
   ]
  },
  {
   "cell_type": "code",
   "execution_count": 5,
   "metadata": {},
   "outputs": [],
   "source": [
    "def square_backward_bounds(l, u, y):\n",
    "    # l (4,)\n",
    "    # u (4,)\n",
    "    # y (4,)\n",
    "\n",
    "    u = u - y\n",
    "    l = l - y\n",
    "\n",
    "    W = u + l #(4,)\n",
    "    b = np.sum(-u*l) - W@y #scalar\n",
    "    return W, np.array(b)[None]#(4,) & (1,)"
   ]
  },
  {
   "cell_type": "code",
   "execution_count": 6,
   "metadata": {},
   "outputs": [],
   "source": [
    "def sqrt_backward_bounds(l,u, W_previous, b_previous):\n",
    "    #stocker h'\n",
    "    c = (l+u)/2\n",
    "    W = W_previous*(1/(2*np.sqrt(c)))\n",
    "    b = 0.5* np.sqrt(c) + (1/(2*np.sqrt(c)))*b_previous\n",
    "    return W, b"
   ]
  },
  {
   "cell_type": "code",
   "execution_count": 7,
   "metadata": {},
   "outputs": [],
   "source": [
    "def get_max(W,b,y):\n",
    "    return minimize(lambda x: W @ x + b, y)"
   ]
  },
  {
   "cell_type": "markdown",
   "metadata": {},
   "source": [
    "# Test 1D"
   ]
  },
  {
   "cell_type": "code",
   "execution_count": 8,
   "metadata": {},
   "outputs": [],
   "source": [
    "def f(x):\n",
    "    return np.sin(x)"
   ]
  },
  {
   "cell_type": "code",
   "execution_count": 9,
   "metadata": {},
   "outputs": [],
   "source": [
    "i = 1\n",
    "pt_choosen = 1\n",
    "num_coordinates = 1\n",
    "\n",
    "x = np.random.rand(nb_points, num_coordinates)*10-5"
   ]
  },
  {
   "cell_type": "code",
   "execution_count": 10,
   "metadata": {},
   "outputs": [],
   "source": [
    "\n",
    "# selected_indices = np.random.choice(x.shape[0], size=num_points_to_select, replace=False)\n",
    "# y = x[selected_indices]"
   ]
  },
  {
   "cell_type": "code",
   "execution_count": 11,
   "metadata": {},
   "outputs": [],
   "source": [
    "def echantillonner_boule_l2_simple(x, epsilon):\n",
    "  d = x.shape[0] # Dimension\n",
    "\n",
    "  # 1. Vecteur gaussien aléatoire (direction)\n",
    "  u = np.random.randn(d)\n",
    "  norm_u = np.linalg.norm(u)\n",
    "\n",
    "  \n",
    "  # 2. Distance radiale (avec échelle pour uniformité en volume)\n",
    "  s = np.random.rand() # Échantillon uniforme dans [0, 1)\n",
    "  r = epsilon * s \n",
    "\n",
    "  # 3. Point final = centre + direction_normalisée * distance\n",
    "  y = x + r * (u / norm_u)\n",
    "\n",
    "  return y"
   ]
  },
  {
   "cell_type": "code",
   "execution_count": 12,
   "metadata": {},
   "outputs": [],
   "source": [
    "lower_toy = x-eps\n",
    "upper_toy = x+eps"
   ]
  },
  {
   "cell_type": "code",
   "execution_count": 13,
   "metadata": {},
   "outputs": [
    {
     "data": {
      "text/plain": [
       "array([2.53536313])"
      ]
     },
     "execution_count": 13,
     "metadata": {},
     "output_type": "execute_result"
    }
   ],
   "source": [
    "x[pt_choosen]"
   ]
  },
  {
   "cell_type": "code",
   "execution_count": 14,
   "metadata": {},
   "outputs": [],
   "source": [
    "y = echantillonner_boule_l2_simple(x[pt_choosen], eps)"
   ]
  },
  {
   "cell_type": "code",
   "execution_count": 15,
   "metadata": {},
   "outputs": [
    {
     "data": {
      "text/plain": [
       "array([1.92945042])"
      ]
     },
     "execution_count": 15,
     "metadata": {},
     "output_type": "execute_result"
    }
   ],
   "source": [
    "y"
   ]
  },
  {
   "cell_type": "code",
   "execution_count": 16,
   "metadata": {},
   "outputs": [
    {
     "data": {
      "text/plain": [
       "array([1.53536313])"
      ]
     },
     "execution_count": 16,
     "metadata": {},
     "output_type": "execute_result"
    }
   ],
   "source": [
    "lower_toy[pt_choosen]"
   ]
  },
  {
   "cell_type": "code",
   "execution_count": 17,
   "metadata": {},
   "outputs": [
    {
     "data": {
      "text/plain": [
       "array([3.53536313])"
      ]
     },
     "execution_count": 17,
     "metadata": {},
     "output_type": "execute_result"
    }
   ],
   "source": [
    "upper_toy[pt_choosen]"
   ]
  },
  {
   "cell_type": "code",
   "execution_count": 18,
   "metadata": {},
   "outputs": [],
   "source": [
    "W_1, b_1 = square_backward_bounds(lower_toy[pt_choosen], upper_toy[pt_choosen],y)"
   ]
  },
  {
   "cell_type": "code",
   "execution_count": 19,
   "metadata": {},
   "outputs": [
    {
     "data": {
      "text/plain": [
       "array([1.21182542])"
      ]
     },
     "execution_count": 19,
     "metadata": {},
     "output_type": "execute_result"
    }
   ],
   "source": [
    "W_1"
   ]
  },
  {
   "cell_type": "code",
   "execution_count": 20,
   "metadata": {},
   "outputs": [
    {
     "data": {
      "text/plain": [
       "array([-1.70528729])"
      ]
     },
     "execution_count": 20,
     "metadata": {},
     "output_type": "execute_result"
    }
   ],
   "source": [
    "b_1"
   ]
  },
  {
   "cell_type": "code",
   "execution_count": 21,
   "metadata": {},
   "outputs": [
    {
     "data": {
      "text/plain": [
       "array([2.53536313])"
      ]
     },
     "execution_count": 21,
     "metadata": {},
     "output_type": "execute_result"
    }
   ],
   "source": [
    "x[pt_choosen]"
   ]
  },
  {
   "cell_type": "code",
   "execution_count": 22,
   "metadata": {},
   "outputs": [],
   "source": [
    "z = np.linspace(x[pt_choosen]-eps, x[pt_choosen]+eps)"
   ]
  },
  {
   "cell_type": "code",
   "execution_count": 23,
   "metadata": {},
   "outputs": [
    {
     "data": {
      "image/png": "[encoded data removed]",
      "text/plain": [
       "<Figure size 640x480 with 1 Axes>"
      ]
     },
     "metadata": {},
     "output_type": "display_data"
    }
   ],
   "source": [
    "plt.plot(z, W_1*z+b_1)\n",
    "plt.plot(z, np.square(z-y))\n",
    "plt.show()"
   ]
  },
  {
   "cell_type": "code",
   "execution_count": 24,
   "metadata": {},
   "outputs": [
    {
     "data": {
      "text/plain": [
       "0.36713021497029347"
      ]
     },
     "execution_count": 24,
     "metadata": {},
     "output_type": "execute_result"
    }
   ],
   "source": [
    "np.sum((x[pt_choosen]-y)**2)"
   ]
  },
  {
   "cell_type": "code",
   "execution_count": 25,
   "metadata": {},
   "outputs": [
    {
     "data": {
      "text/plain": [
       "array([1.36713021])"
      ]
     },
     "execution_count": 25,
     "metadata": {},
     "output_type": "execute_result"
    }
   ],
   "source": [
    "W_1@x[pt_choosen]+b_1"
   ]
  },
  {
   "cell_type": "code",
   "execution_count": 26,
   "metadata": {},
   "outputs": [],
   "source": [
    "low, up = get_bounds_from_ball(eps, x[pt_choosen], W_1, b_1)"
   ]
  },
  {
   "cell_type": "code",
   "execution_count": 27,
   "metadata": {},
   "outputs": [
    {
     "data": {
      "text/plain": [
       "array([0.15530479])"
      ]
     },
     "execution_count": 27,
     "metadata": {},
     "output_type": "execute_result"
    }
   ],
   "source": [
    "low"
   ]
  },
  {
   "cell_type": "code",
   "execution_count": 28,
   "metadata": {},
   "outputs": [
    {
     "data": {
      "text/plain": [
       "array([2.57895564])"
      ]
     },
     "execution_count": 28,
     "metadata": {},
     "output_type": "execute_result"
    }
   ],
   "source": [
    "up"
   ]
  },
  {
   "cell_type": "code",
   "execution_count": 29,
   "metadata": {},
   "outputs": [],
   "source": [
    "W_2, b_2 = sqrt_backward_bounds(low,up, W_1, b_1)"
   ]
  },
  {
   "cell_type": "code",
   "execution_count": 30,
   "metadata": {},
   "outputs": [
    {
     "data": {
      "image/png": "[encoded data removed]",
      "text/plain": [
       "<Figure size 640x480 with 1 Axes>"
      ]
     },
     "metadata": {},
     "output_type": "display_data"
    }
   ],
   "source": [
    "plt.plot(z, W_2*z+b_2)\n",
    "plt.plot(z, np.sqrt(np.square(z-y)))\n",
    "plt.show()"
   ]
  },
  {
   "cell_type": "code",
   "execution_count": 31,
   "metadata": {},
   "outputs": [],
   "source": [
    "W_3 = L*W_2\n",
    "b_3 = L*b_2 + f(y)\n"
   ]
  },
  {
   "cell_type": "code",
   "execution_count": 32,
   "metadata": {},
   "outputs": [
    {
     "data": {
      "image/png": "[encoded data removed]",
      "text/plain": [
       "<Figure size 640x480 with 1 Axes>"
      ]
     },
     "metadata": {},
     "output_type": "display_data"
    }
   ],
   "source": [
    "plt.plot(z, W_3*z+b_3)\n",
    "plt.plot(z, f(y) + L*np.sqrt(np.square(z-y)))\n",
    "plt.show()"
   ]
  },
  {
   "cell_type": "markdown",
   "metadata": {},
   "source": [
    "# Test 4D"
   ]
  },
  {
   "cell_type": "code",
   "execution_count": 33,
   "metadata": {},
   "outputs": [],
   "source": [
    "pt_choosen = 1\n",
    "num_coordinates = 4\n",
    "\n",
    "x = np.random.rand(nb_points, num_coordinates)*10-5"
   ]
  },
  {
   "cell_type": "code",
   "execution_count": 34,
   "metadata": {},
   "outputs": [],
   "source": [
    "def f(x):\n",
    "    # x shape(4,)\n",
    "    output = x[0]*x[1]**2+x[2]-x[3] #f(scalar\n",
    "    return np.array(output)[None]#(batch,1)"
   ]
  },
  {
   "cell_type": "code",
   "execution_count": 35,
   "metadata": {},
   "outputs": [],
   "source": [
    "lower_toy = x-eps\n",
    "upper_toy = x+eps"
   ]
  },
  {
   "cell_type": "code",
   "execution_count": 36,
   "metadata": {},
   "outputs": [],
   "source": [
    "y = echantillonner_boule_l2_simple(x[pt_choosen], eps)"
   ]
  },
  {
   "cell_type": "code",
   "execution_count": 37,
   "metadata": {},
   "outputs": [
    {
     "data": {
      "text/plain": [
       "(4,)"
      ]
     },
     "execution_count": 37,
     "metadata": {},
     "output_type": "execute_result"
    }
   ],
   "source": [
    "y.shape"
   ]
  },
  {
   "cell_type": "code",
   "execution_count": 38,
   "metadata": {},
   "outputs": [],
   "source": [
    "W_1, b_1 = square_backward_bounds(lower_toy[pt_choosen], upper_toy[pt_choosen],y)"
   ]
  },
  {
   "cell_type": "code",
   "execution_count": 39,
   "metadata": {},
   "outputs": [],
   "source": [
    "import numpy as np\n",
    "from scipy.optimize import minimize"
   ]
  },
  {
   "cell_type": "code",
   "execution_count": 40,
   "metadata": {},
   "outputs": [],
   "source": [
    "def function_to_optimize(x, W, b, y):\n",
    "    # x (4,)\n",
    "    output = f(y) + L*np.sqrt(W@x+b) #scalar\n",
    "    # print(output.shape)\n",
    "    return output"
   ]
  },
  {
   "cell_type": "code",
   "execution_count": 41,
   "metadata": {},
   "outputs": [],
   "source": [
    "def jac_function_to_optimize(x, W, b, y):\n",
    "    output = L/(2*np.sqrt(W@x+b))*W\n",
    "    # print(output.shape)\n",
    "    return output"
   ]
  },
  {
   "cell_type": "code",
   "execution_count": 42,
   "metadata": {},
   "outputs": [
    {
     "data": {
      "text/plain": [
       "(array([-1.82936209,  4.83994419, -4.72220308, -4.81285842]),\n",
       " array([ 3.43013337,  1.28814493, -1.2440061 , -0.31217979]))"
      ]
     },
     "execution_count": 42,
     "metadata": {},
     "output_type": "execute_result"
    }
   ],
   "source": [
    "x[pt_choosen-1], x[pt_choosen]"
   ]
  },
  {
   "cell_type": "code",
   "execution_count": 43,
   "metadata": {},
   "outputs": [
    {
     "name": "stdout",
     "output_type": "stream",
     "text": [
      "max found at: [-1.81824045  4.46138072 -4.71963929 -3.88735346]\n",
      "max value: 7.02342585057732\n"
     ]
    }
   ],
   "source": [
    "# # Define your convex function\n",
    "# def f(x):\n",
    "#     # Example: quadratic function\n",
    "#     return np.dot(x, x) + 3 * x[0] - x[1]  # Replace with your actual function\n",
    "x_ball_center = x[pt_choosen-1]\n",
    "# Define the constraint: ||x - x_centre||_2**2 <= eps**2\n",
    "def unit_ball_constraint(x, x_ball_center, eps):\n",
    "    return eps**2 - np.linalg.norm(x - x_ball_center)**2\n",
    "\n",
    "def jacobian_unit_ball_constraint(x, x_ball_center, eps):\n",
    "    \"\"\"\n",
    "    Jacobien (gradient) de la fonction unit_ball_constraint.\n",
    "    Retourne -x / ||x||_2.\n",
    "    Non défini à x = 0.\n",
    "    \"\"\"\n",
    "    # norm_x = np.linalg.norm(x)\n",
    "    # return -x / norm_x\n",
    "    return -2*(x - x_ball_center)\n",
    "\n",
    "args_contrainte = (x_ball_center, eps)\n",
    "# Set up the constraint dictionary\n",
    "constraints = ({\n",
    "    'type': 'ineq',  # Inequality constraint: constraint(x) >= 0\n",
    "    'fun': unit_ball_constraint,\n",
    "    'jac': jacobian_unit_ball_constraint,\n",
    "    'args': args_contrainte\n",
    "})\n",
    "\n",
    "# Run the optimizer\n",
    "result = minimize(fun=lambda x :-function_to_optimize(x, W_1, b_1, y), jac= lambda x :-jac_function_to_optimize(x, W_1, b_1, y), x0 = x_ball_center, method='SLSQP', constraints=constraints)\n",
    "# result = minimize(fun=lambda x :-function_to_optimize(x, W_1, b_1, y), x0 = x_ball_center, method='SLSQP', constraints=constraints)\n",
    "# attention, le maximum est - result\n",
    "# Display results\n",
    "if result.success:\n",
    "    print(\"max found at:\", result.x)\n",
    "    print(\"max value:\", -result.fun)\n",
    "else:\n",
    "    print(\"Optimization failed:\", result.message)"
   ]
  },
  {
   "cell_type": "code",
   "execution_count": 44,
   "metadata": {},
   "outputs": [
    {
     "data": {
      "text/plain": [
       "array([-1.82936209,  4.83994419, -4.72220308, -4.81285842])"
      ]
     },
     "execution_count": 44,
     "metadata": {},
     "output_type": "execute_result"
    }
   ],
   "source": [
    "x_ball_center"
   ]
  },
  {
   "cell_type": "code",
   "execution_count": 45,
   "metadata": {},
   "outputs": [
    {
     "data": {
      "text/plain": [
       "-1.183511999514053e-08"
      ]
     },
     "execution_count": 45,
     "metadata": {},
     "output_type": "execute_result"
    }
   ],
   "source": [
    "unit_ball_constraint(result.x, x_ball_center, eps)"
   ]
  },
  {
   "cell_type": "code",
   "execution_count": 46,
   "metadata": {},
   "outputs": [
    {
     "data": {
      "text/plain": [
       "'Optimization terminated successfully'"
      ]
     },
     "execution_count": 46,
     "metadata": {},
     "output_type": "execute_result"
    }
   ],
   "source": [
    "result.message"
   ]
  },
  {
   "cell_type": "markdown",
   "metadata": {},
   "source": [
    "# Application to our NN"
   ]
  },
  {
   "cell_type": "code",
   "execution_count": 47,
   "metadata": {},
   "outputs": [],
   "source": [
    "import os\n",
    "os.environ[\"KERAS_BACKEND\"] = \"torch\"\n",
    "import keras\n",
    "import keras.ops as K\n",
    "from keras.layers import Input, Flatten, Dense\n",
    "from keras.optimizers import Adam\n",
    "from keras.metrics import BinaryAccuracy\n",
    "\n",
    "# from keras.models import Sequential\n",
    "from deel.lip.model import Sequential\n",
    "\n",
    "from deel.lip.layers import (\n",
    "    SpectralDense,\n",
    "    SpectralConv2D,\n",
    "    ScaledL2NormPooling2D,\n",
    "    FrobeniusDense,\n",
    ")\n",
    "from deel.lip.activations import GroupSort, GroupSort2\n",
    "from deel.lip.losses import HKR, KR, HingeMargin, MulticlassHKR, MulticlassKR\n",
    "\n",
    "import numpy as np\n",
    "import decomon\n",
    "\n",
    "from data_processing import load_data, select_data_for_radius_evaluation_MNIST08\n",
    "from radius_evaluation_tools import compute_binary_certificate, starting_point_dichotomy"
   ]
  },
  {
   "cell_type": "code",
   "execution_count": 48,
   "metadata": {},
   "outputs": [],
   "source": [
    "x_train, x_test, y_train, y_test, y_test_ord = load_data(\"MNIST08\")"
   ]
  },
  {
   "cell_type": "code",
   "execution_count": 49,
   "metadata": {},
   "outputs": [
    {
     "name": "stderr",
     "output_type": "stream",
     "text": [
      "/home/aws_install/miniconda3/envs/k3torchenv/lib/python3.10/site-packages/keras/src/saving/saving_lib.py:802: UserWarning: Skipping variable loading for optimizer 'adam', because it has 12 variables whereas the saved optimizer has 2 variables. \n",
      "  saveable.load_own_variables(weights_store.get(inner_path))\n"
     ]
    }
   ],
   "source": [
    "model_path = \"/home/aws_install/robustess_project/lip_models/demo3_FC_vanilla_MNIST08_channelfirst_False_disj_Neurons_single_output.keras\"\n",
    "model = keras.models.load_model(model_path)\n",
    "model.compile(\n",
    "   \n",
    "    loss=HKR(\n",
    "        alpha=10.0, min_margin=1.0\n",
    "    ),  # HKR stands for the hinge regularized KR loss\n",
    "    metrics=[\n",
    "        # KR,  # shows the KR term of the loss\n",
    "        HingeMargin(min_margin=1.0),  # shows the hinge term of the loss\n",
    "    ],\n",
    "    optimizer=Adam(learning_rate=0.001),)"
   ]
  },
  {
   "cell_type": "code",
   "execution_count": 62,
   "metadata": {},
   "outputs": [],
   "source": [
    "pt_choosen = 1"
   ]
  },
  {
   "cell_type": "code",
   "execution_count": 63,
   "metadata": {},
   "outputs": [],
   "source": [
    "x = x_train[pt_choosen:pt_choosen+1].flatten()"
   ]
  },
  {
   "cell_type": "code",
   "execution_count": 72,
   "metadata": {},
   "outputs": [],
   "source": [
    "eps=0.1"
   ]
  },
  {
   "cell_type": "code",
   "execution_count": 73,
   "metadata": {},
   "outputs": [],
   "source": [
    "lower_toy = x-eps\n",
    "upper_toy = x+eps"
   ]
  },
  {
   "cell_type": "code",
   "execution_count": 74,
   "metadata": {},
   "outputs": [],
   "source": [
    "y = echantillonner_boule_l2_simple(x, eps)"
   ]
  },
  {
   "cell_type": "code",
   "execution_count": 75,
   "metadata": {},
   "outputs": [
    {
     "data": {
      "text/plain": [
       "tensor(0.0058, device='cuda:0', dtype=torch.float64)"
      ]
     },
     "execution_count": 75,
     "metadata": {},
     "output_type": "execute_result"
    }
   ],
   "source": [
    "K.amax(K.sqrt((x-y)**2))"
   ]
  },
  {
   "cell_type": "code",
   "execution_count": 76,
   "metadata": {},
   "outputs": [],
   "source": [
    "W_1, b_1 = square_backward_bounds(lower_toy, upper_toy,y)"
   ]
  },
  {
   "cell_type": "code",
   "execution_count": 77,
   "metadata": {},
   "outputs": [],
   "source": [
    "def function_to_optimize(x, W, b, y):\n",
    "    # x (4,)\n",
    "    output = model(y.reshape((1,28,28))[None,:]).cpu().detach().numpy()[0,0] + L*np.sqrt(W@x+b) #scalar\n",
    "    # print(output.shape)\n",
    "    return output"
   ]
  },
  {
   "cell_type": "code",
   "execution_count": 78,
   "metadata": {},
   "outputs": [],
   "source": [
    "def jac_function_to_optimize(x, W, b, y):\n",
    "    output = L/(2*np.sqrt(W@x+b))*W\n",
    "    # print(output.shape)\n",
    "    return output"
   ]
  },
  {
   "cell_type": "code",
   "execution_count": 79,
   "metadata": {},
   "outputs": [
    {
     "name": "stdout",
     "output_type": "stream",
     "text": [
      "max found at: [ 4.07387174e-03  1.53294289e-03  2.51479526e-03 -2.48138783e-03\n",
      " -7.41518784e-06 -6.77321539e-03  2.53179568e-03  2.51342487e-03\n",
      " -4.44241402e-04 -5.56157754e-03 -1.84000279e-03 -4.67636286e-03\n",
      " -1.32534035e-04  5.83508092e-04  2.81752444e-03 -5.64911136e-03\n",
      "  3.04619485e-03 -3.87385115e-03 -4.73411693e-04  9.27916460e-04\n",
      " -6.13774565e-04 -3.08578195e-03 -3.12293335e-04 -3.88273278e-03\n",
      "  2.93359382e-03  1.19612498e-03 -2.31394462e-03  4.30792736e-04\n",
      " -5.56243218e-04  5.39514977e-04  1.24611992e-03 -1.70397929e-03\n",
      "  3.45164106e-03  1.65810344e-04 -8.05032460e-03 -6.30600931e-03\n",
      "  4.18753042e-03  1.03831216e-03 -1.75624446e-03  2.08681918e-04\n",
      "  8.00669692e-04 -4.96058909e-04  2.43950454e-03 -2.26831460e-03\n",
      "  7.49531917e-04  2.10498372e-03  1.07883860e-03 -1.35732511e-03\n",
      "  6.58651221e-03  2.62691767e-03  1.47655370e-03 -1.44262254e-03\n",
      "  9.20131476e-04  7.07622218e-04  4.38703680e-04 -4.79375283e-04\n",
      " -9.93790301e-04  5.81438338e-05 -6.88734159e-03 -5.61647826e-03\n",
      "  1.37646139e-03 -1.21439622e-03 -6.54693050e-03 -6.38782259e-04\n",
      "  3.73392773e-03  1.17368984e-03 -2.01777301e-03 -1.92411754e-03\n",
      " -4.09127598e-03 -3.19068648e-03  3.15519036e-03 -1.96985698e-03\n",
      " -1.90930083e-03 -3.48215215e-03 -8.73955344e-04  8.61217371e-04\n",
      "  1.85639137e-03  5.61813765e-04  2.09601226e-03  2.25358508e-03\n",
      "  1.44409640e-03  2.18767646e-03  5.52504061e-03 -8.08841217e-05\n",
      "  3.89748683e-03  6.79765149e-05 -3.22566194e-03  2.15460006e-03\n",
      " -2.34401601e-03 -1.07657007e-03  1.12078565e-03  2.65786925e-03\n",
      "  4.87656901e-04  2.23406928e-03  3.45955024e-03  1.48694024e-03\n",
      "  6.47737643e-04  1.82840515e-03  1.06468142e-03  1.04643376e-04\n",
      " -3.73032880e-03 -2.89227436e-03  2.67003373e-03 -1.75450466e-03\n",
      "  1.22356811e-03  1.14270224e-02 -2.66574487e-03 -3.81052407e-03\n",
      "  2.54427876e-03 -4.61897700e-03 -1.94494552e-03  9.60855857e-04\n",
      " -1.63620041e-03 -3.71978631e-03 -2.22025236e-03  4.19413795e-03\n",
      "  6.26098910e-04 -2.51236821e-03 -7.26947984e-03 -3.32870147e-03\n",
      "  3.33271199e-03 -4.67833809e-03  4.14629517e-03 -3.52651216e-03\n",
      "  3.34475532e-03 -4.10023651e-03  5.16287644e-04 -7.39782286e-03\n",
      "  2.94136199e-03  3.13911227e-05  6.29028612e-03 -2.34874484e-03\n",
      "  8.40476427e-04 -1.64518822e-03  9.87141044e-03 -6.89805968e-03\n",
      "  1.38981394e-03 -8.07430451e-04 -4.33534500e-04 -4.86576612e-03\n",
      "  6.19990928e-04  1.25245161e-03  5.68775928e-03 -3.42874706e-03\n",
      "  3.80456541e-03  1.40906624e-04 -4.84058934e-03 -4.49210694e-03\n",
      "  5.48959512e-03  1.82532301e-03  4.86344614e-04  5.93043097e-04\n",
      " -3.24141279e-03 -2.71559601e-03 -6.92678903e-04  5.93182634e-03\n",
      " -4.88341366e-03  3.84598899e-03 -4.60967294e-03  4.68352491e-02\n",
      "  7.96418022e-01  9.00809637e-01  1.22929501e-01  2.33061809e-03\n",
      " -1.59730520e-03 -2.26651550e-03 -6.08416212e-03 -2.05563599e-03\n",
      "  8.08573146e-03  6.48938433e-04 -5.71080447e-03 -5.18900921e-03\n",
      "  2.50780190e-03  1.73534137e-03  3.04355099e-03  1.94126610e-03\n",
      "  3.81826314e-04  3.30637556e-03  6.09042097e-03  3.76098344e-03\n",
      " -1.07983345e-03  4.45064790e-03 -3.14484092e-03  1.07426410e-01\n",
      "  1.81497260e-01  1.85618611e-01  1.17714514e-01  3.76866619e-01\n",
      "  9.90710401e-01  8.47355637e-01  4.93826139e-02 -4.19317630e-04\n",
      "  3.17176812e-03  5.72836454e-03  2.84600143e-03 -2.34110458e-03\n",
      "  2.88933805e-03  3.24336668e-03  7.77398699e-04  7.99720702e-04\n",
      " -3.55677147e-03 -7.06860360e-04 -8.57786912e-04  2.92556713e-03\n",
      "  1.47743647e-03  3.52237897e-03 -6.75851022e-03  1.74777688e-01\n",
      "  6.04823286e-01  7.30921759e-01  7.28688210e-01  8.74979173e-01\n",
      "  9.95716620e-01  9.92451934e-01  5.21071580e-01  6.85419928e-01\n",
      "  9.98911932e-01  7.40587683e-01  7.09605742e-02 -6.14561307e-04\n",
      "  2.86355742e-03 -4.35508740e-04  5.48526137e-03  8.43185284e-04\n",
      " -6.80757747e-03  1.14637201e-04  2.52013279e-03 -3.12616016e-03\n",
      "  8.28488523e-03 -1.87342104e-03 -3.61217924e-03 -1.42594065e-03\n",
      "  1.45550046e-03 -4.70457386e-04  2.68876181e-03  4.39581290e-01\n",
      "  9.89938581e-01  9.92433814e-01  9.86851470e-01  9.66533428e-01\n",
      "  6.31518703e-01  8.85759336e-01  9.95248486e-01  9.89697536e-01\n",
      "  9.95745367e-01  3.63204662e-01  3.30854514e-03  5.53755407e-03\n",
      " -9.98598161e-04  5.92582095e-03 -2.00147538e-03 -4.35950390e-03\n",
      "  2.93160698e-03 -2.09798751e-03 -4.72019924e-03  2.38642155e-04\n",
      "  5.97482971e-03 -3.18929840e-03 -2.82845169e-03  9.09861785e-04\n",
      "  1.11845660e-02 -2.48399269e-03  5.05946580e-01  9.63327767e-01\n",
      "  9.95173410e-01  6.20401330e-01  5.34188634e-01  8.67309456e-02\n",
      " -7.56405005e-04  1.88249366e-01  9.16938384e-01  9.91265763e-01\n",
      "  9.17564713e-01  2.53201636e-02 -5.29736534e-03 -4.78162591e-03\n",
      " -1.57606028e-03  3.50840681e-03 -3.32880049e-03  4.30536839e-03\n",
      "  2.93177024e-03  2.65374088e-03 -1.62163416e-03  2.63556966e-05\n",
      " -3.52395441e-03  2.69246382e-03  5.82362853e-03  2.01622635e-03\n",
      " -5.54233014e-03 -2.57950314e-04  5.42083972e-01  9.98270028e-01\n",
      "  8.72808391e-01  1.00586160e-01 -5.30318611e-04 -3.69406950e-04\n",
      "  1.38332005e-01  6.64473922e-01  9.98250692e-01  9.56458372e-01\n",
      "  4.10850939e-01  3.76012207e-04 -5.38683018e-03  7.18842051e-03\n",
      "  7.62047584e-03 -3.66252486e-03 -5.36169776e-03  3.43320649e-03\n",
      "  3.49503803e-03  3.29448613e-03 -2.41850883e-03  2.09321749e-03\n",
      "  7.56056188e-03  3.82868284e-03 -9.26341224e-04 -2.04028957e-03\n",
      "  3.53439381e-03  4.24971742e-03  2.14171000e-01  8.26437451e-01\n",
      "  9.89170444e-01  6.29609486e-01  3.57071544e-02  1.07029954e-01\n",
      "  7.01066504e-01  9.95381153e-01  9.28315344e-01  4.36122521e-01\n",
      "  3.14519370e-03  1.44280284e-03 -7.08447177e-03 -4.83137334e-03\n",
      " -1.88480513e-03 -9.05825479e-04 -5.68811381e-05 -5.51727699e-03\n",
      "  3.44910163e-03  9.36530627e-03 -2.04134393e-03 -2.31499657e-03\n",
      "  1.03274468e-03 -6.41905613e-03 -4.36230759e-04  2.39242824e-04\n",
      " -3.15616068e-03 -2.84056025e-03  2.62437859e-02  6.13510360e-01\n",
      "  9.98193745e-01  8.96239394e-01  3.13109760e-01  8.72106261e-01\n",
      "  9.96197304e-01  9.97816429e-01  4.28158593e-01 -5.48220921e-03\n",
      "  5.07460230e-03 -8.49034491e-03 -3.25922401e-03 -9.73826024e-04\n",
      " -1.32916364e-03  2.92121951e-03  1.66646930e-04  8.45660975e-03\n",
      " -2.98724704e-03 -1.51575070e-03  1.40606469e-03  3.31710702e-04\n",
      " -1.53317850e-03  8.12335905e-03  3.04181030e-03  2.57819865e-03\n",
      " -4.02176912e-03  4.07434162e-03  6.67709398e-04  5.52507671e-01\n",
      "  9.91271647e-01  9.90831776e-01  9.90562735e-01  9.90680354e-01\n",
      "  9.91920397e-01  6.04148745e-01  1.12094160e-01  4.39303617e-03\n",
      "  1.97593570e-03 -2.40516131e-03  1.58772268e-03  5.05502274e-03\n",
      " -1.20865292e-04  1.27455993e-03  4.08678149e-03  2.67448422e-03\n",
      " -4.78292099e-03  5.53176317e-03  2.98496741e-03  2.51677301e-03\n",
      " -2.46556870e-03  3.89349765e-03 -2.59274370e-03 -6.02307880e-03\n",
      "  1.24998121e-03  4.70975563e-03 -8.29280040e-03  4.30794926e-01\n",
      "  9.92587035e-01  9.89727945e-01  9.92332885e-01  9.99758050e-01\n",
      "  6.94960476e-01  1.47969650e-01 -1.62279202e-03 -2.72462686e-03\n",
      " -8.20364465e-04 -4.18100164e-03  2.60781450e-03  5.72432695e-04\n",
      "  2.30464928e-03  4.62355533e-03 -1.29217614e-03 -7.63478589e-03\n",
      " -1.37289384e-03  4.61284533e-03 -3.63442623e-03  4.45184177e-03\n",
      "  2.78575257e-03 -1.70574105e-03 -2.90530993e-03  4.65460884e-03\n",
      " -1.67898867e-03  1.77422956e-03  1.88316095e-02  6.68471581e-01\n",
      "  9.95318666e-01  9.96292434e-01  9.98318419e-01  7.05162169e-01\n",
      " -6.85509625e-03 -3.32158999e-03  2.13931969e-03  2.37326231e-03\n",
      "  2.08764280e-03 -3.97964385e-03 -1.59860427e-03 -6.56973781e-03\n",
      " -1.12911619e-05  2.31206459e-03  1.23490124e-03 -4.16424995e-03\n",
      " -6.96777666e-04  2.09048266e-03  3.60576267e-03  4.58007079e-03\n",
      " -4.79544814e-03 -2.62246401e-03 -4.05720693e-03 -1.73613124e-03\n",
      " -1.20143961e-03  3.40726883e-03  6.63400454e-01  9.95280032e-01\n",
      "  9.95499690e-01  9.89836664e-01  9.89476047e-01  6.98264234e-01\n",
      " -3.43769194e-03  1.13428300e-03 -2.02819593e-03  2.96701076e-03\n",
      " -6.96678339e-03 -6.67503692e-03 -1.88584902e-03  2.44302943e-03\n",
      " -4.21744227e-03 -1.93165628e-04 -6.56334148e-03 -1.34938366e-04\n",
      " -8.92579550e-04 -1.21014420e-03  3.14080171e-04  3.31539575e-03\n",
      " -3.30044927e-03  5.00407561e-03  5.54038063e-03  9.76359623e-04\n",
      "  1.03336829e-01  4.84876831e-01  9.94439968e-01  9.93802416e-01\n",
      "  7.96360789e-01  6.14156594e-01  9.91670527e-01  7.86608015e-01\n",
      "  8.14518448e-04 -3.76958130e-03 -3.25192879e-03 -4.48875594e-03\n",
      "  1.84545466e-03  4.58898818e-03 -6.05933530e-03 -6.53613956e-03\n",
      " -4.64527756e-03  5.55409316e-03 -4.25604722e-03  2.35753514e-03\n",
      "  5.31278081e-04 -1.28820209e-03  2.61252163e-03  6.84972791e-04\n",
      "  7.45617681e-04 -2.95401937e-03 -8.14519676e-05  1.52436903e-03\n",
      "  3.66614462e-01  9.89916536e-01  9.96142580e-01  4.71626507e-01\n",
      "  5.05004313e-02  3.69091546e-01  9.94018299e-01  6.23060231e-01\n",
      " -4.61137465e-03  2.77987065e-04  7.96344423e-03 -6.20863093e-03\n",
      "  7.44645738e-03  4.86307962e-03 -1.37244621e-03  2.13555095e-03\n",
      "  3.32764674e-03  6.88891689e-03 -6.55310978e-04 -1.34374001e-03\n",
      " -4.97928707e-03 -8.54231768e-04  5.08115593e-03  2.16901247e-03\n",
      " -9.00457832e-03 -2.78026488e-03 -3.78967337e-03  2.49514583e-01\n",
      "  9.35096470e-01  9.87561132e-01  2.97739776e-01  3.27773760e-02\n",
      "  1.23909092e-01  8.53589892e-01  9.95567316e-01  4.92134371e-01\n",
      " -4.48319043e-04  3.46075736e-03  5.69512933e-03  1.83805721e-03\n",
      "  5.35639299e-03 -5.31210917e-04 -9.85510448e-04 -4.90830307e-04\n",
      " -1.19661740e-03  9.88774430e-04 -3.43355325e-05  7.86454575e-03\n",
      "  3.20355941e-03  3.29080295e-03  7.19628816e-03  1.14777569e-03\n",
      " -4.04300371e-04 -3.18730582e-03  6.66721997e-03  5.20293075e-01\n",
      "  9.95864716e-01  7.44284157e-01 -7.16593138e-03  1.41774665e-02\n",
      "  4.23599433e-01  9.19662794e-01  9.96801126e-01  4.08676146e-01\n",
      "  2.20326834e-03  3.58034851e-04  1.14319543e-03 -3.45051159e-03\n",
      " -3.98449302e-03  1.82442902e-03  3.35810568e-03 -1.09946763e-04\n",
      "  5.91810186e-03 -3.18276914e-03 -4.84297319e-03  1.54871730e-04\n",
      " -1.89352617e-03 -4.30732076e-03 -1.53514921e-03 -4.39288450e-04\n",
      " -5.86341866e-03 -3.02442004e-03  5.37581478e-03  5.19103590e-01\n",
      "  9.88934895e-01  7.43766352e-01  2.16014798e-02  3.31046557e-01\n",
      "  9.93570625e-01  9.16568359e-01  5.96988430e-01 -1.24837367e-03\n",
      "  5.06914865e-03 -1.43540346e-03 -2.64329726e-03  1.22366064e-03\n",
      " -1.69617653e-03 -2.80298082e-03 -6.94124286e-03  5.98100305e-03\n",
      " -2.12142890e-05  7.66730909e-04  3.52455911e-03 -1.72648178e-03\n",
      "  9.05296471e-04 -2.66162900e-03 -7.55662735e-03 -1.29422384e-03\n",
      "  2.56614630e-03 -5.21484414e-03 -2.25356133e-04  6.05748931e-01\n",
      "  9.91673882e-01  6.62321199e-01  7.51294139e-01  9.92404718e-01\n",
      "  9.88731530e-01  3.04598707e-01 -2.69762042e-03  2.46228417e-03\n",
      "  3.22812741e-03 -2.33763791e-03  8.29248586e-03  1.01709995e-03\n",
      " -9.03676680e-04 -3.22605126e-03  3.03406099e-03 -2.27481346e-03\n",
      " -4.28798850e-03  3.50433386e-03 -1.74670734e-03 -1.95948907e-04\n",
      "  2.49191111e-03 -6.32795151e-03 -8.88744489e-04  6.05510101e-03\n",
      "  9.11632513e-03  4.14776584e-03  1.49869017e-03  4.35011186e-01\n",
      "  9.85103658e-01  9.95201669e-01  9.93428101e-01  9.21386524e-01\n",
      "  5.06210110e-01  3.83011460e-02 -6.52839043e-04  3.97557273e-03\n",
      "  1.33645056e-03  8.47965028e-03  5.41641180e-03  2.98116438e-03\n",
      "  4.43483774e-03 -1.45933559e-03 -3.70937328e-03 -1.69425119e-03\n",
      "  1.34549881e-03 -2.46931498e-03 -3.28679411e-03  5.61633563e-03\n",
      " -2.17906808e-03  6.02951025e-03  1.32793731e-03  1.23832869e-04\n",
      "  6.34117873e-03 -6.99104441e-03 -7.82685120e-04  6.62424993e-02\n",
      "  4.62821201e-01  9.51999704e-01  7.49218830e-01  4.46725001e-01\n",
      " -3.14266487e-04 -1.35321910e-03 -2.02637384e-03  2.45347118e-03\n",
      " -2.40111609e-03 -1.40337209e-03 -4.83298560e-03 -1.10224570e-03\n",
      "  1.87411790e-03 -1.02341377e-03  1.54609086e-04 -3.17393871e-03\n",
      "  2.12505711e-03  2.71669886e-03  6.60952566e-03  1.73634008e-03\n",
      " -1.00786029e-03 -1.03653610e-03  2.62134860e-03 -2.48630253e-03\n",
      "  5.65652016e-03  6.86829443e-03  7.92314887e-04  2.08356167e-03\n",
      "  2.63499549e-04  2.60999938e-03  3.58267684e-03  4.42306722e-03\n",
      "  7.76388136e-03 -2.31700905e-03 -8.20446587e-05  7.26654502e-04\n",
      "  1.16584605e-03 -5.97139560e-03  3.40900046e-03 -3.55436910e-03\n",
      "  4.54988445e-03 -3.69752628e-03 -2.09684033e-03 -3.80113735e-03\n",
      "  2.20190318e-04 -9.64764562e-04  4.49778061e-03 -1.36217909e-03\n",
      "  3.25745986e-03  1.81570549e-03  3.21982449e-03  5.47677153e-04\n",
      "  3.22036746e-03  5.52210062e-03 -3.87342163e-04 -2.59493640e-03\n",
      " -2.32905973e-03 -3.09291212e-03 -8.63961756e-05 -4.30127405e-03\n",
      "  6.80277795e-03  6.77633874e-03 -3.37080241e-03 -9.33269519e-04\n",
      " -7.68231188e-04 -1.41618261e-03 -1.00063982e-03 -1.86911937e-04\n",
      " -4.02969625e-03  1.28077529e-03 -2.53526585e-03 -8.71028754e-04\n",
      "  1.92984471e-03  9.30720794e-04  3.58855048e-03 -4.95059684e-03\n",
      "  1.92148118e-03 -4.35739855e-04 -3.63797621e-03  6.25996147e-04\n",
      " -4.24699197e-03 -4.65358272e-03  1.06875052e-04 -4.88842538e-03\n",
      " -7.73315705e-03  6.17189090e-03  4.08393520e-03 -1.34990862e-03\n",
      " -3.73798104e-03 -3.35734571e-04  1.84649853e-03 -3.88340630e-03\n",
      "  1.03252186e-03  1.84107616e-03 -3.51405550e-03  4.43669199e-03\n",
      "  1.83239529e-03  2.96299677e-03 -3.37139408e-03  2.91296391e-03\n",
      "  1.06628543e-03 -1.22352260e-04 -3.73758767e-03 -6.15380443e-03]\n",
      "max value: -1.032476120114492\n"
     ]
    }
   ],
   "source": [
    "# # Define your convex function\n",
    "# def f(x):\n",
    "#     # Example: quadratic function\n",
    "#     return np.dot(x, x) + 3 * x[0] - x[1]  # Replace with your actual function\n",
    "x_ball_center = x\n",
    "x_ball_center = np.asarray(x_ball_center, dtype=np.float64)\n",
    "\n",
    "# Define the constraint: ||x - x_centre||_2**2 <= eps**2\n",
    "def unit_ball_constraint(x, x_ball_center, eps):\n",
    "    return eps**2 - np.linalg.norm(x - x_ball_center)**2\n",
    "\n",
    "def jacobian_unit_ball_constraint(x, x_ball_center, eps):\n",
    "    \"\"\"\n",
    "    Jacobien (gradient) de la fonction unit_ball_constraint.\n",
    "    Retourne -x / ||x||_2.\n",
    "    Non défini à x = 0.\n",
    "    \"\"\"\n",
    "    # norm_x = np.linalg.norm(x)\n",
    "    # return -x / norm_x\n",
    "    return -2*(x - x_ball_center)\n",
    "\n",
    "args_contrainte = (x_ball_center, eps)\n",
    "# Set up the constraint dictionary\n",
    "constraints = ({\n",
    "    'type': 'ineq',  # Inequality constraint: constraint(x) >= 0\n",
    "    'fun': unit_ball_constraint,\n",
    "    'jac': jacobian_unit_ball_constraint,\n",
    "    'args': args_contrainte\n",
    "})\n",
    "\n",
    "# Run the optimizer\n",
    "result = minimize(fun=lambda x :-function_to_optimize(x, W_1, b_1, y), jac= lambda x :-jac_function_to_optimize(x, W_1, b_1, y), x0 = x_ball_center, method='SLSQP', constraints=constraints)\n",
    "# result = minimize(fun=lambda x :-function_to_optimize(x, W_1, b_1, y), x0 = x_ball_center, method='SLSQP', constraints=constraints)\n",
    "# attention, le maximum est - result\n",
    "# Display results\n",
    "if result.success:\n",
    "    print(\"max found at:\", result.x)\n",
    "    print(\"max value:\", -result.fun)\n",
    "else:\n",
    "    print(\"Optimization failed:\", result.message)"
   ]
  },
  {
   "cell_type": "code",
   "execution_count": 60,
   "metadata": {},
   "outputs": [
    {
     "data": {
      "text/plain": [
       "tensor([[-3.8370]], device='cuda:0', grad_fn=<MmBackward0>)"
      ]
     },
     "execution_count": 60,
     "metadata": {},
     "output_type": "execute_result"
    }
   ],
   "source": [
    "model(x.reshape((1,28,28))[None,:])"
   ]
  },
  {
   "cell_type": "code",
   "execution_count": 61,
   "metadata": {},
   "outputs": [
    {
     "data": {
      "text/plain": [
       "tensor([[-3.8370]], device='cuda:0', grad_fn=<MmBackward0>)"
      ]
     },
     "execution_count": 61,
     "metadata": {},
     "output_type": "execute_result"
    }
   ],
   "source": [
    "model(x_train[pt_choosen:pt_choosen+1])"
   ]
  }
 ],
 "metadata": {
  "kernelspec": {
   "display_name": "k3torchenv",
   "language": "python",
   "name": "python3"
  },
  "language_info": {
   "codemirror_mode": {
    "name": "ipython",
    "version": 3
   },
   "file_extension": ".py",
   "mimetype": "text/x-python",
   "name": "python",
   "nbconvert_exporter": "python",
   "pygments_lexer": "ipython3",
   "version": "3.10.16"
  }
 },
 "nbformat": 4,
 "nbformat_minor": 2
}
