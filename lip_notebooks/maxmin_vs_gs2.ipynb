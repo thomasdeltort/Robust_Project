{
 "cells": [
  {
   "cell_type": "code",
   "execution_count": 1,
   "metadata": {},
   "outputs": [
    {
     "name": "stdout",
     "output_type": "stream",
     "text": [
      "PyTorch version: 2.3.1+cu121\n",
      "auto_LiRPA version: 0.6.0\n"
     ]
    }
   ],
   "source": [
    "import torch\n",
    "import torch.nn as nn\n",
    "import numpy as np\n",
    "from auto_LiRPA import BoundedModule, BoundedTensor\n",
    "from auto_LiRPA.perturbations import PerturbationLpNorm\n",
    "\n",
    "print(f\"PyTorch version: {torch.__version__}\")\n",
    "try:\n",
    "    import auto_LiRPA\n",
    "    print(f\"auto_LiRPA version: {auto_LiRPA.__version__}\")\n",
    "except ImportError:\n",
    "    print(\"auto_LiRPA n'est pas installé. Veuillez l'installer avec : pip install auto-lirpa\")\n",
    "    exit()"
   ]
  },
  {
   "cell_type": "code",
   "execution_count": 2,
   "metadata": {},
   "outputs": [],
   "source": [
    "from deel.torchlip import GroupSort2, Sequential\n",
    "import deel.torchlip\n",
    "from collections import defaultdict"
   ]
  },
  {
   "cell_type": "code",
   "execution_count": 24,
   "metadata": {},
   "outputs": [],
   "source": [
    "class GS2(nn.Module):\n",
    "  def forward(self, inputs):\n",
    "      # print('help')\n",
    "      n = inputs.shape[-1]//2\n",
    "      input_reshape = torch.reshape(inputs, (-1, n, 2))\n",
    "      # apply min on first axis\n",
    "      # input_min = torch.unsqueeze(torch.min(input_reshape, -1)[0], -1)\n",
    "      input_min = torch.unsqueeze(torch.min(input_reshape, -1).values, -1)\n",
    "      # apply max on first axis\n",
    "      # input_max = torch.unsqueeze(torch.max(input_reshape, -1)[0], -1)\n",
    "      input_max = torch.unsqueeze(-torch.min(-input_reshape, -1).values, -1)\n",
    "\n",
    "      output = torch.cat([input_min, input_max],-1)\n",
    "      # reshape output to have the same shape as input\n",
    "      # output = torch.view(output, inputs.shape)\n",
    "      output = output.view(-1,2*n)\n",
    "      return output"
   ]
  },
  {
   "cell_type": "code",
   "execution_count": 25,
   "metadata": {},
   "outputs": [],
   "source": [
    "model = torch.nn.Sequential(GS2())"
   ]
  },
  {
   "cell_type": "code",
   "execution_count": 26,
   "metadata": {},
   "outputs": [],
   "source": [
    "dummy_input_shape = (1, 6)\n",
    "dummy_input = torch.randn(dummy_input_shape)"
   ]
  },
  {
   "cell_type": "code",
   "execution_count": 27,
   "metadata": {},
   "outputs": [
    {
     "data": {
      "text/plain": [
       "tensor([[-0.3289,  0.0131,  0.0894,  0.0565, -1.7825,  0.1341]])"
      ]
     },
     "execution_count": 27,
     "metadata": {},
     "output_type": "execute_result"
    }
   ],
   "source": [
    "dummy_input"
   ]
  },
  {
   "cell_type": "code",
   "execution_count": 28,
   "metadata": {},
   "outputs": [
    {
     "data": {
      "text/plain": [
       "tensor([[-0.3289,  0.0131,  0.0565,  0.0894, -1.7825,  0.1341]])"
      ]
     },
     "execution_count": 28,
     "metadata": {},
     "output_type": "execute_result"
    }
   ],
   "source": [
    "model(dummy_input)"
   ]
  },
  {
   "cell_type": "code",
   "execution_count": 29,
   "metadata": {},
   "outputs": [],
   "source": [
    "lower = dummy_input - 1\n",
    "upper = dummy_input + 1"
   ]
  },
  {
   "cell_type": "code",
   "execution_count": 30,
   "metadata": {},
   "outputs": [],
   "source": [
    "lirpa_model = BoundedModule(model, dummy_input)"
   ]
  },
  {
   "cell_type": "code",
   "execution_count": 31,
   "metadata": {},
   "outputs": [],
   "source": [
    "pred = lirpa_model(dummy_input)"
   ]
  },
  {
   "cell_type": "code",
   "execution_count": 32,
   "metadata": {},
   "outputs": [
    {
     "data": {
      "text/plain": [
       "tensor([[-0.3289,  0.0131,  0.0565,  0.0894, -1.7825,  0.1341]])"
      ]
     },
     "execution_count": 32,
     "metadata": {},
     "output_type": "execute_result"
    }
   ],
   "source": [
    "pred"
   ]
  },
  {
   "cell_type": "code",
   "execution_count": 33,
   "metadata": {},
   "outputs": [],
   "source": [
    "norm = float(\"inf\")\n",
    "ptb = PerturbationLpNorm(norm = norm, x_L=lower, x_U=upper)\n",
    "bounded_input = BoundedTensor(dummy_input, ptb)"
   ]
  },
  {
   "cell_type": "code",
   "execution_count": 34,
   "metadata": {},
   "outputs": [
    {
     "name": "stdout",
     "output_type": "stream",
     "text": [
      "IBP bounds: lower=tensor([[-1.3289, -0.9869, -0.9435, -0.9106, -2.7825, -0.8659]]), upper=tensor([[ 0.6711,  1.0131,  1.0565,  1.0894, -0.7825,  1.1341]])\n"
     ]
    }
   ],
   "source": [
    "# Compute bounds.\n",
    "lb, ub = lirpa_model.compute_bounds(x=(bounded_input,), method='IBP')\n",
    "print(f'IBP bounds: lower={lb}, upper={ub}')"
   ]
  },
  {
   "cell_type": "code",
   "execution_count": 35,
   "metadata": {},
   "outputs": [
    {
     "ename": "NotImplementedError",
     "evalue": "`bound_backward` for BoundReduceMax with perturbed maximumindexes is not implemented.",
     "output_type": "error",
     "traceback": [
      "\u001b[0;31m---------------------------------------------------------------------------\u001b[0m",
      "\u001b[0;31mNotImplementedError\u001b[0m                       Traceback (most recent call last)",
      "Cell \u001b[0;32mIn[35], line 1\u001b[0m\n\u001b[0;32m----> 1\u001b[0m lb, ub \u001b[38;5;241m=\u001b[39m \u001b[43mlirpa_model\u001b[49m\u001b[38;5;241;43m.\u001b[39;49m\u001b[43mcompute_bounds\u001b[49m\u001b[43m(\u001b[49m\u001b[43mx\u001b[49m\u001b[38;5;241;43m=\u001b[39;49m\u001b[43m(\u001b[49m\u001b[43mbounded_input\u001b[49m\u001b[43m,\u001b[49m\u001b[43m)\u001b[49m\u001b[43m)\u001b[49m\n\u001b[1;32m      2\u001b[0m \u001b[38;5;28mprint\u001b[39m(\u001b[38;5;124mf\u001b[39m\u001b[38;5;124m'\u001b[39m\u001b[38;5;124mCROWN bounds: lower=\u001b[39m\u001b[38;5;132;01m{\u001b[39;00mlb\u001b[38;5;132;01m}\u001b[39;00m\u001b[38;5;124m, upper=\u001b[39m\u001b[38;5;132;01m{\u001b[39;00mub\u001b[38;5;132;01m}\u001b[39;00m\u001b[38;5;124m'\u001b[39m)\n",
      "File \u001b[0;32m~/miniconda3/envs/lirpa_env/lib/python3.10/site-packages/auto_LiRPA/bound_general.py:1402\u001b[0m, in \u001b[0;36mBoundedModule.compute_bounds\u001b[0;34m(self, x, aux, C, method, IBP, forward, bound_lower, bound_upper, reuse_ibp, reuse_alpha, return_A, needed_A_dict, final_node_name, average_A, interm_bounds, reference_bounds, intermediate_constr, alpha_idx, aux_reference_bounds, need_A_only, cutter, decision_thresh, update_mask, ibp_nodes, cache_bounds)\u001b[0m\n\u001b[1;32m   1399\u001b[0m     \u001b[38;5;28;01melif\u001b[39;00m bound_upper:\n\u001b[1;32m   1400\u001b[0m         \u001b[38;5;28;01mreturn\u001b[39;00m ret2  \u001b[38;5;66;03m# ret2[0] is None.\u001b[39;00m\n\u001b[0;32m-> 1402\u001b[0m \u001b[38;5;28;01mreturn\u001b[39;00m \u001b[38;5;28;43mself\u001b[39;49m\u001b[38;5;241;43m.\u001b[39;49m\u001b[43m_compute_bounds_main\u001b[49m\u001b[43m(\u001b[49m\u001b[43mC\u001b[49m\u001b[38;5;241;43m=\u001b[39;49m\u001b[43mC\u001b[49m\u001b[43m,\u001b[49m\n\u001b[1;32m   1403\u001b[0m \u001b[43m                                 \u001b[49m\u001b[43mmethod\u001b[49m\u001b[38;5;241;43m=\u001b[39;49m\u001b[43mmethod\u001b[49m\u001b[43m,\u001b[49m\n\u001b[1;32m   1404\u001b[0m \u001b[43m                                 \u001b[49m\u001b[43mIBP\u001b[49m\u001b[38;5;241;43m=\u001b[39;49m\u001b[43mIBP\u001b[49m\u001b[43m,\u001b[49m\n\u001b[1;32m   1405\u001b[0m \u001b[43m                                 \u001b[49m\u001b[43mbound_lower\u001b[49m\u001b[38;5;241;43m=\u001b[39;49m\u001b[43mbound_lower\u001b[49m\u001b[43m,\u001b[49m\n\u001b[1;32m   1406\u001b[0m \u001b[43m                                 \u001b[49m\u001b[43mbound_upper\u001b[49m\u001b[38;5;241;43m=\u001b[39;49m\u001b[43mbound_upper\u001b[49m\u001b[43m,\u001b[49m\n\u001b[1;32m   1407\u001b[0m \u001b[43m                                 \u001b[49m\u001b[43mreuse_ibp\u001b[49m\u001b[38;5;241;43m=\u001b[39;49m\u001b[43mreuse_ibp\u001b[49m\u001b[43m,\u001b[49m\n\u001b[1;32m   1408\u001b[0m \u001b[43m                                 \u001b[49m\u001b[43mreuse_alpha\u001b[49m\u001b[38;5;241;43m=\u001b[39;49m\u001b[43mreuse_alpha\u001b[49m\u001b[43m,\u001b[49m\n\u001b[1;32m   1409\u001b[0m \u001b[43m                                 \u001b[49m\u001b[43maverage_A\u001b[49m\u001b[38;5;241;43m=\u001b[39;49m\u001b[43maverage_A\u001b[49m\u001b[43m,\u001b[49m\n\u001b[1;32m   1410\u001b[0m \u001b[43m                                 \u001b[49m\u001b[43malpha_idx\u001b[49m\u001b[38;5;241;43m=\u001b[39;49m\u001b[43malpha_idx\u001b[49m\u001b[43m,\u001b[49m\n\u001b[1;32m   1411\u001b[0m \u001b[43m                                 \u001b[49m\u001b[43mneed_A_only\u001b[49m\u001b[38;5;241;43m=\u001b[39;49m\u001b[43mneed_A_only\u001b[49m\u001b[43m,\u001b[49m\n\u001b[1;32m   1412\u001b[0m \u001b[43m                                 \u001b[49m\u001b[43mupdate_mask\u001b[49m\u001b[38;5;241;43m=\u001b[39;49m\u001b[43mupdate_mask\u001b[49m\u001b[43m)\u001b[49m\n",
      "File \u001b[0;32m~/miniconda3/envs/lirpa_env/lib/python3.10/site-packages/auto_LiRPA/bound_general.py:1507\u001b[0m, in \u001b[0;36mBoundedModule._compute_bounds_main\u001b[0;34m(self, C, method, IBP, bound_lower, bound_upper, reuse_ibp, reuse_alpha, average_A, alpha_idx, need_A_only, update_mask)\u001b[0m\n\u001b[1;32m   1502\u001b[0m apply_output_constraints_to \u001b[38;5;241m=\u001b[39m (\n\u001b[1;32m   1503\u001b[0m     \u001b[38;5;28mself\u001b[39m\u001b[38;5;241m.\u001b[39mbound_opts[\u001b[38;5;124m'\u001b[39m\u001b[38;5;124moptimize_bound_args\u001b[39m\u001b[38;5;124m'\u001b[39m][\u001b[38;5;124m'\u001b[39m\u001b[38;5;124mapply_output_constraints_to\u001b[39m\u001b[38;5;124m'\u001b[39m]\n\u001b[1;32m   1504\u001b[0m )\n\u001b[1;32m   1505\u001b[0m \u001b[38;5;66;03m# This is for the final output bound.\u001b[39;00m\n\u001b[1;32m   1506\u001b[0m \u001b[38;5;66;03m# No need to pass in intermediate layer beta constraints.\u001b[39;00m\n\u001b[0;32m-> 1507\u001b[0m ret \u001b[38;5;241m=\u001b[39m \u001b[38;5;28;43mself\u001b[39;49m\u001b[38;5;241;43m.\u001b[39;49m\u001b[43mbackward_general\u001b[49m\u001b[43m(\u001b[49m\n\u001b[1;32m   1508\u001b[0m \u001b[43m    \u001b[49m\u001b[43mfinal\u001b[49m\u001b[43m,\u001b[49m\u001b[43m \u001b[49m\u001b[43mC\u001b[49m\u001b[43m,\u001b[49m\n\u001b[1;32m   1509\u001b[0m \u001b[43m    \u001b[49m\u001b[43mbound_lower\u001b[49m\u001b[38;5;241;43m=\u001b[39;49m\u001b[43mbound_lower\u001b[49m\u001b[43m,\u001b[49m\u001b[43m \u001b[49m\u001b[43mbound_upper\u001b[49m\u001b[38;5;241;43m=\u001b[39;49m\u001b[43mbound_upper\u001b[49m\u001b[43m,\u001b[49m\n\u001b[1;32m   1510\u001b[0m \u001b[43m    \u001b[49m\u001b[43maverage_A\u001b[49m\u001b[38;5;241;43m=\u001b[39;49m\u001b[43maverage_A\u001b[49m\u001b[43m,\u001b[49m\u001b[43m \u001b[49m\u001b[43mneed_A_only\u001b[49m\u001b[38;5;241;43m=\u001b[39;49m\u001b[43mneed_A_only\u001b[49m\u001b[43m,\u001b[49m\n\u001b[1;32m   1511\u001b[0m \u001b[43m    \u001b[49m\u001b[43munstable_idx\u001b[49m\u001b[38;5;241;43m=\u001b[39;49m\u001b[43malpha_idx\u001b[49m\u001b[43m,\u001b[49m\u001b[43m \u001b[49m\u001b[43mupdate_mask\u001b[49m\u001b[38;5;241;43m=\u001b[39;49m\u001b[43mupdate_mask\u001b[49m\u001b[43m,\u001b[49m\n\u001b[1;32m   1512\u001b[0m \u001b[43m    \u001b[49m\u001b[43mapply_output_constraints_to\u001b[49m\u001b[38;5;241;43m=\u001b[39;49m\u001b[43mapply_output_constraints_to\u001b[49m\u001b[43m)\u001b[49m\n\u001b[1;32m   1514\u001b[0m \u001b[38;5;28;01mif\u001b[39;00m \u001b[38;5;28mself\u001b[39m\u001b[38;5;241m.\u001b[39mbound_opts[\u001b[38;5;124m'\u001b[39m\u001b[38;5;124mcompare_crown_with_ibp\u001b[39m\u001b[38;5;124m'\u001b[39m]:\n\u001b[1;32m   1515\u001b[0m     new_lower, new_upper \u001b[38;5;241m=\u001b[39m \u001b[38;5;28mself\u001b[39m\u001b[38;5;241m.\u001b[39mcompare_with_IBP(final, lower\u001b[38;5;241m=\u001b[39mret[\u001b[38;5;241m0\u001b[39m], upper\u001b[38;5;241m=\u001b[39mret[\u001b[38;5;241m1\u001b[39m], C\u001b[38;5;241m=\u001b[39mC)\n",
      "File \u001b[0;32m~/miniconda3/envs/lirpa_env/lib/python3.10/site-packages/auto_LiRPA/backward_bound.py:282\u001b[0m, in \u001b[0;36mbackward_general\u001b[0;34m(self, bound_node, C, start_backpropagation_at_node, bound_lower, bound_upper, average_A, need_A_only, unstable_idx, update_mask, verbose, apply_output_constraints_to, initial_As, initial_lb, initial_ub)\u001b[0m\n\u001b[1;32m    280\u001b[0m \u001b[38;5;28;01melse\u001b[39;00m:\n\u001b[1;32m    281\u001b[0m     start_shape \u001b[38;5;241m=\u001b[39m \u001b[38;5;28;01mNone\u001b[39;00m\n\u001b[0;32m--> 282\u001b[0m A, lower_b, upper_b \u001b[38;5;241m=\u001b[39m \u001b[43ml\u001b[49m\u001b[38;5;241;43m.\u001b[39;49m\u001b[43mbound_backward\u001b[49m\u001b[43m(\u001b[49m\n\u001b[1;32m    283\u001b[0m \u001b[43m    \u001b[49m\u001b[43mlA\u001b[49m\u001b[43m,\u001b[49m\u001b[43m \u001b[49m\u001b[43muA\u001b[49m\u001b[43m,\u001b[49m\u001b[43m \u001b[49m\u001b[38;5;241;43m*\u001b[39;49m\u001b[43ml\u001b[49m\u001b[38;5;241;43m.\u001b[39;49m\u001b[43minputs\u001b[49m\u001b[43m,\u001b[49m\n\u001b[1;32m    284\u001b[0m \u001b[43m    \u001b[49m\u001b[43mstart_node\u001b[49m\u001b[38;5;241;43m=\u001b[39;49m\u001b[43mbound_node\u001b[49m\u001b[43m,\u001b[49m\u001b[43m \u001b[49m\u001b[43munstable_idx\u001b[49m\u001b[38;5;241;43m=\u001b[39;49m\u001b[43munstable_idx\u001b[49m\u001b[43m,\u001b[49m\n\u001b[1;32m    285\u001b[0m \u001b[43m    \u001b[49m\u001b[43mstart_shape\u001b[49m\u001b[38;5;241;43m=\u001b[39;49m\u001b[43mstart_shape\u001b[49m\u001b[43m)\u001b[49m\n\u001b[1;32m    287\u001b[0m \u001b[38;5;66;03m# After propagation through this node, we delete its lA, uA variables.\u001b[39;00m\n\u001b[1;32m    288\u001b[0m \u001b[38;5;28;01mif\u001b[39;00m bound_node\u001b[38;5;241m.\u001b[39mname \u001b[38;5;241m!=\u001b[39m \u001b[38;5;28mself\u001b[39m\u001b[38;5;241m.\u001b[39mfinal_name:\n",
      "File \u001b[0;32m~/miniconda3/envs/lirpa_env/lib/python3.10/site-packages/auto_LiRPA/operators/reduce.py:81\u001b[0m, in \u001b[0;36mBoundReduceMax.bound_backward\u001b[0;34m(self, last_lA, last_uA, *args, **kwargs)\u001b[0m\n\u001b[1;32m     78\u001b[0m     \u001b[38;5;28;01mreturn\u001b[39;00m \u001b[38;5;28mself\u001b[39m\u001b[38;5;241m.\u001b[39m_return_bound_backward(_bound_oneside(last_lA),\n\u001b[1;32m     79\u001b[0m                                        _bound_oneside(last_uA))\n\u001b[1;32m     80\u001b[0m \u001b[38;5;28;01melse\u001b[39;00m:\n\u001b[0;32m---> 81\u001b[0m     \u001b[38;5;28;01mraise\u001b[39;00m \u001b[38;5;167;01mNotImplementedError\u001b[39;00m(\n\u001b[1;32m     82\u001b[0m         \u001b[38;5;124m'\u001b[39m\u001b[38;5;124m`bound_backward` for BoundReduceMax with perturbed maximum\u001b[39m\u001b[38;5;124m'\u001b[39m\n\u001b[1;32m     83\u001b[0m         \u001b[38;5;124m'\u001b[39m\u001b[38;5;124mindexes is not implemented.\u001b[39m\u001b[38;5;124m'\u001b[39m)\n",
      "\u001b[0;31mNotImplementedError\u001b[0m: `bound_backward` for BoundReduceMax with perturbed maximumindexes is not implemented."
     ]
    }
   ],
   "source": [
    "lb, ub = lirpa_model.compute_bounds(x=(bounded_input,))\n",
    "print(f'CROWN bounds: lower={lb}, upper={ub}')"
   ]
  },
  {
   "cell_type": "code",
   "execution_count": null,
   "metadata": {},
   "outputs": [
    {
     "ename": "NotImplementedError",
     "evalue": "`bound_backward` for BoundReduceMax with perturbed maximumindexes is not implemented.",
     "output_type": "error",
     "traceback": [
      "\u001b[0;31m---------------------------------------------------------------------------\u001b[0m",
      "\u001b[0;31mNotImplementedError\u001b[0m                       Traceback (most recent call last)",
      "Cell \u001b[0;32mIn[71], line 4\u001b[0m\n\u001b[1;32m      2\u001b[0m required_A \u001b[38;5;241m=\u001b[39m defaultdict(\u001b[38;5;28mset\u001b[39m)\n\u001b[1;32m      3\u001b[0m required_A[lirpa_model\u001b[38;5;241m.\u001b[39moutput_name[\u001b[38;5;241m0\u001b[39m]]\u001b[38;5;241m.\u001b[39madd(lirpa_model\u001b[38;5;241m.\u001b[39minput_name[\u001b[38;5;241m0\u001b[39m])\n\u001b[0;32m----> 4\u001b[0m lb, ub, A \u001b[38;5;241m=\u001b[39m \u001b[43mlirpa_model\u001b[49m\u001b[38;5;241;43m.\u001b[39;49m\u001b[43mcompute_bounds\u001b[49m\u001b[43m(\u001b[49m\u001b[43mx\u001b[49m\u001b[38;5;241;43m=\u001b[39;49m\u001b[43m(\u001b[49m\u001b[43mbounded_input\u001b[49m\u001b[43m,\u001b[49m\u001b[43m)\u001b[49m\u001b[43m,\u001b[49m\u001b[43m \u001b[49m\u001b[43mmethod\u001b[49m\u001b[38;5;241;43m=\u001b[39;49m\u001b[38;5;124;43m'\u001b[39;49m\u001b[38;5;124;43mCROWN\u001b[39;49m\u001b[38;5;124;43m'\u001b[39;49m\u001b[43m,\u001b[49m\u001b[43m \u001b[49m\u001b[43mreturn_A\u001b[49m\u001b[38;5;241;43m=\u001b[39;49m\u001b[38;5;28;43;01mTrue\u001b[39;49;00m\u001b[43m,\u001b[49m\u001b[43m \u001b[49m\u001b[43mneeded_A_dict\u001b[49m\u001b[38;5;241;43m=\u001b[39;49m\u001b[43mrequired_A\u001b[49m\u001b[43m)\u001b[49m\n\u001b[1;32m      5\u001b[0m \u001b[38;5;28mprint\u001b[39m(\u001b[38;5;124m'\u001b[39m\u001b[38;5;124mCROWN linear (symbolic) bounds: lA x + lbias <= f(x) <= uA x + ubias, where\u001b[39m\u001b[38;5;124m'\u001b[39m)\n\u001b[1;32m      6\u001b[0m \u001b[38;5;28mprint\u001b[39m(A[lirpa_model\u001b[38;5;241m.\u001b[39moutput_name[\u001b[38;5;241m0\u001b[39m]][lirpa_model\u001b[38;5;241m.\u001b[39minput_name[\u001b[38;5;241m0\u001b[39m]])\n",
      "File \u001b[0;32m~/miniconda3/envs/lirpa_env/lib/python3.10/site-packages/auto_LiRPA/bound_general.py:1402\u001b[0m, in \u001b[0;36mBoundedModule.compute_bounds\u001b[0;34m(self, x, aux, C, method, IBP, forward, bound_lower, bound_upper, reuse_ibp, reuse_alpha, return_A, needed_A_dict, final_node_name, average_A, interm_bounds, reference_bounds, intermediate_constr, alpha_idx, aux_reference_bounds, need_A_only, cutter, decision_thresh, update_mask, ibp_nodes, cache_bounds)\u001b[0m\n\u001b[1;32m   1399\u001b[0m     \u001b[38;5;28;01melif\u001b[39;00m bound_upper:\n\u001b[1;32m   1400\u001b[0m         \u001b[38;5;28;01mreturn\u001b[39;00m ret2  \u001b[38;5;66;03m# ret2[0] is None.\u001b[39;00m\n\u001b[0;32m-> 1402\u001b[0m \u001b[38;5;28;01mreturn\u001b[39;00m \u001b[38;5;28;43mself\u001b[39;49m\u001b[38;5;241;43m.\u001b[39;49m\u001b[43m_compute_bounds_main\u001b[49m\u001b[43m(\u001b[49m\u001b[43mC\u001b[49m\u001b[38;5;241;43m=\u001b[39;49m\u001b[43mC\u001b[49m\u001b[43m,\u001b[49m\n\u001b[1;32m   1403\u001b[0m \u001b[43m                                 \u001b[49m\u001b[43mmethod\u001b[49m\u001b[38;5;241;43m=\u001b[39;49m\u001b[43mmethod\u001b[49m\u001b[43m,\u001b[49m\n\u001b[1;32m   1404\u001b[0m \u001b[43m                                 \u001b[49m\u001b[43mIBP\u001b[49m\u001b[38;5;241;43m=\u001b[39;49m\u001b[43mIBP\u001b[49m\u001b[43m,\u001b[49m\n\u001b[1;32m   1405\u001b[0m \u001b[43m                                 \u001b[49m\u001b[43mbound_lower\u001b[49m\u001b[38;5;241;43m=\u001b[39;49m\u001b[43mbound_lower\u001b[49m\u001b[43m,\u001b[49m\n\u001b[1;32m   1406\u001b[0m \u001b[43m                                 \u001b[49m\u001b[43mbound_upper\u001b[49m\u001b[38;5;241;43m=\u001b[39;49m\u001b[43mbound_upper\u001b[49m\u001b[43m,\u001b[49m\n\u001b[1;32m   1407\u001b[0m \u001b[43m                                 \u001b[49m\u001b[43mreuse_ibp\u001b[49m\u001b[38;5;241;43m=\u001b[39;49m\u001b[43mreuse_ibp\u001b[49m\u001b[43m,\u001b[49m\n\u001b[1;32m   1408\u001b[0m \u001b[43m                                 \u001b[49m\u001b[43mreuse_alpha\u001b[49m\u001b[38;5;241;43m=\u001b[39;49m\u001b[43mreuse_alpha\u001b[49m\u001b[43m,\u001b[49m\n\u001b[1;32m   1409\u001b[0m \u001b[43m                                 \u001b[49m\u001b[43maverage_A\u001b[49m\u001b[38;5;241;43m=\u001b[39;49m\u001b[43maverage_A\u001b[49m\u001b[43m,\u001b[49m\n\u001b[1;32m   1410\u001b[0m \u001b[43m                                 \u001b[49m\u001b[43malpha_idx\u001b[49m\u001b[38;5;241;43m=\u001b[39;49m\u001b[43malpha_idx\u001b[49m\u001b[43m,\u001b[49m\n\u001b[1;32m   1411\u001b[0m \u001b[43m                                 \u001b[49m\u001b[43mneed_A_only\u001b[49m\u001b[38;5;241;43m=\u001b[39;49m\u001b[43mneed_A_only\u001b[49m\u001b[43m,\u001b[49m\n\u001b[1;32m   1412\u001b[0m \u001b[43m                                 \u001b[49m\u001b[43mupdate_mask\u001b[49m\u001b[38;5;241;43m=\u001b[39;49m\u001b[43mupdate_mask\u001b[49m\u001b[43m)\u001b[49m\n",
      "File \u001b[0;32m~/miniconda3/envs/lirpa_env/lib/python3.10/site-packages/auto_LiRPA/bound_general.py:1507\u001b[0m, in \u001b[0;36mBoundedModule._compute_bounds_main\u001b[0;34m(self, C, method, IBP, bound_lower, bound_upper, reuse_ibp, reuse_alpha, average_A, alpha_idx, need_A_only, update_mask)\u001b[0m\n\u001b[1;32m   1502\u001b[0m apply_output_constraints_to \u001b[38;5;241m=\u001b[39m (\n\u001b[1;32m   1503\u001b[0m     \u001b[38;5;28mself\u001b[39m\u001b[38;5;241m.\u001b[39mbound_opts[\u001b[38;5;124m'\u001b[39m\u001b[38;5;124moptimize_bound_args\u001b[39m\u001b[38;5;124m'\u001b[39m][\u001b[38;5;124m'\u001b[39m\u001b[38;5;124mapply_output_constraints_to\u001b[39m\u001b[38;5;124m'\u001b[39m]\n\u001b[1;32m   1504\u001b[0m )\n\u001b[1;32m   1505\u001b[0m \u001b[38;5;66;03m# This is for the final output bound.\u001b[39;00m\n\u001b[1;32m   1506\u001b[0m \u001b[38;5;66;03m# No need to pass in intermediate layer beta constraints.\u001b[39;00m\n\u001b[0;32m-> 1507\u001b[0m ret \u001b[38;5;241m=\u001b[39m \u001b[38;5;28;43mself\u001b[39;49m\u001b[38;5;241;43m.\u001b[39;49m\u001b[43mbackward_general\u001b[49m\u001b[43m(\u001b[49m\n\u001b[1;32m   1508\u001b[0m \u001b[43m    \u001b[49m\u001b[43mfinal\u001b[49m\u001b[43m,\u001b[49m\u001b[43m \u001b[49m\u001b[43mC\u001b[49m\u001b[43m,\u001b[49m\n\u001b[1;32m   1509\u001b[0m \u001b[43m    \u001b[49m\u001b[43mbound_lower\u001b[49m\u001b[38;5;241;43m=\u001b[39;49m\u001b[43mbound_lower\u001b[49m\u001b[43m,\u001b[49m\u001b[43m \u001b[49m\u001b[43mbound_upper\u001b[49m\u001b[38;5;241;43m=\u001b[39;49m\u001b[43mbound_upper\u001b[49m\u001b[43m,\u001b[49m\n\u001b[1;32m   1510\u001b[0m \u001b[43m    \u001b[49m\u001b[43maverage_A\u001b[49m\u001b[38;5;241;43m=\u001b[39;49m\u001b[43maverage_A\u001b[49m\u001b[43m,\u001b[49m\u001b[43m \u001b[49m\u001b[43mneed_A_only\u001b[49m\u001b[38;5;241;43m=\u001b[39;49m\u001b[43mneed_A_only\u001b[49m\u001b[43m,\u001b[49m\n\u001b[1;32m   1511\u001b[0m \u001b[43m    \u001b[49m\u001b[43munstable_idx\u001b[49m\u001b[38;5;241;43m=\u001b[39;49m\u001b[43malpha_idx\u001b[49m\u001b[43m,\u001b[49m\u001b[43m \u001b[49m\u001b[43mupdate_mask\u001b[49m\u001b[38;5;241;43m=\u001b[39;49m\u001b[43mupdate_mask\u001b[49m\u001b[43m,\u001b[49m\n\u001b[1;32m   1512\u001b[0m \u001b[43m    \u001b[49m\u001b[43mapply_output_constraints_to\u001b[49m\u001b[38;5;241;43m=\u001b[39;49m\u001b[43mapply_output_constraints_to\u001b[49m\u001b[43m)\u001b[49m\n\u001b[1;32m   1514\u001b[0m \u001b[38;5;28;01mif\u001b[39;00m \u001b[38;5;28mself\u001b[39m\u001b[38;5;241m.\u001b[39mbound_opts[\u001b[38;5;124m'\u001b[39m\u001b[38;5;124mcompare_crown_with_ibp\u001b[39m\u001b[38;5;124m'\u001b[39m]:\n\u001b[1;32m   1515\u001b[0m     new_lower, new_upper \u001b[38;5;241m=\u001b[39m \u001b[38;5;28mself\u001b[39m\u001b[38;5;241m.\u001b[39mcompare_with_IBP(final, lower\u001b[38;5;241m=\u001b[39mret[\u001b[38;5;241m0\u001b[39m], upper\u001b[38;5;241m=\u001b[39mret[\u001b[38;5;241m1\u001b[39m], C\u001b[38;5;241m=\u001b[39mC)\n",
      "File \u001b[0;32m~/miniconda3/envs/lirpa_env/lib/python3.10/site-packages/auto_LiRPA/backward_bound.py:282\u001b[0m, in \u001b[0;36mbackward_general\u001b[0;34m(self, bound_node, C, start_backpropagation_at_node, bound_lower, bound_upper, average_A, need_A_only, unstable_idx, update_mask, verbose, apply_output_constraints_to, initial_As, initial_lb, initial_ub)\u001b[0m\n\u001b[1;32m    280\u001b[0m \u001b[38;5;28;01melse\u001b[39;00m:\n\u001b[1;32m    281\u001b[0m     start_shape \u001b[38;5;241m=\u001b[39m \u001b[38;5;28;01mNone\u001b[39;00m\n\u001b[0;32m--> 282\u001b[0m A, lower_b, upper_b \u001b[38;5;241m=\u001b[39m \u001b[43ml\u001b[49m\u001b[38;5;241;43m.\u001b[39;49m\u001b[43mbound_backward\u001b[49m\u001b[43m(\u001b[49m\n\u001b[1;32m    283\u001b[0m \u001b[43m    \u001b[49m\u001b[43mlA\u001b[49m\u001b[43m,\u001b[49m\u001b[43m \u001b[49m\u001b[43muA\u001b[49m\u001b[43m,\u001b[49m\u001b[43m \u001b[49m\u001b[38;5;241;43m*\u001b[39;49m\u001b[43ml\u001b[49m\u001b[38;5;241;43m.\u001b[39;49m\u001b[43minputs\u001b[49m\u001b[43m,\u001b[49m\n\u001b[1;32m    284\u001b[0m \u001b[43m    \u001b[49m\u001b[43mstart_node\u001b[49m\u001b[38;5;241;43m=\u001b[39;49m\u001b[43mbound_node\u001b[49m\u001b[43m,\u001b[49m\u001b[43m \u001b[49m\u001b[43munstable_idx\u001b[49m\u001b[38;5;241;43m=\u001b[39;49m\u001b[43munstable_idx\u001b[49m\u001b[43m,\u001b[49m\n\u001b[1;32m    285\u001b[0m \u001b[43m    \u001b[49m\u001b[43mstart_shape\u001b[49m\u001b[38;5;241;43m=\u001b[39;49m\u001b[43mstart_shape\u001b[49m\u001b[43m)\u001b[49m\n\u001b[1;32m    287\u001b[0m \u001b[38;5;66;03m# After propagation through this node, we delete its lA, uA variables.\u001b[39;00m\n\u001b[1;32m    288\u001b[0m \u001b[38;5;28;01mif\u001b[39;00m bound_node\u001b[38;5;241m.\u001b[39mname \u001b[38;5;241m!=\u001b[39m \u001b[38;5;28mself\u001b[39m\u001b[38;5;241m.\u001b[39mfinal_name:\n",
      "File \u001b[0;32m~/miniconda3/envs/lirpa_env/lib/python3.10/site-packages/auto_LiRPA/operators/reduce.py:81\u001b[0m, in \u001b[0;36mBoundReduceMax.bound_backward\u001b[0;34m(self, last_lA, last_uA, *args, **kwargs)\u001b[0m\n\u001b[1;32m     78\u001b[0m     \u001b[38;5;28;01mreturn\u001b[39;00m \u001b[38;5;28mself\u001b[39m\u001b[38;5;241m.\u001b[39m_return_bound_backward(_bound_oneside(last_lA),\n\u001b[1;32m     79\u001b[0m                                        _bound_oneside(last_uA))\n\u001b[1;32m     80\u001b[0m \u001b[38;5;28;01melse\u001b[39;00m:\n\u001b[0;32m---> 81\u001b[0m     \u001b[38;5;28;01mraise\u001b[39;00m \u001b[38;5;167;01mNotImplementedError\u001b[39;00m(\n\u001b[1;32m     82\u001b[0m         \u001b[38;5;124m'\u001b[39m\u001b[38;5;124m`bound_backward` for BoundReduceMax with perturbed maximum\u001b[39m\u001b[38;5;124m'\u001b[39m\n\u001b[1;32m     83\u001b[0m         \u001b[38;5;124m'\u001b[39m\u001b[38;5;124mindexes is not implemented.\u001b[39m\u001b[38;5;124m'\u001b[39m)\n",
      "\u001b[0;31mNotImplementedError\u001b[0m: `bound_backward` for BoundReduceMax with perturbed maximumindexes is not implemented."
     ]
    }
   ],
   "source": [
    "# Getting the linear bound coefficients (A matrix).\n",
    "required_A = defaultdict(set)\n",
    "required_A[lirpa_model.output_name[0]].add(lirpa_model.input_name[0])\n",
    "lb, ub, A = lirpa_model.compute_bounds(x=(bounded_input,), method='CROWN', return_A=True, needed_A_dict=required_A)\n",
    "print('CROWN linear (symbolic) bounds: lA x + lbias <= f(x) <= uA x + ubias, where')\n",
    "print(A[lirpa_model.output_name[0]][lirpa_model.input_name[0]])"
   ]
  }
 ],
 "metadata": {
  "kernelspec": {
   "display_name": "lirpa_env",
   "language": "python",
   "name": "python3"
  },
  "language_info": {
   "codemirror_mode": {
    "name": "ipython",
    "version": 3
   },
   "file_extension": ".py",
   "mimetype": "text/x-python",
   "name": "python",
   "nbconvert_exporter": "python",
   "pygments_lexer": "ipython3",
   "version": "3.10.17"
  }
 },
 "nbformat": 4,
 "nbformat_minor": 2
}
